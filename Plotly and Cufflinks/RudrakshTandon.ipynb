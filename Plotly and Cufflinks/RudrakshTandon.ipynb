{
 "cells": [
  {
   "cell_type": "markdown",
   "metadata": {},
   "source": [
    "___\n",
    "\n",
    "<a href='http://www.pieriandata.com'> <img src='../Pierian_Data_Logo.png' /></a>\n",
    "___\n",
    "# Plotly and Cufflinks"
   ]
  },
  {
   "cell_type": "markdown",
   "metadata": {},
   "source": [
    "Plotly is a library that allows you to create interactive plots that you can use in dashboards or websites (you can save them as html files or static images).\n",
    "\n",
    "## Installation\n",
    "\n",
    "In order for this all to work, you'll need to install plotly and cufflinks to call plots directly off of a pandas dataframe. These libraries are not currently available through **conda** but are available through **pip**. Install the libraries at your command line/terminal using:\n",
    "\n",
    "    pip install plotly\n",
    "    pip install cufflinks\n",
    "\n",
    "** NOTE: Make sure you only have one installation of Python on your computer when you do this, otherwise the installation may not work. **\n",
    "\n",
    "## Imports and Set-up"
   ]
  },
  {
   "cell_type": "code",
   "execution_count": 1,
   "metadata": {},
   "outputs": [],
   "source": [
    "import pandas as pd\n",
    "import numpy as np\n",
    "%matplotlib inline"
   ]
  },
  {
   "cell_type": "code",
   "execution_count": 2,
   "metadata": {},
   "outputs": [
    {
     "name": "stdout",
     "output_type": "stream",
     "text": [
      "5.6.0\n"
     ]
    }
   ],
   "source": [
    "from plotly import __version__\n",
    "from plotly.offline import download_plotlyjs, init_notebook_mode, plot, iplot\n",
    "import chart_studio.plotly as py\n",
    "print(__version__) # requires version >= 1.9.0"
   ]
  },
  {
   "cell_type": "code",
   "execution_count": 3,
   "metadata": {},
   "outputs": [],
   "source": [
    "import cufflinks as cf"
   ]
  },
  {
   "cell_type": "code",
   "execution_count": 4,
   "metadata": {},
   "outputs": [
    {
     "data": {
      "text/html": [
       "        <script type=\"text/javascript\">\n",
       "        window.PlotlyConfig = {MathJaxConfig: 'local'};\n",
       "        if (window.MathJax) {MathJax.Hub.Config({SVG: {font: \"STIX-Web\"}});}\n",
       "        if (typeof require !== 'undefined') {\n",
       "        require.undef(\"plotly\");\n",
       "        requirejs.config({\n",
       "            paths: {\n",
       "                'plotly': ['https://cdn.plot.ly/plotly-2.9.0.min']\n",
       "            }\n",
       "        });\n",
       "        require(['plotly'], function(Plotly) {\n",
       "            window._Plotly = Plotly;\n",
       "        });\n",
       "        }\n",
       "        </script>\n",
       "        "
      ]
     },
     "metadata": {},
     "output_type": "display_data"
    }
   ],
   "source": [
    "# For Notebooks\n",
    "init_notebook_mode(connected=True)"
   ]
  },
  {
   "cell_type": "code",
   "execution_count": 5,
   "metadata": {},
   "outputs": [
    {
     "data": {
      "text/html": [
       "        <script type=\"text/javascript\">\n",
       "        window.PlotlyConfig = {MathJaxConfig: 'local'};\n",
       "        if (window.MathJax) {MathJax.Hub.Config({SVG: {font: \"STIX-Web\"}});}\n",
       "        if (typeof require !== 'undefined') {\n",
       "        require.undef(\"plotly\");\n",
       "        requirejs.config({\n",
       "            paths: {\n",
       "                'plotly': ['https://cdn.plot.ly/plotly-2.9.0.min']\n",
       "            }\n",
       "        });\n",
       "        require(['plotly'], function(Plotly) {\n",
       "            window._Plotly = Plotly;\n",
       "        });\n",
       "        }\n",
       "        </script>\n",
       "        "
      ]
     },
     "metadata": {},
     "output_type": "display_data"
    }
   ],
   "source": [
    "# For offline use\n",
    "cf.go_offline()"
   ]
  },
  {
   "cell_type": "markdown",
   "metadata": {},
   "source": [
    "### Fake Data"
   ]
  },
  {
   "cell_type": "code",
   "execution_count": 6,
   "metadata": {},
   "outputs": [],
   "source": [
    "df = pd.DataFrame(np.random.randn(100,4),columns='A B C D'.split())"
   ]
  },
  {
   "cell_type": "code",
   "execution_count": 7,
   "metadata": {},
   "outputs": [
    {
     "data": {
      "text/html": [
       "<div>\n",
       "<style scoped>\n",
       "    .dataframe tbody tr th:only-of-type {\n",
       "        vertical-align: middle;\n",
       "    }\n",
       "\n",
       "    .dataframe tbody tr th {\n",
       "        vertical-align: top;\n",
       "    }\n",
       "\n",
       "    .dataframe thead th {\n",
       "        text-align: right;\n",
       "    }\n",
       "</style>\n",
       "<table border=\"1\" class=\"dataframe\">\n",
       "  <thead>\n",
       "    <tr style=\"text-align: right;\">\n",
       "      <th></th>\n",
       "      <th>A</th>\n",
       "      <th>B</th>\n",
       "      <th>C</th>\n",
       "      <th>D</th>\n",
       "    </tr>\n",
       "  </thead>\n",
       "  <tbody>\n",
       "    <tr>\n",
       "      <th>0</th>\n",
       "      <td>-0.367870</td>\n",
       "      <td>0.181982</td>\n",
       "      <td>-1.450150</td>\n",
       "      <td>0.141363</td>\n",
       "    </tr>\n",
       "    <tr>\n",
       "      <th>1</th>\n",
       "      <td>-0.813946</td>\n",
       "      <td>-0.769050</td>\n",
       "      <td>1.214734</td>\n",
       "      <td>-0.173428</td>\n",
       "    </tr>\n",
       "    <tr>\n",
       "      <th>2</th>\n",
       "      <td>-1.272800</td>\n",
       "      <td>0.414697</td>\n",
       "      <td>-2.232063</td>\n",
       "      <td>0.277843</td>\n",
       "    </tr>\n",
       "    <tr>\n",
       "      <th>3</th>\n",
       "      <td>-0.167428</td>\n",
       "      <td>0.735872</td>\n",
       "      <td>0.528861</td>\n",
       "      <td>-1.083807</td>\n",
       "    </tr>\n",
       "    <tr>\n",
       "      <th>4</th>\n",
       "      <td>0.256881</td>\n",
       "      <td>0.866992</td>\n",
       "      <td>-0.792363</td>\n",
       "      <td>1.678996</td>\n",
       "    </tr>\n",
       "  </tbody>\n",
       "</table>\n",
       "</div>"
      ],
      "text/plain": [
       "          A         B         C         D\n",
       "0 -0.367870  0.181982 -1.450150  0.141363\n",
       "1 -0.813946 -0.769050  1.214734 -0.173428\n",
       "2 -1.272800  0.414697 -2.232063  0.277843\n",
       "3 -0.167428  0.735872  0.528861 -1.083807\n",
       "4  0.256881  0.866992 -0.792363  1.678996"
      ]
     },
     "execution_count": 7,
     "metadata": {},
     "output_type": "execute_result"
    }
   ],
   "source": [
    "df.head()"
   ]
  },
  {
   "cell_type": "code",
   "execution_count": 8,
   "metadata": {},
   "outputs": [],
   "source": [
    "df2 = pd.DataFrame({'Category':['A','B','C'],'Values':[32,43,50]})"
   ]
  },
  {
   "cell_type": "code",
   "execution_count": 9,
   "metadata": {},
   "outputs": [
    {
     "data": {
      "text/html": [
       "<div>\n",
       "<style scoped>\n",
       "    .dataframe tbody tr th:only-of-type {\n",
       "        vertical-align: middle;\n",
       "    }\n",
       "\n",
       "    .dataframe tbody tr th {\n",
       "        vertical-align: top;\n",
       "    }\n",
       "\n",
       "    .dataframe thead th {\n",
       "        text-align: right;\n",
       "    }\n",
       "</style>\n",
       "<table border=\"1\" class=\"dataframe\">\n",
       "  <thead>\n",
       "    <tr style=\"text-align: right;\">\n",
       "      <th></th>\n",
       "      <th>Category</th>\n",
       "      <th>Values</th>\n",
       "    </tr>\n",
       "  </thead>\n",
       "  <tbody>\n",
       "    <tr>\n",
       "      <th>0</th>\n",
       "      <td>A</td>\n",
       "      <td>32</td>\n",
       "    </tr>\n",
       "    <tr>\n",
       "      <th>1</th>\n",
       "      <td>B</td>\n",
       "      <td>43</td>\n",
       "    </tr>\n",
       "    <tr>\n",
       "      <th>2</th>\n",
       "      <td>C</td>\n",
       "      <td>50</td>\n",
       "    </tr>\n",
       "  </tbody>\n",
       "</table>\n",
       "</div>"
      ],
      "text/plain": [
       "  Category  Values\n",
       "0        A      32\n",
       "1        B      43\n",
       "2        C      50"
      ]
     },
     "execution_count": 9,
     "metadata": {},
     "output_type": "execute_result"
    }
   ],
   "source": [
    "df2.head()"
   ]
  },
  {
   "cell_type": "markdown",
   "metadata": {},
   "source": [
    "## Using Cufflinks and iplot()\n",
    "\n",
    "* scatter\n",
    "* bar\n",
    "* box\n",
    "* spread\n",
    "* ratio\n",
    "* heatmap\n",
    "* surface\n",
    "* histogram\n",
    "* bubble"
   ]
  },
  {
   "cell_type": "markdown",
   "metadata": {},
   "source": [
    "## Scatter"
   ]
  },
  {
   "cell_type": "code",
   "execution_count": 10,
   "metadata": {},
   "outputs": [
    {
     "data": {
      "application/vnd.plotly.v1+json": {
       "config": {
        "linkText": "Export to plot.ly",
        "plotlyServerURL": "https://plot.ly",
        "showLink": true
       },
       "data": [
        {
         "line": {
          "color": "rgba(255, 153, 51, 1.0)",
          "dash": "solid",
          "shape": "linear",
          "width": 1.3
         },
         "marker": {
          "size": 10,
          "symbol": "circle"
         },
         "mode": "markers",
         "name": "B",
         "text": "",
         "type": "scatter",
         "x": [
          -0.36786982851319505,
          -0.8139460136439768,
          -1.2728002553624609,
          -0.16742849267659557,
          0.2568812060873537,
          1.7412616989824088,
          -1.5621264209503618,
          -0.9716442807368325,
          0.18120238038652076,
          -0.45624359436676554,
          0.4192093729134039,
          -1.7537622507026116,
          -0.6760570885254076,
          1.2315472502842275,
          1.344721140948013,
          1.5308498457246777,
          0.0811757384905562,
          -0.07056372644932463,
          -0.4096182151163972,
          -0.18810476194808798,
          -0.6888845471082019,
          0.1787949634688186,
          -0.6326159497145163,
          1.3665080793470559,
          -1.264100708338595,
          0.5654737427593445,
          -0.6314385446664598,
          0.7959791813286821,
          1.5209648447798207,
          0.011053102554344277,
          0.0575177083012101,
          2.1146701003920465,
          0.6844826246908693,
          -1.1059174909427503,
          0.36088615768745663,
          -0.9196362508572212,
          2.413895200230858,
          0.36847160558729464,
          1.5555526138790137,
          0.27533952277220874,
          0.5128093807287213,
          -0.36109803744274055,
          -0.2245813865447435,
          -1.3929369067023898,
          -1.7149219010602588,
          -0.06436773582098293,
          0.705890363747037,
          0.8834346495884103,
          -1.2819697508145063,
          1.0211868852886536,
          0.09444081962493833,
          0.9936925290527405,
          -0.24805292015688082,
          -0.38975442643515745,
          0.13162173026208018,
          -2.0904123249582196,
          -0.3638188904525045,
          1.5945900934580928,
          0.7833673844256537,
          0.2957653201178533,
          -0.420979774187367,
          -0.3033766512810295,
          -0.2359411997474931,
          -0.4555954179187365,
          0.5506480905045086,
          -0.613326940080486,
          -1.1439066960853865,
          0.49946364909654484,
          0.1921167231914247,
          -1.5000415223098764,
          -0.5242457354730988,
          -0.12933767299748697,
          -1.1800277618914492,
          0.9604362518828048,
          -1.3716897691557939,
          -0.9103137466615401,
          1.21475681850616,
          -1.2309199307746803,
          0.7560338475782938,
          1.076852768980497,
          -0.04882792274589524,
          -0.7653859453081738,
          -1.2279318521344766,
          -0.4210661832352774,
          -0.5586350407050273,
          -0.721991107436455,
          0.9659154488762632,
          1.2182790903319993,
          -1.3690372725967028,
          -1.3587655905835527,
          0.515290847414008,
          1.0695484930182528,
          -1.3380019043323563,
          -1.216940120335792,
          1.0947929024669336,
          0.23884071328995005,
          -0.45823390270079395,
          1.4792255439209159,
          -1.3118290643991475,
          -1.172534065870987
         ],
         "y": [
          0.1819819126791729,
          -0.7690504649458737,
          0.4146966578943233,
          0.735872368805637,
          0.8669917218711843,
          2.1748617101751,
          1.2318371866263211,
          0.16427863005281082,
          -0.7516033269630648,
          -0.059540090628032005,
          -0.012899474698968688,
          1.7520395134071642,
          -0.01591686529266641,
          -1.30737693706392,
          0.31469596302611313,
          0.0006447044677048574,
          -0.7695973642700286,
          -1.588439968194205,
          0.5132563588699779,
          -0.4166594400416099,
          0.654191318124905,
          1.538197099799716,
          -0.9734425150447913,
          -1.346122715368668,
          -0.3594077404233946,
          1.7299228793641566,
          2.1101164566449864,
          -0.9413070230386088,
          0.013584305821453655,
          -0.2281718487132733,
          1.6031139424787848,
          0.6043596490108111,
          0.6197173644455335,
          0.22320795650902636,
          3.348229272407328,
          0.7701779183439242,
          1.8000414301434686,
          -1.4159099794566452,
          -0.4371479314457633,
          -0.2147748488950862,
          -0.6812616180720111,
          0.6879337962777717,
          0.15289137723322704,
          -0.6636384766790288,
          0.9087932907473223,
          0.13219355583100664,
          0.6622465833842975,
          -0.5583410998398035,
          -0.24485904679848086,
          -0.4643834042131067,
          -2.2419875725888185,
          0.8278854578464298,
          0.20176407293093973,
          -1.3934247465283838,
          1.1134336391437878,
          -1.6334405533394345,
          1.3236953777109324,
          0.5224675986838716,
          -0.58959784704781,
          1.4586033556318427,
          0.9083302010742899,
          1.720992224059844,
          -1.889437228043027,
          1.465208342151267,
          0.45166524739808955,
          -0.02542207128711079,
          0.28324402331732385,
          -0.49926804861875734,
          0.3895796831658555,
          -0.3266481370656572,
          -2.1620324688740515,
          -0.4198106606771507,
          -0.41366740287377785,
          -0.584281831740891,
          -1.8799488990110838,
          1.0867735776383765,
          0.04134940253602887,
          -0.5192131068274868,
          -0.3308715980802985,
          0.5820619125965684,
          -0.3296740677753678,
          -0.7694843154746899,
          0.3974786425028931,
          -0.09690329212432874,
          0.2848301613145788,
          0.19226842929502952,
          -0.8350478382165045,
          0.30326140879933705,
          0.684022961660779,
          -0.5307381409250069,
          1.1163236404658101,
          -0.018062703200621047,
          1.1463717068725314,
          0.9530289674340827,
          -1.389032278301572,
          -0.7532835443706728,
          1.0060298398741725,
          -0.1675034739802897,
          -1.0888384951742667,
          -1.6766035427580728
         ]
        }
       ],
       "layout": {
        "legend": {
         "bgcolor": "#F5F6F9",
         "font": {
          "color": "#4D5663"
         }
        },
        "paper_bgcolor": "#F5F6F9",
        "plot_bgcolor": "#F5F6F9",
        "template": {
         "data": {
          "bar": [
           {
            "error_x": {
             "color": "#2a3f5f"
            },
            "error_y": {
             "color": "#2a3f5f"
            },
            "marker": {
             "line": {
              "color": "#E5ECF6",
              "width": 0.5
             },
             "pattern": {
              "fillmode": "overlay",
              "size": 10,
              "solidity": 0.2
             }
            },
            "type": "bar"
           }
          ],
          "barpolar": [
           {
            "marker": {
             "line": {
              "color": "#E5ECF6",
              "width": 0.5
             },
             "pattern": {
              "fillmode": "overlay",
              "size": 10,
              "solidity": 0.2
             }
            },
            "type": "barpolar"
           }
          ],
          "carpet": [
           {
            "aaxis": {
             "endlinecolor": "#2a3f5f",
             "gridcolor": "white",
             "linecolor": "white",
             "minorgridcolor": "white",
             "startlinecolor": "#2a3f5f"
            },
            "baxis": {
             "endlinecolor": "#2a3f5f",
             "gridcolor": "white",
             "linecolor": "white",
             "minorgridcolor": "white",
             "startlinecolor": "#2a3f5f"
            },
            "type": "carpet"
           }
          ],
          "choropleth": [
           {
            "colorbar": {
             "outlinewidth": 0,
             "ticks": ""
            },
            "type": "choropleth"
           }
          ],
          "contour": [
           {
            "colorbar": {
             "outlinewidth": 0,
             "ticks": ""
            },
            "colorscale": [
             [
              0,
              "#0d0887"
             ],
             [
              0.1111111111111111,
              "#46039f"
             ],
             [
              0.2222222222222222,
              "#7201a8"
             ],
             [
              0.3333333333333333,
              "#9c179e"
             ],
             [
              0.4444444444444444,
              "#bd3786"
             ],
             [
              0.5555555555555556,
              "#d8576b"
             ],
             [
              0.6666666666666666,
              "#ed7953"
             ],
             [
              0.7777777777777778,
              "#fb9f3a"
             ],
             [
              0.8888888888888888,
              "#fdca26"
             ],
             [
              1,
              "#f0f921"
             ]
            ],
            "type": "contour"
           }
          ],
          "contourcarpet": [
           {
            "colorbar": {
             "outlinewidth": 0,
             "ticks": ""
            },
            "type": "contourcarpet"
           }
          ],
          "heatmap": [
           {
            "colorbar": {
             "outlinewidth": 0,
             "ticks": ""
            },
            "colorscale": [
             [
              0,
              "#0d0887"
             ],
             [
              0.1111111111111111,
              "#46039f"
             ],
             [
              0.2222222222222222,
              "#7201a8"
             ],
             [
              0.3333333333333333,
              "#9c179e"
             ],
             [
              0.4444444444444444,
              "#bd3786"
             ],
             [
              0.5555555555555556,
              "#d8576b"
             ],
             [
              0.6666666666666666,
              "#ed7953"
             ],
             [
              0.7777777777777778,
              "#fb9f3a"
             ],
             [
              0.8888888888888888,
              "#fdca26"
             ],
             [
              1,
              "#f0f921"
             ]
            ],
            "type": "heatmap"
           }
          ],
          "heatmapgl": [
           {
            "colorbar": {
             "outlinewidth": 0,
             "ticks": ""
            },
            "colorscale": [
             [
              0,
              "#0d0887"
             ],
             [
              0.1111111111111111,
              "#46039f"
             ],
             [
              0.2222222222222222,
              "#7201a8"
             ],
             [
              0.3333333333333333,
              "#9c179e"
             ],
             [
              0.4444444444444444,
              "#bd3786"
             ],
             [
              0.5555555555555556,
              "#d8576b"
             ],
             [
              0.6666666666666666,
              "#ed7953"
             ],
             [
              0.7777777777777778,
              "#fb9f3a"
             ],
             [
              0.8888888888888888,
              "#fdca26"
             ],
             [
              1,
              "#f0f921"
             ]
            ],
            "type": "heatmapgl"
           }
          ],
          "histogram": [
           {
            "marker": {
             "pattern": {
              "fillmode": "overlay",
              "size": 10,
              "solidity": 0.2
             }
            },
            "type": "histogram"
           }
          ],
          "histogram2d": [
           {
            "colorbar": {
             "outlinewidth": 0,
             "ticks": ""
            },
            "colorscale": [
             [
              0,
              "#0d0887"
             ],
             [
              0.1111111111111111,
              "#46039f"
             ],
             [
              0.2222222222222222,
              "#7201a8"
             ],
             [
              0.3333333333333333,
              "#9c179e"
             ],
             [
              0.4444444444444444,
              "#bd3786"
             ],
             [
              0.5555555555555556,
              "#d8576b"
             ],
             [
              0.6666666666666666,
              "#ed7953"
             ],
             [
              0.7777777777777778,
              "#fb9f3a"
             ],
             [
              0.8888888888888888,
              "#fdca26"
             ],
             [
              1,
              "#f0f921"
             ]
            ],
            "type": "histogram2d"
           }
          ],
          "histogram2dcontour": [
           {
            "colorbar": {
             "outlinewidth": 0,
             "ticks": ""
            },
            "colorscale": [
             [
              0,
              "#0d0887"
             ],
             [
              0.1111111111111111,
              "#46039f"
             ],
             [
              0.2222222222222222,
              "#7201a8"
             ],
             [
              0.3333333333333333,
              "#9c179e"
             ],
             [
              0.4444444444444444,
              "#bd3786"
             ],
             [
              0.5555555555555556,
              "#d8576b"
             ],
             [
              0.6666666666666666,
              "#ed7953"
             ],
             [
              0.7777777777777778,
              "#fb9f3a"
             ],
             [
              0.8888888888888888,
              "#fdca26"
             ],
             [
              1,
              "#f0f921"
             ]
            ],
            "type": "histogram2dcontour"
           }
          ],
          "mesh3d": [
           {
            "colorbar": {
             "outlinewidth": 0,
             "ticks": ""
            },
            "type": "mesh3d"
           }
          ],
          "parcoords": [
           {
            "line": {
             "colorbar": {
              "outlinewidth": 0,
              "ticks": ""
             }
            },
            "type": "parcoords"
           }
          ],
          "pie": [
           {
            "automargin": true,
            "type": "pie"
           }
          ],
          "scatter": [
           {
            "marker": {
             "colorbar": {
              "outlinewidth": 0,
              "ticks": ""
             }
            },
            "type": "scatter"
           }
          ],
          "scatter3d": [
           {
            "line": {
             "colorbar": {
              "outlinewidth": 0,
              "ticks": ""
             }
            },
            "marker": {
             "colorbar": {
              "outlinewidth": 0,
              "ticks": ""
             }
            },
            "type": "scatter3d"
           }
          ],
          "scattercarpet": [
           {
            "marker": {
             "colorbar": {
              "outlinewidth": 0,
              "ticks": ""
             }
            },
            "type": "scattercarpet"
           }
          ],
          "scattergeo": [
           {
            "marker": {
             "colorbar": {
              "outlinewidth": 0,
              "ticks": ""
             }
            },
            "type": "scattergeo"
           }
          ],
          "scattergl": [
           {
            "marker": {
             "colorbar": {
              "outlinewidth": 0,
              "ticks": ""
             }
            },
            "type": "scattergl"
           }
          ],
          "scattermapbox": [
           {
            "marker": {
             "colorbar": {
              "outlinewidth": 0,
              "ticks": ""
             }
            },
            "type": "scattermapbox"
           }
          ],
          "scatterpolar": [
           {
            "marker": {
             "colorbar": {
              "outlinewidth": 0,
              "ticks": ""
             }
            },
            "type": "scatterpolar"
           }
          ],
          "scatterpolargl": [
           {
            "marker": {
             "colorbar": {
              "outlinewidth": 0,
              "ticks": ""
             }
            },
            "type": "scatterpolargl"
           }
          ],
          "scatterternary": [
           {
            "marker": {
             "colorbar": {
              "outlinewidth": 0,
              "ticks": ""
             }
            },
            "type": "scatterternary"
           }
          ],
          "surface": [
           {
            "colorbar": {
             "outlinewidth": 0,
             "ticks": ""
            },
            "colorscale": [
             [
              0,
              "#0d0887"
             ],
             [
              0.1111111111111111,
              "#46039f"
             ],
             [
              0.2222222222222222,
              "#7201a8"
             ],
             [
              0.3333333333333333,
              "#9c179e"
             ],
             [
              0.4444444444444444,
              "#bd3786"
             ],
             [
              0.5555555555555556,
              "#d8576b"
             ],
             [
              0.6666666666666666,
              "#ed7953"
             ],
             [
              0.7777777777777778,
              "#fb9f3a"
             ],
             [
              0.8888888888888888,
              "#fdca26"
             ],
             [
              1,
              "#f0f921"
             ]
            ],
            "type": "surface"
           }
          ],
          "table": [
           {
            "cells": {
             "fill": {
              "color": "#EBF0F8"
             },
             "line": {
              "color": "white"
             }
            },
            "header": {
             "fill": {
              "color": "#C8D4E3"
             },
             "line": {
              "color": "white"
             }
            },
            "type": "table"
           }
          ]
         },
         "layout": {
          "annotationdefaults": {
           "arrowcolor": "#2a3f5f",
           "arrowhead": 0,
           "arrowwidth": 1
          },
          "autotypenumbers": "strict",
          "coloraxis": {
           "colorbar": {
            "outlinewidth": 0,
            "ticks": ""
           }
          },
          "colorscale": {
           "diverging": [
            [
             0,
             "#8e0152"
            ],
            [
             0.1,
             "#c51b7d"
            ],
            [
             0.2,
             "#de77ae"
            ],
            [
             0.3,
             "#f1b6da"
            ],
            [
             0.4,
             "#fde0ef"
            ],
            [
             0.5,
             "#f7f7f7"
            ],
            [
             0.6,
             "#e6f5d0"
            ],
            [
             0.7,
             "#b8e186"
            ],
            [
             0.8,
             "#7fbc41"
            ],
            [
             0.9,
             "#4d9221"
            ],
            [
             1,
             "#276419"
            ]
           ],
           "sequential": [
            [
             0,
             "#0d0887"
            ],
            [
             0.1111111111111111,
             "#46039f"
            ],
            [
             0.2222222222222222,
             "#7201a8"
            ],
            [
             0.3333333333333333,
             "#9c179e"
            ],
            [
             0.4444444444444444,
             "#bd3786"
            ],
            [
             0.5555555555555556,
             "#d8576b"
            ],
            [
             0.6666666666666666,
             "#ed7953"
            ],
            [
             0.7777777777777778,
             "#fb9f3a"
            ],
            [
             0.8888888888888888,
             "#fdca26"
            ],
            [
             1,
             "#f0f921"
            ]
           ],
           "sequentialminus": [
            [
             0,
             "#0d0887"
            ],
            [
             0.1111111111111111,
             "#46039f"
            ],
            [
             0.2222222222222222,
             "#7201a8"
            ],
            [
             0.3333333333333333,
             "#9c179e"
            ],
            [
             0.4444444444444444,
             "#bd3786"
            ],
            [
             0.5555555555555556,
             "#d8576b"
            ],
            [
             0.6666666666666666,
             "#ed7953"
            ],
            [
             0.7777777777777778,
             "#fb9f3a"
            ],
            [
             0.8888888888888888,
             "#fdca26"
            ],
            [
             1,
             "#f0f921"
            ]
           ]
          },
          "colorway": [
           "#636efa",
           "#EF553B",
           "#00cc96",
           "#ab63fa",
           "#FFA15A",
           "#19d3f3",
           "#FF6692",
           "#B6E880",
           "#FF97FF",
           "#FECB52"
          ],
          "font": {
           "color": "#2a3f5f"
          },
          "geo": {
           "bgcolor": "white",
           "lakecolor": "white",
           "landcolor": "#E5ECF6",
           "showlakes": true,
           "showland": true,
           "subunitcolor": "white"
          },
          "hoverlabel": {
           "align": "left"
          },
          "hovermode": "closest",
          "mapbox": {
           "style": "light"
          },
          "paper_bgcolor": "white",
          "plot_bgcolor": "#E5ECF6",
          "polar": {
           "angularaxis": {
            "gridcolor": "white",
            "linecolor": "white",
            "ticks": ""
           },
           "bgcolor": "#E5ECF6",
           "radialaxis": {
            "gridcolor": "white",
            "linecolor": "white",
            "ticks": ""
           }
          },
          "scene": {
           "xaxis": {
            "backgroundcolor": "#E5ECF6",
            "gridcolor": "white",
            "gridwidth": 2,
            "linecolor": "white",
            "showbackground": true,
            "ticks": "",
            "zerolinecolor": "white"
           },
           "yaxis": {
            "backgroundcolor": "#E5ECF6",
            "gridcolor": "white",
            "gridwidth": 2,
            "linecolor": "white",
            "showbackground": true,
            "ticks": "",
            "zerolinecolor": "white"
           },
           "zaxis": {
            "backgroundcolor": "#E5ECF6",
            "gridcolor": "white",
            "gridwidth": 2,
            "linecolor": "white",
            "showbackground": true,
            "ticks": "",
            "zerolinecolor": "white"
           }
          },
          "shapedefaults": {
           "line": {
            "color": "#2a3f5f"
           }
          },
          "ternary": {
           "aaxis": {
            "gridcolor": "white",
            "linecolor": "white",
            "ticks": ""
           },
           "baxis": {
            "gridcolor": "white",
            "linecolor": "white",
            "ticks": ""
           },
           "bgcolor": "#E5ECF6",
           "caxis": {
            "gridcolor": "white",
            "linecolor": "white",
            "ticks": ""
           }
          },
          "title": {
           "x": 0.05
          },
          "xaxis": {
           "automargin": true,
           "gridcolor": "white",
           "linecolor": "white",
           "ticks": "",
           "title": {
            "standoff": 15
           },
           "zerolinecolor": "white",
           "zerolinewidth": 2
          },
          "yaxis": {
           "automargin": true,
           "gridcolor": "white",
           "linecolor": "white",
           "ticks": "",
           "title": {
            "standoff": 15
           },
           "zerolinecolor": "white",
           "zerolinewidth": 2
          }
         }
        },
        "title": {
         "font": {
          "color": "#4D5663"
         }
        },
        "xaxis": {
         "gridcolor": "#E1E5ED",
         "showgrid": true,
         "tickfont": {
          "color": "#4D5663"
         },
         "title": {
          "font": {
           "color": "#4D5663"
          },
          "text": ""
         },
         "zerolinecolor": "#E1E5ED"
        },
        "yaxis": {
         "gridcolor": "#E1E5ED",
         "showgrid": true,
         "tickfont": {
          "color": "#4D5663"
         },
         "title": {
          "font": {
           "color": "#4D5663"
          },
          "text": ""
         },
         "zerolinecolor": "#E1E5ED"
        }
       }
      },
      "text/html": [
       "<div>                            <div id=\"8fe54f95-5b7c-498f-a079-4a348f4b507b\" class=\"plotly-graph-div\" style=\"height:525px; width:100%;\"></div>            <script type=\"text/javascript\">                require([\"plotly\"], function(Plotly) {                    window.PLOTLYENV=window.PLOTLYENV || {};\n",
       "                    window.PLOTLYENV.BASE_URL='https://plot.ly';                                    if (document.getElementById(\"8fe54f95-5b7c-498f-a079-4a348f4b507b\")) {                    Plotly.newPlot(                        \"8fe54f95-5b7c-498f-a079-4a348f4b507b\",                        [{\"line\":{\"color\":\"rgba(255, 153, 51, 1.0)\",\"dash\":\"solid\",\"shape\":\"linear\",\"width\":1.3},\"marker\":{\"size\":10,\"symbol\":\"circle\"},\"mode\":\"markers\",\"name\":\"B\",\"text\":\"\",\"x\":[-0.36786982851319505,-0.8139460136439768,-1.2728002553624609,-0.16742849267659557,0.2568812060873537,1.7412616989824088,-1.5621264209503618,-0.9716442807368325,0.18120238038652076,-0.45624359436676554,0.4192093729134039,-1.7537622507026116,-0.6760570885254076,1.2315472502842275,1.344721140948013,1.5308498457246777,0.0811757384905562,-0.07056372644932463,-0.4096182151163972,-0.18810476194808798,-0.6888845471082019,0.1787949634688186,-0.6326159497145163,1.3665080793470559,-1.264100708338595,0.5654737427593445,-0.6314385446664598,0.7959791813286821,1.5209648447798207,0.011053102554344277,0.0575177083012101,2.1146701003920465,0.6844826246908693,-1.1059174909427503,0.36088615768745663,-0.9196362508572212,2.413895200230858,0.36847160558729464,1.5555526138790137,0.27533952277220874,0.5128093807287213,-0.36109803744274055,-0.2245813865447435,-1.3929369067023898,-1.7149219010602588,-0.06436773582098293,0.705890363747037,0.8834346495884103,-1.2819697508145063,1.0211868852886536,0.09444081962493833,0.9936925290527405,-0.24805292015688082,-0.38975442643515745,0.13162173026208018,-2.0904123249582196,-0.3638188904525045,1.5945900934580928,0.7833673844256537,0.2957653201178533,-0.420979774187367,-0.3033766512810295,-0.2359411997474931,-0.4555954179187365,0.5506480905045086,-0.613326940080486,-1.1439066960853865,0.49946364909654484,0.1921167231914247,-1.5000415223098764,-0.5242457354730988,-0.12933767299748697,-1.1800277618914492,0.9604362518828048,-1.3716897691557939,-0.9103137466615401,1.21475681850616,-1.2309199307746803,0.7560338475782938,1.076852768980497,-0.04882792274589524,-0.7653859453081738,-1.2279318521344766,-0.4210661832352774,-0.5586350407050273,-0.721991107436455,0.9659154488762632,1.2182790903319993,-1.3690372725967028,-1.3587655905835527,0.515290847414008,1.0695484930182528,-1.3380019043323563,-1.216940120335792,1.0947929024669336,0.23884071328995005,-0.45823390270079395,1.4792255439209159,-1.3118290643991475,-1.172534065870987],\"y\":[0.1819819126791729,-0.7690504649458737,0.4146966578943233,0.735872368805637,0.8669917218711843,2.1748617101751,1.2318371866263211,0.16427863005281082,-0.7516033269630648,-0.059540090628032005,-0.012899474698968688,1.7520395134071642,-0.01591686529266641,-1.30737693706392,0.31469596302611313,0.0006447044677048574,-0.7695973642700286,-1.588439968194205,0.5132563588699779,-0.4166594400416099,0.654191318124905,1.538197099799716,-0.9734425150447913,-1.346122715368668,-0.3594077404233946,1.7299228793641566,2.1101164566449864,-0.9413070230386088,0.013584305821453655,-0.2281718487132733,1.6031139424787848,0.6043596490108111,0.6197173644455335,0.22320795650902636,3.348229272407328,0.7701779183439242,1.8000414301434686,-1.4159099794566452,-0.4371479314457633,-0.2147748488950862,-0.6812616180720111,0.6879337962777717,0.15289137723322704,-0.6636384766790288,0.9087932907473223,0.13219355583100664,0.6622465833842975,-0.5583410998398035,-0.24485904679848086,-0.4643834042131067,-2.2419875725888185,0.8278854578464298,0.20176407293093973,-1.3934247465283838,1.1134336391437878,-1.6334405533394345,1.3236953777109324,0.5224675986838716,-0.58959784704781,1.4586033556318427,0.9083302010742899,1.720992224059844,-1.889437228043027,1.465208342151267,0.45166524739808955,-0.02542207128711079,0.28324402331732385,-0.49926804861875734,0.3895796831658555,-0.3266481370656572,-2.1620324688740515,-0.4198106606771507,-0.41366740287377785,-0.584281831740891,-1.8799488990110838,1.0867735776383765,0.04134940253602887,-0.5192131068274868,-0.3308715980802985,0.5820619125965684,-0.3296740677753678,-0.7694843154746899,0.3974786425028931,-0.09690329212432874,0.2848301613145788,0.19226842929502952,-0.8350478382165045,0.30326140879933705,0.684022961660779,-0.5307381409250069,1.1163236404658101,-0.018062703200621047,1.1463717068725314,0.9530289674340827,-1.389032278301572,-0.7532835443706728,1.0060298398741725,-0.1675034739802897,-1.0888384951742667,-1.6766035427580728],\"type\":\"scatter\"}],                        {\"legend\":{\"bgcolor\":\"#F5F6F9\",\"font\":{\"color\":\"#4D5663\"}},\"paper_bgcolor\":\"#F5F6F9\",\"plot_bgcolor\":\"#F5F6F9\",\"template\":{\"data\":{\"barpolar\":[{\"marker\":{\"line\":{\"color\":\"#E5ECF6\",\"width\":0.5},\"pattern\":{\"fillmode\":\"overlay\",\"size\":10,\"solidity\":0.2}},\"type\":\"barpolar\"}],\"bar\":[{\"error_x\":{\"color\":\"#2a3f5f\"},\"error_y\":{\"color\":\"#2a3f5f\"},\"marker\":{\"line\":{\"color\":\"#E5ECF6\",\"width\":0.5},\"pattern\":{\"fillmode\":\"overlay\",\"size\":10,\"solidity\":0.2}},\"type\":\"bar\"}],\"carpet\":[{\"aaxis\":{\"endlinecolor\":\"#2a3f5f\",\"gridcolor\":\"white\",\"linecolor\":\"white\",\"minorgridcolor\":\"white\",\"startlinecolor\":\"#2a3f5f\"},\"baxis\":{\"endlinecolor\":\"#2a3f5f\",\"gridcolor\":\"white\",\"linecolor\":\"white\",\"minorgridcolor\":\"white\",\"startlinecolor\":\"#2a3f5f\"},\"type\":\"carpet\"}],\"choropleth\":[{\"colorbar\":{\"outlinewidth\":0,\"ticks\":\"\"},\"type\":\"choropleth\"}],\"contourcarpet\":[{\"colorbar\":{\"outlinewidth\":0,\"ticks\":\"\"},\"type\":\"contourcarpet\"}],\"contour\":[{\"colorbar\":{\"outlinewidth\":0,\"ticks\":\"\"},\"colorscale\":[[0.0,\"#0d0887\"],[0.1111111111111111,\"#46039f\"],[0.2222222222222222,\"#7201a8\"],[0.3333333333333333,\"#9c179e\"],[0.4444444444444444,\"#bd3786\"],[0.5555555555555556,\"#d8576b\"],[0.6666666666666666,\"#ed7953\"],[0.7777777777777778,\"#fb9f3a\"],[0.8888888888888888,\"#fdca26\"],[1.0,\"#f0f921\"]],\"type\":\"contour\"}],\"heatmapgl\":[{\"colorbar\":{\"outlinewidth\":0,\"ticks\":\"\"},\"colorscale\":[[0.0,\"#0d0887\"],[0.1111111111111111,\"#46039f\"],[0.2222222222222222,\"#7201a8\"],[0.3333333333333333,\"#9c179e\"],[0.4444444444444444,\"#bd3786\"],[0.5555555555555556,\"#d8576b\"],[0.6666666666666666,\"#ed7953\"],[0.7777777777777778,\"#fb9f3a\"],[0.8888888888888888,\"#fdca26\"],[1.0,\"#f0f921\"]],\"type\":\"heatmapgl\"}],\"heatmap\":[{\"colorbar\":{\"outlinewidth\":0,\"ticks\":\"\"},\"colorscale\":[[0.0,\"#0d0887\"],[0.1111111111111111,\"#46039f\"],[0.2222222222222222,\"#7201a8\"],[0.3333333333333333,\"#9c179e\"],[0.4444444444444444,\"#bd3786\"],[0.5555555555555556,\"#d8576b\"],[0.6666666666666666,\"#ed7953\"],[0.7777777777777778,\"#fb9f3a\"],[0.8888888888888888,\"#fdca26\"],[1.0,\"#f0f921\"]],\"type\":\"heatmap\"}],\"histogram2dcontour\":[{\"colorbar\":{\"outlinewidth\":0,\"ticks\":\"\"},\"colorscale\":[[0.0,\"#0d0887\"],[0.1111111111111111,\"#46039f\"],[0.2222222222222222,\"#7201a8\"],[0.3333333333333333,\"#9c179e\"],[0.4444444444444444,\"#bd3786\"],[0.5555555555555556,\"#d8576b\"],[0.6666666666666666,\"#ed7953\"],[0.7777777777777778,\"#fb9f3a\"],[0.8888888888888888,\"#fdca26\"],[1.0,\"#f0f921\"]],\"type\":\"histogram2dcontour\"}],\"histogram2d\":[{\"colorbar\":{\"outlinewidth\":0,\"ticks\":\"\"},\"colorscale\":[[0.0,\"#0d0887\"],[0.1111111111111111,\"#46039f\"],[0.2222222222222222,\"#7201a8\"],[0.3333333333333333,\"#9c179e\"],[0.4444444444444444,\"#bd3786\"],[0.5555555555555556,\"#d8576b\"],[0.6666666666666666,\"#ed7953\"],[0.7777777777777778,\"#fb9f3a\"],[0.8888888888888888,\"#fdca26\"],[1.0,\"#f0f921\"]],\"type\":\"histogram2d\"}],\"histogram\":[{\"marker\":{\"pattern\":{\"fillmode\":\"overlay\",\"size\":10,\"solidity\":0.2}},\"type\":\"histogram\"}],\"mesh3d\":[{\"colorbar\":{\"outlinewidth\":0,\"ticks\":\"\"},\"type\":\"mesh3d\"}],\"parcoords\":[{\"line\":{\"colorbar\":{\"outlinewidth\":0,\"ticks\":\"\"}},\"type\":\"parcoords\"}],\"pie\":[{\"automargin\":true,\"type\":\"pie\"}],\"scatter3d\":[{\"line\":{\"colorbar\":{\"outlinewidth\":0,\"ticks\":\"\"}},\"marker\":{\"colorbar\":{\"outlinewidth\":0,\"ticks\":\"\"}},\"type\":\"scatter3d\"}],\"scattercarpet\":[{\"marker\":{\"colorbar\":{\"outlinewidth\":0,\"ticks\":\"\"}},\"type\":\"scattercarpet\"}],\"scattergeo\":[{\"marker\":{\"colorbar\":{\"outlinewidth\":0,\"ticks\":\"\"}},\"type\":\"scattergeo\"}],\"scattergl\":[{\"marker\":{\"colorbar\":{\"outlinewidth\":0,\"ticks\":\"\"}},\"type\":\"scattergl\"}],\"scattermapbox\":[{\"marker\":{\"colorbar\":{\"outlinewidth\":0,\"ticks\":\"\"}},\"type\":\"scattermapbox\"}],\"scatterpolargl\":[{\"marker\":{\"colorbar\":{\"outlinewidth\":0,\"ticks\":\"\"}},\"type\":\"scatterpolargl\"}],\"scatterpolar\":[{\"marker\":{\"colorbar\":{\"outlinewidth\":0,\"ticks\":\"\"}},\"type\":\"scatterpolar\"}],\"scatter\":[{\"marker\":{\"colorbar\":{\"outlinewidth\":0,\"ticks\":\"\"}},\"type\":\"scatter\"}],\"scatterternary\":[{\"marker\":{\"colorbar\":{\"outlinewidth\":0,\"ticks\":\"\"}},\"type\":\"scatterternary\"}],\"surface\":[{\"colorbar\":{\"outlinewidth\":0,\"ticks\":\"\"},\"colorscale\":[[0.0,\"#0d0887\"],[0.1111111111111111,\"#46039f\"],[0.2222222222222222,\"#7201a8\"],[0.3333333333333333,\"#9c179e\"],[0.4444444444444444,\"#bd3786\"],[0.5555555555555556,\"#d8576b\"],[0.6666666666666666,\"#ed7953\"],[0.7777777777777778,\"#fb9f3a\"],[0.8888888888888888,\"#fdca26\"],[1.0,\"#f0f921\"]],\"type\":\"surface\"}],\"table\":[{\"cells\":{\"fill\":{\"color\":\"#EBF0F8\"},\"line\":{\"color\":\"white\"}},\"header\":{\"fill\":{\"color\":\"#C8D4E3\"},\"line\":{\"color\":\"white\"}},\"type\":\"table\"}]},\"layout\":{\"annotationdefaults\":{\"arrowcolor\":\"#2a3f5f\",\"arrowhead\":0,\"arrowwidth\":1},\"autotypenumbers\":\"strict\",\"coloraxis\":{\"colorbar\":{\"outlinewidth\":0,\"ticks\":\"\"}},\"colorscale\":{\"diverging\":[[0,\"#8e0152\"],[0.1,\"#c51b7d\"],[0.2,\"#de77ae\"],[0.3,\"#f1b6da\"],[0.4,\"#fde0ef\"],[0.5,\"#f7f7f7\"],[0.6,\"#e6f5d0\"],[0.7,\"#b8e186\"],[0.8,\"#7fbc41\"],[0.9,\"#4d9221\"],[1,\"#276419\"]],\"sequential\":[[0.0,\"#0d0887\"],[0.1111111111111111,\"#46039f\"],[0.2222222222222222,\"#7201a8\"],[0.3333333333333333,\"#9c179e\"],[0.4444444444444444,\"#bd3786\"],[0.5555555555555556,\"#d8576b\"],[0.6666666666666666,\"#ed7953\"],[0.7777777777777778,\"#fb9f3a\"],[0.8888888888888888,\"#fdca26\"],[1.0,\"#f0f921\"]],\"sequentialminus\":[[0.0,\"#0d0887\"],[0.1111111111111111,\"#46039f\"],[0.2222222222222222,\"#7201a8\"],[0.3333333333333333,\"#9c179e\"],[0.4444444444444444,\"#bd3786\"],[0.5555555555555556,\"#d8576b\"],[0.6666666666666666,\"#ed7953\"],[0.7777777777777778,\"#fb9f3a\"],[0.8888888888888888,\"#fdca26\"],[1.0,\"#f0f921\"]]},\"colorway\":[\"#636efa\",\"#EF553B\",\"#00cc96\",\"#ab63fa\",\"#FFA15A\",\"#19d3f3\",\"#FF6692\",\"#B6E880\",\"#FF97FF\",\"#FECB52\"],\"font\":{\"color\":\"#2a3f5f\"},\"geo\":{\"bgcolor\":\"white\",\"lakecolor\":\"white\",\"landcolor\":\"#E5ECF6\",\"showlakes\":true,\"showland\":true,\"subunitcolor\":\"white\"},\"hoverlabel\":{\"align\":\"left\"},\"hovermode\":\"closest\",\"mapbox\":{\"style\":\"light\"},\"paper_bgcolor\":\"white\",\"plot_bgcolor\":\"#E5ECF6\",\"polar\":{\"angularaxis\":{\"gridcolor\":\"white\",\"linecolor\":\"white\",\"ticks\":\"\"},\"bgcolor\":\"#E5ECF6\",\"radialaxis\":{\"gridcolor\":\"white\",\"linecolor\":\"white\",\"ticks\":\"\"}},\"scene\":{\"xaxis\":{\"backgroundcolor\":\"#E5ECF6\",\"gridcolor\":\"white\",\"gridwidth\":2,\"linecolor\":\"white\",\"showbackground\":true,\"ticks\":\"\",\"zerolinecolor\":\"white\"},\"yaxis\":{\"backgroundcolor\":\"#E5ECF6\",\"gridcolor\":\"white\",\"gridwidth\":2,\"linecolor\":\"white\",\"showbackground\":true,\"ticks\":\"\",\"zerolinecolor\":\"white\"},\"zaxis\":{\"backgroundcolor\":\"#E5ECF6\",\"gridcolor\":\"white\",\"gridwidth\":2,\"linecolor\":\"white\",\"showbackground\":true,\"ticks\":\"\",\"zerolinecolor\":\"white\"}},\"shapedefaults\":{\"line\":{\"color\":\"#2a3f5f\"}},\"ternary\":{\"aaxis\":{\"gridcolor\":\"white\",\"linecolor\":\"white\",\"ticks\":\"\"},\"baxis\":{\"gridcolor\":\"white\",\"linecolor\":\"white\",\"ticks\":\"\"},\"bgcolor\":\"#E5ECF6\",\"caxis\":{\"gridcolor\":\"white\",\"linecolor\":\"white\",\"ticks\":\"\"}},\"title\":{\"x\":0.05},\"xaxis\":{\"automargin\":true,\"gridcolor\":\"white\",\"linecolor\":\"white\",\"ticks\":\"\",\"title\":{\"standoff\":15},\"zerolinecolor\":\"white\",\"zerolinewidth\":2},\"yaxis\":{\"automargin\":true,\"gridcolor\":\"white\",\"linecolor\":\"white\",\"ticks\":\"\",\"title\":{\"standoff\":15},\"zerolinecolor\":\"white\",\"zerolinewidth\":2}}},\"title\":{\"font\":{\"color\":\"#4D5663\"}},\"xaxis\":{\"gridcolor\":\"#E1E5ED\",\"showgrid\":true,\"tickfont\":{\"color\":\"#4D5663\"},\"title\":{\"font\":{\"color\":\"#4D5663\"},\"text\":\"\"},\"zerolinecolor\":\"#E1E5ED\"},\"yaxis\":{\"gridcolor\":\"#E1E5ED\",\"showgrid\":true,\"tickfont\":{\"color\":\"#4D5663\"},\"title\":{\"font\":{\"color\":\"#4D5663\"},\"text\":\"\"},\"zerolinecolor\":\"#E1E5ED\"}},                        {\"showLink\": true, \"linkText\": \"Export to plot.ly\", \"plotlyServerURL\": \"https://plot.ly\", \"responsive\": true}                    ).then(function(){\n",
       "                            \n",
       "var gd = document.getElementById('8fe54f95-5b7c-498f-a079-4a348f4b507b');\n",
       "var x = new MutationObserver(function (mutations, observer) {{\n",
       "        var display = window.getComputedStyle(gd).display;\n",
       "        if (!display || display === 'none') {{\n",
       "            console.log([gd, 'removed!']);\n",
       "            Plotly.purge(gd);\n",
       "            observer.disconnect();\n",
       "        }}\n",
       "}});\n",
       "\n",
       "// Listen for the removal of the full notebook cells\n",
       "var notebookContainer = gd.closest('#notebook-container');\n",
       "if (notebookContainer) {{\n",
       "    x.observe(notebookContainer, {childList: true});\n",
       "}}\n",
       "\n",
       "// Listen for the clearing of the current output cell\n",
       "var outputEl = gd.closest('.output');\n",
       "if (outputEl) {{\n",
       "    x.observe(outputEl, {childList: true});\n",
       "}}\n",
       "\n",
       "                        })                };                });            </script>        </div>"
      ]
     },
     "metadata": {},
     "output_type": "display_data"
    }
   ],
   "source": [
    "df.iplot(kind='scatter',x='A',y='B',mode='markers',size=10)"
   ]
  },
  {
   "cell_type": "markdown",
   "metadata": {},
   "source": [
    "## Bar Plots"
   ]
  },
  {
   "cell_type": "code",
   "execution_count": 11,
   "metadata": {},
   "outputs": [
    {
     "data": {
      "application/vnd.plotly.v1+json": {
       "config": {
        "linkText": "Export to plot.ly",
        "plotlyServerURL": "https://plot.ly",
        "showLink": true
       },
       "data": [
        {
         "marker": {
          "color": "rgba(255, 153, 51, 0.6)",
          "line": {
           "color": "rgba(255, 153, 51, 1.0)",
           "width": 1
          }
         },
         "name": "Values",
         "orientation": "v",
         "text": "",
         "type": "bar",
         "x": [
          "A",
          "B",
          "C"
         ],
         "y": [
          32,
          43,
          50
         ]
        }
       ],
       "layout": {
        "legend": {
         "bgcolor": "#F5F6F9",
         "font": {
          "color": "#4D5663"
         }
        },
        "paper_bgcolor": "#F5F6F9",
        "plot_bgcolor": "#F5F6F9",
        "template": {
         "data": {
          "bar": [
           {
            "error_x": {
             "color": "#2a3f5f"
            },
            "error_y": {
             "color": "#2a3f5f"
            },
            "marker": {
             "line": {
              "color": "#E5ECF6",
              "width": 0.5
             },
             "pattern": {
              "fillmode": "overlay",
              "size": 10,
              "solidity": 0.2
             }
            },
            "type": "bar"
           }
          ],
          "barpolar": [
           {
            "marker": {
             "line": {
              "color": "#E5ECF6",
              "width": 0.5
             },
             "pattern": {
              "fillmode": "overlay",
              "size": 10,
              "solidity": 0.2
             }
            },
            "type": "barpolar"
           }
          ],
          "carpet": [
           {
            "aaxis": {
             "endlinecolor": "#2a3f5f",
             "gridcolor": "white",
             "linecolor": "white",
             "minorgridcolor": "white",
             "startlinecolor": "#2a3f5f"
            },
            "baxis": {
             "endlinecolor": "#2a3f5f",
             "gridcolor": "white",
             "linecolor": "white",
             "minorgridcolor": "white",
             "startlinecolor": "#2a3f5f"
            },
            "type": "carpet"
           }
          ],
          "choropleth": [
           {
            "colorbar": {
             "outlinewidth": 0,
             "ticks": ""
            },
            "type": "choropleth"
           }
          ],
          "contour": [
           {
            "colorbar": {
             "outlinewidth": 0,
             "ticks": ""
            },
            "colorscale": [
             [
              0,
              "#0d0887"
             ],
             [
              0.1111111111111111,
              "#46039f"
             ],
             [
              0.2222222222222222,
              "#7201a8"
             ],
             [
              0.3333333333333333,
              "#9c179e"
             ],
             [
              0.4444444444444444,
              "#bd3786"
             ],
             [
              0.5555555555555556,
              "#d8576b"
             ],
             [
              0.6666666666666666,
              "#ed7953"
             ],
             [
              0.7777777777777778,
              "#fb9f3a"
             ],
             [
              0.8888888888888888,
              "#fdca26"
             ],
             [
              1,
              "#f0f921"
             ]
            ],
            "type": "contour"
           }
          ],
          "contourcarpet": [
           {
            "colorbar": {
             "outlinewidth": 0,
             "ticks": ""
            },
            "type": "contourcarpet"
           }
          ],
          "heatmap": [
           {
            "colorbar": {
             "outlinewidth": 0,
             "ticks": ""
            },
            "colorscale": [
             [
              0,
              "#0d0887"
             ],
             [
              0.1111111111111111,
              "#46039f"
             ],
             [
              0.2222222222222222,
              "#7201a8"
             ],
             [
              0.3333333333333333,
              "#9c179e"
             ],
             [
              0.4444444444444444,
              "#bd3786"
             ],
             [
              0.5555555555555556,
              "#d8576b"
             ],
             [
              0.6666666666666666,
              "#ed7953"
             ],
             [
              0.7777777777777778,
              "#fb9f3a"
             ],
             [
              0.8888888888888888,
              "#fdca26"
             ],
             [
              1,
              "#f0f921"
             ]
            ],
            "type": "heatmap"
           }
          ],
          "heatmapgl": [
           {
            "colorbar": {
             "outlinewidth": 0,
             "ticks": ""
            },
            "colorscale": [
             [
              0,
              "#0d0887"
             ],
             [
              0.1111111111111111,
              "#46039f"
             ],
             [
              0.2222222222222222,
              "#7201a8"
             ],
             [
              0.3333333333333333,
              "#9c179e"
             ],
             [
              0.4444444444444444,
              "#bd3786"
             ],
             [
              0.5555555555555556,
              "#d8576b"
             ],
             [
              0.6666666666666666,
              "#ed7953"
             ],
             [
              0.7777777777777778,
              "#fb9f3a"
             ],
             [
              0.8888888888888888,
              "#fdca26"
             ],
             [
              1,
              "#f0f921"
             ]
            ],
            "type": "heatmapgl"
           }
          ],
          "histogram": [
           {
            "marker": {
             "pattern": {
              "fillmode": "overlay",
              "size": 10,
              "solidity": 0.2
             }
            },
            "type": "histogram"
           }
          ],
          "histogram2d": [
           {
            "colorbar": {
             "outlinewidth": 0,
             "ticks": ""
            },
            "colorscale": [
             [
              0,
              "#0d0887"
             ],
             [
              0.1111111111111111,
              "#46039f"
             ],
             [
              0.2222222222222222,
              "#7201a8"
             ],
             [
              0.3333333333333333,
              "#9c179e"
             ],
             [
              0.4444444444444444,
              "#bd3786"
             ],
             [
              0.5555555555555556,
              "#d8576b"
             ],
             [
              0.6666666666666666,
              "#ed7953"
             ],
             [
              0.7777777777777778,
              "#fb9f3a"
             ],
             [
              0.8888888888888888,
              "#fdca26"
             ],
             [
              1,
              "#f0f921"
             ]
            ],
            "type": "histogram2d"
           }
          ],
          "histogram2dcontour": [
           {
            "colorbar": {
             "outlinewidth": 0,
             "ticks": ""
            },
            "colorscale": [
             [
              0,
              "#0d0887"
             ],
             [
              0.1111111111111111,
              "#46039f"
             ],
             [
              0.2222222222222222,
              "#7201a8"
             ],
             [
              0.3333333333333333,
              "#9c179e"
             ],
             [
              0.4444444444444444,
              "#bd3786"
             ],
             [
              0.5555555555555556,
              "#d8576b"
             ],
             [
              0.6666666666666666,
              "#ed7953"
             ],
             [
              0.7777777777777778,
              "#fb9f3a"
             ],
             [
              0.8888888888888888,
              "#fdca26"
             ],
             [
              1,
              "#f0f921"
             ]
            ],
            "type": "histogram2dcontour"
           }
          ],
          "mesh3d": [
           {
            "colorbar": {
             "outlinewidth": 0,
             "ticks": ""
            },
            "type": "mesh3d"
           }
          ],
          "parcoords": [
           {
            "line": {
             "colorbar": {
              "outlinewidth": 0,
              "ticks": ""
             }
            },
            "type": "parcoords"
           }
          ],
          "pie": [
           {
            "automargin": true,
            "type": "pie"
           }
          ],
          "scatter": [
           {
            "marker": {
             "colorbar": {
              "outlinewidth": 0,
              "ticks": ""
             }
            },
            "type": "scatter"
           }
          ],
          "scatter3d": [
           {
            "line": {
             "colorbar": {
              "outlinewidth": 0,
              "ticks": ""
             }
            },
            "marker": {
             "colorbar": {
              "outlinewidth": 0,
              "ticks": ""
             }
            },
            "type": "scatter3d"
           }
          ],
          "scattercarpet": [
           {
            "marker": {
             "colorbar": {
              "outlinewidth": 0,
              "ticks": ""
             }
            },
            "type": "scattercarpet"
           }
          ],
          "scattergeo": [
           {
            "marker": {
             "colorbar": {
              "outlinewidth": 0,
              "ticks": ""
             }
            },
            "type": "scattergeo"
           }
          ],
          "scattergl": [
           {
            "marker": {
             "colorbar": {
              "outlinewidth": 0,
              "ticks": ""
             }
            },
            "type": "scattergl"
           }
          ],
          "scattermapbox": [
           {
            "marker": {
             "colorbar": {
              "outlinewidth": 0,
              "ticks": ""
             }
            },
            "type": "scattermapbox"
           }
          ],
          "scatterpolar": [
           {
            "marker": {
             "colorbar": {
              "outlinewidth": 0,
              "ticks": ""
             }
            },
            "type": "scatterpolar"
           }
          ],
          "scatterpolargl": [
           {
            "marker": {
             "colorbar": {
              "outlinewidth": 0,
              "ticks": ""
             }
            },
            "type": "scatterpolargl"
           }
          ],
          "scatterternary": [
           {
            "marker": {
             "colorbar": {
              "outlinewidth": 0,
              "ticks": ""
             }
            },
            "type": "scatterternary"
           }
          ],
          "surface": [
           {
            "colorbar": {
             "outlinewidth": 0,
             "ticks": ""
            },
            "colorscale": [
             [
              0,
              "#0d0887"
             ],
             [
              0.1111111111111111,
              "#46039f"
             ],
             [
              0.2222222222222222,
              "#7201a8"
             ],
             [
              0.3333333333333333,
              "#9c179e"
             ],
             [
              0.4444444444444444,
              "#bd3786"
             ],
             [
              0.5555555555555556,
              "#d8576b"
             ],
             [
              0.6666666666666666,
              "#ed7953"
             ],
             [
              0.7777777777777778,
              "#fb9f3a"
             ],
             [
              0.8888888888888888,
              "#fdca26"
             ],
             [
              1,
              "#f0f921"
             ]
            ],
            "type": "surface"
           }
          ],
          "table": [
           {
            "cells": {
             "fill": {
              "color": "#EBF0F8"
             },
             "line": {
              "color": "white"
             }
            },
            "header": {
             "fill": {
              "color": "#C8D4E3"
             },
             "line": {
              "color": "white"
             }
            },
            "type": "table"
           }
          ]
         },
         "layout": {
          "annotationdefaults": {
           "arrowcolor": "#2a3f5f",
           "arrowhead": 0,
           "arrowwidth": 1
          },
          "autotypenumbers": "strict",
          "coloraxis": {
           "colorbar": {
            "outlinewidth": 0,
            "ticks": ""
           }
          },
          "colorscale": {
           "diverging": [
            [
             0,
             "#8e0152"
            ],
            [
             0.1,
             "#c51b7d"
            ],
            [
             0.2,
             "#de77ae"
            ],
            [
             0.3,
             "#f1b6da"
            ],
            [
             0.4,
             "#fde0ef"
            ],
            [
             0.5,
             "#f7f7f7"
            ],
            [
             0.6,
             "#e6f5d0"
            ],
            [
             0.7,
             "#b8e186"
            ],
            [
             0.8,
             "#7fbc41"
            ],
            [
             0.9,
             "#4d9221"
            ],
            [
             1,
             "#276419"
            ]
           ],
           "sequential": [
            [
             0,
             "#0d0887"
            ],
            [
             0.1111111111111111,
             "#46039f"
            ],
            [
             0.2222222222222222,
             "#7201a8"
            ],
            [
             0.3333333333333333,
             "#9c179e"
            ],
            [
             0.4444444444444444,
             "#bd3786"
            ],
            [
             0.5555555555555556,
             "#d8576b"
            ],
            [
             0.6666666666666666,
             "#ed7953"
            ],
            [
             0.7777777777777778,
             "#fb9f3a"
            ],
            [
             0.8888888888888888,
             "#fdca26"
            ],
            [
             1,
             "#f0f921"
            ]
           ],
           "sequentialminus": [
            [
             0,
             "#0d0887"
            ],
            [
             0.1111111111111111,
             "#46039f"
            ],
            [
             0.2222222222222222,
             "#7201a8"
            ],
            [
             0.3333333333333333,
             "#9c179e"
            ],
            [
             0.4444444444444444,
             "#bd3786"
            ],
            [
             0.5555555555555556,
             "#d8576b"
            ],
            [
             0.6666666666666666,
             "#ed7953"
            ],
            [
             0.7777777777777778,
             "#fb9f3a"
            ],
            [
             0.8888888888888888,
             "#fdca26"
            ],
            [
             1,
             "#f0f921"
            ]
           ]
          },
          "colorway": [
           "#636efa",
           "#EF553B",
           "#00cc96",
           "#ab63fa",
           "#FFA15A",
           "#19d3f3",
           "#FF6692",
           "#B6E880",
           "#FF97FF",
           "#FECB52"
          ],
          "font": {
           "color": "#2a3f5f"
          },
          "geo": {
           "bgcolor": "white",
           "lakecolor": "white",
           "landcolor": "#E5ECF6",
           "showlakes": true,
           "showland": true,
           "subunitcolor": "white"
          },
          "hoverlabel": {
           "align": "left"
          },
          "hovermode": "closest",
          "mapbox": {
           "style": "light"
          },
          "paper_bgcolor": "white",
          "plot_bgcolor": "#E5ECF6",
          "polar": {
           "angularaxis": {
            "gridcolor": "white",
            "linecolor": "white",
            "ticks": ""
           },
           "bgcolor": "#E5ECF6",
           "radialaxis": {
            "gridcolor": "white",
            "linecolor": "white",
            "ticks": ""
           }
          },
          "scene": {
           "xaxis": {
            "backgroundcolor": "#E5ECF6",
            "gridcolor": "white",
            "gridwidth": 2,
            "linecolor": "white",
            "showbackground": true,
            "ticks": "",
            "zerolinecolor": "white"
           },
           "yaxis": {
            "backgroundcolor": "#E5ECF6",
            "gridcolor": "white",
            "gridwidth": 2,
            "linecolor": "white",
            "showbackground": true,
            "ticks": "",
            "zerolinecolor": "white"
           },
           "zaxis": {
            "backgroundcolor": "#E5ECF6",
            "gridcolor": "white",
            "gridwidth": 2,
            "linecolor": "white",
            "showbackground": true,
            "ticks": "",
            "zerolinecolor": "white"
           }
          },
          "shapedefaults": {
           "line": {
            "color": "#2a3f5f"
           }
          },
          "ternary": {
           "aaxis": {
            "gridcolor": "white",
            "linecolor": "white",
            "ticks": ""
           },
           "baxis": {
            "gridcolor": "white",
            "linecolor": "white",
            "ticks": ""
           },
           "bgcolor": "#E5ECF6",
           "caxis": {
            "gridcolor": "white",
            "linecolor": "white",
            "ticks": ""
           }
          },
          "title": {
           "x": 0.05
          },
          "xaxis": {
           "automargin": true,
           "gridcolor": "white",
           "linecolor": "white",
           "ticks": "",
           "title": {
            "standoff": 15
           },
           "zerolinecolor": "white",
           "zerolinewidth": 2
          },
          "yaxis": {
           "automargin": true,
           "gridcolor": "white",
           "linecolor": "white",
           "ticks": "",
           "title": {
            "standoff": 15
           },
           "zerolinecolor": "white",
           "zerolinewidth": 2
          }
         }
        },
        "title": {
         "font": {
          "color": "#4D5663"
         }
        },
        "xaxis": {
         "gridcolor": "#E1E5ED",
         "showgrid": true,
         "tickfont": {
          "color": "#4D5663"
         },
         "title": {
          "font": {
           "color": "#4D5663"
          },
          "text": ""
         },
         "zerolinecolor": "#E1E5ED"
        },
        "yaxis": {
         "gridcolor": "#E1E5ED",
         "showgrid": true,
         "tickfont": {
          "color": "#4D5663"
         },
         "title": {
          "font": {
           "color": "#4D5663"
          },
          "text": ""
         },
         "zerolinecolor": "#E1E5ED"
        }
       }
      },
      "text/html": [
       "<div>                            <div id=\"2d66039a-de55-4f7c-b000-466202542894\" class=\"plotly-graph-div\" style=\"height:525px; width:100%;\"></div>            <script type=\"text/javascript\">                require([\"plotly\"], function(Plotly) {                    window.PLOTLYENV=window.PLOTLYENV || {};\n",
       "                    window.PLOTLYENV.BASE_URL='https://plot.ly';                                    if (document.getElementById(\"2d66039a-de55-4f7c-b000-466202542894\")) {                    Plotly.newPlot(                        \"2d66039a-de55-4f7c-b000-466202542894\",                        [{\"marker\":{\"color\":\"rgba(255, 153, 51, 0.6)\",\"line\":{\"color\":\"rgba(255, 153, 51, 1.0)\",\"width\":1}},\"name\":\"Values\",\"orientation\":\"v\",\"text\":\"\",\"x\":[\"A\",\"B\",\"C\"],\"y\":[32,43,50],\"type\":\"bar\"}],                        {\"legend\":{\"bgcolor\":\"#F5F6F9\",\"font\":{\"color\":\"#4D5663\"}},\"paper_bgcolor\":\"#F5F6F9\",\"plot_bgcolor\":\"#F5F6F9\",\"template\":{\"data\":{\"barpolar\":[{\"marker\":{\"line\":{\"color\":\"#E5ECF6\",\"width\":0.5},\"pattern\":{\"fillmode\":\"overlay\",\"size\":10,\"solidity\":0.2}},\"type\":\"barpolar\"}],\"bar\":[{\"error_x\":{\"color\":\"#2a3f5f\"},\"error_y\":{\"color\":\"#2a3f5f\"},\"marker\":{\"line\":{\"color\":\"#E5ECF6\",\"width\":0.5},\"pattern\":{\"fillmode\":\"overlay\",\"size\":10,\"solidity\":0.2}},\"type\":\"bar\"}],\"carpet\":[{\"aaxis\":{\"endlinecolor\":\"#2a3f5f\",\"gridcolor\":\"white\",\"linecolor\":\"white\",\"minorgridcolor\":\"white\",\"startlinecolor\":\"#2a3f5f\"},\"baxis\":{\"endlinecolor\":\"#2a3f5f\",\"gridcolor\":\"white\",\"linecolor\":\"white\",\"minorgridcolor\":\"white\",\"startlinecolor\":\"#2a3f5f\"},\"type\":\"carpet\"}],\"choropleth\":[{\"colorbar\":{\"outlinewidth\":0,\"ticks\":\"\"},\"type\":\"choropleth\"}],\"contourcarpet\":[{\"colorbar\":{\"outlinewidth\":0,\"ticks\":\"\"},\"type\":\"contourcarpet\"}],\"contour\":[{\"colorbar\":{\"outlinewidth\":0,\"ticks\":\"\"},\"colorscale\":[[0.0,\"#0d0887\"],[0.1111111111111111,\"#46039f\"],[0.2222222222222222,\"#7201a8\"],[0.3333333333333333,\"#9c179e\"],[0.4444444444444444,\"#bd3786\"],[0.5555555555555556,\"#d8576b\"],[0.6666666666666666,\"#ed7953\"],[0.7777777777777778,\"#fb9f3a\"],[0.8888888888888888,\"#fdca26\"],[1.0,\"#f0f921\"]],\"type\":\"contour\"}],\"heatmapgl\":[{\"colorbar\":{\"outlinewidth\":0,\"ticks\":\"\"},\"colorscale\":[[0.0,\"#0d0887\"],[0.1111111111111111,\"#46039f\"],[0.2222222222222222,\"#7201a8\"],[0.3333333333333333,\"#9c179e\"],[0.4444444444444444,\"#bd3786\"],[0.5555555555555556,\"#d8576b\"],[0.6666666666666666,\"#ed7953\"],[0.7777777777777778,\"#fb9f3a\"],[0.8888888888888888,\"#fdca26\"],[1.0,\"#f0f921\"]],\"type\":\"heatmapgl\"}],\"heatmap\":[{\"colorbar\":{\"outlinewidth\":0,\"ticks\":\"\"},\"colorscale\":[[0.0,\"#0d0887\"],[0.1111111111111111,\"#46039f\"],[0.2222222222222222,\"#7201a8\"],[0.3333333333333333,\"#9c179e\"],[0.4444444444444444,\"#bd3786\"],[0.5555555555555556,\"#d8576b\"],[0.6666666666666666,\"#ed7953\"],[0.7777777777777778,\"#fb9f3a\"],[0.8888888888888888,\"#fdca26\"],[1.0,\"#f0f921\"]],\"type\":\"heatmap\"}],\"histogram2dcontour\":[{\"colorbar\":{\"outlinewidth\":0,\"ticks\":\"\"},\"colorscale\":[[0.0,\"#0d0887\"],[0.1111111111111111,\"#46039f\"],[0.2222222222222222,\"#7201a8\"],[0.3333333333333333,\"#9c179e\"],[0.4444444444444444,\"#bd3786\"],[0.5555555555555556,\"#d8576b\"],[0.6666666666666666,\"#ed7953\"],[0.7777777777777778,\"#fb9f3a\"],[0.8888888888888888,\"#fdca26\"],[1.0,\"#f0f921\"]],\"type\":\"histogram2dcontour\"}],\"histogram2d\":[{\"colorbar\":{\"outlinewidth\":0,\"ticks\":\"\"},\"colorscale\":[[0.0,\"#0d0887\"],[0.1111111111111111,\"#46039f\"],[0.2222222222222222,\"#7201a8\"],[0.3333333333333333,\"#9c179e\"],[0.4444444444444444,\"#bd3786\"],[0.5555555555555556,\"#d8576b\"],[0.6666666666666666,\"#ed7953\"],[0.7777777777777778,\"#fb9f3a\"],[0.8888888888888888,\"#fdca26\"],[1.0,\"#f0f921\"]],\"type\":\"histogram2d\"}],\"histogram\":[{\"marker\":{\"pattern\":{\"fillmode\":\"overlay\",\"size\":10,\"solidity\":0.2}},\"type\":\"histogram\"}],\"mesh3d\":[{\"colorbar\":{\"outlinewidth\":0,\"ticks\":\"\"},\"type\":\"mesh3d\"}],\"parcoords\":[{\"line\":{\"colorbar\":{\"outlinewidth\":0,\"ticks\":\"\"}},\"type\":\"parcoords\"}],\"pie\":[{\"automargin\":true,\"type\":\"pie\"}],\"scatter3d\":[{\"line\":{\"colorbar\":{\"outlinewidth\":0,\"ticks\":\"\"}},\"marker\":{\"colorbar\":{\"outlinewidth\":0,\"ticks\":\"\"}},\"type\":\"scatter3d\"}],\"scattercarpet\":[{\"marker\":{\"colorbar\":{\"outlinewidth\":0,\"ticks\":\"\"}},\"type\":\"scattercarpet\"}],\"scattergeo\":[{\"marker\":{\"colorbar\":{\"outlinewidth\":0,\"ticks\":\"\"}},\"type\":\"scattergeo\"}],\"scattergl\":[{\"marker\":{\"colorbar\":{\"outlinewidth\":0,\"ticks\":\"\"}},\"type\":\"scattergl\"}],\"scattermapbox\":[{\"marker\":{\"colorbar\":{\"outlinewidth\":0,\"ticks\":\"\"}},\"type\":\"scattermapbox\"}],\"scatterpolargl\":[{\"marker\":{\"colorbar\":{\"outlinewidth\":0,\"ticks\":\"\"}},\"type\":\"scatterpolargl\"}],\"scatterpolar\":[{\"marker\":{\"colorbar\":{\"outlinewidth\":0,\"ticks\":\"\"}},\"type\":\"scatterpolar\"}],\"scatter\":[{\"marker\":{\"colorbar\":{\"outlinewidth\":0,\"ticks\":\"\"}},\"type\":\"scatter\"}],\"scatterternary\":[{\"marker\":{\"colorbar\":{\"outlinewidth\":0,\"ticks\":\"\"}},\"type\":\"scatterternary\"}],\"surface\":[{\"colorbar\":{\"outlinewidth\":0,\"ticks\":\"\"},\"colorscale\":[[0.0,\"#0d0887\"],[0.1111111111111111,\"#46039f\"],[0.2222222222222222,\"#7201a8\"],[0.3333333333333333,\"#9c179e\"],[0.4444444444444444,\"#bd3786\"],[0.5555555555555556,\"#d8576b\"],[0.6666666666666666,\"#ed7953\"],[0.7777777777777778,\"#fb9f3a\"],[0.8888888888888888,\"#fdca26\"],[1.0,\"#f0f921\"]],\"type\":\"surface\"}],\"table\":[{\"cells\":{\"fill\":{\"color\":\"#EBF0F8\"},\"line\":{\"color\":\"white\"}},\"header\":{\"fill\":{\"color\":\"#C8D4E3\"},\"line\":{\"color\":\"white\"}},\"type\":\"table\"}]},\"layout\":{\"annotationdefaults\":{\"arrowcolor\":\"#2a3f5f\",\"arrowhead\":0,\"arrowwidth\":1},\"autotypenumbers\":\"strict\",\"coloraxis\":{\"colorbar\":{\"outlinewidth\":0,\"ticks\":\"\"}},\"colorscale\":{\"diverging\":[[0,\"#8e0152\"],[0.1,\"#c51b7d\"],[0.2,\"#de77ae\"],[0.3,\"#f1b6da\"],[0.4,\"#fde0ef\"],[0.5,\"#f7f7f7\"],[0.6,\"#e6f5d0\"],[0.7,\"#b8e186\"],[0.8,\"#7fbc41\"],[0.9,\"#4d9221\"],[1,\"#276419\"]],\"sequential\":[[0.0,\"#0d0887\"],[0.1111111111111111,\"#46039f\"],[0.2222222222222222,\"#7201a8\"],[0.3333333333333333,\"#9c179e\"],[0.4444444444444444,\"#bd3786\"],[0.5555555555555556,\"#d8576b\"],[0.6666666666666666,\"#ed7953\"],[0.7777777777777778,\"#fb9f3a\"],[0.8888888888888888,\"#fdca26\"],[1.0,\"#f0f921\"]],\"sequentialminus\":[[0.0,\"#0d0887\"],[0.1111111111111111,\"#46039f\"],[0.2222222222222222,\"#7201a8\"],[0.3333333333333333,\"#9c179e\"],[0.4444444444444444,\"#bd3786\"],[0.5555555555555556,\"#d8576b\"],[0.6666666666666666,\"#ed7953\"],[0.7777777777777778,\"#fb9f3a\"],[0.8888888888888888,\"#fdca26\"],[1.0,\"#f0f921\"]]},\"colorway\":[\"#636efa\",\"#EF553B\",\"#00cc96\",\"#ab63fa\",\"#FFA15A\",\"#19d3f3\",\"#FF6692\",\"#B6E880\",\"#FF97FF\",\"#FECB52\"],\"font\":{\"color\":\"#2a3f5f\"},\"geo\":{\"bgcolor\":\"white\",\"lakecolor\":\"white\",\"landcolor\":\"#E5ECF6\",\"showlakes\":true,\"showland\":true,\"subunitcolor\":\"white\"},\"hoverlabel\":{\"align\":\"left\"},\"hovermode\":\"closest\",\"mapbox\":{\"style\":\"light\"},\"paper_bgcolor\":\"white\",\"plot_bgcolor\":\"#E5ECF6\",\"polar\":{\"angularaxis\":{\"gridcolor\":\"white\",\"linecolor\":\"white\",\"ticks\":\"\"},\"bgcolor\":\"#E5ECF6\",\"radialaxis\":{\"gridcolor\":\"white\",\"linecolor\":\"white\",\"ticks\":\"\"}},\"scene\":{\"xaxis\":{\"backgroundcolor\":\"#E5ECF6\",\"gridcolor\":\"white\",\"gridwidth\":2,\"linecolor\":\"white\",\"showbackground\":true,\"ticks\":\"\",\"zerolinecolor\":\"white\"},\"yaxis\":{\"backgroundcolor\":\"#E5ECF6\",\"gridcolor\":\"white\",\"gridwidth\":2,\"linecolor\":\"white\",\"showbackground\":true,\"ticks\":\"\",\"zerolinecolor\":\"white\"},\"zaxis\":{\"backgroundcolor\":\"#E5ECF6\",\"gridcolor\":\"white\",\"gridwidth\":2,\"linecolor\":\"white\",\"showbackground\":true,\"ticks\":\"\",\"zerolinecolor\":\"white\"}},\"shapedefaults\":{\"line\":{\"color\":\"#2a3f5f\"}},\"ternary\":{\"aaxis\":{\"gridcolor\":\"white\",\"linecolor\":\"white\",\"ticks\":\"\"},\"baxis\":{\"gridcolor\":\"white\",\"linecolor\":\"white\",\"ticks\":\"\"},\"bgcolor\":\"#E5ECF6\",\"caxis\":{\"gridcolor\":\"white\",\"linecolor\":\"white\",\"ticks\":\"\"}},\"title\":{\"x\":0.05},\"xaxis\":{\"automargin\":true,\"gridcolor\":\"white\",\"linecolor\":\"white\",\"ticks\":\"\",\"title\":{\"standoff\":15},\"zerolinecolor\":\"white\",\"zerolinewidth\":2},\"yaxis\":{\"automargin\":true,\"gridcolor\":\"white\",\"linecolor\":\"white\",\"ticks\":\"\",\"title\":{\"standoff\":15},\"zerolinecolor\":\"white\",\"zerolinewidth\":2}}},\"title\":{\"font\":{\"color\":\"#4D5663\"}},\"xaxis\":{\"gridcolor\":\"#E1E5ED\",\"showgrid\":true,\"tickfont\":{\"color\":\"#4D5663\"},\"title\":{\"font\":{\"color\":\"#4D5663\"},\"text\":\"\"},\"zerolinecolor\":\"#E1E5ED\"},\"yaxis\":{\"gridcolor\":\"#E1E5ED\",\"showgrid\":true,\"tickfont\":{\"color\":\"#4D5663\"},\"title\":{\"font\":{\"color\":\"#4D5663\"},\"text\":\"\"},\"zerolinecolor\":\"#E1E5ED\"}},                        {\"showLink\": true, \"linkText\": \"Export to plot.ly\", \"plotlyServerURL\": \"https://plot.ly\", \"responsive\": true}                    ).then(function(){\n",
       "                            \n",
       "var gd = document.getElementById('2d66039a-de55-4f7c-b000-466202542894');\n",
       "var x = new MutationObserver(function (mutations, observer) {{\n",
       "        var display = window.getComputedStyle(gd).display;\n",
       "        if (!display || display === 'none') {{\n",
       "            console.log([gd, 'removed!']);\n",
       "            Plotly.purge(gd);\n",
       "            observer.disconnect();\n",
       "        }}\n",
       "}});\n",
       "\n",
       "// Listen for the removal of the full notebook cells\n",
       "var notebookContainer = gd.closest('#notebook-container');\n",
       "if (notebookContainer) {{\n",
       "    x.observe(notebookContainer, {childList: true});\n",
       "}}\n",
       "\n",
       "// Listen for the clearing of the current output cell\n",
       "var outputEl = gd.closest('.output');\n",
       "if (outputEl) {{\n",
       "    x.observe(outputEl, {childList: true});\n",
       "}}\n",
       "\n",
       "                        })                };                });            </script>        </div>"
      ]
     },
     "metadata": {},
     "output_type": "display_data"
    }
   ],
   "source": [
    "df2.iplot(kind='bar',x='Category',y='Values')"
   ]
  },
  {
   "cell_type": "code",
   "execution_count": 12,
   "metadata": {},
   "outputs": [
    {
     "data": {
      "application/vnd.plotly.v1+json": {
       "config": {
        "linkText": "Export to plot.ly",
        "plotlyServerURL": "https://plot.ly",
        "showLink": true
       },
       "data": [
        {
         "marker": {
          "color": "rgba(255, 153, 51, 0.6)",
          "line": {
           "color": "rgba(255, 153, 51, 1.0)",
           "width": 1
          }
         },
         "name": "None",
         "orientation": "v",
         "text": "",
         "type": "bar",
         "x": [
          "A",
          "B",
          "C",
          "D"
         ],
         "y": [
          100,
          100,
          100,
          100
         ]
        }
       ],
       "layout": {
        "legend": {
         "bgcolor": "#F5F6F9",
         "font": {
          "color": "#4D5663"
         }
        },
        "paper_bgcolor": "#F5F6F9",
        "plot_bgcolor": "#F5F6F9",
        "template": {
         "data": {
          "bar": [
           {
            "error_x": {
             "color": "#2a3f5f"
            },
            "error_y": {
             "color": "#2a3f5f"
            },
            "marker": {
             "line": {
              "color": "#E5ECF6",
              "width": 0.5
             },
             "pattern": {
              "fillmode": "overlay",
              "size": 10,
              "solidity": 0.2
             }
            },
            "type": "bar"
           }
          ],
          "barpolar": [
           {
            "marker": {
             "line": {
              "color": "#E5ECF6",
              "width": 0.5
             },
             "pattern": {
              "fillmode": "overlay",
              "size": 10,
              "solidity": 0.2
             }
            },
            "type": "barpolar"
           }
          ],
          "carpet": [
           {
            "aaxis": {
             "endlinecolor": "#2a3f5f",
             "gridcolor": "white",
             "linecolor": "white",
             "minorgridcolor": "white",
             "startlinecolor": "#2a3f5f"
            },
            "baxis": {
             "endlinecolor": "#2a3f5f",
             "gridcolor": "white",
             "linecolor": "white",
             "minorgridcolor": "white",
             "startlinecolor": "#2a3f5f"
            },
            "type": "carpet"
           }
          ],
          "choropleth": [
           {
            "colorbar": {
             "outlinewidth": 0,
             "ticks": ""
            },
            "type": "choropleth"
           }
          ],
          "contour": [
           {
            "colorbar": {
             "outlinewidth": 0,
             "ticks": ""
            },
            "colorscale": [
             [
              0,
              "#0d0887"
             ],
             [
              0.1111111111111111,
              "#46039f"
             ],
             [
              0.2222222222222222,
              "#7201a8"
             ],
             [
              0.3333333333333333,
              "#9c179e"
             ],
             [
              0.4444444444444444,
              "#bd3786"
             ],
             [
              0.5555555555555556,
              "#d8576b"
             ],
             [
              0.6666666666666666,
              "#ed7953"
             ],
             [
              0.7777777777777778,
              "#fb9f3a"
             ],
             [
              0.8888888888888888,
              "#fdca26"
             ],
             [
              1,
              "#f0f921"
             ]
            ],
            "type": "contour"
           }
          ],
          "contourcarpet": [
           {
            "colorbar": {
             "outlinewidth": 0,
             "ticks": ""
            },
            "type": "contourcarpet"
           }
          ],
          "heatmap": [
           {
            "colorbar": {
             "outlinewidth": 0,
             "ticks": ""
            },
            "colorscale": [
             [
              0,
              "#0d0887"
             ],
             [
              0.1111111111111111,
              "#46039f"
             ],
             [
              0.2222222222222222,
              "#7201a8"
             ],
             [
              0.3333333333333333,
              "#9c179e"
             ],
             [
              0.4444444444444444,
              "#bd3786"
             ],
             [
              0.5555555555555556,
              "#d8576b"
             ],
             [
              0.6666666666666666,
              "#ed7953"
             ],
             [
              0.7777777777777778,
              "#fb9f3a"
             ],
             [
              0.8888888888888888,
              "#fdca26"
             ],
             [
              1,
              "#f0f921"
             ]
            ],
            "type": "heatmap"
           }
          ],
          "heatmapgl": [
           {
            "colorbar": {
             "outlinewidth": 0,
             "ticks": ""
            },
            "colorscale": [
             [
              0,
              "#0d0887"
             ],
             [
              0.1111111111111111,
              "#46039f"
             ],
             [
              0.2222222222222222,
              "#7201a8"
             ],
             [
              0.3333333333333333,
              "#9c179e"
             ],
             [
              0.4444444444444444,
              "#bd3786"
             ],
             [
              0.5555555555555556,
              "#d8576b"
             ],
             [
              0.6666666666666666,
              "#ed7953"
             ],
             [
              0.7777777777777778,
              "#fb9f3a"
             ],
             [
              0.8888888888888888,
              "#fdca26"
             ],
             [
              1,
              "#f0f921"
             ]
            ],
            "type": "heatmapgl"
           }
          ],
          "histogram": [
           {
            "marker": {
             "pattern": {
              "fillmode": "overlay",
              "size": 10,
              "solidity": 0.2
             }
            },
            "type": "histogram"
           }
          ],
          "histogram2d": [
           {
            "colorbar": {
             "outlinewidth": 0,
             "ticks": ""
            },
            "colorscale": [
             [
              0,
              "#0d0887"
             ],
             [
              0.1111111111111111,
              "#46039f"
             ],
             [
              0.2222222222222222,
              "#7201a8"
             ],
             [
              0.3333333333333333,
              "#9c179e"
             ],
             [
              0.4444444444444444,
              "#bd3786"
             ],
             [
              0.5555555555555556,
              "#d8576b"
             ],
             [
              0.6666666666666666,
              "#ed7953"
             ],
             [
              0.7777777777777778,
              "#fb9f3a"
             ],
             [
              0.8888888888888888,
              "#fdca26"
             ],
             [
              1,
              "#f0f921"
             ]
            ],
            "type": "histogram2d"
           }
          ],
          "histogram2dcontour": [
           {
            "colorbar": {
             "outlinewidth": 0,
             "ticks": ""
            },
            "colorscale": [
             [
              0,
              "#0d0887"
             ],
             [
              0.1111111111111111,
              "#46039f"
             ],
             [
              0.2222222222222222,
              "#7201a8"
             ],
             [
              0.3333333333333333,
              "#9c179e"
             ],
             [
              0.4444444444444444,
              "#bd3786"
             ],
             [
              0.5555555555555556,
              "#d8576b"
             ],
             [
              0.6666666666666666,
              "#ed7953"
             ],
             [
              0.7777777777777778,
              "#fb9f3a"
             ],
             [
              0.8888888888888888,
              "#fdca26"
             ],
             [
              1,
              "#f0f921"
             ]
            ],
            "type": "histogram2dcontour"
           }
          ],
          "mesh3d": [
           {
            "colorbar": {
             "outlinewidth": 0,
             "ticks": ""
            },
            "type": "mesh3d"
           }
          ],
          "parcoords": [
           {
            "line": {
             "colorbar": {
              "outlinewidth": 0,
              "ticks": ""
             }
            },
            "type": "parcoords"
           }
          ],
          "pie": [
           {
            "automargin": true,
            "type": "pie"
           }
          ],
          "scatter": [
           {
            "marker": {
             "colorbar": {
              "outlinewidth": 0,
              "ticks": ""
             }
            },
            "type": "scatter"
           }
          ],
          "scatter3d": [
           {
            "line": {
             "colorbar": {
              "outlinewidth": 0,
              "ticks": ""
             }
            },
            "marker": {
             "colorbar": {
              "outlinewidth": 0,
              "ticks": ""
             }
            },
            "type": "scatter3d"
           }
          ],
          "scattercarpet": [
           {
            "marker": {
             "colorbar": {
              "outlinewidth": 0,
              "ticks": ""
             }
            },
            "type": "scattercarpet"
           }
          ],
          "scattergeo": [
           {
            "marker": {
             "colorbar": {
              "outlinewidth": 0,
              "ticks": ""
             }
            },
            "type": "scattergeo"
           }
          ],
          "scattergl": [
           {
            "marker": {
             "colorbar": {
              "outlinewidth": 0,
              "ticks": ""
             }
            },
            "type": "scattergl"
           }
          ],
          "scattermapbox": [
           {
            "marker": {
             "colorbar": {
              "outlinewidth": 0,
              "ticks": ""
             }
            },
            "type": "scattermapbox"
           }
          ],
          "scatterpolar": [
           {
            "marker": {
             "colorbar": {
              "outlinewidth": 0,
              "ticks": ""
             }
            },
            "type": "scatterpolar"
           }
          ],
          "scatterpolargl": [
           {
            "marker": {
             "colorbar": {
              "outlinewidth": 0,
              "ticks": ""
             }
            },
            "type": "scatterpolargl"
           }
          ],
          "scatterternary": [
           {
            "marker": {
             "colorbar": {
              "outlinewidth": 0,
              "ticks": ""
             }
            },
            "type": "scatterternary"
           }
          ],
          "surface": [
           {
            "colorbar": {
             "outlinewidth": 0,
             "ticks": ""
            },
            "colorscale": [
             [
              0,
              "#0d0887"
             ],
             [
              0.1111111111111111,
              "#46039f"
             ],
             [
              0.2222222222222222,
              "#7201a8"
             ],
             [
              0.3333333333333333,
              "#9c179e"
             ],
             [
              0.4444444444444444,
              "#bd3786"
             ],
             [
              0.5555555555555556,
              "#d8576b"
             ],
             [
              0.6666666666666666,
              "#ed7953"
             ],
             [
              0.7777777777777778,
              "#fb9f3a"
             ],
             [
              0.8888888888888888,
              "#fdca26"
             ],
             [
              1,
              "#f0f921"
             ]
            ],
            "type": "surface"
           }
          ],
          "table": [
           {
            "cells": {
             "fill": {
              "color": "#EBF0F8"
             },
             "line": {
              "color": "white"
             }
            },
            "header": {
             "fill": {
              "color": "#C8D4E3"
             },
             "line": {
              "color": "white"
             }
            },
            "type": "table"
           }
          ]
         },
         "layout": {
          "annotationdefaults": {
           "arrowcolor": "#2a3f5f",
           "arrowhead": 0,
           "arrowwidth": 1
          },
          "autotypenumbers": "strict",
          "coloraxis": {
           "colorbar": {
            "outlinewidth": 0,
            "ticks": ""
           }
          },
          "colorscale": {
           "diverging": [
            [
             0,
             "#8e0152"
            ],
            [
             0.1,
             "#c51b7d"
            ],
            [
             0.2,
             "#de77ae"
            ],
            [
             0.3,
             "#f1b6da"
            ],
            [
             0.4,
             "#fde0ef"
            ],
            [
             0.5,
             "#f7f7f7"
            ],
            [
             0.6,
             "#e6f5d0"
            ],
            [
             0.7,
             "#b8e186"
            ],
            [
             0.8,
             "#7fbc41"
            ],
            [
             0.9,
             "#4d9221"
            ],
            [
             1,
             "#276419"
            ]
           ],
           "sequential": [
            [
             0,
             "#0d0887"
            ],
            [
             0.1111111111111111,
             "#46039f"
            ],
            [
             0.2222222222222222,
             "#7201a8"
            ],
            [
             0.3333333333333333,
             "#9c179e"
            ],
            [
             0.4444444444444444,
             "#bd3786"
            ],
            [
             0.5555555555555556,
             "#d8576b"
            ],
            [
             0.6666666666666666,
             "#ed7953"
            ],
            [
             0.7777777777777778,
             "#fb9f3a"
            ],
            [
             0.8888888888888888,
             "#fdca26"
            ],
            [
             1,
             "#f0f921"
            ]
           ],
           "sequentialminus": [
            [
             0,
             "#0d0887"
            ],
            [
             0.1111111111111111,
             "#46039f"
            ],
            [
             0.2222222222222222,
             "#7201a8"
            ],
            [
             0.3333333333333333,
             "#9c179e"
            ],
            [
             0.4444444444444444,
             "#bd3786"
            ],
            [
             0.5555555555555556,
             "#d8576b"
            ],
            [
             0.6666666666666666,
             "#ed7953"
            ],
            [
             0.7777777777777778,
             "#fb9f3a"
            ],
            [
             0.8888888888888888,
             "#fdca26"
            ],
            [
             1,
             "#f0f921"
            ]
           ]
          },
          "colorway": [
           "#636efa",
           "#EF553B",
           "#00cc96",
           "#ab63fa",
           "#FFA15A",
           "#19d3f3",
           "#FF6692",
           "#B6E880",
           "#FF97FF",
           "#FECB52"
          ],
          "font": {
           "color": "#2a3f5f"
          },
          "geo": {
           "bgcolor": "white",
           "lakecolor": "white",
           "landcolor": "#E5ECF6",
           "showlakes": true,
           "showland": true,
           "subunitcolor": "white"
          },
          "hoverlabel": {
           "align": "left"
          },
          "hovermode": "closest",
          "mapbox": {
           "style": "light"
          },
          "paper_bgcolor": "white",
          "plot_bgcolor": "#E5ECF6",
          "polar": {
           "angularaxis": {
            "gridcolor": "white",
            "linecolor": "white",
            "ticks": ""
           },
           "bgcolor": "#E5ECF6",
           "radialaxis": {
            "gridcolor": "white",
            "linecolor": "white",
            "ticks": ""
           }
          },
          "scene": {
           "xaxis": {
            "backgroundcolor": "#E5ECF6",
            "gridcolor": "white",
            "gridwidth": 2,
            "linecolor": "white",
            "showbackground": true,
            "ticks": "",
            "zerolinecolor": "white"
           },
           "yaxis": {
            "backgroundcolor": "#E5ECF6",
            "gridcolor": "white",
            "gridwidth": 2,
            "linecolor": "white",
            "showbackground": true,
            "ticks": "",
            "zerolinecolor": "white"
           },
           "zaxis": {
            "backgroundcolor": "#E5ECF6",
            "gridcolor": "white",
            "gridwidth": 2,
            "linecolor": "white",
            "showbackground": true,
            "ticks": "",
            "zerolinecolor": "white"
           }
          },
          "shapedefaults": {
           "line": {
            "color": "#2a3f5f"
           }
          },
          "ternary": {
           "aaxis": {
            "gridcolor": "white",
            "linecolor": "white",
            "ticks": ""
           },
           "baxis": {
            "gridcolor": "white",
            "linecolor": "white",
            "ticks": ""
           },
           "bgcolor": "#E5ECF6",
           "caxis": {
            "gridcolor": "white",
            "linecolor": "white",
            "ticks": ""
           }
          },
          "title": {
           "x": 0.05
          },
          "xaxis": {
           "automargin": true,
           "gridcolor": "white",
           "linecolor": "white",
           "ticks": "",
           "title": {
            "standoff": 15
           },
           "zerolinecolor": "white",
           "zerolinewidth": 2
          },
          "yaxis": {
           "automargin": true,
           "gridcolor": "white",
           "linecolor": "white",
           "ticks": "",
           "title": {
            "standoff": 15
           },
           "zerolinecolor": "white",
           "zerolinewidth": 2
          }
         }
        },
        "title": {
         "font": {
          "color": "#4D5663"
         }
        },
        "xaxis": {
         "gridcolor": "#E1E5ED",
         "showgrid": true,
         "tickfont": {
          "color": "#4D5663"
         },
         "title": {
          "font": {
           "color": "#4D5663"
          },
          "text": ""
         },
         "zerolinecolor": "#E1E5ED"
        },
        "yaxis": {
         "gridcolor": "#E1E5ED",
         "showgrid": true,
         "tickfont": {
          "color": "#4D5663"
         },
         "title": {
          "font": {
           "color": "#4D5663"
          },
          "text": ""
         },
         "zerolinecolor": "#E1E5ED"
        }
       }
      },
      "text/html": [
       "<div>                            <div id=\"b17c25b8-eb8c-4b82-9122-0253db2b3171\" class=\"plotly-graph-div\" style=\"height:525px; width:100%;\"></div>            <script type=\"text/javascript\">                require([\"plotly\"], function(Plotly) {                    window.PLOTLYENV=window.PLOTLYENV || {};\n",
       "                    window.PLOTLYENV.BASE_URL='https://plot.ly';                                    if (document.getElementById(\"b17c25b8-eb8c-4b82-9122-0253db2b3171\")) {                    Plotly.newPlot(                        \"b17c25b8-eb8c-4b82-9122-0253db2b3171\",                        [{\"marker\":{\"color\":\"rgba(255, 153, 51, 0.6)\",\"line\":{\"color\":\"rgba(255, 153, 51, 1.0)\",\"width\":1}},\"name\":\"None\",\"orientation\":\"v\",\"text\":\"\",\"x\":[\"A\",\"B\",\"C\",\"D\"],\"y\":[100,100,100,100],\"type\":\"bar\"}],                        {\"legend\":{\"bgcolor\":\"#F5F6F9\",\"font\":{\"color\":\"#4D5663\"}},\"paper_bgcolor\":\"#F5F6F9\",\"plot_bgcolor\":\"#F5F6F9\",\"template\":{\"data\":{\"barpolar\":[{\"marker\":{\"line\":{\"color\":\"#E5ECF6\",\"width\":0.5},\"pattern\":{\"fillmode\":\"overlay\",\"size\":10,\"solidity\":0.2}},\"type\":\"barpolar\"}],\"bar\":[{\"error_x\":{\"color\":\"#2a3f5f\"},\"error_y\":{\"color\":\"#2a3f5f\"},\"marker\":{\"line\":{\"color\":\"#E5ECF6\",\"width\":0.5},\"pattern\":{\"fillmode\":\"overlay\",\"size\":10,\"solidity\":0.2}},\"type\":\"bar\"}],\"carpet\":[{\"aaxis\":{\"endlinecolor\":\"#2a3f5f\",\"gridcolor\":\"white\",\"linecolor\":\"white\",\"minorgridcolor\":\"white\",\"startlinecolor\":\"#2a3f5f\"},\"baxis\":{\"endlinecolor\":\"#2a3f5f\",\"gridcolor\":\"white\",\"linecolor\":\"white\",\"minorgridcolor\":\"white\",\"startlinecolor\":\"#2a3f5f\"},\"type\":\"carpet\"}],\"choropleth\":[{\"colorbar\":{\"outlinewidth\":0,\"ticks\":\"\"},\"type\":\"choropleth\"}],\"contourcarpet\":[{\"colorbar\":{\"outlinewidth\":0,\"ticks\":\"\"},\"type\":\"contourcarpet\"}],\"contour\":[{\"colorbar\":{\"outlinewidth\":0,\"ticks\":\"\"},\"colorscale\":[[0.0,\"#0d0887\"],[0.1111111111111111,\"#46039f\"],[0.2222222222222222,\"#7201a8\"],[0.3333333333333333,\"#9c179e\"],[0.4444444444444444,\"#bd3786\"],[0.5555555555555556,\"#d8576b\"],[0.6666666666666666,\"#ed7953\"],[0.7777777777777778,\"#fb9f3a\"],[0.8888888888888888,\"#fdca26\"],[1.0,\"#f0f921\"]],\"type\":\"contour\"}],\"heatmapgl\":[{\"colorbar\":{\"outlinewidth\":0,\"ticks\":\"\"},\"colorscale\":[[0.0,\"#0d0887\"],[0.1111111111111111,\"#46039f\"],[0.2222222222222222,\"#7201a8\"],[0.3333333333333333,\"#9c179e\"],[0.4444444444444444,\"#bd3786\"],[0.5555555555555556,\"#d8576b\"],[0.6666666666666666,\"#ed7953\"],[0.7777777777777778,\"#fb9f3a\"],[0.8888888888888888,\"#fdca26\"],[1.0,\"#f0f921\"]],\"type\":\"heatmapgl\"}],\"heatmap\":[{\"colorbar\":{\"outlinewidth\":0,\"ticks\":\"\"},\"colorscale\":[[0.0,\"#0d0887\"],[0.1111111111111111,\"#46039f\"],[0.2222222222222222,\"#7201a8\"],[0.3333333333333333,\"#9c179e\"],[0.4444444444444444,\"#bd3786\"],[0.5555555555555556,\"#d8576b\"],[0.6666666666666666,\"#ed7953\"],[0.7777777777777778,\"#fb9f3a\"],[0.8888888888888888,\"#fdca26\"],[1.0,\"#f0f921\"]],\"type\":\"heatmap\"}],\"histogram2dcontour\":[{\"colorbar\":{\"outlinewidth\":0,\"ticks\":\"\"},\"colorscale\":[[0.0,\"#0d0887\"],[0.1111111111111111,\"#46039f\"],[0.2222222222222222,\"#7201a8\"],[0.3333333333333333,\"#9c179e\"],[0.4444444444444444,\"#bd3786\"],[0.5555555555555556,\"#d8576b\"],[0.6666666666666666,\"#ed7953\"],[0.7777777777777778,\"#fb9f3a\"],[0.8888888888888888,\"#fdca26\"],[1.0,\"#f0f921\"]],\"type\":\"histogram2dcontour\"}],\"histogram2d\":[{\"colorbar\":{\"outlinewidth\":0,\"ticks\":\"\"},\"colorscale\":[[0.0,\"#0d0887\"],[0.1111111111111111,\"#46039f\"],[0.2222222222222222,\"#7201a8\"],[0.3333333333333333,\"#9c179e\"],[0.4444444444444444,\"#bd3786\"],[0.5555555555555556,\"#d8576b\"],[0.6666666666666666,\"#ed7953\"],[0.7777777777777778,\"#fb9f3a\"],[0.8888888888888888,\"#fdca26\"],[1.0,\"#f0f921\"]],\"type\":\"histogram2d\"}],\"histogram\":[{\"marker\":{\"pattern\":{\"fillmode\":\"overlay\",\"size\":10,\"solidity\":0.2}},\"type\":\"histogram\"}],\"mesh3d\":[{\"colorbar\":{\"outlinewidth\":0,\"ticks\":\"\"},\"type\":\"mesh3d\"}],\"parcoords\":[{\"line\":{\"colorbar\":{\"outlinewidth\":0,\"ticks\":\"\"}},\"type\":\"parcoords\"}],\"pie\":[{\"automargin\":true,\"type\":\"pie\"}],\"scatter3d\":[{\"line\":{\"colorbar\":{\"outlinewidth\":0,\"ticks\":\"\"}},\"marker\":{\"colorbar\":{\"outlinewidth\":0,\"ticks\":\"\"}},\"type\":\"scatter3d\"}],\"scattercarpet\":[{\"marker\":{\"colorbar\":{\"outlinewidth\":0,\"ticks\":\"\"}},\"type\":\"scattercarpet\"}],\"scattergeo\":[{\"marker\":{\"colorbar\":{\"outlinewidth\":0,\"ticks\":\"\"}},\"type\":\"scattergeo\"}],\"scattergl\":[{\"marker\":{\"colorbar\":{\"outlinewidth\":0,\"ticks\":\"\"}},\"type\":\"scattergl\"}],\"scattermapbox\":[{\"marker\":{\"colorbar\":{\"outlinewidth\":0,\"ticks\":\"\"}},\"type\":\"scattermapbox\"}],\"scatterpolargl\":[{\"marker\":{\"colorbar\":{\"outlinewidth\":0,\"ticks\":\"\"}},\"type\":\"scatterpolargl\"}],\"scatterpolar\":[{\"marker\":{\"colorbar\":{\"outlinewidth\":0,\"ticks\":\"\"}},\"type\":\"scatterpolar\"}],\"scatter\":[{\"marker\":{\"colorbar\":{\"outlinewidth\":0,\"ticks\":\"\"}},\"type\":\"scatter\"}],\"scatterternary\":[{\"marker\":{\"colorbar\":{\"outlinewidth\":0,\"ticks\":\"\"}},\"type\":\"scatterternary\"}],\"surface\":[{\"colorbar\":{\"outlinewidth\":0,\"ticks\":\"\"},\"colorscale\":[[0.0,\"#0d0887\"],[0.1111111111111111,\"#46039f\"],[0.2222222222222222,\"#7201a8\"],[0.3333333333333333,\"#9c179e\"],[0.4444444444444444,\"#bd3786\"],[0.5555555555555556,\"#d8576b\"],[0.6666666666666666,\"#ed7953\"],[0.7777777777777778,\"#fb9f3a\"],[0.8888888888888888,\"#fdca26\"],[1.0,\"#f0f921\"]],\"type\":\"surface\"}],\"table\":[{\"cells\":{\"fill\":{\"color\":\"#EBF0F8\"},\"line\":{\"color\":\"white\"}},\"header\":{\"fill\":{\"color\":\"#C8D4E3\"},\"line\":{\"color\":\"white\"}},\"type\":\"table\"}]},\"layout\":{\"annotationdefaults\":{\"arrowcolor\":\"#2a3f5f\",\"arrowhead\":0,\"arrowwidth\":1},\"autotypenumbers\":\"strict\",\"coloraxis\":{\"colorbar\":{\"outlinewidth\":0,\"ticks\":\"\"}},\"colorscale\":{\"diverging\":[[0,\"#8e0152\"],[0.1,\"#c51b7d\"],[0.2,\"#de77ae\"],[0.3,\"#f1b6da\"],[0.4,\"#fde0ef\"],[0.5,\"#f7f7f7\"],[0.6,\"#e6f5d0\"],[0.7,\"#b8e186\"],[0.8,\"#7fbc41\"],[0.9,\"#4d9221\"],[1,\"#276419\"]],\"sequential\":[[0.0,\"#0d0887\"],[0.1111111111111111,\"#46039f\"],[0.2222222222222222,\"#7201a8\"],[0.3333333333333333,\"#9c179e\"],[0.4444444444444444,\"#bd3786\"],[0.5555555555555556,\"#d8576b\"],[0.6666666666666666,\"#ed7953\"],[0.7777777777777778,\"#fb9f3a\"],[0.8888888888888888,\"#fdca26\"],[1.0,\"#f0f921\"]],\"sequentialminus\":[[0.0,\"#0d0887\"],[0.1111111111111111,\"#46039f\"],[0.2222222222222222,\"#7201a8\"],[0.3333333333333333,\"#9c179e\"],[0.4444444444444444,\"#bd3786\"],[0.5555555555555556,\"#d8576b\"],[0.6666666666666666,\"#ed7953\"],[0.7777777777777778,\"#fb9f3a\"],[0.8888888888888888,\"#fdca26\"],[1.0,\"#f0f921\"]]},\"colorway\":[\"#636efa\",\"#EF553B\",\"#00cc96\",\"#ab63fa\",\"#FFA15A\",\"#19d3f3\",\"#FF6692\",\"#B6E880\",\"#FF97FF\",\"#FECB52\"],\"font\":{\"color\":\"#2a3f5f\"},\"geo\":{\"bgcolor\":\"white\",\"lakecolor\":\"white\",\"landcolor\":\"#E5ECF6\",\"showlakes\":true,\"showland\":true,\"subunitcolor\":\"white\"},\"hoverlabel\":{\"align\":\"left\"},\"hovermode\":\"closest\",\"mapbox\":{\"style\":\"light\"},\"paper_bgcolor\":\"white\",\"plot_bgcolor\":\"#E5ECF6\",\"polar\":{\"angularaxis\":{\"gridcolor\":\"white\",\"linecolor\":\"white\",\"ticks\":\"\"},\"bgcolor\":\"#E5ECF6\",\"radialaxis\":{\"gridcolor\":\"white\",\"linecolor\":\"white\",\"ticks\":\"\"}},\"scene\":{\"xaxis\":{\"backgroundcolor\":\"#E5ECF6\",\"gridcolor\":\"white\",\"gridwidth\":2,\"linecolor\":\"white\",\"showbackground\":true,\"ticks\":\"\",\"zerolinecolor\":\"white\"},\"yaxis\":{\"backgroundcolor\":\"#E5ECF6\",\"gridcolor\":\"white\",\"gridwidth\":2,\"linecolor\":\"white\",\"showbackground\":true,\"ticks\":\"\",\"zerolinecolor\":\"white\"},\"zaxis\":{\"backgroundcolor\":\"#E5ECF6\",\"gridcolor\":\"white\",\"gridwidth\":2,\"linecolor\":\"white\",\"showbackground\":true,\"ticks\":\"\",\"zerolinecolor\":\"white\"}},\"shapedefaults\":{\"line\":{\"color\":\"#2a3f5f\"}},\"ternary\":{\"aaxis\":{\"gridcolor\":\"white\",\"linecolor\":\"white\",\"ticks\":\"\"},\"baxis\":{\"gridcolor\":\"white\",\"linecolor\":\"white\",\"ticks\":\"\"},\"bgcolor\":\"#E5ECF6\",\"caxis\":{\"gridcolor\":\"white\",\"linecolor\":\"white\",\"ticks\":\"\"}},\"title\":{\"x\":0.05},\"xaxis\":{\"automargin\":true,\"gridcolor\":\"white\",\"linecolor\":\"white\",\"ticks\":\"\",\"title\":{\"standoff\":15},\"zerolinecolor\":\"white\",\"zerolinewidth\":2},\"yaxis\":{\"automargin\":true,\"gridcolor\":\"white\",\"linecolor\":\"white\",\"ticks\":\"\",\"title\":{\"standoff\":15},\"zerolinecolor\":\"white\",\"zerolinewidth\":2}}},\"title\":{\"font\":{\"color\":\"#4D5663\"}},\"xaxis\":{\"gridcolor\":\"#E1E5ED\",\"showgrid\":true,\"tickfont\":{\"color\":\"#4D5663\"},\"title\":{\"font\":{\"color\":\"#4D5663\"},\"text\":\"\"},\"zerolinecolor\":\"#E1E5ED\"},\"yaxis\":{\"gridcolor\":\"#E1E5ED\",\"showgrid\":true,\"tickfont\":{\"color\":\"#4D5663\"},\"title\":{\"font\":{\"color\":\"#4D5663\"},\"text\":\"\"},\"zerolinecolor\":\"#E1E5ED\"}},                        {\"showLink\": true, \"linkText\": \"Export to plot.ly\", \"plotlyServerURL\": \"https://plot.ly\", \"responsive\": true}                    ).then(function(){\n",
       "                            \n",
       "var gd = document.getElementById('b17c25b8-eb8c-4b82-9122-0253db2b3171');\n",
       "var x = new MutationObserver(function (mutations, observer) {{\n",
       "        var display = window.getComputedStyle(gd).display;\n",
       "        if (!display || display === 'none') {{\n",
       "            console.log([gd, 'removed!']);\n",
       "            Plotly.purge(gd);\n",
       "            observer.disconnect();\n",
       "        }}\n",
       "}});\n",
       "\n",
       "// Listen for the removal of the full notebook cells\n",
       "var notebookContainer = gd.closest('#notebook-container');\n",
       "if (notebookContainer) {{\n",
       "    x.observe(notebookContainer, {childList: true});\n",
       "}}\n",
       "\n",
       "// Listen for the clearing of the current output cell\n",
       "var outputEl = gd.closest('.output');\n",
       "if (outputEl) {{\n",
       "    x.observe(outputEl, {childList: true});\n",
       "}}\n",
       "\n",
       "                        })                };                });            </script>        </div>"
      ]
     },
     "metadata": {},
     "output_type": "display_data"
    }
   ],
   "source": [
    "df.count().iplot(kind='bar')"
   ]
  },
  {
   "cell_type": "markdown",
   "metadata": {},
   "source": [
    "## Boxplots"
   ]
  },
  {
   "cell_type": "code",
   "execution_count": 13,
   "metadata": {},
   "outputs": [
    {
     "data": {
      "application/vnd.plotly.v1+json": {
       "config": {
        "linkText": "Export to plot.ly",
        "plotlyServerURL": "https://plot.ly",
        "showLink": true
       },
       "data": [
        {
         "boxpoints": false,
         "line": {
          "width": 1.3
         },
         "marker": {
          "color": "rgba(255, 153, 51, 1.0)"
         },
         "name": "A",
         "orientation": "v",
         "type": "box",
         "y": [
          -0.36786982851319505,
          -0.8139460136439768,
          -1.2728002553624609,
          -0.16742849267659557,
          0.2568812060873537,
          1.7412616989824088,
          -1.5621264209503618,
          -0.9716442807368325,
          0.18120238038652076,
          -0.45624359436676554,
          0.4192093729134039,
          -1.7537622507026116,
          -0.6760570885254076,
          1.2315472502842275,
          1.344721140948013,
          1.5308498457246777,
          0.0811757384905562,
          -0.07056372644932463,
          -0.4096182151163972,
          -0.18810476194808798,
          -0.6888845471082019,
          0.1787949634688186,
          -0.6326159497145163,
          1.3665080793470559,
          -1.264100708338595,
          0.5654737427593445,
          -0.6314385446664598,
          0.7959791813286821,
          1.5209648447798207,
          0.011053102554344277,
          0.0575177083012101,
          2.1146701003920465,
          0.6844826246908693,
          -1.1059174909427503,
          0.36088615768745663,
          -0.9196362508572212,
          2.413895200230858,
          0.36847160558729464,
          1.5555526138790137,
          0.27533952277220874,
          0.5128093807287213,
          -0.36109803744274055,
          -0.2245813865447435,
          -1.3929369067023898,
          -1.7149219010602588,
          -0.06436773582098293,
          0.705890363747037,
          0.8834346495884103,
          -1.2819697508145063,
          1.0211868852886536,
          0.09444081962493833,
          0.9936925290527405,
          -0.24805292015688082,
          -0.38975442643515745,
          0.13162173026208018,
          -2.0904123249582196,
          -0.3638188904525045,
          1.5945900934580928,
          0.7833673844256537,
          0.2957653201178533,
          -0.420979774187367,
          -0.3033766512810295,
          -0.2359411997474931,
          -0.4555954179187365,
          0.5506480905045086,
          -0.613326940080486,
          -1.1439066960853865,
          0.49946364909654484,
          0.1921167231914247,
          -1.5000415223098764,
          -0.5242457354730988,
          -0.12933767299748697,
          -1.1800277618914492,
          0.9604362518828048,
          -1.3716897691557939,
          -0.9103137466615401,
          1.21475681850616,
          -1.2309199307746803,
          0.7560338475782938,
          1.076852768980497,
          -0.04882792274589524,
          -0.7653859453081738,
          -1.2279318521344766,
          -0.4210661832352774,
          -0.5586350407050273,
          -0.721991107436455,
          0.9659154488762632,
          1.2182790903319993,
          -1.3690372725967028,
          -1.3587655905835527,
          0.515290847414008,
          1.0695484930182528,
          -1.3380019043323563,
          -1.216940120335792,
          1.0947929024669336,
          0.23884071328995005,
          -0.45823390270079395,
          1.4792255439209159,
          -1.3118290643991475,
          -1.172534065870987
         ]
        },
        {
         "boxpoints": false,
         "line": {
          "width": 1.3
         },
         "marker": {
          "color": "rgba(55, 128, 191, 1.0)"
         },
         "name": "B",
         "orientation": "v",
         "type": "box",
         "y": [
          0.1819819126791729,
          -0.7690504649458737,
          0.4146966578943233,
          0.735872368805637,
          0.8669917218711843,
          2.1748617101751,
          1.2318371866263211,
          0.16427863005281082,
          -0.7516033269630648,
          -0.059540090628032005,
          -0.012899474698968688,
          1.7520395134071642,
          -0.01591686529266641,
          -1.30737693706392,
          0.31469596302611313,
          0.0006447044677048574,
          -0.7695973642700286,
          -1.588439968194205,
          0.5132563588699779,
          -0.4166594400416099,
          0.654191318124905,
          1.538197099799716,
          -0.9734425150447913,
          -1.346122715368668,
          -0.3594077404233946,
          1.7299228793641566,
          2.1101164566449864,
          -0.9413070230386088,
          0.013584305821453655,
          -0.2281718487132733,
          1.6031139424787848,
          0.6043596490108111,
          0.6197173644455335,
          0.22320795650902636,
          3.348229272407328,
          0.7701779183439242,
          1.8000414301434686,
          -1.4159099794566452,
          -0.4371479314457633,
          -0.2147748488950862,
          -0.6812616180720111,
          0.6879337962777717,
          0.15289137723322704,
          -0.6636384766790288,
          0.9087932907473223,
          0.13219355583100664,
          0.6622465833842975,
          -0.5583410998398035,
          -0.24485904679848086,
          -0.4643834042131067,
          -2.2419875725888185,
          0.8278854578464298,
          0.20176407293093973,
          -1.3934247465283838,
          1.1134336391437878,
          -1.6334405533394345,
          1.3236953777109324,
          0.5224675986838716,
          -0.58959784704781,
          1.4586033556318427,
          0.9083302010742899,
          1.720992224059844,
          -1.889437228043027,
          1.465208342151267,
          0.45166524739808955,
          -0.02542207128711079,
          0.28324402331732385,
          -0.49926804861875734,
          0.3895796831658555,
          -0.3266481370656572,
          -2.1620324688740515,
          -0.4198106606771507,
          -0.41366740287377785,
          -0.584281831740891,
          -1.8799488990110838,
          1.0867735776383765,
          0.04134940253602887,
          -0.5192131068274868,
          -0.3308715980802985,
          0.5820619125965684,
          -0.3296740677753678,
          -0.7694843154746899,
          0.3974786425028931,
          -0.09690329212432874,
          0.2848301613145788,
          0.19226842929502952,
          -0.8350478382165045,
          0.30326140879933705,
          0.684022961660779,
          -0.5307381409250069,
          1.1163236404658101,
          -0.018062703200621047,
          1.1463717068725314,
          0.9530289674340827,
          -1.389032278301572,
          -0.7532835443706728,
          1.0060298398741725,
          -0.1675034739802897,
          -1.0888384951742667,
          -1.6766035427580728
         ]
        },
        {
         "boxpoints": false,
         "line": {
          "width": 1.3
         },
         "marker": {
          "color": "rgba(50, 171, 96, 1.0)"
         },
         "name": "C",
         "orientation": "v",
         "type": "box",
         "y": [
          -1.4501499176238284,
          1.2147342646055934,
          -2.2320632406818968,
          0.5288614482094521,
          -0.7923631571477707,
          1.290152637261051,
          0.09681485082390709,
          0.04799729256878894,
          -1.8064399416236632,
          2.187824560601332,
          0.4123294737821514,
          0.3601272214313341,
          1.0720094383462198,
          -1.1892914798431156,
          0.7742383731348873,
          -0.22995290417660325,
          -0.917634296873175,
          -0.06806038058954045,
          1.0427254105710442,
          0.31736066412983266,
          -0.8325389579176342,
          0.7957438074276335,
          0.23255822850011593,
          -0.6863885375642695,
          0.043343946526299686,
          1.2172015503062825,
          -0.2470060194626241,
          0.37683390140714784,
          2.505842798487505,
          -0.5259679626174164,
          0.2853402845379173,
          0.3156871732888629,
          0.10638962575278862,
          -0.8657201035243177,
          0.29266951190392276,
          -1.7380647536708604,
          0.18782625251604115,
          1.465198206237717,
          1.1610434636791065,
          -1.334362239953306,
          0.369024851642638,
          0.14515244115547685,
          -0.29014039113482143,
          -2.205901079924097,
          -0.6297735763673113,
          1.9877309156869238,
          0.823832968268731,
          0.7016979495915034,
          1.2066655705165814,
          0.2949871564280679,
          -0.11074637656860796,
          -0.04829986443696068,
          -0.9492371718966309,
          -0.04598828116047178,
          1.317414045898286,
          0.7921576306116995,
          0.894667808316204,
          -1.6150478689813692,
          -0.5940807796373015,
          -0.7412884371177434,
          0.1023608375806466,
          0.05025887745365847,
          0.8520086743610449,
          -0.3765601146251717,
          2.2387167009652646,
          -0.27404779894661974,
          0.12483982490399333,
          -0.2551727698413939,
          -0.17307935010980668,
          -0.5033562099539954,
          1.3635797430486931,
          1.9772609093458402,
          -0.2712236950918055,
          -0.4443352105952831,
          -0.46825626749069255,
          0.8143661350579154,
          0.3275799770626893,
          1.2449753554248213,
          1.794382912517284,
          0.7918194475072394,
          -1.063346848381665,
          1.3617171908817822,
          -0.2949021246137668,
          -1.5839217903941474,
          0.6432012345243522,
          0.0779454547877543,
          -2.0164228752506776,
          0.3949702263292559,
          -1.0297657444417474,
          0.34227323404988436,
          -0.23294988309675202,
          0.9862003850301045,
          0.7740444778929897,
          0.1163260790363663,
          1.6712226662539906,
          -0.8250581385511181,
          -0.7971349736565512,
          0.6621647370964951,
          0.037237436378091265,
          -1.7434152646720051
         ]
        },
        {
         "boxpoints": false,
         "line": {
          "width": 1.3
         },
         "marker": {
          "color": "rgba(128, 0, 128, 1.0)"
         },
         "name": "D",
         "orientation": "v",
         "type": "box",
         "y": [
          0.14136334630353126,
          -0.17342762086983968,
          0.2778429373168999,
          -1.0838065078095411,
          1.6789960290811619,
          0.03239885200774485,
          0.527368976631621,
          -0.973348655563232,
          0.6559878156491874,
          -1.5573184349424796,
          -1.5521905617494114,
          -0.32070490506708366,
          0.834808587713665,
          -1.3901833373378998,
          -0.05133705113847309,
          1.3661849525000556,
          -2.7387361439318973,
          -0.3757232505829336,
          0.2499343158732975,
          1.8862587962068342,
          0.32289878592178395,
          -0.026021454186353033,
          -0.7832038758557757,
          -1.7854026358015214,
          -0.9886418883728615,
          1.172840007758469,
          -0.6927351482391241,
          -0.7512055028688523,
          -0.31995176221135685,
          -0.030323406278298524,
          -0.2686900984164055,
          0.9141296554884962,
          0.49804763584656436,
          0.6213893862842278,
          -0.888680812057349,
          0.9544035678121067,
          -1.4446924908742282,
          0.5823808825457056,
          0.4656734840334705,
          -1.2426824026541052,
          0.9554109752437391,
          -1.0526207634228548,
          0.9279632720655048,
          0.08683464814073258,
          1.3654427367610558,
          -0.271962452163509,
          2.829048400648285,
          -1.5715008492189553,
          0.6283323433296785,
          -1.0793068878696275,
          -0.15844479004020343,
          0.8587971878564065,
          0.5764667885644545,
          0.9397288711189419,
          -0.15448393557329368,
          3.07968864352723,
          1.0976043277248069,
          -1.3089327851984713,
          0.8206017422675997,
          -1.3032919849740479,
          -0.8223964470464178,
          -0.2543491886241915,
          1.1846319727049852,
          0.7679837454707548,
          -0.8615182291637286,
          -0.6075869606066855,
          -1.3998702077377003,
          0.7381340925678403,
          -1.8977211684787225,
          0.9311758883110728,
          2.0659994455191395,
          0.0231704230577431,
          -0.2003931331560611,
          -0.38111563089727896,
          0.5896799526226871,
          0.8121399897995402,
          -1.8730245860709724,
          -1.6570520845680916,
          1.8979142646255878,
          0.43910370520399233,
          1.4317474680076265,
          -0.5102289654933749,
          -0.1572381836114604,
          -2.00318650223944,
          -2.081496816065353,
          -1.2102368481440318,
          2.1166529674062575,
          1.9839170993997932,
          -1.8463999561335342,
          0.6604605687923712,
          1.5103046521545658,
          0.9207957180610077,
          0.4383762192430872,
          -0.52769497075163,
          -0.43794032624613954,
          1.0516199563487707,
          -0.19869038457972135,
          0.08290372885059079,
          -1.1383977782789858,
          -0.48052730583796555
         ]
        }
       ],
       "layout": {
        "legend": {
         "bgcolor": "#F5F6F9",
         "font": {
          "color": "#4D5663"
         }
        },
        "paper_bgcolor": "#F5F6F9",
        "plot_bgcolor": "#F5F6F9",
        "template": {
         "data": {
          "bar": [
           {
            "error_x": {
             "color": "#2a3f5f"
            },
            "error_y": {
             "color": "#2a3f5f"
            },
            "marker": {
             "line": {
              "color": "#E5ECF6",
              "width": 0.5
             },
             "pattern": {
              "fillmode": "overlay",
              "size": 10,
              "solidity": 0.2
             }
            },
            "type": "bar"
           }
          ],
          "barpolar": [
           {
            "marker": {
             "line": {
              "color": "#E5ECF6",
              "width": 0.5
             },
             "pattern": {
              "fillmode": "overlay",
              "size": 10,
              "solidity": 0.2
             }
            },
            "type": "barpolar"
           }
          ],
          "carpet": [
           {
            "aaxis": {
             "endlinecolor": "#2a3f5f",
             "gridcolor": "white",
             "linecolor": "white",
             "minorgridcolor": "white",
             "startlinecolor": "#2a3f5f"
            },
            "baxis": {
             "endlinecolor": "#2a3f5f",
             "gridcolor": "white",
             "linecolor": "white",
             "minorgridcolor": "white",
             "startlinecolor": "#2a3f5f"
            },
            "type": "carpet"
           }
          ],
          "choropleth": [
           {
            "colorbar": {
             "outlinewidth": 0,
             "ticks": ""
            },
            "type": "choropleth"
           }
          ],
          "contour": [
           {
            "colorbar": {
             "outlinewidth": 0,
             "ticks": ""
            },
            "colorscale": [
             [
              0,
              "#0d0887"
             ],
             [
              0.1111111111111111,
              "#46039f"
             ],
             [
              0.2222222222222222,
              "#7201a8"
             ],
             [
              0.3333333333333333,
              "#9c179e"
             ],
             [
              0.4444444444444444,
              "#bd3786"
             ],
             [
              0.5555555555555556,
              "#d8576b"
             ],
             [
              0.6666666666666666,
              "#ed7953"
             ],
             [
              0.7777777777777778,
              "#fb9f3a"
             ],
             [
              0.8888888888888888,
              "#fdca26"
             ],
             [
              1,
              "#f0f921"
             ]
            ],
            "type": "contour"
           }
          ],
          "contourcarpet": [
           {
            "colorbar": {
             "outlinewidth": 0,
             "ticks": ""
            },
            "type": "contourcarpet"
           }
          ],
          "heatmap": [
           {
            "colorbar": {
             "outlinewidth": 0,
             "ticks": ""
            },
            "colorscale": [
             [
              0,
              "#0d0887"
             ],
             [
              0.1111111111111111,
              "#46039f"
             ],
             [
              0.2222222222222222,
              "#7201a8"
             ],
             [
              0.3333333333333333,
              "#9c179e"
             ],
             [
              0.4444444444444444,
              "#bd3786"
             ],
             [
              0.5555555555555556,
              "#d8576b"
             ],
             [
              0.6666666666666666,
              "#ed7953"
             ],
             [
              0.7777777777777778,
              "#fb9f3a"
             ],
             [
              0.8888888888888888,
              "#fdca26"
             ],
             [
              1,
              "#f0f921"
             ]
            ],
            "type": "heatmap"
           }
          ],
          "heatmapgl": [
           {
            "colorbar": {
             "outlinewidth": 0,
             "ticks": ""
            },
            "colorscale": [
             [
              0,
              "#0d0887"
             ],
             [
              0.1111111111111111,
              "#46039f"
             ],
             [
              0.2222222222222222,
              "#7201a8"
             ],
             [
              0.3333333333333333,
              "#9c179e"
             ],
             [
              0.4444444444444444,
              "#bd3786"
             ],
             [
              0.5555555555555556,
              "#d8576b"
             ],
             [
              0.6666666666666666,
              "#ed7953"
             ],
             [
              0.7777777777777778,
              "#fb9f3a"
             ],
             [
              0.8888888888888888,
              "#fdca26"
             ],
             [
              1,
              "#f0f921"
             ]
            ],
            "type": "heatmapgl"
           }
          ],
          "histogram": [
           {
            "marker": {
             "pattern": {
              "fillmode": "overlay",
              "size": 10,
              "solidity": 0.2
             }
            },
            "type": "histogram"
           }
          ],
          "histogram2d": [
           {
            "colorbar": {
             "outlinewidth": 0,
             "ticks": ""
            },
            "colorscale": [
             [
              0,
              "#0d0887"
             ],
             [
              0.1111111111111111,
              "#46039f"
             ],
             [
              0.2222222222222222,
              "#7201a8"
             ],
             [
              0.3333333333333333,
              "#9c179e"
             ],
             [
              0.4444444444444444,
              "#bd3786"
             ],
             [
              0.5555555555555556,
              "#d8576b"
             ],
             [
              0.6666666666666666,
              "#ed7953"
             ],
             [
              0.7777777777777778,
              "#fb9f3a"
             ],
             [
              0.8888888888888888,
              "#fdca26"
             ],
             [
              1,
              "#f0f921"
             ]
            ],
            "type": "histogram2d"
           }
          ],
          "histogram2dcontour": [
           {
            "colorbar": {
             "outlinewidth": 0,
             "ticks": ""
            },
            "colorscale": [
             [
              0,
              "#0d0887"
             ],
             [
              0.1111111111111111,
              "#46039f"
             ],
             [
              0.2222222222222222,
              "#7201a8"
             ],
             [
              0.3333333333333333,
              "#9c179e"
             ],
             [
              0.4444444444444444,
              "#bd3786"
             ],
             [
              0.5555555555555556,
              "#d8576b"
             ],
             [
              0.6666666666666666,
              "#ed7953"
             ],
             [
              0.7777777777777778,
              "#fb9f3a"
             ],
             [
              0.8888888888888888,
              "#fdca26"
             ],
             [
              1,
              "#f0f921"
             ]
            ],
            "type": "histogram2dcontour"
           }
          ],
          "mesh3d": [
           {
            "colorbar": {
             "outlinewidth": 0,
             "ticks": ""
            },
            "type": "mesh3d"
           }
          ],
          "parcoords": [
           {
            "line": {
             "colorbar": {
              "outlinewidth": 0,
              "ticks": ""
             }
            },
            "type": "parcoords"
           }
          ],
          "pie": [
           {
            "automargin": true,
            "type": "pie"
           }
          ],
          "scatter": [
           {
            "marker": {
             "colorbar": {
              "outlinewidth": 0,
              "ticks": ""
             }
            },
            "type": "scatter"
           }
          ],
          "scatter3d": [
           {
            "line": {
             "colorbar": {
              "outlinewidth": 0,
              "ticks": ""
             }
            },
            "marker": {
             "colorbar": {
              "outlinewidth": 0,
              "ticks": ""
             }
            },
            "type": "scatter3d"
           }
          ],
          "scattercarpet": [
           {
            "marker": {
             "colorbar": {
              "outlinewidth": 0,
              "ticks": ""
             }
            },
            "type": "scattercarpet"
           }
          ],
          "scattergeo": [
           {
            "marker": {
             "colorbar": {
              "outlinewidth": 0,
              "ticks": ""
             }
            },
            "type": "scattergeo"
           }
          ],
          "scattergl": [
           {
            "marker": {
             "colorbar": {
              "outlinewidth": 0,
              "ticks": ""
             }
            },
            "type": "scattergl"
           }
          ],
          "scattermapbox": [
           {
            "marker": {
             "colorbar": {
              "outlinewidth": 0,
              "ticks": ""
             }
            },
            "type": "scattermapbox"
           }
          ],
          "scatterpolar": [
           {
            "marker": {
             "colorbar": {
              "outlinewidth": 0,
              "ticks": ""
             }
            },
            "type": "scatterpolar"
           }
          ],
          "scatterpolargl": [
           {
            "marker": {
             "colorbar": {
              "outlinewidth": 0,
              "ticks": ""
             }
            },
            "type": "scatterpolargl"
           }
          ],
          "scatterternary": [
           {
            "marker": {
             "colorbar": {
              "outlinewidth": 0,
              "ticks": ""
             }
            },
            "type": "scatterternary"
           }
          ],
          "surface": [
           {
            "colorbar": {
             "outlinewidth": 0,
             "ticks": ""
            },
            "colorscale": [
             [
              0,
              "#0d0887"
             ],
             [
              0.1111111111111111,
              "#46039f"
             ],
             [
              0.2222222222222222,
              "#7201a8"
             ],
             [
              0.3333333333333333,
              "#9c179e"
             ],
             [
              0.4444444444444444,
              "#bd3786"
             ],
             [
              0.5555555555555556,
              "#d8576b"
             ],
             [
              0.6666666666666666,
              "#ed7953"
             ],
             [
              0.7777777777777778,
              "#fb9f3a"
             ],
             [
              0.8888888888888888,
              "#fdca26"
             ],
             [
              1,
              "#f0f921"
             ]
            ],
            "type": "surface"
           }
          ],
          "table": [
           {
            "cells": {
             "fill": {
              "color": "#EBF0F8"
             },
             "line": {
              "color": "white"
             }
            },
            "header": {
             "fill": {
              "color": "#C8D4E3"
             },
             "line": {
              "color": "white"
             }
            },
            "type": "table"
           }
          ]
         },
         "layout": {
          "annotationdefaults": {
           "arrowcolor": "#2a3f5f",
           "arrowhead": 0,
           "arrowwidth": 1
          },
          "autotypenumbers": "strict",
          "coloraxis": {
           "colorbar": {
            "outlinewidth": 0,
            "ticks": ""
           }
          },
          "colorscale": {
           "diverging": [
            [
             0,
             "#8e0152"
            ],
            [
             0.1,
             "#c51b7d"
            ],
            [
             0.2,
             "#de77ae"
            ],
            [
             0.3,
             "#f1b6da"
            ],
            [
             0.4,
             "#fde0ef"
            ],
            [
             0.5,
             "#f7f7f7"
            ],
            [
             0.6,
             "#e6f5d0"
            ],
            [
             0.7,
             "#b8e186"
            ],
            [
             0.8,
             "#7fbc41"
            ],
            [
             0.9,
             "#4d9221"
            ],
            [
             1,
             "#276419"
            ]
           ],
           "sequential": [
            [
             0,
             "#0d0887"
            ],
            [
             0.1111111111111111,
             "#46039f"
            ],
            [
             0.2222222222222222,
             "#7201a8"
            ],
            [
             0.3333333333333333,
             "#9c179e"
            ],
            [
             0.4444444444444444,
             "#bd3786"
            ],
            [
             0.5555555555555556,
             "#d8576b"
            ],
            [
             0.6666666666666666,
             "#ed7953"
            ],
            [
             0.7777777777777778,
             "#fb9f3a"
            ],
            [
             0.8888888888888888,
             "#fdca26"
            ],
            [
             1,
             "#f0f921"
            ]
           ],
           "sequentialminus": [
            [
             0,
             "#0d0887"
            ],
            [
             0.1111111111111111,
             "#46039f"
            ],
            [
             0.2222222222222222,
             "#7201a8"
            ],
            [
             0.3333333333333333,
             "#9c179e"
            ],
            [
             0.4444444444444444,
             "#bd3786"
            ],
            [
             0.5555555555555556,
             "#d8576b"
            ],
            [
             0.6666666666666666,
             "#ed7953"
            ],
            [
             0.7777777777777778,
             "#fb9f3a"
            ],
            [
             0.8888888888888888,
             "#fdca26"
            ],
            [
             1,
             "#f0f921"
            ]
           ]
          },
          "colorway": [
           "#636efa",
           "#EF553B",
           "#00cc96",
           "#ab63fa",
           "#FFA15A",
           "#19d3f3",
           "#FF6692",
           "#B6E880",
           "#FF97FF",
           "#FECB52"
          ],
          "font": {
           "color": "#2a3f5f"
          },
          "geo": {
           "bgcolor": "white",
           "lakecolor": "white",
           "landcolor": "#E5ECF6",
           "showlakes": true,
           "showland": true,
           "subunitcolor": "white"
          },
          "hoverlabel": {
           "align": "left"
          },
          "hovermode": "closest",
          "mapbox": {
           "style": "light"
          },
          "paper_bgcolor": "white",
          "plot_bgcolor": "#E5ECF6",
          "polar": {
           "angularaxis": {
            "gridcolor": "white",
            "linecolor": "white",
            "ticks": ""
           },
           "bgcolor": "#E5ECF6",
           "radialaxis": {
            "gridcolor": "white",
            "linecolor": "white",
            "ticks": ""
           }
          },
          "scene": {
           "xaxis": {
            "backgroundcolor": "#E5ECF6",
            "gridcolor": "white",
            "gridwidth": 2,
            "linecolor": "white",
            "showbackground": true,
            "ticks": "",
            "zerolinecolor": "white"
           },
           "yaxis": {
            "backgroundcolor": "#E5ECF6",
            "gridcolor": "white",
            "gridwidth": 2,
            "linecolor": "white",
            "showbackground": true,
            "ticks": "",
            "zerolinecolor": "white"
           },
           "zaxis": {
            "backgroundcolor": "#E5ECF6",
            "gridcolor": "white",
            "gridwidth": 2,
            "linecolor": "white",
            "showbackground": true,
            "ticks": "",
            "zerolinecolor": "white"
           }
          },
          "shapedefaults": {
           "line": {
            "color": "#2a3f5f"
           }
          },
          "ternary": {
           "aaxis": {
            "gridcolor": "white",
            "linecolor": "white",
            "ticks": ""
           },
           "baxis": {
            "gridcolor": "white",
            "linecolor": "white",
            "ticks": ""
           },
           "bgcolor": "#E5ECF6",
           "caxis": {
            "gridcolor": "white",
            "linecolor": "white",
            "ticks": ""
           }
          },
          "title": {
           "x": 0.05
          },
          "xaxis": {
           "automargin": true,
           "gridcolor": "white",
           "linecolor": "white",
           "ticks": "",
           "title": {
            "standoff": 15
           },
           "zerolinecolor": "white",
           "zerolinewidth": 2
          },
          "yaxis": {
           "automargin": true,
           "gridcolor": "white",
           "linecolor": "white",
           "ticks": "",
           "title": {
            "standoff": 15
           },
           "zerolinecolor": "white",
           "zerolinewidth": 2
          }
         }
        },
        "title": {
         "font": {
          "color": "#4D5663"
         }
        },
        "xaxis": {
         "gridcolor": "#E1E5ED",
         "showgrid": true,
         "tickfont": {
          "color": "#4D5663"
         },
         "title": {
          "font": {
           "color": "#4D5663"
          },
          "text": ""
         },
         "zerolinecolor": "#E1E5ED"
        },
        "yaxis": {
         "gridcolor": "#E1E5ED",
         "showgrid": true,
         "tickfont": {
          "color": "#4D5663"
         },
         "title": {
          "font": {
           "color": "#4D5663"
          },
          "text": ""
         },
         "zerolinecolor": "#E1E5ED"
        }
       }
      },
      "text/html": [
       "<div>                            <div id=\"94443267-56b6-4ccd-a61a-aef538e1bcd6\" class=\"plotly-graph-div\" style=\"height:525px; width:100%;\"></div>            <script type=\"text/javascript\">                require([\"plotly\"], function(Plotly) {                    window.PLOTLYENV=window.PLOTLYENV || {};\n",
       "                    window.PLOTLYENV.BASE_URL='https://plot.ly';                                    if (document.getElementById(\"94443267-56b6-4ccd-a61a-aef538e1bcd6\")) {                    Plotly.newPlot(                        \"94443267-56b6-4ccd-a61a-aef538e1bcd6\",                        [{\"boxpoints\":false,\"line\":{\"width\":1.3},\"marker\":{\"color\":\"rgba(255, 153, 51, 1.0)\"},\"name\":\"A\",\"orientation\":\"v\",\"y\":[-0.36786982851319505,-0.8139460136439768,-1.2728002553624609,-0.16742849267659557,0.2568812060873537,1.7412616989824088,-1.5621264209503618,-0.9716442807368325,0.18120238038652076,-0.45624359436676554,0.4192093729134039,-1.7537622507026116,-0.6760570885254076,1.2315472502842275,1.344721140948013,1.5308498457246777,0.0811757384905562,-0.07056372644932463,-0.4096182151163972,-0.18810476194808798,-0.6888845471082019,0.1787949634688186,-0.6326159497145163,1.3665080793470559,-1.264100708338595,0.5654737427593445,-0.6314385446664598,0.7959791813286821,1.5209648447798207,0.011053102554344277,0.0575177083012101,2.1146701003920465,0.6844826246908693,-1.1059174909427503,0.36088615768745663,-0.9196362508572212,2.413895200230858,0.36847160558729464,1.5555526138790137,0.27533952277220874,0.5128093807287213,-0.36109803744274055,-0.2245813865447435,-1.3929369067023898,-1.7149219010602588,-0.06436773582098293,0.705890363747037,0.8834346495884103,-1.2819697508145063,1.0211868852886536,0.09444081962493833,0.9936925290527405,-0.24805292015688082,-0.38975442643515745,0.13162173026208018,-2.0904123249582196,-0.3638188904525045,1.5945900934580928,0.7833673844256537,0.2957653201178533,-0.420979774187367,-0.3033766512810295,-0.2359411997474931,-0.4555954179187365,0.5506480905045086,-0.613326940080486,-1.1439066960853865,0.49946364909654484,0.1921167231914247,-1.5000415223098764,-0.5242457354730988,-0.12933767299748697,-1.1800277618914492,0.9604362518828048,-1.3716897691557939,-0.9103137466615401,1.21475681850616,-1.2309199307746803,0.7560338475782938,1.076852768980497,-0.04882792274589524,-0.7653859453081738,-1.2279318521344766,-0.4210661832352774,-0.5586350407050273,-0.721991107436455,0.9659154488762632,1.2182790903319993,-1.3690372725967028,-1.3587655905835527,0.515290847414008,1.0695484930182528,-1.3380019043323563,-1.216940120335792,1.0947929024669336,0.23884071328995005,-0.45823390270079395,1.4792255439209159,-1.3118290643991475,-1.172534065870987],\"type\":\"box\"},{\"boxpoints\":false,\"line\":{\"width\":1.3},\"marker\":{\"color\":\"rgba(55, 128, 191, 1.0)\"},\"name\":\"B\",\"orientation\":\"v\",\"y\":[0.1819819126791729,-0.7690504649458737,0.4146966578943233,0.735872368805637,0.8669917218711843,2.1748617101751,1.2318371866263211,0.16427863005281082,-0.7516033269630648,-0.059540090628032005,-0.012899474698968688,1.7520395134071642,-0.01591686529266641,-1.30737693706392,0.31469596302611313,0.0006447044677048574,-0.7695973642700286,-1.588439968194205,0.5132563588699779,-0.4166594400416099,0.654191318124905,1.538197099799716,-0.9734425150447913,-1.346122715368668,-0.3594077404233946,1.7299228793641566,2.1101164566449864,-0.9413070230386088,0.013584305821453655,-0.2281718487132733,1.6031139424787848,0.6043596490108111,0.6197173644455335,0.22320795650902636,3.348229272407328,0.7701779183439242,1.8000414301434686,-1.4159099794566452,-0.4371479314457633,-0.2147748488950862,-0.6812616180720111,0.6879337962777717,0.15289137723322704,-0.6636384766790288,0.9087932907473223,0.13219355583100664,0.6622465833842975,-0.5583410998398035,-0.24485904679848086,-0.4643834042131067,-2.2419875725888185,0.8278854578464298,0.20176407293093973,-1.3934247465283838,1.1134336391437878,-1.6334405533394345,1.3236953777109324,0.5224675986838716,-0.58959784704781,1.4586033556318427,0.9083302010742899,1.720992224059844,-1.889437228043027,1.465208342151267,0.45166524739808955,-0.02542207128711079,0.28324402331732385,-0.49926804861875734,0.3895796831658555,-0.3266481370656572,-2.1620324688740515,-0.4198106606771507,-0.41366740287377785,-0.584281831740891,-1.8799488990110838,1.0867735776383765,0.04134940253602887,-0.5192131068274868,-0.3308715980802985,0.5820619125965684,-0.3296740677753678,-0.7694843154746899,0.3974786425028931,-0.09690329212432874,0.2848301613145788,0.19226842929502952,-0.8350478382165045,0.30326140879933705,0.684022961660779,-0.5307381409250069,1.1163236404658101,-0.018062703200621047,1.1463717068725314,0.9530289674340827,-1.389032278301572,-0.7532835443706728,1.0060298398741725,-0.1675034739802897,-1.0888384951742667,-1.6766035427580728],\"type\":\"box\"},{\"boxpoints\":false,\"line\":{\"width\":1.3},\"marker\":{\"color\":\"rgba(50, 171, 96, 1.0)\"},\"name\":\"C\",\"orientation\":\"v\",\"y\":[-1.4501499176238284,1.2147342646055934,-2.2320632406818968,0.5288614482094521,-0.7923631571477707,1.290152637261051,0.09681485082390709,0.04799729256878894,-1.8064399416236632,2.187824560601332,0.4123294737821514,0.3601272214313341,1.0720094383462198,-1.1892914798431156,0.7742383731348873,-0.22995290417660325,-0.917634296873175,-0.06806038058954045,1.0427254105710442,0.31736066412983266,-0.8325389579176342,0.7957438074276335,0.23255822850011593,-0.6863885375642695,0.043343946526299686,1.2172015503062825,-0.2470060194626241,0.37683390140714784,2.505842798487505,-0.5259679626174164,0.2853402845379173,0.3156871732888629,0.10638962575278862,-0.8657201035243177,0.29266951190392276,-1.7380647536708604,0.18782625251604115,1.465198206237717,1.1610434636791065,-1.334362239953306,0.369024851642638,0.14515244115547685,-0.29014039113482143,-2.205901079924097,-0.6297735763673113,1.9877309156869238,0.823832968268731,0.7016979495915034,1.2066655705165814,0.2949871564280679,-0.11074637656860796,-0.04829986443696068,-0.9492371718966309,-0.04598828116047178,1.317414045898286,0.7921576306116995,0.894667808316204,-1.6150478689813692,-0.5940807796373015,-0.7412884371177434,0.1023608375806466,0.05025887745365847,0.8520086743610449,-0.3765601146251717,2.2387167009652646,-0.27404779894661974,0.12483982490399333,-0.2551727698413939,-0.17307935010980668,-0.5033562099539954,1.3635797430486931,1.9772609093458402,-0.2712236950918055,-0.4443352105952831,-0.46825626749069255,0.8143661350579154,0.3275799770626893,1.2449753554248213,1.794382912517284,0.7918194475072394,-1.063346848381665,1.3617171908817822,-0.2949021246137668,-1.5839217903941474,0.6432012345243522,0.0779454547877543,-2.0164228752506776,0.3949702263292559,-1.0297657444417474,0.34227323404988436,-0.23294988309675202,0.9862003850301045,0.7740444778929897,0.1163260790363663,1.6712226662539906,-0.8250581385511181,-0.7971349736565512,0.6621647370964951,0.037237436378091265,-1.7434152646720051],\"type\":\"box\"},{\"boxpoints\":false,\"line\":{\"width\":1.3},\"marker\":{\"color\":\"rgba(128, 0, 128, 1.0)\"},\"name\":\"D\",\"orientation\":\"v\",\"y\":[0.14136334630353126,-0.17342762086983968,0.2778429373168999,-1.0838065078095411,1.6789960290811619,0.03239885200774485,0.527368976631621,-0.973348655563232,0.6559878156491874,-1.5573184349424796,-1.5521905617494114,-0.32070490506708366,0.834808587713665,-1.3901833373378998,-0.05133705113847309,1.3661849525000556,-2.7387361439318973,-0.3757232505829336,0.2499343158732975,1.8862587962068342,0.32289878592178395,-0.026021454186353033,-0.7832038758557757,-1.7854026358015214,-0.9886418883728615,1.172840007758469,-0.6927351482391241,-0.7512055028688523,-0.31995176221135685,-0.030323406278298524,-0.2686900984164055,0.9141296554884962,0.49804763584656436,0.6213893862842278,-0.888680812057349,0.9544035678121067,-1.4446924908742282,0.5823808825457056,0.4656734840334705,-1.2426824026541052,0.9554109752437391,-1.0526207634228548,0.9279632720655048,0.08683464814073258,1.3654427367610558,-0.271962452163509,2.829048400648285,-1.5715008492189553,0.6283323433296785,-1.0793068878696275,-0.15844479004020343,0.8587971878564065,0.5764667885644545,0.9397288711189419,-0.15448393557329368,3.07968864352723,1.0976043277248069,-1.3089327851984713,0.8206017422675997,-1.3032919849740479,-0.8223964470464178,-0.2543491886241915,1.1846319727049852,0.7679837454707548,-0.8615182291637286,-0.6075869606066855,-1.3998702077377003,0.7381340925678403,-1.8977211684787225,0.9311758883110728,2.0659994455191395,0.0231704230577431,-0.2003931331560611,-0.38111563089727896,0.5896799526226871,0.8121399897995402,-1.8730245860709724,-1.6570520845680916,1.8979142646255878,0.43910370520399233,1.4317474680076265,-0.5102289654933749,-0.1572381836114604,-2.00318650223944,-2.081496816065353,-1.2102368481440318,2.1166529674062575,1.9839170993997932,-1.8463999561335342,0.6604605687923712,1.5103046521545658,0.9207957180610077,0.4383762192430872,-0.52769497075163,-0.43794032624613954,1.0516199563487707,-0.19869038457972135,0.08290372885059079,-1.1383977782789858,-0.48052730583796555],\"type\":\"box\"}],                        {\"legend\":{\"bgcolor\":\"#F5F6F9\",\"font\":{\"color\":\"#4D5663\"}},\"paper_bgcolor\":\"#F5F6F9\",\"plot_bgcolor\":\"#F5F6F9\",\"template\":{\"data\":{\"barpolar\":[{\"marker\":{\"line\":{\"color\":\"#E5ECF6\",\"width\":0.5},\"pattern\":{\"fillmode\":\"overlay\",\"size\":10,\"solidity\":0.2}},\"type\":\"barpolar\"}],\"bar\":[{\"error_x\":{\"color\":\"#2a3f5f\"},\"error_y\":{\"color\":\"#2a3f5f\"},\"marker\":{\"line\":{\"color\":\"#E5ECF6\",\"width\":0.5},\"pattern\":{\"fillmode\":\"overlay\",\"size\":10,\"solidity\":0.2}},\"type\":\"bar\"}],\"carpet\":[{\"aaxis\":{\"endlinecolor\":\"#2a3f5f\",\"gridcolor\":\"white\",\"linecolor\":\"white\",\"minorgridcolor\":\"white\",\"startlinecolor\":\"#2a3f5f\"},\"baxis\":{\"endlinecolor\":\"#2a3f5f\",\"gridcolor\":\"white\",\"linecolor\":\"white\",\"minorgridcolor\":\"white\",\"startlinecolor\":\"#2a3f5f\"},\"type\":\"carpet\"}],\"choropleth\":[{\"colorbar\":{\"outlinewidth\":0,\"ticks\":\"\"},\"type\":\"choropleth\"}],\"contourcarpet\":[{\"colorbar\":{\"outlinewidth\":0,\"ticks\":\"\"},\"type\":\"contourcarpet\"}],\"contour\":[{\"colorbar\":{\"outlinewidth\":0,\"ticks\":\"\"},\"colorscale\":[[0.0,\"#0d0887\"],[0.1111111111111111,\"#46039f\"],[0.2222222222222222,\"#7201a8\"],[0.3333333333333333,\"#9c179e\"],[0.4444444444444444,\"#bd3786\"],[0.5555555555555556,\"#d8576b\"],[0.6666666666666666,\"#ed7953\"],[0.7777777777777778,\"#fb9f3a\"],[0.8888888888888888,\"#fdca26\"],[1.0,\"#f0f921\"]],\"type\":\"contour\"}],\"heatmapgl\":[{\"colorbar\":{\"outlinewidth\":0,\"ticks\":\"\"},\"colorscale\":[[0.0,\"#0d0887\"],[0.1111111111111111,\"#46039f\"],[0.2222222222222222,\"#7201a8\"],[0.3333333333333333,\"#9c179e\"],[0.4444444444444444,\"#bd3786\"],[0.5555555555555556,\"#d8576b\"],[0.6666666666666666,\"#ed7953\"],[0.7777777777777778,\"#fb9f3a\"],[0.8888888888888888,\"#fdca26\"],[1.0,\"#f0f921\"]],\"type\":\"heatmapgl\"}],\"heatmap\":[{\"colorbar\":{\"outlinewidth\":0,\"ticks\":\"\"},\"colorscale\":[[0.0,\"#0d0887\"],[0.1111111111111111,\"#46039f\"],[0.2222222222222222,\"#7201a8\"],[0.3333333333333333,\"#9c179e\"],[0.4444444444444444,\"#bd3786\"],[0.5555555555555556,\"#d8576b\"],[0.6666666666666666,\"#ed7953\"],[0.7777777777777778,\"#fb9f3a\"],[0.8888888888888888,\"#fdca26\"],[1.0,\"#f0f921\"]],\"type\":\"heatmap\"}],\"histogram2dcontour\":[{\"colorbar\":{\"outlinewidth\":0,\"ticks\":\"\"},\"colorscale\":[[0.0,\"#0d0887\"],[0.1111111111111111,\"#46039f\"],[0.2222222222222222,\"#7201a8\"],[0.3333333333333333,\"#9c179e\"],[0.4444444444444444,\"#bd3786\"],[0.5555555555555556,\"#d8576b\"],[0.6666666666666666,\"#ed7953\"],[0.7777777777777778,\"#fb9f3a\"],[0.8888888888888888,\"#fdca26\"],[1.0,\"#f0f921\"]],\"type\":\"histogram2dcontour\"}],\"histogram2d\":[{\"colorbar\":{\"outlinewidth\":0,\"ticks\":\"\"},\"colorscale\":[[0.0,\"#0d0887\"],[0.1111111111111111,\"#46039f\"],[0.2222222222222222,\"#7201a8\"],[0.3333333333333333,\"#9c179e\"],[0.4444444444444444,\"#bd3786\"],[0.5555555555555556,\"#d8576b\"],[0.6666666666666666,\"#ed7953\"],[0.7777777777777778,\"#fb9f3a\"],[0.8888888888888888,\"#fdca26\"],[1.0,\"#f0f921\"]],\"type\":\"histogram2d\"}],\"histogram\":[{\"marker\":{\"pattern\":{\"fillmode\":\"overlay\",\"size\":10,\"solidity\":0.2}},\"type\":\"histogram\"}],\"mesh3d\":[{\"colorbar\":{\"outlinewidth\":0,\"ticks\":\"\"},\"type\":\"mesh3d\"}],\"parcoords\":[{\"line\":{\"colorbar\":{\"outlinewidth\":0,\"ticks\":\"\"}},\"type\":\"parcoords\"}],\"pie\":[{\"automargin\":true,\"type\":\"pie\"}],\"scatter3d\":[{\"line\":{\"colorbar\":{\"outlinewidth\":0,\"ticks\":\"\"}},\"marker\":{\"colorbar\":{\"outlinewidth\":0,\"ticks\":\"\"}},\"type\":\"scatter3d\"}],\"scattercarpet\":[{\"marker\":{\"colorbar\":{\"outlinewidth\":0,\"ticks\":\"\"}},\"type\":\"scattercarpet\"}],\"scattergeo\":[{\"marker\":{\"colorbar\":{\"outlinewidth\":0,\"ticks\":\"\"}},\"type\":\"scattergeo\"}],\"scattergl\":[{\"marker\":{\"colorbar\":{\"outlinewidth\":0,\"ticks\":\"\"}},\"type\":\"scattergl\"}],\"scattermapbox\":[{\"marker\":{\"colorbar\":{\"outlinewidth\":0,\"ticks\":\"\"}},\"type\":\"scattermapbox\"}],\"scatterpolargl\":[{\"marker\":{\"colorbar\":{\"outlinewidth\":0,\"ticks\":\"\"}},\"type\":\"scatterpolargl\"}],\"scatterpolar\":[{\"marker\":{\"colorbar\":{\"outlinewidth\":0,\"ticks\":\"\"}},\"type\":\"scatterpolar\"}],\"scatter\":[{\"marker\":{\"colorbar\":{\"outlinewidth\":0,\"ticks\":\"\"}},\"type\":\"scatter\"}],\"scatterternary\":[{\"marker\":{\"colorbar\":{\"outlinewidth\":0,\"ticks\":\"\"}},\"type\":\"scatterternary\"}],\"surface\":[{\"colorbar\":{\"outlinewidth\":0,\"ticks\":\"\"},\"colorscale\":[[0.0,\"#0d0887\"],[0.1111111111111111,\"#46039f\"],[0.2222222222222222,\"#7201a8\"],[0.3333333333333333,\"#9c179e\"],[0.4444444444444444,\"#bd3786\"],[0.5555555555555556,\"#d8576b\"],[0.6666666666666666,\"#ed7953\"],[0.7777777777777778,\"#fb9f3a\"],[0.8888888888888888,\"#fdca26\"],[1.0,\"#f0f921\"]],\"type\":\"surface\"}],\"table\":[{\"cells\":{\"fill\":{\"color\":\"#EBF0F8\"},\"line\":{\"color\":\"white\"}},\"header\":{\"fill\":{\"color\":\"#C8D4E3\"},\"line\":{\"color\":\"white\"}},\"type\":\"table\"}]},\"layout\":{\"annotationdefaults\":{\"arrowcolor\":\"#2a3f5f\",\"arrowhead\":0,\"arrowwidth\":1},\"autotypenumbers\":\"strict\",\"coloraxis\":{\"colorbar\":{\"outlinewidth\":0,\"ticks\":\"\"}},\"colorscale\":{\"diverging\":[[0,\"#8e0152\"],[0.1,\"#c51b7d\"],[0.2,\"#de77ae\"],[0.3,\"#f1b6da\"],[0.4,\"#fde0ef\"],[0.5,\"#f7f7f7\"],[0.6,\"#e6f5d0\"],[0.7,\"#b8e186\"],[0.8,\"#7fbc41\"],[0.9,\"#4d9221\"],[1,\"#276419\"]],\"sequential\":[[0.0,\"#0d0887\"],[0.1111111111111111,\"#46039f\"],[0.2222222222222222,\"#7201a8\"],[0.3333333333333333,\"#9c179e\"],[0.4444444444444444,\"#bd3786\"],[0.5555555555555556,\"#d8576b\"],[0.6666666666666666,\"#ed7953\"],[0.7777777777777778,\"#fb9f3a\"],[0.8888888888888888,\"#fdca26\"],[1.0,\"#f0f921\"]],\"sequentialminus\":[[0.0,\"#0d0887\"],[0.1111111111111111,\"#46039f\"],[0.2222222222222222,\"#7201a8\"],[0.3333333333333333,\"#9c179e\"],[0.4444444444444444,\"#bd3786\"],[0.5555555555555556,\"#d8576b\"],[0.6666666666666666,\"#ed7953\"],[0.7777777777777778,\"#fb9f3a\"],[0.8888888888888888,\"#fdca26\"],[1.0,\"#f0f921\"]]},\"colorway\":[\"#636efa\",\"#EF553B\",\"#00cc96\",\"#ab63fa\",\"#FFA15A\",\"#19d3f3\",\"#FF6692\",\"#B6E880\",\"#FF97FF\",\"#FECB52\"],\"font\":{\"color\":\"#2a3f5f\"},\"geo\":{\"bgcolor\":\"white\",\"lakecolor\":\"white\",\"landcolor\":\"#E5ECF6\",\"showlakes\":true,\"showland\":true,\"subunitcolor\":\"white\"},\"hoverlabel\":{\"align\":\"left\"},\"hovermode\":\"closest\",\"mapbox\":{\"style\":\"light\"},\"paper_bgcolor\":\"white\",\"plot_bgcolor\":\"#E5ECF6\",\"polar\":{\"angularaxis\":{\"gridcolor\":\"white\",\"linecolor\":\"white\",\"ticks\":\"\"},\"bgcolor\":\"#E5ECF6\",\"radialaxis\":{\"gridcolor\":\"white\",\"linecolor\":\"white\",\"ticks\":\"\"}},\"scene\":{\"xaxis\":{\"backgroundcolor\":\"#E5ECF6\",\"gridcolor\":\"white\",\"gridwidth\":2,\"linecolor\":\"white\",\"showbackground\":true,\"ticks\":\"\",\"zerolinecolor\":\"white\"},\"yaxis\":{\"backgroundcolor\":\"#E5ECF6\",\"gridcolor\":\"white\",\"gridwidth\":2,\"linecolor\":\"white\",\"showbackground\":true,\"ticks\":\"\",\"zerolinecolor\":\"white\"},\"zaxis\":{\"backgroundcolor\":\"#E5ECF6\",\"gridcolor\":\"white\",\"gridwidth\":2,\"linecolor\":\"white\",\"showbackground\":true,\"ticks\":\"\",\"zerolinecolor\":\"white\"}},\"shapedefaults\":{\"line\":{\"color\":\"#2a3f5f\"}},\"ternary\":{\"aaxis\":{\"gridcolor\":\"white\",\"linecolor\":\"white\",\"ticks\":\"\"},\"baxis\":{\"gridcolor\":\"white\",\"linecolor\":\"white\",\"ticks\":\"\"},\"bgcolor\":\"#E5ECF6\",\"caxis\":{\"gridcolor\":\"white\",\"linecolor\":\"white\",\"ticks\":\"\"}},\"title\":{\"x\":0.05},\"xaxis\":{\"automargin\":true,\"gridcolor\":\"white\",\"linecolor\":\"white\",\"ticks\":\"\",\"title\":{\"standoff\":15},\"zerolinecolor\":\"white\",\"zerolinewidth\":2},\"yaxis\":{\"automargin\":true,\"gridcolor\":\"white\",\"linecolor\":\"white\",\"ticks\":\"\",\"title\":{\"standoff\":15},\"zerolinecolor\":\"white\",\"zerolinewidth\":2}}},\"title\":{\"font\":{\"color\":\"#4D5663\"}},\"xaxis\":{\"gridcolor\":\"#E1E5ED\",\"showgrid\":true,\"tickfont\":{\"color\":\"#4D5663\"},\"title\":{\"font\":{\"color\":\"#4D5663\"},\"text\":\"\"},\"zerolinecolor\":\"#E1E5ED\"},\"yaxis\":{\"gridcolor\":\"#E1E5ED\",\"showgrid\":true,\"tickfont\":{\"color\":\"#4D5663\"},\"title\":{\"font\":{\"color\":\"#4D5663\"},\"text\":\"\"},\"zerolinecolor\":\"#E1E5ED\"}},                        {\"showLink\": true, \"linkText\": \"Export to plot.ly\", \"plotlyServerURL\": \"https://plot.ly\", \"responsive\": true}                    ).then(function(){\n",
       "                            \n",
       "var gd = document.getElementById('94443267-56b6-4ccd-a61a-aef538e1bcd6');\n",
       "var x = new MutationObserver(function (mutations, observer) {{\n",
       "        var display = window.getComputedStyle(gd).display;\n",
       "        if (!display || display === 'none') {{\n",
       "            console.log([gd, 'removed!']);\n",
       "            Plotly.purge(gd);\n",
       "            observer.disconnect();\n",
       "        }}\n",
       "}});\n",
       "\n",
       "// Listen for the removal of the full notebook cells\n",
       "var notebookContainer = gd.closest('#notebook-container');\n",
       "if (notebookContainer) {{\n",
       "    x.observe(notebookContainer, {childList: true});\n",
       "}}\n",
       "\n",
       "// Listen for the clearing of the current output cell\n",
       "var outputEl = gd.closest('.output');\n",
       "if (outputEl) {{\n",
       "    x.observe(outputEl, {childList: true});\n",
       "}}\n",
       "\n",
       "                        })                };                });            </script>        </div>"
      ]
     },
     "metadata": {},
     "output_type": "display_data"
    }
   ],
   "source": [
    "df.iplot(kind='box')"
   ]
  },
  {
   "cell_type": "markdown",
   "metadata": {},
   "source": [
    "## 3d Surface"
   ]
  },
  {
   "cell_type": "code",
   "execution_count": 14,
   "metadata": {},
   "outputs": [
    {
     "data": {
      "application/vnd.plotly.v1+json": {
       "config": {
        "linkText": "Export to plot.ly",
        "plotlyServerURL": "https://plot.ly",
        "showLink": true
       },
       "data": [
        {
         "colorscale": [
          [
           0,
           "rgb(165,0,38)"
          ],
          [
           0.1,
           "rgb(215,48,39)"
          ],
          [
           0.2,
           "rgb(244,109,67)"
          ],
          [
           0.3,
           "rgb(253,174,97)"
          ],
          [
           0.4,
           "rgb(254,224,144)"
          ],
          [
           0.5,
           "rgb(255,255,191)"
          ],
          [
           0.6,
           "rgb(224,243,248)"
          ],
          [
           0.7,
           "rgb(171,217,233)"
          ],
          [
           0.8,
           "rgb(116,173,209)"
          ],
          [
           0.9,
           "rgb(69,117,180)"
          ],
          [
           1,
           "rgb(49,54,149)"
          ]
         ],
         "type": "surface",
         "x": [
          0,
          1,
          2,
          3,
          4
         ],
         "y": [
          "x",
          "y",
          "z"
         ],
         "z": [
          [
           1,
           2,
           3,
           4,
           5
          ],
          [
           10,
           20,
           30,
           20,
           10
          ],
          [
           5,
           4,
           3,
           2,
           1
          ]
         ]
        }
       ],
       "layout": {
        "legend": {
         "bgcolor": "#F5F6F9",
         "font": {
          "color": "#4D5663"
         }
        },
        "paper_bgcolor": "#F5F6F9",
        "plot_bgcolor": "#F5F6F9",
        "template": {
         "data": {
          "bar": [
           {
            "error_x": {
             "color": "#2a3f5f"
            },
            "error_y": {
             "color": "#2a3f5f"
            },
            "marker": {
             "line": {
              "color": "#E5ECF6",
              "width": 0.5
             },
             "pattern": {
              "fillmode": "overlay",
              "size": 10,
              "solidity": 0.2
             }
            },
            "type": "bar"
           }
          ],
          "barpolar": [
           {
            "marker": {
             "line": {
              "color": "#E5ECF6",
              "width": 0.5
             },
             "pattern": {
              "fillmode": "overlay",
              "size": 10,
              "solidity": 0.2
             }
            },
            "type": "barpolar"
           }
          ],
          "carpet": [
           {
            "aaxis": {
             "endlinecolor": "#2a3f5f",
             "gridcolor": "white",
             "linecolor": "white",
             "minorgridcolor": "white",
             "startlinecolor": "#2a3f5f"
            },
            "baxis": {
             "endlinecolor": "#2a3f5f",
             "gridcolor": "white",
             "linecolor": "white",
             "minorgridcolor": "white",
             "startlinecolor": "#2a3f5f"
            },
            "type": "carpet"
           }
          ],
          "choropleth": [
           {
            "colorbar": {
             "outlinewidth": 0,
             "ticks": ""
            },
            "type": "choropleth"
           }
          ],
          "contour": [
           {
            "colorbar": {
             "outlinewidth": 0,
             "ticks": ""
            },
            "colorscale": [
             [
              0,
              "#0d0887"
             ],
             [
              0.1111111111111111,
              "#46039f"
             ],
             [
              0.2222222222222222,
              "#7201a8"
             ],
             [
              0.3333333333333333,
              "#9c179e"
             ],
             [
              0.4444444444444444,
              "#bd3786"
             ],
             [
              0.5555555555555556,
              "#d8576b"
             ],
             [
              0.6666666666666666,
              "#ed7953"
             ],
             [
              0.7777777777777778,
              "#fb9f3a"
             ],
             [
              0.8888888888888888,
              "#fdca26"
             ],
             [
              1,
              "#f0f921"
             ]
            ],
            "type": "contour"
           }
          ],
          "contourcarpet": [
           {
            "colorbar": {
             "outlinewidth": 0,
             "ticks": ""
            },
            "type": "contourcarpet"
           }
          ],
          "heatmap": [
           {
            "colorbar": {
             "outlinewidth": 0,
             "ticks": ""
            },
            "colorscale": [
             [
              0,
              "#0d0887"
             ],
             [
              0.1111111111111111,
              "#46039f"
             ],
             [
              0.2222222222222222,
              "#7201a8"
             ],
             [
              0.3333333333333333,
              "#9c179e"
             ],
             [
              0.4444444444444444,
              "#bd3786"
             ],
             [
              0.5555555555555556,
              "#d8576b"
             ],
             [
              0.6666666666666666,
              "#ed7953"
             ],
             [
              0.7777777777777778,
              "#fb9f3a"
             ],
             [
              0.8888888888888888,
              "#fdca26"
             ],
             [
              1,
              "#f0f921"
             ]
            ],
            "type": "heatmap"
           }
          ],
          "heatmapgl": [
           {
            "colorbar": {
             "outlinewidth": 0,
             "ticks": ""
            },
            "colorscale": [
             [
              0,
              "#0d0887"
             ],
             [
              0.1111111111111111,
              "#46039f"
             ],
             [
              0.2222222222222222,
              "#7201a8"
             ],
             [
              0.3333333333333333,
              "#9c179e"
             ],
             [
              0.4444444444444444,
              "#bd3786"
             ],
             [
              0.5555555555555556,
              "#d8576b"
             ],
             [
              0.6666666666666666,
              "#ed7953"
             ],
             [
              0.7777777777777778,
              "#fb9f3a"
             ],
             [
              0.8888888888888888,
              "#fdca26"
             ],
             [
              1,
              "#f0f921"
             ]
            ],
            "type": "heatmapgl"
           }
          ],
          "histogram": [
           {
            "marker": {
             "pattern": {
              "fillmode": "overlay",
              "size": 10,
              "solidity": 0.2
             }
            },
            "type": "histogram"
           }
          ],
          "histogram2d": [
           {
            "colorbar": {
             "outlinewidth": 0,
             "ticks": ""
            },
            "colorscale": [
             [
              0,
              "#0d0887"
             ],
             [
              0.1111111111111111,
              "#46039f"
             ],
             [
              0.2222222222222222,
              "#7201a8"
             ],
             [
              0.3333333333333333,
              "#9c179e"
             ],
             [
              0.4444444444444444,
              "#bd3786"
             ],
             [
              0.5555555555555556,
              "#d8576b"
             ],
             [
              0.6666666666666666,
              "#ed7953"
             ],
             [
              0.7777777777777778,
              "#fb9f3a"
             ],
             [
              0.8888888888888888,
              "#fdca26"
             ],
             [
              1,
              "#f0f921"
             ]
            ],
            "type": "histogram2d"
           }
          ],
          "histogram2dcontour": [
           {
            "colorbar": {
             "outlinewidth": 0,
             "ticks": ""
            },
            "colorscale": [
             [
              0,
              "#0d0887"
             ],
             [
              0.1111111111111111,
              "#46039f"
             ],
             [
              0.2222222222222222,
              "#7201a8"
             ],
             [
              0.3333333333333333,
              "#9c179e"
             ],
             [
              0.4444444444444444,
              "#bd3786"
             ],
             [
              0.5555555555555556,
              "#d8576b"
             ],
             [
              0.6666666666666666,
              "#ed7953"
             ],
             [
              0.7777777777777778,
              "#fb9f3a"
             ],
             [
              0.8888888888888888,
              "#fdca26"
             ],
             [
              1,
              "#f0f921"
             ]
            ],
            "type": "histogram2dcontour"
           }
          ],
          "mesh3d": [
           {
            "colorbar": {
             "outlinewidth": 0,
             "ticks": ""
            },
            "type": "mesh3d"
           }
          ],
          "parcoords": [
           {
            "line": {
             "colorbar": {
              "outlinewidth": 0,
              "ticks": ""
             }
            },
            "type": "parcoords"
           }
          ],
          "pie": [
           {
            "automargin": true,
            "type": "pie"
           }
          ],
          "scatter": [
           {
            "marker": {
             "colorbar": {
              "outlinewidth": 0,
              "ticks": ""
             }
            },
            "type": "scatter"
           }
          ],
          "scatter3d": [
           {
            "line": {
             "colorbar": {
              "outlinewidth": 0,
              "ticks": ""
             }
            },
            "marker": {
             "colorbar": {
              "outlinewidth": 0,
              "ticks": ""
             }
            },
            "type": "scatter3d"
           }
          ],
          "scattercarpet": [
           {
            "marker": {
             "colorbar": {
              "outlinewidth": 0,
              "ticks": ""
             }
            },
            "type": "scattercarpet"
           }
          ],
          "scattergeo": [
           {
            "marker": {
             "colorbar": {
              "outlinewidth": 0,
              "ticks": ""
             }
            },
            "type": "scattergeo"
           }
          ],
          "scattergl": [
           {
            "marker": {
             "colorbar": {
              "outlinewidth": 0,
              "ticks": ""
             }
            },
            "type": "scattergl"
           }
          ],
          "scattermapbox": [
           {
            "marker": {
             "colorbar": {
              "outlinewidth": 0,
              "ticks": ""
             }
            },
            "type": "scattermapbox"
           }
          ],
          "scatterpolar": [
           {
            "marker": {
             "colorbar": {
              "outlinewidth": 0,
              "ticks": ""
             }
            },
            "type": "scatterpolar"
           }
          ],
          "scatterpolargl": [
           {
            "marker": {
             "colorbar": {
              "outlinewidth": 0,
              "ticks": ""
             }
            },
            "type": "scatterpolargl"
           }
          ],
          "scatterternary": [
           {
            "marker": {
             "colorbar": {
              "outlinewidth": 0,
              "ticks": ""
             }
            },
            "type": "scatterternary"
           }
          ],
          "surface": [
           {
            "colorbar": {
             "outlinewidth": 0,
             "ticks": ""
            },
            "colorscale": [
             [
              0,
              "#0d0887"
             ],
             [
              0.1111111111111111,
              "#46039f"
             ],
             [
              0.2222222222222222,
              "#7201a8"
             ],
             [
              0.3333333333333333,
              "#9c179e"
             ],
             [
              0.4444444444444444,
              "#bd3786"
             ],
             [
              0.5555555555555556,
              "#d8576b"
             ],
             [
              0.6666666666666666,
              "#ed7953"
             ],
             [
              0.7777777777777778,
              "#fb9f3a"
             ],
             [
              0.8888888888888888,
              "#fdca26"
             ],
             [
              1,
              "#f0f921"
             ]
            ],
            "type": "surface"
           }
          ],
          "table": [
           {
            "cells": {
             "fill": {
              "color": "#EBF0F8"
             },
             "line": {
              "color": "white"
             }
            },
            "header": {
             "fill": {
              "color": "#C8D4E3"
             },
             "line": {
              "color": "white"
             }
            },
            "type": "table"
           }
          ]
         },
         "layout": {
          "annotationdefaults": {
           "arrowcolor": "#2a3f5f",
           "arrowhead": 0,
           "arrowwidth": 1
          },
          "autotypenumbers": "strict",
          "coloraxis": {
           "colorbar": {
            "outlinewidth": 0,
            "ticks": ""
           }
          },
          "colorscale": {
           "diverging": [
            [
             0,
             "#8e0152"
            ],
            [
             0.1,
             "#c51b7d"
            ],
            [
             0.2,
             "#de77ae"
            ],
            [
             0.3,
             "#f1b6da"
            ],
            [
             0.4,
             "#fde0ef"
            ],
            [
             0.5,
             "#f7f7f7"
            ],
            [
             0.6,
             "#e6f5d0"
            ],
            [
             0.7,
             "#b8e186"
            ],
            [
             0.8,
             "#7fbc41"
            ],
            [
             0.9,
             "#4d9221"
            ],
            [
             1,
             "#276419"
            ]
           ],
           "sequential": [
            [
             0,
             "#0d0887"
            ],
            [
             0.1111111111111111,
             "#46039f"
            ],
            [
             0.2222222222222222,
             "#7201a8"
            ],
            [
             0.3333333333333333,
             "#9c179e"
            ],
            [
             0.4444444444444444,
             "#bd3786"
            ],
            [
             0.5555555555555556,
             "#d8576b"
            ],
            [
             0.6666666666666666,
             "#ed7953"
            ],
            [
             0.7777777777777778,
             "#fb9f3a"
            ],
            [
             0.8888888888888888,
             "#fdca26"
            ],
            [
             1,
             "#f0f921"
            ]
           ],
           "sequentialminus": [
            [
             0,
             "#0d0887"
            ],
            [
             0.1111111111111111,
             "#46039f"
            ],
            [
             0.2222222222222222,
             "#7201a8"
            ],
            [
             0.3333333333333333,
             "#9c179e"
            ],
            [
             0.4444444444444444,
             "#bd3786"
            ],
            [
             0.5555555555555556,
             "#d8576b"
            ],
            [
             0.6666666666666666,
             "#ed7953"
            ],
            [
             0.7777777777777778,
             "#fb9f3a"
            ],
            [
             0.8888888888888888,
             "#fdca26"
            ],
            [
             1,
             "#f0f921"
            ]
           ]
          },
          "colorway": [
           "#636efa",
           "#EF553B",
           "#00cc96",
           "#ab63fa",
           "#FFA15A",
           "#19d3f3",
           "#FF6692",
           "#B6E880",
           "#FF97FF",
           "#FECB52"
          ],
          "font": {
           "color": "#2a3f5f"
          },
          "geo": {
           "bgcolor": "white",
           "lakecolor": "white",
           "landcolor": "#E5ECF6",
           "showlakes": true,
           "showland": true,
           "subunitcolor": "white"
          },
          "hoverlabel": {
           "align": "left"
          },
          "hovermode": "closest",
          "mapbox": {
           "style": "light"
          },
          "paper_bgcolor": "white",
          "plot_bgcolor": "#E5ECF6",
          "polar": {
           "angularaxis": {
            "gridcolor": "white",
            "linecolor": "white",
            "ticks": ""
           },
           "bgcolor": "#E5ECF6",
           "radialaxis": {
            "gridcolor": "white",
            "linecolor": "white",
            "ticks": ""
           }
          },
          "scene": {
           "xaxis": {
            "backgroundcolor": "#E5ECF6",
            "gridcolor": "white",
            "gridwidth": 2,
            "linecolor": "white",
            "showbackground": true,
            "ticks": "",
            "zerolinecolor": "white"
           },
           "yaxis": {
            "backgroundcolor": "#E5ECF6",
            "gridcolor": "white",
            "gridwidth": 2,
            "linecolor": "white",
            "showbackground": true,
            "ticks": "",
            "zerolinecolor": "white"
           },
           "zaxis": {
            "backgroundcolor": "#E5ECF6",
            "gridcolor": "white",
            "gridwidth": 2,
            "linecolor": "white",
            "showbackground": true,
            "ticks": "",
            "zerolinecolor": "white"
           }
          },
          "shapedefaults": {
           "line": {
            "color": "#2a3f5f"
           }
          },
          "ternary": {
           "aaxis": {
            "gridcolor": "white",
            "linecolor": "white",
            "ticks": ""
           },
           "baxis": {
            "gridcolor": "white",
            "linecolor": "white",
            "ticks": ""
           },
           "bgcolor": "#E5ECF6",
           "caxis": {
            "gridcolor": "white",
            "linecolor": "white",
            "ticks": ""
           }
          },
          "title": {
           "x": 0.05
          },
          "xaxis": {
           "automargin": true,
           "gridcolor": "white",
           "linecolor": "white",
           "ticks": "",
           "title": {
            "standoff": 15
           },
           "zerolinecolor": "white",
           "zerolinewidth": 2
          },
          "yaxis": {
           "automargin": true,
           "gridcolor": "white",
           "linecolor": "white",
           "ticks": "",
           "title": {
            "standoff": 15
           },
           "zerolinecolor": "white",
           "zerolinewidth": 2
          }
         }
        },
        "title": {
         "font": {
          "color": "#4D5663"
         }
        },
        "xaxis": {
         "gridcolor": "#E1E5ED",
         "showgrid": true,
         "tickfont": {
          "color": "#4D5663"
         },
         "title": {
          "font": {
           "color": "#4D5663"
          },
          "text": ""
         },
         "zerolinecolor": "#E1E5ED"
        },
        "yaxis": {
         "gridcolor": "#E1E5ED",
         "showgrid": true,
         "tickfont": {
          "color": "#4D5663"
         },
         "title": {
          "font": {
           "color": "#4D5663"
          },
          "text": ""
         },
         "zerolinecolor": "#E1E5ED"
        }
       }
      },
      "text/html": [
       "<div>                            <div id=\"807d6826-ff68-4d5e-8e48-c01c960716eb\" class=\"plotly-graph-div\" style=\"height:525px; width:100%;\"></div>            <script type=\"text/javascript\">                require([\"plotly\"], function(Plotly) {                    window.PLOTLYENV=window.PLOTLYENV || {};\n",
       "                    window.PLOTLYENV.BASE_URL='https://plot.ly';                                    if (document.getElementById(\"807d6826-ff68-4d5e-8e48-c01c960716eb\")) {                    Plotly.newPlot(                        \"807d6826-ff68-4d5e-8e48-c01c960716eb\",                        [{\"colorscale\":[[0.0,\"rgb(165,0,38)\"],[0.1,\"rgb(215,48,39)\"],[0.2,\"rgb(244,109,67)\"],[0.3,\"rgb(253,174,97)\"],[0.4,\"rgb(254,224,144)\"],[0.5,\"rgb(255,255,191)\"],[0.6,\"rgb(224,243,248)\"],[0.7,\"rgb(171,217,233)\"],[0.8,\"rgb(116,173,209)\"],[0.9,\"rgb(69,117,180)\"],[1.0,\"rgb(49,54,149)\"]],\"x\":[0,1,2,3,4],\"y\":[\"x\",\"y\",\"z\"],\"z\":[[1,2,3,4,5],[10,20,30,20,10],[5,4,3,2,1]],\"type\":\"surface\"}],                        {\"legend\":{\"bgcolor\":\"#F5F6F9\",\"font\":{\"color\":\"#4D5663\"}},\"paper_bgcolor\":\"#F5F6F9\",\"plot_bgcolor\":\"#F5F6F9\",\"template\":{\"data\":{\"barpolar\":[{\"marker\":{\"line\":{\"color\":\"#E5ECF6\",\"width\":0.5},\"pattern\":{\"fillmode\":\"overlay\",\"size\":10,\"solidity\":0.2}},\"type\":\"barpolar\"}],\"bar\":[{\"error_x\":{\"color\":\"#2a3f5f\"},\"error_y\":{\"color\":\"#2a3f5f\"},\"marker\":{\"line\":{\"color\":\"#E5ECF6\",\"width\":0.5},\"pattern\":{\"fillmode\":\"overlay\",\"size\":10,\"solidity\":0.2}},\"type\":\"bar\"}],\"carpet\":[{\"aaxis\":{\"endlinecolor\":\"#2a3f5f\",\"gridcolor\":\"white\",\"linecolor\":\"white\",\"minorgridcolor\":\"white\",\"startlinecolor\":\"#2a3f5f\"},\"baxis\":{\"endlinecolor\":\"#2a3f5f\",\"gridcolor\":\"white\",\"linecolor\":\"white\",\"minorgridcolor\":\"white\",\"startlinecolor\":\"#2a3f5f\"},\"type\":\"carpet\"}],\"choropleth\":[{\"colorbar\":{\"outlinewidth\":0,\"ticks\":\"\"},\"type\":\"choropleth\"}],\"contourcarpet\":[{\"colorbar\":{\"outlinewidth\":0,\"ticks\":\"\"},\"type\":\"contourcarpet\"}],\"contour\":[{\"colorbar\":{\"outlinewidth\":0,\"ticks\":\"\"},\"colorscale\":[[0.0,\"#0d0887\"],[0.1111111111111111,\"#46039f\"],[0.2222222222222222,\"#7201a8\"],[0.3333333333333333,\"#9c179e\"],[0.4444444444444444,\"#bd3786\"],[0.5555555555555556,\"#d8576b\"],[0.6666666666666666,\"#ed7953\"],[0.7777777777777778,\"#fb9f3a\"],[0.8888888888888888,\"#fdca26\"],[1.0,\"#f0f921\"]],\"type\":\"contour\"}],\"heatmapgl\":[{\"colorbar\":{\"outlinewidth\":0,\"ticks\":\"\"},\"colorscale\":[[0.0,\"#0d0887\"],[0.1111111111111111,\"#46039f\"],[0.2222222222222222,\"#7201a8\"],[0.3333333333333333,\"#9c179e\"],[0.4444444444444444,\"#bd3786\"],[0.5555555555555556,\"#d8576b\"],[0.6666666666666666,\"#ed7953\"],[0.7777777777777778,\"#fb9f3a\"],[0.8888888888888888,\"#fdca26\"],[1.0,\"#f0f921\"]],\"type\":\"heatmapgl\"}],\"heatmap\":[{\"colorbar\":{\"outlinewidth\":0,\"ticks\":\"\"},\"colorscale\":[[0.0,\"#0d0887\"],[0.1111111111111111,\"#46039f\"],[0.2222222222222222,\"#7201a8\"],[0.3333333333333333,\"#9c179e\"],[0.4444444444444444,\"#bd3786\"],[0.5555555555555556,\"#d8576b\"],[0.6666666666666666,\"#ed7953\"],[0.7777777777777778,\"#fb9f3a\"],[0.8888888888888888,\"#fdca26\"],[1.0,\"#f0f921\"]],\"type\":\"heatmap\"}],\"histogram2dcontour\":[{\"colorbar\":{\"outlinewidth\":0,\"ticks\":\"\"},\"colorscale\":[[0.0,\"#0d0887\"],[0.1111111111111111,\"#46039f\"],[0.2222222222222222,\"#7201a8\"],[0.3333333333333333,\"#9c179e\"],[0.4444444444444444,\"#bd3786\"],[0.5555555555555556,\"#d8576b\"],[0.6666666666666666,\"#ed7953\"],[0.7777777777777778,\"#fb9f3a\"],[0.8888888888888888,\"#fdca26\"],[1.0,\"#f0f921\"]],\"type\":\"histogram2dcontour\"}],\"histogram2d\":[{\"colorbar\":{\"outlinewidth\":0,\"ticks\":\"\"},\"colorscale\":[[0.0,\"#0d0887\"],[0.1111111111111111,\"#46039f\"],[0.2222222222222222,\"#7201a8\"],[0.3333333333333333,\"#9c179e\"],[0.4444444444444444,\"#bd3786\"],[0.5555555555555556,\"#d8576b\"],[0.6666666666666666,\"#ed7953\"],[0.7777777777777778,\"#fb9f3a\"],[0.8888888888888888,\"#fdca26\"],[1.0,\"#f0f921\"]],\"type\":\"histogram2d\"}],\"histogram\":[{\"marker\":{\"pattern\":{\"fillmode\":\"overlay\",\"size\":10,\"solidity\":0.2}},\"type\":\"histogram\"}],\"mesh3d\":[{\"colorbar\":{\"outlinewidth\":0,\"ticks\":\"\"},\"type\":\"mesh3d\"}],\"parcoords\":[{\"line\":{\"colorbar\":{\"outlinewidth\":0,\"ticks\":\"\"}},\"type\":\"parcoords\"}],\"pie\":[{\"automargin\":true,\"type\":\"pie\"}],\"scatter3d\":[{\"line\":{\"colorbar\":{\"outlinewidth\":0,\"ticks\":\"\"}},\"marker\":{\"colorbar\":{\"outlinewidth\":0,\"ticks\":\"\"}},\"type\":\"scatter3d\"}],\"scattercarpet\":[{\"marker\":{\"colorbar\":{\"outlinewidth\":0,\"ticks\":\"\"}},\"type\":\"scattercarpet\"}],\"scattergeo\":[{\"marker\":{\"colorbar\":{\"outlinewidth\":0,\"ticks\":\"\"}},\"type\":\"scattergeo\"}],\"scattergl\":[{\"marker\":{\"colorbar\":{\"outlinewidth\":0,\"ticks\":\"\"}},\"type\":\"scattergl\"}],\"scattermapbox\":[{\"marker\":{\"colorbar\":{\"outlinewidth\":0,\"ticks\":\"\"}},\"type\":\"scattermapbox\"}],\"scatterpolargl\":[{\"marker\":{\"colorbar\":{\"outlinewidth\":0,\"ticks\":\"\"}},\"type\":\"scatterpolargl\"}],\"scatterpolar\":[{\"marker\":{\"colorbar\":{\"outlinewidth\":0,\"ticks\":\"\"}},\"type\":\"scatterpolar\"}],\"scatter\":[{\"marker\":{\"colorbar\":{\"outlinewidth\":0,\"ticks\":\"\"}},\"type\":\"scatter\"}],\"scatterternary\":[{\"marker\":{\"colorbar\":{\"outlinewidth\":0,\"ticks\":\"\"}},\"type\":\"scatterternary\"}],\"surface\":[{\"colorbar\":{\"outlinewidth\":0,\"ticks\":\"\"},\"colorscale\":[[0.0,\"#0d0887\"],[0.1111111111111111,\"#46039f\"],[0.2222222222222222,\"#7201a8\"],[0.3333333333333333,\"#9c179e\"],[0.4444444444444444,\"#bd3786\"],[0.5555555555555556,\"#d8576b\"],[0.6666666666666666,\"#ed7953\"],[0.7777777777777778,\"#fb9f3a\"],[0.8888888888888888,\"#fdca26\"],[1.0,\"#f0f921\"]],\"type\":\"surface\"}],\"table\":[{\"cells\":{\"fill\":{\"color\":\"#EBF0F8\"},\"line\":{\"color\":\"white\"}},\"header\":{\"fill\":{\"color\":\"#C8D4E3\"},\"line\":{\"color\":\"white\"}},\"type\":\"table\"}]},\"layout\":{\"annotationdefaults\":{\"arrowcolor\":\"#2a3f5f\",\"arrowhead\":0,\"arrowwidth\":1},\"autotypenumbers\":\"strict\",\"coloraxis\":{\"colorbar\":{\"outlinewidth\":0,\"ticks\":\"\"}},\"colorscale\":{\"diverging\":[[0,\"#8e0152\"],[0.1,\"#c51b7d\"],[0.2,\"#de77ae\"],[0.3,\"#f1b6da\"],[0.4,\"#fde0ef\"],[0.5,\"#f7f7f7\"],[0.6,\"#e6f5d0\"],[0.7,\"#b8e186\"],[0.8,\"#7fbc41\"],[0.9,\"#4d9221\"],[1,\"#276419\"]],\"sequential\":[[0.0,\"#0d0887\"],[0.1111111111111111,\"#46039f\"],[0.2222222222222222,\"#7201a8\"],[0.3333333333333333,\"#9c179e\"],[0.4444444444444444,\"#bd3786\"],[0.5555555555555556,\"#d8576b\"],[0.6666666666666666,\"#ed7953\"],[0.7777777777777778,\"#fb9f3a\"],[0.8888888888888888,\"#fdca26\"],[1.0,\"#f0f921\"]],\"sequentialminus\":[[0.0,\"#0d0887\"],[0.1111111111111111,\"#46039f\"],[0.2222222222222222,\"#7201a8\"],[0.3333333333333333,\"#9c179e\"],[0.4444444444444444,\"#bd3786\"],[0.5555555555555556,\"#d8576b\"],[0.6666666666666666,\"#ed7953\"],[0.7777777777777778,\"#fb9f3a\"],[0.8888888888888888,\"#fdca26\"],[1.0,\"#f0f921\"]]},\"colorway\":[\"#636efa\",\"#EF553B\",\"#00cc96\",\"#ab63fa\",\"#FFA15A\",\"#19d3f3\",\"#FF6692\",\"#B6E880\",\"#FF97FF\",\"#FECB52\"],\"font\":{\"color\":\"#2a3f5f\"},\"geo\":{\"bgcolor\":\"white\",\"lakecolor\":\"white\",\"landcolor\":\"#E5ECF6\",\"showlakes\":true,\"showland\":true,\"subunitcolor\":\"white\"},\"hoverlabel\":{\"align\":\"left\"},\"hovermode\":\"closest\",\"mapbox\":{\"style\":\"light\"},\"paper_bgcolor\":\"white\",\"plot_bgcolor\":\"#E5ECF6\",\"polar\":{\"angularaxis\":{\"gridcolor\":\"white\",\"linecolor\":\"white\",\"ticks\":\"\"},\"bgcolor\":\"#E5ECF6\",\"radialaxis\":{\"gridcolor\":\"white\",\"linecolor\":\"white\",\"ticks\":\"\"}},\"scene\":{\"xaxis\":{\"backgroundcolor\":\"#E5ECF6\",\"gridcolor\":\"white\",\"gridwidth\":2,\"linecolor\":\"white\",\"showbackground\":true,\"ticks\":\"\",\"zerolinecolor\":\"white\"},\"yaxis\":{\"backgroundcolor\":\"#E5ECF6\",\"gridcolor\":\"white\",\"gridwidth\":2,\"linecolor\":\"white\",\"showbackground\":true,\"ticks\":\"\",\"zerolinecolor\":\"white\"},\"zaxis\":{\"backgroundcolor\":\"#E5ECF6\",\"gridcolor\":\"white\",\"gridwidth\":2,\"linecolor\":\"white\",\"showbackground\":true,\"ticks\":\"\",\"zerolinecolor\":\"white\"}},\"shapedefaults\":{\"line\":{\"color\":\"#2a3f5f\"}},\"ternary\":{\"aaxis\":{\"gridcolor\":\"white\",\"linecolor\":\"white\",\"ticks\":\"\"},\"baxis\":{\"gridcolor\":\"white\",\"linecolor\":\"white\",\"ticks\":\"\"},\"bgcolor\":\"#E5ECF6\",\"caxis\":{\"gridcolor\":\"white\",\"linecolor\":\"white\",\"ticks\":\"\"}},\"title\":{\"x\":0.05},\"xaxis\":{\"automargin\":true,\"gridcolor\":\"white\",\"linecolor\":\"white\",\"ticks\":\"\",\"title\":{\"standoff\":15},\"zerolinecolor\":\"white\",\"zerolinewidth\":2},\"yaxis\":{\"automargin\":true,\"gridcolor\":\"white\",\"linecolor\":\"white\",\"ticks\":\"\",\"title\":{\"standoff\":15},\"zerolinecolor\":\"white\",\"zerolinewidth\":2}}},\"title\":{\"font\":{\"color\":\"#4D5663\"}},\"xaxis\":{\"gridcolor\":\"#E1E5ED\",\"showgrid\":true,\"tickfont\":{\"color\":\"#4D5663\"},\"title\":{\"font\":{\"color\":\"#4D5663\"},\"text\":\"\"},\"zerolinecolor\":\"#E1E5ED\"},\"yaxis\":{\"gridcolor\":\"#E1E5ED\",\"showgrid\":true,\"tickfont\":{\"color\":\"#4D5663\"},\"title\":{\"font\":{\"color\":\"#4D5663\"},\"text\":\"\"},\"zerolinecolor\":\"#E1E5ED\"}},                        {\"showLink\": true, \"linkText\": \"Export to plot.ly\", \"plotlyServerURL\": \"https://plot.ly\", \"responsive\": true}                    ).then(function(){\n",
       "                            \n",
       "var gd = document.getElementById('807d6826-ff68-4d5e-8e48-c01c960716eb');\n",
       "var x = new MutationObserver(function (mutations, observer) {{\n",
       "        var display = window.getComputedStyle(gd).display;\n",
       "        if (!display || display === 'none') {{\n",
       "            console.log([gd, 'removed!']);\n",
       "            Plotly.purge(gd);\n",
       "            observer.disconnect();\n",
       "        }}\n",
       "}});\n",
       "\n",
       "// Listen for the removal of the full notebook cells\n",
       "var notebookContainer = gd.closest('#notebook-container');\n",
       "if (notebookContainer) {{\n",
       "    x.observe(notebookContainer, {childList: true});\n",
       "}}\n",
       "\n",
       "// Listen for the clearing of the current output cell\n",
       "var outputEl = gd.closest('.output');\n",
       "if (outputEl) {{\n",
       "    x.observe(outputEl, {childList: true});\n",
       "}}\n",
       "\n",
       "                        })                };                });            </script>        </div>"
      ]
     },
     "metadata": {},
     "output_type": "display_data"
    }
   ],
   "source": [
    "df3 = pd.DataFrame({'x':[1,2,3,4,5],'y':[10,20,30,20,10],'z':[5,4,3,2,1]})\n",
    "df3.iplot(kind='surface',colorscale='rdylbu')"
   ]
  },
  {
   "cell_type": "markdown",
   "metadata": {},
   "source": [
    "## Spread"
   ]
  },
  {
   "cell_type": "code",
   "execution_count": 15,
   "metadata": {},
   "outputs": [
    {
     "name": "stderr",
     "output_type": "stream",
     "text": [
      "C:\\Users\\rudra\\anaconda3\\lib\\site-packages\\cufflinks\\plotlytools.py:849: FutureWarning:\n",
      "\n",
      "The pandas.np module is deprecated and will be removed from pandas in a future version. Import numpy directly instead\n",
      "\n",
      "C:\\Users\\rudra\\anaconda3\\lib\\site-packages\\cufflinks\\plotlytools.py:850: FutureWarning:\n",
      "\n",
      "The pandas.np module is deprecated and will be removed from pandas in a future version. Import numpy directly instead\n",
      "\n"
     ]
    },
    {
     "data": {
      "application/vnd.plotly.v1+json": {
       "config": {
        "linkText": "Export to plot.ly",
        "plotlyServerURL": "https://plot.ly",
        "showLink": true
       },
       "data": [
        {
         "line": {
          "color": "rgba(255, 153, 51, 1.0)",
          "dash": "solid",
          "shape": "linear",
          "width": 1.3
         },
         "mode": "lines",
         "name": "A",
         "text": "",
         "type": "scatter",
         "x": [
          0,
          1,
          2,
          3,
          4,
          5,
          6,
          7,
          8,
          9,
          10,
          11,
          12,
          13,
          14,
          15,
          16,
          17,
          18,
          19,
          20,
          21,
          22,
          23,
          24,
          25,
          26,
          27,
          28,
          29,
          30,
          31,
          32,
          33,
          34,
          35,
          36,
          37,
          38,
          39,
          40,
          41,
          42,
          43,
          44,
          45,
          46,
          47,
          48,
          49,
          50,
          51,
          52,
          53,
          54,
          55,
          56,
          57,
          58,
          59,
          60,
          61,
          62,
          63,
          64,
          65,
          66,
          67,
          68,
          69,
          70,
          71,
          72,
          73,
          74,
          75,
          76,
          77,
          78,
          79,
          80,
          81,
          82,
          83,
          84,
          85,
          86,
          87,
          88,
          89,
          90,
          91,
          92,
          93,
          94,
          95,
          96,
          97,
          98,
          99
         ],
         "y": [
          -0.36786982851319505,
          -0.8139460136439768,
          -1.2728002553624609,
          -0.16742849267659557,
          0.2568812060873537,
          1.7412616989824088,
          -1.5621264209503618,
          -0.9716442807368325,
          0.18120238038652076,
          -0.45624359436676554,
          0.4192093729134039,
          -1.7537622507026116,
          -0.6760570885254076,
          1.2315472502842275,
          1.344721140948013,
          1.5308498457246777,
          0.0811757384905562,
          -0.07056372644932463,
          -0.4096182151163972,
          -0.18810476194808798,
          -0.6888845471082019,
          0.1787949634688186,
          -0.6326159497145163,
          1.3665080793470559,
          -1.264100708338595,
          0.5654737427593445,
          -0.6314385446664598,
          0.7959791813286821,
          1.5209648447798207,
          0.011053102554344277,
          0.0575177083012101,
          2.1146701003920465,
          0.6844826246908693,
          -1.1059174909427503,
          0.36088615768745663,
          -0.9196362508572212,
          2.413895200230858,
          0.36847160558729464,
          1.5555526138790137,
          0.27533952277220874,
          0.5128093807287213,
          -0.36109803744274055,
          -0.2245813865447435,
          -1.3929369067023898,
          -1.7149219010602588,
          -0.06436773582098293,
          0.705890363747037,
          0.8834346495884103,
          -1.2819697508145063,
          1.0211868852886536,
          0.09444081962493833,
          0.9936925290527405,
          -0.24805292015688082,
          -0.38975442643515745,
          0.13162173026208018,
          -2.0904123249582196,
          -0.3638188904525045,
          1.5945900934580928,
          0.7833673844256537,
          0.2957653201178533,
          -0.420979774187367,
          -0.3033766512810295,
          -0.2359411997474931,
          -0.4555954179187365,
          0.5506480905045086,
          -0.613326940080486,
          -1.1439066960853865,
          0.49946364909654484,
          0.1921167231914247,
          -1.5000415223098764,
          -0.5242457354730988,
          -0.12933767299748697,
          -1.1800277618914492,
          0.9604362518828048,
          -1.3716897691557939,
          -0.9103137466615401,
          1.21475681850616,
          -1.2309199307746803,
          0.7560338475782938,
          1.076852768980497,
          -0.04882792274589524,
          -0.7653859453081738,
          -1.2279318521344766,
          -0.4210661832352774,
          -0.5586350407050273,
          -0.721991107436455,
          0.9659154488762632,
          1.2182790903319993,
          -1.3690372725967028,
          -1.3587655905835527,
          0.515290847414008,
          1.0695484930182528,
          -1.3380019043323563,
          -1.216940120335792,
          1.0947929024669336,
          0.23884071328995005,
          -0.45823390270079395,
          1.4792255439209159,
          -1.3118290643991475,
          -1.172534065870987
         ]
        },
        {
         "line": {
          "color": "rgba(55, 128, 191, 1.0)",
          "dash": "solid",
          "shape": "linear",
          "width": 1.3
         },
         "mode": "lines",
         "name": "B",
         "text": "",
         "type": "scatter",
         "x": [
          0,
          1,
          2,
          3,
          4,
          5,
          6,
          7,
          8,
          9,
          10,
          11,
          12,
          13,
          14,
          15,
          16,
          17,
          18,
          19,
          20,
          21,
          22,
          23,
          24,
          25,
          26,
          27,
          28,
          29,
          30,
          31,
          32,
          33,
          34,
          35,
          36,
          37,
          38,
          39,
          40,
          41,
          42,
          43,
          44,
          45,
          46,
          47,
          48,
          49,
          50,
          51,
          52,
          53,
          54,
          55,
          56,
          57,
          58,
          59,
          60,
          61,
          62,
          63,
          64,
          65,
          66,
          67,
          68,
          69,
          70,
          71,
          72,
          73,
          74,
          75,
          76,
          77,
          78,
          79,
          80,
          81,
          82,
          83,
          84,
          85,
          86,
          87,
          88,
          89,
          90,
          91,
          92,
          93,
          94,
          95,
          96,
          97,
          98,
          99
         ],
         "y": [
          0.1819819126791729,
          -0.7690504649458737,
          0.4146966578943233,
          0.735872368805637,
          0.8669917218711843,
          2.1748617101751,
          1.2318371866263211,
          0.16427863005281082,
          -0.7516033269630648,
          -0.059540090628032005,
          -0.012899474698968688,
          1.7520395134071642,
          -0.01591686529266641,
          -1.30737693706392,
          0.31469596302611313,
          0.0006447044677048574,
          -0.7695973642700286,
          -1.588439968194205,
          0.5132563588699779,
          -0.4166594400416099,
          0.654191318124905,
          1.538197099799716,
          -0.9734425150447913,
          -1.346122715368668,
          -0.3594077404233946,
          1.7299228793641566,
          2.1101164566449864,
          -0.9413070230386088,
          0.013584305821453655,
          -0.2281718487132733,
          1.6031139424787848,
          0.6043596490108111,
          0.6197173644455335,
          0.22320795650902636,
          3.348229272407328,
          0.7701779183439242,
          1.8000414301434686,
          -1.4159099794566452,
          -0.4371479314457633,
          -0.2147748488950862,
          -0.6812616180720111,
          0.6879337962777717,
          0.15289137723322704,
          -0.6636384766790288,
          0.9087932907473223,
          0.13219355583100664,
          0.6622465833842975,
          -0.5583410998398035,
          -0.24485904679848086,
          -0.4643834042131067,
          -2.2419875725888185,
          0.8278854578464298,
          0.20176407293093973,
          -1.3934247465283838,
          1.1134336391437878,
          -1.6334405533394345,
          1.3236953777109324,
          0.5224675986838716,
          -0.58959784704781,
          1.4586033556318427,
          0.9083302010742899,
          1.720992224059844,
          -1.889437228043027,
          1.465208342151267,
          0.45166524739808955,
          -0.02542207128711079,
          0.28324402331732385,
          -0.49926804861875734,
          0.3895796831658555,
          -0.3266481370656572,
          -2.1620324688740515,
          -0.4198106606771507,
          -0.41366740287377785,
          -0.584281831740891,
          -1.8799488990110838,
          1.0867735776383765,
          0.04134940253602887,
          -0.5192131068274868,
          -0.3308715980802985,
          0.5820619125965684,
          -0.3296740677753678,
          -0.7694843154746899,
          0.3974786425028931,
          -0.09690329212432874,
          0.2848301613145788,
          0.19226842929502952,
          -0.8350478382165045,
          0.30326140879933705,
          0.684022961660779,
          -0.5307381409250069,
          1.1163236404658101,
          -0.018062703200621047,
          1.1463717068725314,
          0.9530289674340827,
          -1.389032278301572,
          -0.7532835443706728,
          1.0060298398741725,
          -0.1675034739802897,
          -1.0888384951742667,
          -1.6766035427580728
         ]
        },
        {
         "connectgaps": false,
         "fill": "tozeroy",
         "line": {
          "color": "green",
          "dash": "solid",
          "shape": "linear",
          "width": 0.5
         },
         "mode": "lines",
         "name": "Spread",
         "showlegend": false,
         "type": "scatter",
         "x": [
          0,
          1,
          2,
          3,
          4,
          5,
          6,
          7,
          8,
          9,
          10,
          11,
          12,
          13,
          14,
          15,
          16,
          17,
          18,
          19,
          20,
          21,
          22,
          23,
          24,
          25,
          26,
          27,
          28,
          29,
          30,
          31,
          32,
          33,
          34,
          35,
          36,
          37,
          38,
          39,
          40,
          41,
          42,
          43,
          44,
          45,
          46,
          47,
          48,
          49,
          50,
          51,
          52,
          53,
          54,
          55,
          56,
          57,
          58,
          59,
          60,
          61,
          62,
          63,
          64,
          65,
          66,
          67,
          68,
          69,
          70,
          71,
          72,
          73,
          74,
          75,
          76,
          77,
          78,
          79,
          80,
          81,
          82,
          83,
          84,
          85,
          86,
          87,
          88,
          89,
          90,
          91,
          92,
          93,
          94,
          95,
          96,
          97,
          98,
          99
         ],
         "xaxis": "x2",
         "y": [
          "",
          "",
          "",
          "",
          "",
          "",
          "",
          "",
          0.9328057073495855,
          "",
          0.43210884761237256,
          "",
          "",
          2.5389241873481474,
          1.0300251779219,
          1.5302051412569728,
          0.8507731027605847,
          1.5178762417448803,
          "",
          0.2285546780935219,
          "",
          "",
          0.340826565330275,
          2.7126307947157238,
          "",
          "",
          "",
          1.7372862043672908,
          1.507380538958367,
          0.23922495126761759,
          "",
          1.5103104513812355,
          0.0647652602453358,
          "",
          "",
          "",
          0.6138537700873892,
          1.7843815850439397,
          1.992700545324777,
          0.49011437166729493,
          1.1940709988007323,
          "",
          "",
          "",
          "",
          "",
          0.043643780362739415,
          1.441775749428214,
          "",
          1.4855702895017604,
          2.3364283922137568,
          0.16580707120631077,
          "",
          1.0036703200932262,
          "",
          "",
          "",
          1.0721224947742212,
          1.3729652314734637,
          "",
          "",
          "",
          1.6534960282955338,
          "",
          0.09898284310641903,
          "",
          "",
          0.9987316977153022,
          "",
          "",
          1.6377867334009526,
          0.2904729876796638,
          "",
          1.5447180836236958,
          0.5082591298552899,
          "",
          1.173407415970131,
          "",
          1.0869054456585923,
          0.4947908563839286,
          0.2808461450294725,
          0.004098370166516041,
          "",
          "",
          "",
          "",
          1.8009632870927677,
          0.9150176815326623,
          "",
          "",
          "",
          1.087611196218874,
          "",
          "",
          2.4838251807685054,
          0.9921242576606228,
          "",
          1.6467290179012055,
          "",
          0.5040694768870857
         ],
         "yaxis": "y2"
        },
        {
         "connectgaps": false,
         "fill": "tozeroy",
         "line": {
          "color": "red",
          "dash": "solid",
          "shape": "linear",
          "width": 0.5
         },
         "mode": "lines",
         "name": "Spread",
         "showlegend": false,
         "type": "scatter",
         "x": [
          0,
          1,
          2,
          3,
          4,
          5,
          6,
          7,
          8,
          9,
          10,
          11,
          12,
          13,
          14,
          15,
          16,
          17,
          18,
          19,
          20,
          21,
          22,
          23,
          24,
          25,
          26,
          27,
          28,
          29,
          30,
          31,
          32,
          33,
          34,
          35,
          36,
          37,
          38,
          39,
          40,
          41,
          42,
          43,
          44,
          45,
          46,
          47,
          48,
          49,
          50,
          51,
          52,
          53,
          54,
          55,
          56,
          57,
          58,
          59,
          60,
          61,
          62,
          63,
          64,
          65,
          66,
          67,
          68,
          69,
          70,
          71,
          72,
          73,
          74,
          75,
          76,
          77,
          78,
          79,
          80,
          81,
          82,
          83,
          84,
          85,
          86,
          87,
          88,
          89,
          90,
          91,
          92,
          93,
          94,
          95,
          96,
          97,
          98,
          99
         ],
         "xaxis": "x2",
         "y": [
          -0.549851741192368,
          -0.04489554869810308,
          -1.6874969132567843,
          -0.9033008614822325,
          -0.6101105157838307,
          -0.4336000111926912,
          -2.793963607576683,
          -1.1359229107896434,
          "",
          -0.39670350373873353,
          "",
          -3.505801764109776,
          -0.6601402232327411,
          "",
          "",
          "",
          "",
          "",
          -0.9228745739863751,
          "",
          -1.343075865233107,
          -1.3594021363308975,
          "",
          "",
          -0.9046929679152003,
          -1.1644491366048122,
          -2.741555001311446,
          "",
          "",
          "",
          -1.5455962341775746,
          "",
          "",
          -1.3291254474517766,
          -2.9873431147198715,
          -1.6898141692011455,
          "",
          "",
          "",
          "",
          "",
          -1.0490318337205122,
          -0.37747276377797057,
          -0.729298430023361,
          -2.623715191807581,
          -0.19656129165198957,
          "",
          "",
          -1.0371107040160255,
          "",
          "",
          "",
          -0.4498169930878205,
          "",
          -0.9818119088817077,
          -0.4569717716187851,
          -1.687514268163437,
          "",
          "",
          -1.1628380355139893,
          -1.3293099752616568,
          -2.0243688753408735,
          "",
          -1.9208037600700034,
          "",
          -0.5879048687933752,
          -1.4271507194027104,
          "",
          -0.1974629599744308,
          -1.173393385244219,
          "",
          "",
          -0.7663603590176713,
          "",
          "",
          -1.9970873242999165,
          "",
          -0.7117068239471935,
          "",
          "",
          "",
          "",
          -1.6254104946373698,
          -0.32416289111094865,
          -0.8434652020196061,
          -0.9142595367314845,
          "",
          "",
          -2.0530602342574817,
          -0.8280274496585458,
          -0.6010327930518021,
          "",
          -2.4843736112048878,
          -2.1699690877698745,
          "",
          "",
          -1.4642637425749665,
          "",
          -0.2229905692248808,
          ""
         ],
         "yaxis": "y2"
        }
       ],
       "layout": {
        "hovermode": "x",
        "legend": {
         "bgcolor": "#F5F6F9",
         "font": {
          "color": "#4D5663"
         }
        },
        "paper_bgcolor": "#F5F6F9",
        "plot_bgcolor": "#F5F6F9",
        "template": {
         "data": {
          "bar": [
           {
            "error_x": {
             "color": "#2a3f5f"
            },
            "error_y": {
             "color": "#2a3f5f"
            },
            "marker": {
             "line": {
              "color": "#E5ECF6",
              "width": 0.5
             },
             "pattern": {
              "fillmode": "overlay",
              "size": 10,
              "solidity": 0.2
             }
            },
            "type": "bar"
           }
          ],
          "barpolar": [
           {
            "marker": {
             "line": {
              "color": "#E5ECF6",
              "width": 0.5
             },
             "pattern": {
              "fillmode": "overlay",
              "size": 10,
              "solidity": 0.2
             }
            },
            "type": "barpolar"
           }
          ],
          "carpet": [
           {
            "aaxis": {
             "endlinecolor": "#2a3f5f",
             "gridcolor": "white",
             "linecolor": "white",
             "minorgridcolor": "white",
             "startlinecolor": "#2a3f5f"
            },
            "baxis": {
             "endlinecolor": "#2a3f5f",
             "gridcolor": "white",
             "linecolor": "white",
             "minorgridcolor": "white",
             "startlinecolor": "#2a3f5f"
            },
            "type": "carpet"
           }
          ],
          "choropleth": [
           {
            "colorbar": {
             "outlinewidth": 0,
             "ticks": ""
            },
            "type": "choropleth"
           }
          ],
          "contour": [
           {
            "colorbar": {
             "outlinewidth": 0,
             "ticks": ""
            },
            "colorscale": [
             [
              0,
              "#0d0887"
             ],
             [
              0.1111111111111111,
              "#46039f"
             ],
             [
              0.2222222222222222,
              "#7201a8"
             ],
             [
              0.3333333333333333,
              "#9c179e"
             ],
             [
              0.4444444444444444,
              "#bd3786"
             ],
             [
              0.5555555555555556,
              "#d8576b"
             ],
             [
              0.6666666666666666,
              "#ed7953"
             ],
             [
              0.7777777777777778,
              "#fb9f3a"
             ],
             [
              0.8888888888888888,
              "#fdca26"
             ],
             [
              1,
              "#f0f921"
             ]
            ],
            "type": "contour"
           }
          ],
          "contourcarpet": [
           {
            "colorbar": {
             "outlinewidth": 0,
             "ticks": ""
            },
            "type": "contourcarpet"
           }
          ],
          "heatmap": [
           {
            "colorbar": {
             "outlinewidth": 0,
             "ticks": ""
            },
            "colorscale": [
             [
              0,
              "#0d0887"
             ],
             [
              0.1111111111111111,
              "#46039f"
             ],
             [
              0.2222222222222222,
              "#7201a8"
             ],
             [
              0.3333333333333333,
              "#9c179e"
             ],
             [
              0.4444444444444444,
              "#bd3786"
             ],
             [
              0.5555555555555556,
              "#d8576b"
             ],
             [
              0.6666666666666666,
              "#ed7953"
             ],
             [
              0.7777777777777778,
              "#fb9f3a"
             ],
             [
              0.8888888888888888,
              "#fdca26"
             ],
             [
              1,
              "#f0f921"
             ]
            ],
            "type": "heatmap"
           }
          ],
          "heatmapgl": [
           {
            "colorbar": {
             "outlinewidth": 0,
             "ticks": ""
            },
            "colorscale": [
             [
              0,
              "#0d0887"
             ],
             [
              0.1111111111111111,
              "#46039f"
             ],
             [
              0.2222222222222222,
              "#7201a8"
             ],
             [
              0.3333333333333333,
              "#9c179e"
             ],
             [
              0.4444444444444444,
              "#bd3786"
             ],
             [
              0.5555555555555556,
              "#d8576b"
             ],
             [
              0.6666666666666666,
              "#ed7953"
             ],
             [
              0.7777777777777778,
              "#fb9f3a"
             ],
             [
              0.8888888888888888,
              "#fdca26"
             ],
             [
              1,
              "#f0f921"
             ]
            ],
            "type": "heatmapgl"
           }
          ],
          "histogram": [
           {
            "marker": {
             "pattern": {
              "fillmode": "overlay",
              "size": 10,
              "solidity": 0.2
             }
            },
            "type": "histogram"
           }
          ],
          "histogram2d": [
           {
            "colorbar": {
             "outlinewidth": 0,
             "ticks": ""
            },
            "colorscale": [
             [
              0,
              "#0d0887"
             ],
             [
              0.1111111111111111,
              "#46039f"
             ],
             [
              0.2222222222222222,
              "#7201a8"
             ],
             [
              0.3333333333333333,
              "#9c179e"
             ],
             [
              0.4444444444444444,
              "#bd3786"
             ],
             [
              0.5555555555555556,
              "#d8576b"
             ],
             [
              0.6666666666666666,
              "#ed7953"
             ],
             [
              0.7777777777777778,
              "#fb9f3a"
             ],
             [
              0.8888888888888888,
              "#fdca26"
             ],
             [
              1,
              "#f0f921"
             ]
            ],
            "type": "histogram2d"
           }
          ],
          "histogram2dcontour": [
           {
            "colorbar": {
             "outlinewidth": 0,
             "ticks": ""
            },
            "colorscale": [
             [
              0,
              "#0d0887"
             ],
             [
              0.1111111111111111,
              "#46039f"
             ],
             [
              0.2222222222222222,
              "#7201a8"
             ],
             [
              0.3333333333333333,
              "#9c179e"
             ],
             [
              0.4444444444444444,
              "#bd3786"
             ],
             [
              0.5555555555555556,
              "#d8576b"
             ],
             [
              0.6666666666666666,
              "#ed7953"
             ],
             [
              0.7777777777777778,
              "#fb9f3a"
             ],
             [
              0.8888888888888888,
              "#fdca26"
             ],
             [
              1,
              "#f0f921"
             ]
            ],
            "type": "histogram2dcontour"
           }
          ],
          "mesh3d": [
           {
            "colorbar": {
             "outlinewidth": 0,
             "ticks": ""
            },
            "type": "mesh3d"
           }
          ],
          "parcoords": [
           {
            "line": {
             "colorbar": {
              "outlinewidth": 0,
              "ticks": ""
             }
            },
            "type": "parcoords"
           }
          ],
          "pie": [
           {
            "automargin": true,
            "type": "pie"
           }
          ],
          "scatter": [
           {
            "marker": {
             "colorbar": {
              "outlinewidth": 0,
              "ticks": ""
             }
            },
            "type": "scatter"
           }
          ],
          "scatter3d": [
           {
            "line": {
             "colorbar": {
              "outlinewidth": 0,
              "ticks": ""
             }
            },
            "marker": {
             "colorbar": {
              "outlinewidth": 0,
              "ticks": ""
             }
            },
            "type": "scatter3d"
           }
          ],
          "scattercarpet": [
           {
            "marker": {
             "colorbar": {
              "outlinewidth": 0,
              "ticks": ""
             }
            },
            "type": "scattercarpet"
           }
          ],
          "scattergeo": [
           {
            "marker": {
             "colorbar": {
              "outlinewidth": 0,
              "ticks": ""
             }
            },
            "type": "scattergeo"
           }
          ],
          "scattergl": [
           {
            "marker": {
             "colorbar": {
              "outlinewidth": 0,
              "ticks": ""
             }
            },
            "type": "scattergl"
           }
          ],
          "scattermapbox": [
           {
            "marker": {
             "colorbar": {
              "outlinewidth": 0,
              "ticks": ""
             }
            },
            "type": "scattermapbox"
           }
          ],
          "scatterpolar": [
           {
            "marker": {
             "colorbar": {
              "outlinewidth": 0,
              "ticks": ""
             }
            },
            "type": "scatterpolar"
           }
          ],
          "scatterpolargl": [
           {
            "marker": {
             "colorbar": {
              "outlinewidth": 0,
              "ticks": ""
             }
            },
            "type": "scatterpolargl"
           }
          ],
          "scatterternary": [
           {
            "marker": {
             "colorbar": {
              "outlinewidth": 0,
              "ticks": ""
             }
            },
            "type": "scatterternary"
           }
          ],
          "surface": [
           {
            "colorbar": {
             "outlinewidth": 0,
             "ticks": ""
            },
            "colorscale": [
             [
              0,
              "#0d0887"
             ],
             [
              0.1111111111111111,
              "#46039f"
             ],
             [
              0.2222222222222222,
              "#7201a8"
             ],
             [
              0.3333333333333333,
              "#9c179e"
             ],
             [
              0.4444444444444444,
              "#bd3786"
             ],
             [
              0.5555555555555556,
              "#d8576b"
             ],
             [
              0.6666666666666666,
              "#ed7953"
             ],
             [
              0.7777777777777778,
              "#fb9f3a"
             ],
             [
              0.8888888888888888,
              "#fdca26"
             ],
             [
              1,
              "#f0f921"
             ]
            ],
            "type": "surface"
           }
          ],
          "table": [
           {
            "cells": {
             "fill": {
              "color": "#EBF0F8"
             },
             "line": {
              "color": "white"
             }
            },
            "header": {
             "fill": {
              "color": "#C8D4E3"
             },
             "line": {
              "color": "white"
             }
            },
            "type": "table"
           }
          ]
         },
         "layout": {
          "annotationdefaults": {
           "arrowcolor": "#2a3f5f",
           "arrowhead": 0,
           "arrowwidth": 1
          },
          "autotypenumbers": "strict",
          "coloraxis": {
           "colorbar": {
            "outlinewidth": 0,
            "ticks": ""
           }
          },
          "colorscale": {
           "diverging": [
            [
             0,
             "#8e0152"
            ],
            [
             0.1,
             "#c51b7d"
            ],
            [
             0.2,
             "#de77ae"
            ],
            [
             0.3,
             "#f1b6da"
            ],
            [
             0.4,
             "#fde0ef"
            ],
            [
             0.5,
             "#f7f7f7"
            ],
            [
             0.6,
             "#e6f5d0"
            ],
            [
             0.7,
             "#b8e186"
            ],
            [
             0.8,
             "#7fbc41"
            ],
            [
             0.9,
             "#4d9221"
            ],
            [
             1,
             "#276419"
            ]
           ],
           "sequential": [
            [
             0,
             "#0d0887"
            ],
            [
             0.1111111111111111,
             "#46039f"
            ],
            [
             0.2222222222222222,
             "#7201a8"
            ],
            [
             0.3333333333333333,
             "#9c179e"
            ],
            [
             0.4444444444444444,
             "#bd3786"
            ],
            [
             0.5555555555555556,
             "#d8576b"
            ],
            [
             0.6666666666666666,
             "#ed7953"
            ],
            [
             0.7777777777777778,
             "#fb9f3a"
            ],
            [
             0.8888888888888888,
             "#fdca26"
            ],
            [
             1,
             "#f0f921"
            ]
           ],
           "sequentialminus": [
            [
             0,
             "#0d0887"
            ],
            [
             0.1111111111111111,
             "#46039f"
            ],
            [
             0.2222222222222222,
             "#7201a8"
            ],
            [
             0.3333333333333333,
             "#9c179e"
            ],
            [
             0.4444444444444444,
             "#bd3786"
            ],
            [
             0.5555555555555556,
             "#d8576b"
            ],
            [
             0.6666666666666666,
             "#ed7953"
            ],
            [
             0.7777777777777778,
             "#fb9f3a"
            ],
            [
             0.8888888888888888,
             "#fdca26"
            ],
            [
             1,
             "#f0f921"
            ]
           ]
          },
          "colorway": [
           "#636efa",
           "#EF553B",
           "#00cc96",
           "#ab63fa",
           "#FFA15A",
           "#19d3f3",
           "#FF6692",
           "#B6E880",
           "#FF97FF",
           "#FECB52"
          ],
          "font": {
           "color": "#2a3f5f"
          },
          "geo": {
           "bgcolor": "white",
           "lakecolor": "white",
           "landcolor": "#E5ECF6",
           "showlakes": true,
           "showland": true,
           "subunitcolor": "white"
          },
          "hoverlabel": {
           "align": "left"
          },
          "hovermode": "closest",
          "mapbox": {
           "style": "light"
          },
          "paper_bgcolor": "white",
          "plot_bgcolor": "#E5ECF6",
          "polar": {
           "angularaxis": {
            "gridcolor": "white",
            "linecolor": "white",
            "ticks": ""
           },
           "bgcolor": "#E5ECF6",
           "radialaxis": {
            "gridcolor": "white",
            "linecolor": "white",
            "ticks": ""
           }
          },
          "scene": {
           "xaxis": {
            "backgroundcolor": "#E5ECF6",
            "gridcolor": "white",
            "gridwidth": 2,
            "linecolor": "white",
            "showbackground": true,
            "ticks": "",
            "zerolinecolor": "white"
           },
           "yaxis": {
            "backgroundcolor": "#E5ECF6",
            "gridcolor": "white",
            "gridwidth": 2,
            "linecolor": "white",
            "showbackground": true,
            "ticks": "",
            "zerolinecolor": "white"
           },
           "zaxis": {
            "backgroundcolor": "#E5ECF6",
            "gridcolor": "white",
            "gridwidth": 2,
            "linecolor": "white",
            "showbackground": true,
            "ticks": "",
            "zerolinecolor": "white"
           }
          },
          "shapedefaults": {
           "line": {
            "color": "#2a3f5f"
           }
          },
          "ternary": {
           "aaxis": {
            "gridcolor": "white",
            "linecolor": "white",
            "ticks": ""
           },
           "baxis": {
            "gridcolor": "white",
            "linecolor": "white",
            "ticks": ""
           },
           "bgcolor": "#E5ECF6",
           "caxis": {
            "gridcolor": "white",
            "linecolor": "white",
            "ticks": ""
           }
          },
          "title": {
           "x": 0.05
          },
          "xaxis": {
           "automargin": true,
           "gridcolor": "white",
           "linecolor": "white",
           "ticks": "",
           "title": {
            "standoff": 15
           },
           "zerolinecolor": "white",
           "zerolinewidth": 2
          },
          "yaxis": {
           "automargin": true,
           "gridcolor": "white",
           "linecolor": "white",
           "ticks": "",
           "title": {
            "standoff": 15
           },
           "zerolinecolor": "white",
           "zerolinewidth": 2
          }
         }
        },
        "title": {
         "font": {
          "color": "#4D5663"
         }
        },
        "xaxis": {
         "gridcolor": "#E1E5ED",
         "showgrid": true,
         "tickfont": {
          "color": "#4D5663"
         },
         "title": {
          "font": {
           "color": "#4D5663"
          },
          "text": ""
         },
         "zerolinecolor": "#E1E5ED"
        },
        "xaxis2": {
         "anchor": "y2",
         "gridcolor": "#E1E5ED",
         "showgrid": true,
         "showticklabels": false,
         "tickfont": {
          "color": "#4D5663"
         },
         "title": {
          "font": {
           "color": "#4D5663"
          },
          "text": ""
         },
         "zerolinecolor": "#E1E5ED"
        },
        "yaxis": {
         "domain": [
          0.3,
          1
         ],
         "gridcolor": "#E1E5ED",
         "showgrid": true,
         "tickfont": {
          "color": "#4D5663"
         },
         "title": {
          "font": {
           "color": "#4D5663"
          },
          "text": ""
         },
         "zerolinecolor": "#E1E5ED"
        },
        "yaxis2": {
         "domain": [
          0,
          0.25
         ],
         "gridcolor": "#E1E5ED",
         "showgrid": true,
         "tickfont": {
          "color": "#4D5663"
         },
         "title": {
          "font": {
           "color": "#4D5663"
          },
          "text": "Spread"
         },
         "zerolinecolor": "#E1E5ED"
        }
       }
      },
      "text/html": [
       "<div>                            <div id=\"6cf9fffe-63bd-48b2-9d85-72b484690405\" class=\"plotly-graph-div\" style=\"height:525px; width:100%;\"></div>            <script type=\"text/javascript\">                require([\"plotly\"], function(Plotly) {                    window.PLOTLYENV=window.PLOTLYENV || {};\n",
       "                    window.PLOTLYENV.BASE_URL='https://plot.ly';                                    if (document.getElementById(\"6cf9fffe-63bd-48b2-9d85-72b484690405\")) {                    Plotly.newPlot(                        \"6cf9fffe-63bd-48b2-9d85-72b484690405\",                        [{\"line\":{\"color\":\"rgba(255, 153, 51, 1.0)\",\"dash\":\"solid\",\"shape\":\"linear\",\"width\":1.3},\"mode\":\"lines\",\"name\":\"A\",\"text\":\"\",\"x\":[0,1,2,3,4,5,6,7,8,9,10,11,12,13,14,15,16,17,18,19,20,21,22,23,24,25,26,27,28,29,30,31,32,33,34,35,36,37,38,39,40,41,42,43,44,45,46,47,48,49,50,51,52,53,54,55,56,57,58,59,60,61,62,63,64,65,66,67,68,69,70,71,72,73,74,75,76,77,78,79,80,81,82,83,84,85,86,87,88,89,90,91,92,93,94,95,96,97,98,99],\"y\":[-0.36786982851319505,-0.8139460136439768,-1.2728002553624609,-0.16742849267659557,0.2568812060873537,1.7412616989824088,-1.5621264209503618,-0.9716442807368325,0.18120238038652076,-0.45624359436676554,0.4192093729134039,-1.7537622507026116,-0.6760570885254076,1.2315472502842275,1.344721140948013,1.5308498457246777,0.0811757384905562,-0.07056372644932463,-0.4096182151163972,-0.18810476194808798,-0.6888845471082019,0.1787949634688186,-0.6326159497145163,1.3665080793470559,-1.264100708338595,0.5654737427593445,-0.6314385446664598,0.7959791813286821,1.5209648447798207,0.011053102554344277,0.0575177083012101,2.1146701003920465,0.6844826246908693,-1.1059174909427503,0.36088615768745663,-0.9196362508572212,2.413895200230858,0.36847160558729464,1.5555526138790137,0.27533952277220874,0.5128093807287213,-0.36109803744274055,-0.2245813865447435,-1.3929369067023898,-1.7149219010602588,-0.06436773582098293,0.705890363747037,0.8834346495884103,-1.2819697508145063,1.0211868852886536,0.09444081962493833,0.9936925290527405,-0.24805292015688082,-0.38975442643515745,0.13162173026208018,-2.0904123249582196,-0.3638188904525045,1.5945900934580928,0.7833673844256537,0.2957653201178533,-0.420979774187367,-0.3033766512810295,-0.2359411997474931,-0.4555954179187365,0.5506480905045086,-0.613326940080486,-1.1439066960853865,0.49946364909654484,0.1921167231914247,-1.5000415223098764,-0.5242457354730988,-0.12933767299748697,-1.1800277618914492,0.9604362518828048,-1.3716897691557939,-0.9103137466615401,1.21475681850616,-1.2309199307746803,0.7560338475782938,1.076852768980497,-0.04882792274589524,-0.7653859453081738,-1.2279318521344766,-0.4210661832352774,-0.5586350407050273,-0.721991107436455,0.9659154488762632,1.2182790903319993,-1.3690372725967028,-1.3587655905835527,0.515290847414008,1.0695484930182528,-1.3380019043323563,-1.216940120335792,1.0947929024669336,0.23884071328995005,-0.45823390270079395,1.4792255439209159,-1.3118290643991475,-1.172534065870987],\"type\":\"scatter\"},{\"line\":{\"color\":\"rgba(55, 128, 191, 1.0)\",\"dash\":\"solid\",\"shape\":\"linear\",\"width\":1.3},\"mode\":\"lines\",\"name\":\"B\",\"text\":\"\",\"x\":[0,1,2,3,4,5,6,7,8,9,10,11,12,13,14,15,16,17,18,19,20,21,22,23,24,25,26,27,28,29,30,31,32,33,34,35,36,37,38,39,40,41,42,43,44,45,46,47,48,49,50,51,52,53,54,55,56,57,58,59,60,61,62,63,64,65,66,67,68,69,70,71,72,73,74,75,76,77,78,79,80,81,82,83,84,85,86,87,88,89,90,91,92,93,94,95,96,97,98,99],\"y\":[0.1819819126791729,-0.7690504649458737,0.4146966578943233,0.735872368805637,0.8669917218711843,2.1748617101751,1.2318371866263211,0.16427863005281082,-0.7516033269630648,-0.059540090628032005,-0.012899474698968688,1.7520395134071642,-0.01591686529266641,-1.30737693706392,0.31469596302611313,0.0006447044677048574,-0.7695973642700286,-1.588439968194205,0.5132563588699779,-0.4166594400416099,0.654191318124905,1.538197099799716,-0.9734425150447913,-1.346122715368668,-0.3594077404233946,1.7299228793641566,2.1101164566449864,-0.9413070230386088,0.013584305821453655,-0.2281718487132733,1.6031139424787848,0.6043596490108111,0.6197173644455335,0.22320795650902636,3.348229272407328,0.7701779183439242,1.8000414301434686,-1.4159099794566452,-0.4371479314457633,-0.2147748488950862,-0.6812616180720111,0.6879337962777717,0.15289137723322704,-0.6636384766790288,0.9087932907473223,0.13219355583100664,0.6622465833842975,-0.5583410998398035,-0.24485904679848086,-0.4643834042131067,-2.2419875725888185,0.8278854578464298,0.20176407293093973,-1.3934247465283838,1.1134336391437878,-1.6334405533394345,1.3236953777109324,0.5224675986838716,-0.58959784704781,1.4586033556318427,0.9083302010742899,1.720992224059844,-1.889437228043027,1.465208342151267,0.45166524739808955,-0.02542207128711079,0.28324402331732385,-0.49926804861875734,0.3895796831658555,-0.3266481370656572,-2.1620324688740515,-0.4198106606771507,-0.41366740287377785,-0.584281831740891,-1.8799488990110838,1.0867735776383765,0.04134940253602887,-0.5192131068274868,-0.3308715980802985,0.5820619125965684,-0.3296740677753678,-0.7694843154746899,0.3974786425028931,-0.09690329212432874,0.2848301613145788,0.19226842929502952,-0.8350478382165045,0.30326140879933705,0.684022961660779,-0.5307381409250069,1.1163236404658101,-0.018062703200621047,1.1463717068725314,0.9530289674340827,-1.389032278301572,-0.7532835443706728,1.0060298398741725,-0.1675034739802897,-1.0888384951742667,-1.6766035427580728],\"type\":\"scatter\"},{\"connectgaps\":false,\"fill\":\"tozeroy\",\"line\":{\"color\":\"green\",\"dash\":\"solid\",\"shape\":\"linear\",\"width\":0.5},\"mode\":\"lines\",\"name\":\"Spread\",\"showlegend\":false,\"x\":[0,1,2,3,4,5,6,7,8,9,10,11,12,13,14,15,16,17,18,19,20,21,22,23,24,25,26,27,28,29,30,31,32,33,34,35,36,37,38,39,40,41,42,43,44,45,46,47,48,49,50,51,52,53,54,55,56,57,58,59,60,61,62,63,64,65,66,67,68,69,70,71,72,73,74,75,76,77,78,79,80,81,82,83,84,85,86,87,88,89,90,91,92,93,94,95,96,97,98,99],\"xaxis\":\"x2\",\"y\":[\"\",\"\",\"\",\"\",\"\",\"\",\"\",\"\",0.9328057073495855,\"\",0.43210884761237256,\"\",\"\",2.5389241873481474,1.0300251779219,1.5302051412569728,0.8507731027605847,1.5178762417448803,\"\",0.2285546780935219,\"\",\"\",0.340826565330275,2.7126307947157238,\"\",\"\",\"\",1.7372862043672908,1.507380538958367,0.23922495126761759,\"\",1.5103104513812355,0.0647652602453358,\"\",\"\",\"\",0.6138537700873892,1.7843815850439397,1.992700545324777,0.49011437166729493,1.1940709988007323,\"\",\"\",\"\",\"\",\"\",0.043643780362739415,1.441775749428214,\"\",1.4855702895017604,2.3364283922137568,0.16580707120631077,\"\",1.0036703200932262,\"\",\"\",\"\",1.0721224947742212,1.3729652314734637,\"\",\"\",\"\",1.6534960282955338,\"\",0.09898284310641903,\"\",\"\",0.9987316977153022,\"\",\"\",1.6377867334009526,0.2904729876796638,\"\",1.5447180836236958,0.5082591298552899,\"\",1.173407415970131,\"\",1.0869054456585923,0.4947908563839286,0.2808461450294725,0.004098370166516041,\"\",\"\",\"\",\"\",1.8009632870927677,0.9150176815326623,\"\",\"\",\"\",1.087611196218874,\"\",\"\",2.4838251807685054,0.9921242576606228,\"\",1.6467290179012055,\"\",0.5040694768870857],\"yaxis\":\"y2\",\"type\":\"scatter\"},{\"connectgaps\":false,\"fill\":\"tozeroy\",\"line\":{\"color\":\"red\",\"dash\":\"solid\",\"shape\":\"linear\",\"width\":0.5},\"mode\":\"lines\",\"name\":\"Spread\",\"showlegend\":false,\"x\":[0,1,2,3,4,5,6,7,8,9,10,11,12,13,14,15,16,17,18,19,20,21,22,23,24,25,26,27,28,29,30,31,32,33,34,35,36,37,38,39,40,41,42,43,44,45,46,47,48,49,50,51,52,53,54,55,56,57,58,59,60,61,62,63,64,65,66,67,68,69,70,71,72,73,74,75,76,77,78,79,80,81,82,83,84,85,86,87,88,89,90,91,92,93,94,95,96,97,98,99],\"xaxis\":\"x2\",\"y\":[-0.549851741192368,-0.04489554869810308,-1.6874969132567843,-0.9033008614822325,-0.6101105157838307,-0.4336000111926912,-2.793963607576683,-1.1359229107896434,\"\",-0.39670350373873353,\"\",-3.505801764109776,-0.6601402232327411,\"\",\"\",\"\",\"\",\"\",-0.9228745739863751,\"\",-1.343075865233107,-1.3594021363308975,\"\",\"\",-0.9046929679152003,-1.1644491366048122,-2.741555001311446,\"\",\"\",\"\",-1.5455962341775746,\"\",\"\",-1.3291254474517766,-2.9873431147198715,-1.6898141692011455,\"\",\"\",\"\",\"\",\"\",-1.0490318337205122,-0.37747276377797057,-0.729298430023361,-2.623715191807581,-0.19656129165198957,\"\",\"\",-1.0371107040160255,\"\",\"\",\"\",-0.4498169930878205,\"\",-0.9818119088817077,-0.4569717716187851,-1.687514268163437,\"\",\"\",-1.1628380355139893,-1.3293099752616568,-2.0243688753408735,\"\",-1.9208037600700034,\"\",-0.5879048687933752,-1.4271507194027104,\"\",-0.1974629599744308,-1.173393385244219,\"\",\"\",-0.7663603590176713,\"\",\"\",-1.9970873242999165,\"\",-0.7117068239471935,\"\",\"\",\"\",\"\",-1.6254104946373698,-0.32416289111094865,-0.8434652020196061,-0.9142595367314845,\"\",\"\",-2.0530602342574817,-0.8280274496585458,-0.6010327930518021,\"\",-2.4843736112048878,-2.1699690877698745,\"\",\"\",-1.4642637425749665,\"\",-0.2229905692248808,\"\"],\"yaxis\":\"y2\",\"type\":\"scatter\"}],                        {\"hovermode\":\"x\",\"legend\":{\"bgcolor\":\"#F5F6F9\",\"font\":{\"color\":\"#4D5663\"}},\"paper_bgcolor\":\"#F5F6F9\",\"plot_bgcolor\":\"#F5F6F9\",\"template\":{\"data\":{\"barpolar\":[{\"marker\":{\"line\":{\"color\":\"#E5ECF6\",\"width\":0.5},\"pattern\":{\"fillmode\":\"overlay\",\"size\":10,\"solidity\":0.2}},\"type\":\"barpolar\"}],\"bar\":[{\"error_x\":{\"color\":\"#2a3f5f\"},\"error_y\":{\"color\":\"#2a3f5f\"},\"marker\":{\"line\":{\"color\":\"#E5ECF6\",\"width\":0.5},\"pattern\":{\"fillmode\":\"overlay\",\"size\":10,\"solidity\":0.2}},\"type\":\"bar\"}],\"carpet\":[{\"aaxis\":{\"endlinecolor\":\"#2a3f5f\",\"gridcolor\":\"white\",\"linecolor\":\"white\",\"minorgridcolor\":\"white\",\"startlinecolor\":\"#2a3f5f\"},\"baxis\":{\"endlinecolor\":\"#2a3f5f\",\"gridcolor\":\"white\",\"linecolor\":\"white\",\"minorgridcolor\":\"white\",\"startlinecolor\":\"#2a3f5f\"},\"type\":\"carpet\"}],\"choropleth\":[{\"colorbar\":{\"outlinewidth\":0,\"ticks\":\"\"},\"type\":\"choropleth\"}],\"contourcarpet\":[{\"colorbar\":{\"outlinewidth\":0,\"ticks\":\"\"},\"type\":\"contourcarpet\"}],\"contour\":[{\"colorbar\":{\"outlinewidth\":0,\"ticks\":\"\"},\"colorscale\":[[0.0,\"#0d0887\"],[0.1111111111111111,\"#46039f\"],[0.2222222222222222,\"#7201a8\"],[0.3333333333333333,\"#9c179e\"],[0.4444444444444444,\"#bd3786\"],[0.5555555555555556,\"#d8576b\"],[0.6666666666666666,\"#ed7953\"],[0.7777777777777778,\"#fb9f3a\"],[0.8888888888888888,\"#fdca26\"],[1.0,\"#f0f921\"]],\"type\":\"contour\"}],\"heatmapgl\":[{\"colorbar\":{\"outlinewidth\":0,\"ticks\":\"\"},\"colorscale\":[[0.0,\"#0d0887\"],[0.1111111111111111,\"#46039f\"],[0.2222222222222222,\"#7201a8\"],[0.3333333333333333,\"#9c179e\"],[0.4444444444444444,\"#bd3786\"],[0.5555555555555556,\"#d8576b\"],[0.6666666666666666,\"#ed7953\"],[0.7777777777777778,\"#fb9f3a\"],[0.8888888888888888,\"#fdca26\"],[1.0,\"#f0f921\"]],\"type\":\"heatmapgl\"}],\"heatmap\":[{\"colorbar\":{\"outlinewidth\":0,\"ticks\":\"\"},\"colorscale\":[[0.0,\"#0d0887\"],[0.1111111111111111,\"#46039f\"],[0.2222222222222222,\"#7201a8\"],[0.3333333333333333,\"#9c179e\"],[0.4444444444444444,\"#bd3786\"],[0.5555555555555556,\"#d8576b\"],[0.6666666666666666,\"#ed7953\"],[0.7777777777777778,\"#fb9f3a\"],[0.8888888888888888,\"#fdca26\"],[1.0,\"#f0f921\"]],\"type\":\"heatmap\"}],\"histogram2dcontour\":[{\"colorbar\":{\"outlinewidth\":0,\"ticks\":\"\"},\"colorscale\":[[0.0,\"#0d0887\"],[0.1111111111111111,\"#46039f\"],[0.2222222222222222,\"#7201a8\"],[0.3333333333333333,\"#9c179e\"],[0.4444444444444444,\"#bd3786\"],[0.5555555555555556,\"#d8576b\"],[0.6666666666666666,\"#ed7953\"],[0.7777777777777778,\"#fb9f3a\"],[0.8888888888888888,\"#fdca26\"],[1.0,\"#f0f921\"]],\"type\":\"histogram2dcontour\"}],\"histogram2d\":[{\"colorbar\":{\"outlinewidth\":0,\"ticks\":\"\"},\"colorscale\":[[0.0,\"#0d0887\"],[0.1111111111111111,\"#46039f\"],[0.2222222222222222,\"#7201a8\"],[0.3333333333333333,\"#9c179e\"],[0.4444444444444444,\"#bd3786\"],[0.5555555555555556,\"#d8576b\"],[0.6666666666666666,\"#ed7953\"],[0.7777777777777778,\"#fb9f3a\"],[0.8888888888888888,\"#fdca26\"],[1.0,\"#f0f921\"]],\"type\":\"histogram2d\"}],\"histogram\":[{\"marker\":{\"pattern\":{\"fillmode\":\"overlay\",\"size\":10,\"solidity\":0.2}},\"type\":\"histogram\"}],\"mesh3d\":[{\"colorbar\":{\"outlinewidth\":0,\"ticks\":\"\"},\"type\":\"mesh3d\"}],\"parcoords\":[{\"line\":{\"colorbar\":{\"outlinewidth\":0,\"ticks\":\"\"}},\"type\":\"parcoords\"}],\"pie\":[{\"automargin\":true,\"type\":\"pie\"}],\"scatter3d\":[{\"line\":{\"colorbar\":{\"outlinewidth\":0,\"ticks\":\"\"}},\"marker\":{\"colorbar\":{\"outlinewidth\":0,\"ticks\":\"\"}},\"type\":\"scatter3d\"}],\"scattercarpet\":[{\"marker\":{\"colorbar\":{\"outlinewidth\":0,\"ticks\":\"\"}},\"type\":\"scattercarpet\"}],\"scattergeo\":[{\"marker\":{\"colorbar\":{\"outlinewidth\":0,\"ticks\":\"\"}},\"type\":\"scattergeo\"}],\"scattergl\":[{\"marker\":{\"colorbar\":{\"outlinewidth\":0,\"ticks\":\"\"}},\"type\":\"scattergl\"}],\"scattermapbox\":[{\"marker\":{\"colorbar\":{\"outlinewidth\":0,\"ticks\":\"\"}},\"type\":\"scattermapbox\"}],\"scatterpolargl\":[{\"marker\":{\"colorbar\":{\"outlinewidth\":0,\"ticks\":\"\"}},\"type\":\"scatterpolargl\"}],\"scatterpolar\":[{\"marker\":{\"colorbar\":{\"outlinewidth\":0,\"ticks\":\"\"}},\"type\":\"scatterpolar\"}],\"scatter\":[{\"marker\":{\"colorbar\":{\"outlinewidth\":0,\"ticks\":\"\"}},\"type\":\"scatter\"}],\"scatterternary\":[{\"marker\":{\"colorbar\":{\"outlinewidth\":0,\"ticks\":\"\"}},\"type\":\"scatterternary\"}],\"surface\":[{\"colorbar\":{\"outlinewidth\":0,\"ticks\":\"\"},\"colorscale\":[[0.0,\"#0d0887\"],[0.1111111111111111,\"#46039f\"],[0.2222222222222222,\"#7201a8\"],[0.3333333333333333,\"#9c179e\"],[0.4444444444444444,\"#bd3786\"],[0.5555555555555556,\"#d8576b\"],[0.6666666666666666,\"#ed7953\"],[0.7777777777777778,\"#fb9f3a\"],[0.8888888888888888,\"#fdca26\"],[1.0,\"#f0f921\"]],\"type\":\"surface\"}],\"table\":[{\"cells\":{\"fill\":{\"color\":\"#EBF0F8\"},\"line\":{\"color\":\"white\"}},\"header\":{\"fill\":{\"color\":\"#C8D4E3\"},\"line\":{\"color\":\"white\"}},\"type\":\"table\"}]},\"layout\":{\"annotationdefaults\":{\"arrowcolor\":\"#2a3f5f\",\"arrowhead\":0,\"arrowwidth\":1},\"autotypenumbers\":\"strict\",\"coloraxis\":{\"colorbar\":{\"outlinewidth\":0,\"ticks\":\"\"}},\"colorscale\":{\"diverging\":[[0,\"#8e0152\"],[0.1,\"#c51b7d\"],[0.2,\"#de77ae\"],[0.3,\"#f1b6da\"],[0.4,\"#fde0ef\"],[0.5,\"#f7f7f7\"],[0.6,\"#e6f5d0\"],[0.7,\"#b8e186\"],[0.8,\"#7fbc41\"],[0.9,\"#4d9221\"],[1,\"#276419\"]],\"sequential\":[[0.0,\"#0d0887\"],[0.1111111111111111,\"#46039f\"],[0.2222222222222222,\"#7201a8\"],[0.3333333333333333,\"#9c179e\"],[0.4444444444444444,\"#bd3786\"],[0.5555555555555556,\"#d8576b\"],[0.6666666666666666,\"#ed7953\"],[0.7777777777777778,\"#fb9f3a\"],[0.8888888888888888,\"#fdca26\"],[1.0,\"#f0f921\"]],\"sequentialminus\":[[0.0,\"#0d0887\"],[0.1111111111111111,\"#46039f\"],[0.2222222222222222,\"#7201a8\"],[0.3333333333333333,\"#9c179e\"],[0.4444444444444444,\"#bd3786\"],[0.5555555555555556,\"#d8576b\"],[0.6666666666666666,\"#ed7953\"],[0.7777777777777778,\"#fb9f3a\"],[0.8888888888888888,\"#fdca26\"],[1.0,\"#f0f921\"]]},\"colorway\":[\"#636efa\",\"#EF553B\",\"#00cc96\",\"#ab63fa\",\"#FFA15A\",\"#19d3f3\",\"#FF6692\",\"#B6E880\",\"#FF97FF\",\"#FECB52\"],\"font\":{\"color\":\"#2a3f5f\"},\"geo\":{\"bgcolor\":\"white\",\"lakecolor\":\"white\",\"landcolor\":\"#E5ECF6\",\"showlakes\":true,\"showland\":true,\"subunitcolor\":\"white\"},\"hoverlabel\":{\"align\":\"left\"},\"hovermode\":\"closest\",\"mapbox\":{\"style\":\"light\"},\"paper_bgcolor\":\"white\",\"plot_bgcolor\":\"#E5ECF6\",\"polar\":{\"angularaxis\":{\"gridcolor\":\"white\",\"linecolor\":\"white\",\"ticks\":\"\"},\"bgcolor\":\"#E5ECF6\",\"radialaxis\":{\"gridcolor\":\"white\",\"linecolor\":\"white\",\"ticks\":\"\"}},\"scene\":{\"xaxis\":{\"backgroundcolor\":\"#E5ECF6\",\"gridcolor\":\"white\",\"gridwidth\":2,\"linecolor\":\"white\",\"showbackground\":true,\"ticks\":\"\",\"zerolinecolor\":\"white\"},\"yaxis\":{\"backgroundcolor\":\"#E5ECF6\",\"gridcolor\":\"white\",\"gridwidth\":2,\"linecolor\":\"white\",\"showbackground\":true,\"ticks\":\"\",\"zerolinecolor\":\"white\"},\"zaxis\":{\"backgroundcolor\":\"#E5ECF6\",\"gridcolor\":\"white\",\"gridwidth\":2,\"linecolor\":\"white\",\"showbackground\":true,\"ticks\":\"\",\"zerolinecolor\":\"white\"}},\"shapedefaults\":{\"line\":{\"color\":\"#2a3f5f\"}},\"ternary\":{\"aaxis\":{\"gridcolor\":\"white\",\"linecolor\":\"white\",\"ticks\":\"\"},\"baxis\":{\"gridcolor\":\"white\",\"linecolor\":\"white\",\"ticks\":\"\"},\"bgcolor\":\"#E5ECF6\",\"caxis\":{\"gridcolor\":\"white\",\"linecolor\":\"white\",\"ticks\":\"\"}},\"title\":{\"x\":0.05},\"xaxis\":{\"automargin\":true,\"gridcolor\":\"white\",\"linecolor\":\"white\",\"ticks\":\"\",\"title\":{\"standoff\":15},\"zerolinecolor\":\"white\",\"zerolinewidth\":2},\"yaxis\":{\"automargin\":true,\"gridcolor\":\"white\",\"linecolor\":\"white\",\"ticks\":\"\",\"title\":{\"standoff\":15},\"zerolinecolor\":\"white\",\"zerolinewidth\":2}}},\"title\":{\"font\":{\"color\":\"#4D5663\"}},\"xaxis\":{\"gridcolor\":\"#E1E5ED\",\"showgrid\":true,\"tickfont\":{\"color\":\"#4D5663\"},\"title\":{\"font\":{\"color\":\"#4D5663\"},\"text\":\"\"},\"zerolinecolor\":\"#E1E5ED\"},\"yaxis\":{\"domain\":[0.3,1],\"gridcolor\":\"#E1E5ED\",\"showgrid\":true,\"tickfont\":{\"color\":\"#4D5663\"},\"title\":{\"font\":{\"color\":\"#4D5663\"},\"text\":\"\"},\"zerolinecolor\":\"#E1E5ED\"},\"yaxis2\":{\"domain\":[0,0.25],\"gridcolor\":\"#E1E5ED\",\"showgrid\":true,\"tickfont\":{\"color\":\"#4D5663\"},\"title\":{\"font\":{\"color\":\"#4D5663\"},\"text\":\"Spread\"},\"zerolinecolor\":\"#E1E5ED\"},\"xaxis2\":{\"anchor\":\"y2\",\"gridcolor\":\"#E1E5ED\",\"showgrid\":true,\"showticklabels\":false,\"tickfont\":{\"color\":\"#4D5663\"},\"title\":{\"font\":{\"color\":\"#4D5663\"},\"text\":\"\"},\"zerolinecolor\":\"#E1E5ED\"}},                        {\"showLink\": true, \"linkText\": \"Export to plot.ly\", \"plotlyServerURL\": \"https://plot.ly\", \"responsive\": true}                    ).then(function(){\n",
       "                            \n",
       "var gd = document.getElementById('6cf9fffe-63bd-48b2-9d85-72b484690405');\n",
       "var x = new MutationObserver(function (mutations, observer) {{\n",
       "        var display = window.getComputedStyle(gd).display;\n",
       "        if (!display || display === 'none') {{\n",
       "            console.log([gd, 'removed!']);\n",
       "            Plotly.purge(gd);\n",
       "            observer.disconnect();\n",
       "        }}\n",
       "}});\n",
       "\n",
       "// Listen for the removal of the full notebook cells\n",
       "var notebookContainer = gd.closest('#notebook-container');\n",
       "if (notebookContainer) {{\n",
       "    x.observe(notebookContainer, {childList: true});\n",
       "}}\n",
       "\n",
       "// Listen for the clearing of the current output cell\n",
       "var outputEl = gd.closest('.output');\n",
       "if (outputEl) {{\n",
       "    x.observe(outputEl, {childList: true});\n",
       "}}\n",
       "\n",
       "                        })                };                });            </script>        </div>"
      ]
     },
     "metadata": {},
     "output_type": "display_data"
    }
   ],
   "source": [
    "df[['A','B']].iplot(kind='spread')"
   ]
  },
  {
   "cell_type": "markdown",
   "metadata": {},
   "source": [
    "## histogram"
   ]
  },
  {
   "cell_type": "code",
   "execution_count": 16,
   "metadata": {},
   "outputs": [
    {
     "data": {
      "application/vnd.plotly.v1+json": {
       "config": {
        "linkText": "Export to plot.ly",
        "plotlyServerURL": "https://plot.ly",
        "showLink": true
       },
       "data": [
        {
         "histfunc": "count",
         "histnorm": "",
         "marker": {
          "color": "rgba(255, 153, 51, 1.0)",
          "line": {
           "color": "#4D5663",
           "width": 1.3
          }
         },
         "name": "A",
         "nbinsx": 25,
         "opacity": 0.8,
         "orientation": "v",
         "type": "histogram",
         "x": [
          -0.36786982851319505,
          -0.8139460136439768,
          -1.2728002553624609,
          -0.16742849267659557,
          0.2568812060873537,
          1.7412616989824088,
          -1.5621264209503618,
          -0.9716442807368325,
          0.18120238038652076,
          -0.45624359436676554,
          0.4192093729134039,
          -1.7537622507026116,
          -0.6760570885254076,
          1.2315472502842275,
          1.344721140948013,
          1.5308498457246777,
          0.0811757384905562,
          -0.07056372644932463,
          -0.4096182151163972,
          -0.18810476194808798,
          -0.6888845471082019,
          0.1787949634688186,
          -0.6326159497145163,
          1.3665080793470559,
          -1.264100708338595,
          0.5654737427593445,
          -0.6314385446664598,
          0.7959791813286821,
          1.5209648447798207,
          0.011053102554344277,
          0.0575177083012101,
          2.1146701003920465,
          0.6844826246908693,
          -1.1059174909427503,
          0.36088615768745663,
          -0.9196362508572212,
          2.413895200230858,
          0.36847160558729464,
          1.5555526138790137,
          0.27533952277220874,
          0.5128093807287213,
          -0.36109803744274055,
          -0.2245813865447435,
          -1.3929369067023898,
          -1.7149219010602588,
          -0.06436773582098293,
          0.705890363747037,
          0.8834346495884103,
          -1.2819697508145063,
          1.0211868852886536,
          0.09444081962493833,
          0.9936925290527405,
          -0.24805292015688082,
          -0.38975442643515745,
          0.13162173026208018,
          -2.0904123249582196,
          -0.3638188904525045,
          1.5945900934580928,
          0.7833673844256537,
          0.2957653201178533,
          -0.420979774187367,
          -0.3033766512810295,
          -0.2359411997474931,
          -0.4555954179187365,
          0.5506480905045086,
          -0.613326940080486,
          -1.1439066960853865,
          0.49946364909654484,
          0.1921167231914247,
          -1.5000415223098764,
          -0.5242457354730988,
          -0.12933767299748697,
          -1.1800277618914492,
          0.9604362518828048,
          -1.3716897691557939,
          -0.9103137466615401,
          1.21475681850616,
          -1.2309199307746803,
          0.7560338475782938,
          1.076852768980497,
          -0.04882792274589524,
          -0.7653859453081738,
          -1.2279318521344766,
          -0.4210661832352774,
          -0.5586350407050273,
          -0.721991107436455,
          0.9659154488762632,
          1.2182790903319993,
          -1.3690372725967028,
          -1.3587655905835527,
          0.515290847414008,
          1.0695484930182528,
          -1.3380019043323563,
          -1.216940120335792,
          1.0947929024669336,
          0.23884071328995005,
          -0.45823390270079395,
          1.4792255439209159,
          -1.3118290643991475,
          -1.172534065870987
         ]
        }
       ],
       "layout": {
        "barmode": "overlay",
        "legend": {
         "bgcolor": "#F5F6F9",
         "font": {
          "color": "#4D5663"
         }
        },
        "paper_bgcolor": "#F5F6F9",
        "plot_bgcolor": "#F5F6F9",
        "template": {
         "data": {
          "bar": [
           {
            "error_x": {
             "color": "#2a3f5f"
            },
            "error_y": {
             "color": "#2a3f5f"
            },
            "marker": {
             "line": {
              "color": "#E5ECF6",
              "width": 0.5
             },
             "pattern": {
              "fillmode": "overlay",
              "size": 10,
              "solidity": 0.2
             }
            },
            "type": "bar"
           }
          ],
          "barpolar": [
           {
            "marker": {
             "line": {
              "color": "#E5ECF6",
              "width": 0.5
             },
             "pattern": {
              "fillmode": "overlay",
              "size": 10,
              "solidity": 0.2
             }
            },
            "type": "barpolar"
           }
          ],
          "carpet": [
           {
            "aaxis": {
             "endlinecolor": "#2a3f5f",
             "gridcolor": "white",
             "linecolor": "white",
             "minorgridcolor": "white",
             "startlinecolor": "#2a3f5f"
            },
            "baxis": {
             "endlinecolor": "#2a3f5f",
             "gridcolor": "white",
             "linecolor": "white",
             "minorgridcolor": "white",
             "startlinecolor": "#2a3f5f"
            },
            "type": "carpet"
           }
          ],
          "choropleth": [
           {
            "colorbar": {
             "outlinewidth": 0,
             "ticks": ""
            },
            "type": "choropleth"
           }
          ],
          "contour": [
           {
            "colorbar": {
             "outlinewidth": 0,
             "ticks": ""
            },
            "colorscale": [
             [
              0,
              "#0d0887"
             ],
             [
              0.1111111111111111,
              "#46039f"
             ],
             [
              0.2222222222222222,
              "#7201a8"
             ],
             [
              0.3333333333333333,
              "#9c179e"
             ],
             [
              0.4444444444444444,
              "#bd3786"
             ],
             [
              0.5555555555555556,
              "#d8576b"
             ],
             [
              0.6666666666666666,
              "#ed7953"
             ],
             [
              0.7777777777777778,
              "#fb9f3a"
             ],
             [
              0.8888888888888888,
              "#fdca26"
             ],
             [
              1,
              "#f0f921"
             ]
            ],
            "type": "contour"
           }
          ],
          "contourcarpet": [
           {
            "colorbar": {
             "outlinewidth": 0,
             "ticks": ""
            },
            "type": "contourcarpet"
           }
          ],
          "heatmap": [
           {
            "colorbar": {
             "outlinewidth": 0,
             "ticks": ""
            },
            "colorscale": [
             [
              0,
              "#0d0887"
             ],
             [
              0.1111111111111111,
              "#46039f"
             ],
             [
              0.2222222222222222,
              "#7201a8"
             ],
             [
              0.3333333333333333,
              "#9c179e"
             ],
             [
              0.4444444444444444,
              "#bd3786"
             ],
             [
              0.5555555555555556,
              "#d8576b"
             ],
             [
              0.6666666666666666,
              "#ed7953"
             ],
             [
              0.7777777777777778,
              "#fb9f3a"
             ],
             [
              0.8888888888888888,
              "#fdca26"
             ],
             [
              1,
              "#f0f921"
             ]
            ],
            "type": "heatmap"
           }
          ],
          "heatmapgl": [
           {
            "colorbar": {
             "outlinewidth": 0,
             "ticks": ""
            },
            "colorscale": [
             [
              0,
              "#0d0887"
             ],
             [
              0.1111111111111111,
              "#46039f"
             ],
             [
              0.2222222222222222,
              "#7201a8"
             ],
             [
              0.3333333333333333,
              "#9c179e"
             ],
             [
              0.4444444444444444,
              "#bd3786"
             ],
             [
              0.5555555555555556,
              "#d8576b"
             ],
             [
              0.6666666666666666,
              "#ed7953"
             ],
             [
              0.7777777777777778,
              "#fb9f3a"
             ],
             [
              0.8888888888888888,
              "#fdca26"
             ],
             [
              1,
              "#f0f921"
             ]
            ],
            "type": "heatmapgl"
           }
          ],
          "histogram": [
           {
            "marker": {
             "pattern": {
              "fillmode": "overlay",
              "size": 10,
              "solidity": 0.2
             }
            },
            "type": "histogram"
           }
          ],
          "histogram2d": [
           {
            "colorbar": {
             "outlinewidth": 0,
             "ticks": ""
            },
            "colorscale": [
             [
              0,
              "#0d0887"
             ],
             [
              0.1111111111111111,
              "#46039f"
             ],
             [
              0.2222222222222222,
              "#7201a8"
             ],
             [
              0.3333333333333333,
              "#9c179e"
             ],
             [
              0.4444444444444444,
              "#bd3786"
             ],
             [
              0.5555555555555556,
              "#d8576b"
             ],
             [
              0.6666666666666666,
              "#ed7953"
             ],
             [
              0.7777777777777778,
              "#fb9f3a"
             ],
             [
              0.8888888888888888,
              "#fdca26"
             ],
             [
              1,
              "#f0f921"
             ]
            ],
            "type": "histogram2d"
           }
          ],
          "histogram2dcontour": [
           {
            "colorbar": {
             "outlinewidth": 0,
             "ticks": ""
            },
            "colorscale": [
             [
              0,
              "#0d0887"
             ],
             [
              0.1111111111111111,
              "#46039f"
             ],
             [
              0.2222222222222222,
              "#7201a8"
             ],
             [
              0.3333333333333333,
              "#9c179e"
             ],
             [
              0.4444444444444444,
              "#bd3786"
             ],
             [
              0.5555555555555556,
              "#d8576b"
             ],
             [
              0.6666666666666666,
              "#ed7953"
             ],
             [
              0.7777777777777778,
              "#fb9f3a"
             ],
             [
              0.8888888888888888,
              "#fdca26"
             ],
             [
              1,
              "#f0f921"
             ]
            ],
            "type": "histogram2dcontour"
           }
          ],
          "mesh3d": [
           {
            "colorbar": {
             "outlinewidth": 0,
             "ticks": ""
            },
            "type": "mesh3d"
           }
          ],
          "parcoords": [
           {
            "line": {
             "colorbar": {
              "outlinewidth": 0,
              "ticks": ""
             }
            },
            "type": "parcoords"
           }
          ],
          "pie": [
           {
            "automargin": true,
            "type": "pie"
           }
          ],
          "scatter": [
           {
            "marker": {
             "colorbar": {
              "outlinewidth": 0,
              "ticks": ""
             }
            },
            "type": "scatter"
           }
          ],
          "scatter3d": [
           {
            "line": {
             "colorbar": {
              "outlinewidth": 0,
              "ticks": ""
             }
            },
            "marker": {
             "colorbar": {
              "outlinewidth": 0,
              "ticks": ""
             }
            },
            "type": "scatter3d"
           }
          ],
          "scattercarpet": [
           {
            "marker": {
             "colorbar": {
              "outlinewidth": 0,
              "ticks": ""
             }
            },
            "type": "scattercarpet"
           }
          ],
          "scattergeo": [
           {
            "marker": {
             "colorbar": {
              "outlinewidth": 0,
              "ticks": ""
             }
            },
            "type": "scattergeo"
           }
          ],
          "scattergl": [
           {
            "marker": {
             "colorbar": {
              "outlinewidth": 0,
              "ticks": ""
             }
            },
            "type": "scattergl"
           }
          ],
          "scattermapbox": [
           {
            "marker": {
             "colorbar": {
              "outlinewidth": 0,
              "ticks": ""
             }
            },
            "type": "scattermapbox"
           }
          ],
          "scatterpolar": [
           {
            "marker": {
             "colorbar": {
              "outlinewidth": 0,
              "ticks": ""
             }
            },
            "type": "scatterpolar"
           }
          ],
          "scatterpolargl": [
           {
            "marker": {
             "colorbar": {
              "outlinewidth": 0,
              "ticks": ""
             }
            },
            "type": "scatterpolargl"
           }
          ],
          "scatterternary": [
           {
            "marker": {
             "colorbar": {
              "outlinewidth": 0,
              "ticks": ""
             }
            },
            "type": "scatterternary"
           }
          ],
          "surface": [
           {
            "colorbar": {
             "outlinewidth": 0,
             "ticks": ""
            },
            "colorscale": [
             [
              0,
              "#0d0887"
             ],
             [
              0.1111111111111111,
              "#46039f"
             ],
             [
              0.2222222222222222,
              "#7201a8"
             ],
             [
              0.3333333333333333,
              "#9c179e"
             ],
             [
              0.4444444444444444,
              "#bd3786"
             ],
             [
              0.5555555555555556,
              "#d8576b"
             ],
             [
              0.6666666666666666,
              "#ed7953"
             ],
             [
              0.7777777777777778,
              "#fb9f3a"
             ],
             [
              0.8888888888888888,
              "#fdca26"
             ],
             [
              1,
              "#f0f921"
             ]
            ],
            "type": "surface"
           }
          ],
          "table": [
           {
            "cells": {
             "fill": {
              "color": "#EBF0F8"
             },
             "line": {
              "color": "white"
             }
            },
            "header": {
             "fill": {
              "color": "#C8D4E3"
             },
             "line": {
              "color": "white"
             }
            },
            "type": "table"
           }
          ]
         },
         "layout": {
          "annotationdefaults": {
           "arrowcolor": "#2a3f5f",
           "arrowhead": 0,
           "arrowwidth": 1
          },
          "autotypenumbers": "strict",
          "coloraxis": {
           "colorbar": {
            "outlinewidth": 0,
            "ticks": ""
           }
          },
          "colorscale": {
           "diverging": [
            [
             0,
             "#8e0152"
            ],
            [
             0.1,
             "#c51b7d"
            ],
            [
             0.2,
             "#de77ae"
            ],
            [
             0.3,
             "#f1b6da"
            ],
            [
             0.4,
             "#fde0ef"
            ],
            [
             0.5,
             "#f7f7f7"
            ],
            [
             0.6,
             "#e6f5d0"
            ],
            [
             0.7,
             "#b8e186"
            ],
            [
             0.8,
             "#7fbc41"
            ],
            [
             0.9,
             "#4d9221"
            ],
            [
             1,
             "#276419"
            ]
           ],
           "sequential": [
            [
             0,
             "#0d0887"
            ],
            [
             0.1111111111111111,
             "#46039f"
            ],
            [
             0.2222222222222222,
             "#7201a8"
            ],
            [
             0.3333333333333333,
             "#9c179e"
            ],
            [
             0.4444444444444444,
             "#bd3786"
            ],
            [
             0.5555555555555556,
             "#d8576b"
            ],
            [
             0.6666666666666666,
             "#ed7953"
            ],
            [
             0.7777777777777778,
             "#fb9f3a"
            ],
            [
             0.8888888888888888,
             "#fdca26"
            ],
            [
             1,
             "#f0f921"
            ]
           ],
           "sequentialminus": [
            [
             0,
             "#0d0887"
            ],
            [
             0.1111111111111111,
             "#46039f"
            ],
            [
             0.2222222222222222,
             "#7201a8"
            ],
            [
             0.3333333333333333,
             "#9c179e"
            ],
            [
             0.4444444444444444,
             "#bd3786"
            ],
            [
             0.5555555555555556,
             "#d8576b"
            ],
            [
             0.6666666666666666,
             "#ed7953"
            ],
            [
             0.7777777777777778,
             "#fb9f3a"
            ],
            [
             0.8888888888888888,
             "#fdca26"
            ],
            [
             1,
             "#f0f921"
            ]
           ]
          },
          "colorway": [
           "#636efa",
           "#EF553B",
           "#00cc96",
           "#ab63fa",
           "#FFA15A",
           "#19d3f3",
           "#FF6692",
           "#B6E880",
           "#FF97FF",
           "#FECB52"
          ],
          "font": {
           "color": "#2a3f5f"
          },
          "geo": {
           "bgcolor": "white",
           "lakecolor": "white",
           "landcolor": "#E5ECF6",
           "showlakes": true,
           "showland": true,
           "subunitcolor": "white"
          },
          "hoverlabel": {
           "align": "left"
          },
          "hovermode": "closest",
          "mapbox": {
           "style": "light"
          },
          "paper_bgcolor": "white",
          "plot_bgcolor": "#E5ECF6",
          "polar": {
           "angularaxis": {
            "gridcolor": "white",
            "linecolor": "white",
            "ticks": ""
           },
           "bgcolor": "#E5ECF6",
           "radialaxis": {
            "gridcolor": "white",
            "linecolor": "white",
            "ticks": ""
           }
          },
          "scene": {
           "xaxis": {
            "backgroundcolor": "#E5ECF6",
            "gridcolor": "white",
            "gridwidth": 2,
            "linecolor": "white",
            "showbackground": true,
            "ticks": "",
            "zerolinecolor": "white"
           },
           "yaxis": {
            "backgroundcolor": "#E5ECF6",
            "gridcolor": "white",
            "gridwidth": 2,
            "linecolor": "white",
            "showbackground": true,
            "ticks": "",
            "zerolinecolor": "white"
           },
           "zaxis": {
            "backgroundcolor": "#E5ECF6",
            "gridcolor": "white",
            "gridwidth": 2,
            "linecolor": "white",
            "showbackground": true,
            "ticks": "",
            "zerolinecolor": "white"
           }
          },
          "shapedefaults": {
           "line": {
            "color": "#2a3f5f"
           }
          },
          "ternary": {
           "aaxis": {
            "gridcolor": "white",
            "linecolor": "white",
            "ticks": ""
           },
           "baxis": {
            "gridcolor": "white",
            "linecolor": "white",
            "ticks": ""
           },
           "bgcolor": "#E5ECF6",
           "caxis": {
            "gridcolor": "white",
            "linecolor": "white",
            "ticks": ""
           }
          },
          "title": {
           "x": 0.05
          },
          "xaxis": {
           "automargin": true,
           "gridcolor": "white",
           "linecolor": "white",
           "ticks": "",
           "title": {
            "standoff": 15
           },
           "zerolinecolor": "white",
           "zerolinewidth": 2
          },
          "yaxis": {
           "automargin": true,
           "gridcolor": "white",
           "linecolor": "white",
           "ticks": "",
           "title": {
            "standoff": 15
           },
           "zerolinecolor": "white",
           "zerolinewidth": 2
          }
         }
        },
        "title": {
         "font": {
          "color": "#4D5663"
         }
        },
        "xaxis": {
         "gridcolor": "#E1E5ED",
         "showgrid": true,
         "tickfont": {
          "color": "#4D5663"
         },
         "title": {
          "font": {
           "color": "#4D5663"
          },
          "text": ""
         },
         "zerolinecolor": "#E1E5ED"
        },
        "yaxis": {
         "gridcolor": "#E1E5ED",
         "showgrid": true,
         "tickfont": {
          "color": "#4D5663"
         },
         "title": {
          "font": {
           "color": "#4D5663"
          },
          "text": ""
         },
         "zerolinecolor": "#E1E5ED"
        }
       }
      },
      "text/html": [
       "<div>                            <div id=\"7793dac5-fd90-430b-af65-39d7bd794b41\" class=\"plotly-graph-div\" style=\"height:525px; width:100%;\"></div>            <script type=\"text/javascript\">                require([\"plotly\"], function(Plotly) {                    window.PLOTLYENV=window.PLOTLYENV || {};\n",
       "                    window.PLOTLYENV.BASE_URL='https://plot.ly';                                    if (document.getElementById(\"7793dac5-fd90-430b-af65-39d7bd794b41\")) {                    Plotly.newPlot(                        \"7793dac5-fd90-430b-af65-39d7bd794b41\",                        [{\"histfunc\":\"count\",\"histnorm\":\"\",\"marker\":{\"color\":\"rgba(255, 153, 51, 1.0)\",\"line\":{\"color\":\"#4D5663\",\"width\":1.3}},\"name\":\"A\",\"nbinsx\":25,\"opacity\":0.8,\"orientation\":\"v\",\"x\":[-0.36786982851319505,-0.8139460136439768,-1.2728002553624609,-0.16742849267659557,0.2568812060873537,1.7412616989824088,-1.5621264209503618,-0.9716442807368325,0.18120238038652076,-0.45624359436676554,0.4192093729134039,-1.7537622507026116,-0.6760570885254076,1.2315472502842275,1.344721140948013,1.5308498457246777,0.0811757384905562,-0.07056372644932463,-0.4096182151163972,-0.18810476194808798,-0.6888845471082019,0.1787949634688186,-0.6326159497145163,1.3665080793470559,-1.264100708338595,0.5654737427593445,-0.6314385446664598,0.7959791813286821,1.5209648447798207,0.011053102554344277,0.0575177083012101,2.1146701003920465,0.6844826246908693,-1.1059174909427503,0.36088615768745663,-0.9196362508572212,2.413895200230858,0.36847160558729464,1.5555526138790137,0.27533952277220874,0.5128093807287213,-0.36109803744274055,-0.2245813865447435,-1.3929369067023898,-1.7149219010602588,-0.06436773582098293,0.705890363747037,0.8834346495884103,-1.2819697508145063,1.0211868852886536,0.09444081962493833,0.9936925290527405,-0.24805292015688082,-0.38975442643515745,0.13162173026208018,-2.0904123249582196,-0.3638188904525045,1.5945900934580928,0.7833673844256537,0.2957653201178533,-0.420979774187367,-0.3033766512810295,-0.2359411997474931,-0.4555954179187365,0.5506480905045086,-0.613326940080486,-1.1439066960853865,0.49946364909654484,0.1921167231914247,-1.5000415223098764,-0.5242457354730988,-0.12933767299748697,-1.1800277618914492,0.9604362518828048,-1.3716897691557939,-0.9103137466615401,1.21475681850616,-1.2309199307746803,0.7560338475782938,1.076852768980497,-0.04882792274589524,-0.7653859453081738,-1.2279318521344766,-0.4210661832352774,-0.5586350407050273,-0.721991107436455,0.9659154488762632,1.2182790903319993,-1.3690372725967028,-1.3587655905835527,0.515290847414008,1.0695484930182528,-1.3380019043323563,-1.216940120335792,1.0947929024669336,0.23884071328995005,-0.45823390270079395,1.4792255439209159,-1.3118290643991475,-1.172534065870987],\"type\":\"histogram\"}],                        {\"barmode\":\"overlay\",\"legend\":{\"bgcolor\":\"#F5F6F9\",\"font\":{\"color\":\"#4D5663\"}},\"paper_bgcolor\":\"#F5F6F9\",\"plot_bgcolor\":\"#F5F6F9\",\"template\":{\"data\":{\"barpolar\":[{\"marker\":{\"line\":{\"color\":\"#E5ECF6\",\"width\":0.5},\"pattern\":{\"fillmode\":\"overlay\",\"size\":10,\"solidity\":0.2}},\"type\":\"barpolar\"}],\"bar\":[{\"error_x\":{\"color\":\"#2a3f5f\"},\"error_y\":{\"color\":\"#2a3f5f\"},\"marker\":{\"line\":{\"color\":\"#E5ECF6\",\"width\":0.5},\"pattern\":{\"fillmode\":\"overlay\",\"size\":10,\"solidity\":0.2}},\"type\":\"bar\"}],\"carpet\":[{\"aaxis\":{\"endlinecolor\":\"#2a3f5f\",\"gridcolor\":\"white\",\"linecolor\":\"white\",\"minorgridcolor\":\"white\",\"startlinecolor\":\"#2a3f5f\"},\"baxis\":{\"endlinecolor\":\"#2a3f5f\",\"gridcolor\":\"white\",\"linecolor\":\"white\",\"minorgridcolor\":\"white\",\"startlinecolor\":\"#2a3f5f\"},\"type\":\"carpet\"}],\"choropleth\":[{\"colorbar\":{\"outlinewidth\":0,\"ticks\":\"\"},\"type\":\"choropleth\"}],\"contourcarpet\":[{\"colorbar\":{\"outlinewidth\":0,\"ticks\":\"\"},\"type\":\"contourcarpet\"}],\"contour\":[{\"colorbar\":{\"outlinewidth\":0,\"ticks\":\"\"},\"colorscale\":[[0.0,\"#0d0887\"],[0.1111111111111111,\"#46039f\"],[0.2222222222222222,\"#7201a8\"],[0.3333333333333333,\"#9c179e\"],[0.4444444444444444,\"#bd3786\"],[0.5555555555555556,\"#d8576b\"],[0.6666666666666666,\"#ed7953\"],[0.7777777777777778,\"#fb9f3a\"],[0.8888888888888888,\"#fdca26\"],[1.0,\"#f0f921\"]],\"type\":\"contour\"}],\"heatmapgl\":[{\"colorbar\":{\"outlinewidth\":0,\"ticks\":\"\"},\"colorscale\":[[0.0,\"#0d0887\"],[0.1111111111111111,\"#46039f\"],[0.2222222222222222,\"#7201a8\"],[0.3333333333333333,\"#9c179e\"],[0.4444444444444444,\"#bd3786\"],[0.5555555555555556,\"#d8576b\"],[0.6666666666666666,\"#ed7953\"],[0.7777777777777778,\"#fb9f3a\"],[0.8888888888888888,\"#fdca26\"],[1.0,\"#f0f921\"]],\"type\":\"heatmapgl\"}],\"heatmap\":[{\"colorbar\":{\"outlinewidth\":0,\"ticks\":\"\"},\"colorscale\":[[0.0,\"#0d0887\"],[0.1111111111111111,\"#46039f\"],[0.2222222222222222,\"#7201a8\"],[0.3333333333333333,\"#9c179e\"],[0.4444444444444444,\"#bd3786\"],[0.5555555555555556,\"#d8576b\"],[0.6666666666666666,\"#ed7953\"],[0.7777777777777778,\"#fb9f3a\"],[0.8888888888888888,\"#fdca26\"],[1.0,\"#f0f921\"]],\"type\":\"heatmap\"}],\"histogram2dcontour\":[{\"colorbar\":{\"outlinewidth\":0,\"ticks\":\"\"},\"colorscale\":[[0.0,\"#0d0887\"],[0.1111111111111111,\"#46039f\"],[0.2222222222222222,\"#7201a8\"],[0.3333333333333333,\"#9c179e\"],[0.4444444444444444,\"#bd3786\"],[0.5555555555555556,\"#d8576b\"],[0.6666666666666666,\"#ed7953\"],[0.7777777777777778,\"#fb9f3a\"],[0.8888888888888888,\"#fdca26\"],[1.0,\"#f0f921\"]],\"type\":\"histogram2dcontour\"}],\"histogram2d\":[{\"colorbar\":{\"outlinewidth\":0,\"ticks\":\"\"},\"colorscale\":[[0.0,\"#0d0887\"],[0.1111111111111111,\"#46039f\"],[0.2222222222222222,\"#7201a8\"],[0.3333333333333333,\"#9c179e\"],[0.4444444444444444,\"#bd3786\"],[0.5555555555555556,\"#d8576b\"],[0.6666666666666666,\"#ed7953\"],[0.7777777777777778,\"#fb9f3a\"],[0.8888888888888888,\"#fdca26\"],[1.0,\"#f0f921\"]],\"type\":\"histogram2d\"}],\"histogram\":[{\"marker\":{\"pattern\":{\"fillmode\":\"overlay\",\"size\":10,\"solidity\":0.2}},\"type\":\"histogram\"}],\"mesh3d\":[{\"colorbar\":{\"outlinewidth\":0,\"ticks\":\"\"},\"type\":\"mesh3d\"}],\"parcoords\":[{\"line\":{\"colorbar\":{\"outlinewidth\":0,\"ticks\":\"\"}},\"type\":\"parcoords\"}],\"pie\":[{\"automargin\":true,\"type\":\"pie\"}],\"scatter3d\":[{\"line\":{\"colorbar\":{\"outlinewidth\":0,\"ticks\":\"\"}},\"marker\":{\"colorbar\":{\"outlinewidth\":0,\"ticks\":\"\"}},\"type\":\"scatter3d\"}],\"scattercarpet\":[{\"marker\":{\"colorbar\":{\"outlinewidth\":0,\"ticks\":\"\"}},\"type\":\"scattercarpet\"}],\"scattergeo\":[{\"marker\":{\"colorbar\":{\"outlinewidth\":0,\"ticks\":\"\"}},\"type\":\"scattergeo\"}],\"scattergl\":[{\"marker\":{\"colorbar\":{\"outlinewidth\":0,\"ticks\":\"\"}},\"type\":\"scattergl\"}],\"scattermapbox\":[{\"marker\":{\"colorbar\":{\"outlinewidth\":0,\"ticks\":\"\"}},\"type\":\"scattermapbox\"}],\"scatterpolargl\":[{\"marker\":{\"colorbar\":{\"outlinewidth\":0,\"ticks\":\"\"}},\"type\":\"scatterpolargl\"}],\"scatterpolar\":[{\"marker\":{\"colorbar\":{\"outlinewidth\":0,\"ticks\":\"\"}},\"type\":\"scatterpolar\"}],\"scatter\":[{\"marker\":{\"colorbar\":{\"outlinewidth\":0,\"ticks\":\"\"}},\"type\":\"scatter\"}],\"scatterternary\":[{\"marker\":{\"colorbar\":{\"outlinewidth\":0,\"ticks\":\"\"}},\"type\":\"scatterternary\"}],\"surface\":[{\"colorbar\":{\"outlinewidth\":0,\"ticks\":\"\"},\"colorscale\":[[0.0,\"#0d0887\"],[0.1111111111111111,\"#46039f\"],[0.2222222222222222,\"#7201a8\"],[0.3333333333333333,\"#9c179e\"],[0.4444444444444444,\"#bd3786\"],[0.5555555555555556,\"#d8576b\"],[0.6666666666666666,\"#ed7953\"],[0.7777777777777778,\"#fb9f3a\"],[0.8888888888888888,\"#fdca26\"],[1.0,\"#f0f921\"]],\"type\":\"surface\"}],\"table\":[{\"cells\":{\"fill\":{\"color\":\"#EBF0F8\"},\"line\":{\"color\":\"white\"}},\"header\":{\"fill\":{\"color\":\"#C8D4E3\"},\"line\":{\"color\":\"white\"}},\"type\":\"table\"}]},\"layout\":{\"annotationdefaults\":{\"arrowcolor\":\"#2a3f5f\",\"arrowhead\":0,\"arrowwidth\":1},\"autotypenumbers\":\"strict\",\"coloraxis\":{\"colorbar\":{\"outlinewidth\":0,\"ticks\":\"\"}},\"colorscale\":{\"diverging\":[[0,\"#8e0152\"],[0.1,\"#c51b7d\"],[0.2,\"#de77ae\"],[0.3,\"#f1b6da\"],[0.4,\"#fde0ef\"],[0.5,\"#f7f7f7\"],[0.6,\"#e6f5d0\"],[0.7,\"#b8e186\"],[0.8,\"#7fbc41\"],[0.9,\"#4d9221\"],[1,\"#276419\"]],\"sequential\":[[0.0,\"#0d0887\"],[0.1111111111111111,\"#46039f\"],[0.2222222222222222,\"#7201a8\"],[0.3333333333333333,\"#9c179e\"],[0.4444444444444444,\"#bd3786\"],[0.5555555555555556,\"#d8576b\"],[0.6666666666666666,\"#ed7953\"],[0.7777777777777778,\"#fb9f3a\"],[0.8888888888888888,\"#fdca26\"],[1.0,\"#f0f921\"]],\"sequentialminus\":[[0.0,\"#0d0887\"],[0.1111111111111111,\"#46039f\"],[0.2222222222222222,\"#7201a8\"],[0.3333333333333333,\"#9c179e\"],[0.4444444444444444,\"#bd3786\"],[0.5555555555555556,\"#d8576b\"],[0.6666666666666666,\"#ed7953\"],[0.7777777777777778,\"#fb9f3a\"],[0.8888888888888888,\"#fdca26\"],[1.0,\"#f0f921\"]]},\"colorway\":[\"#636efa\",\"#EF553B\",\"#00cc96\",\"#ab63fa\",\"#FFA15A\",\"#19d3f3\",\"#FF6692\",\"#B6E880\",\"#FF97FF\",\"#FECB52\"],\"font\":{\"color\":\"#2a3f5f\"},\"geo\":{\"bgcolor\":\"white\",\"lakecolor\":\"white\",\"landcolor\":\"#E5ECF6\",\"showlakes\":true,\"showland\":true,\"subunitcolor\":\"white\"},\"hoverlabel\":{\"align\":\"left\"},\"hovermode\":\"closest\",\"mapbox\":{\"style\":\"light\"},\"paper_bgcolor\":\"white\",\"plot_bgcolor\":\"#E5ECF6\",\"polar\":{\"angularaxis\":{\"gridcolor\":\"white\",\"linecolor\":\"white\",\"ticks\":\"\"},\"bgcolor\":\"#E5ECF6\",\"radialaxis\":{\"gridcolor\":\"white\",\"linecolor\":\"white\",\"ticks\":\"\"}},\"scene\":{\"xaxis\":{\"backgroundcolor\":\"#E5ECF6\",\"gridcolor\":\"white\",\"gridwidth\":2,\"linecolor\":\"white\",\"showbackground\":true,\"ticks\":\"\",\"zerolinecolor\":\"white\"},\"yaxis\":{\"backgroundcolor\":\"#E5ECF6\",\"gridcolor\":\"white\",\"gridwidth\":2,\"linecolor\":\"white\",\"showbackground\":true,\"ticks\":\"\",\"zerolinecolor\":\"white\"},\"zaxis\":{\"backgroundcolor\":\"#E5ECF6\",\"gridcolor\":\"white\",\"gridwidth\":2,\"linecolor\":\"white\",\"showbackground\":true,\"ticks\":\"\",\"zerolinecolor\":\"white\"}},\"shapedefaults\":{\"line\":{\"color\":\"#2a3f5f\"}},\"ternary\":{\"aaxis\":{\"gridcolor\":\"white\",\"linecolor\":\"white\",\"ticks\":\"\"},\"baxis\":{\"gridcolor\":\"white\",\"linecolor\":\"white\",\"ticks\":\"\"},\"bgcolor\":\"#E5ECF6\",\"caxis\":{\"gridcolor\":\"white\",\"linecolor\":\"white\",\"ticks\":\"\"}},\"title\":{\"x\":0.05},\"xaxis\":{\"automargin\":true,\"gridcolor\":\"white\",\"linecolor\":\"white\",\"ticks\":\"\",\"title\":{\"standoff\":15},\"zerolinecolor\":\"white\",\"zerolinewidth\":2},\"yaxis\":{\"automargin\":true,\"gridcolor\":\"white\",\"linecolor\":\"white\",\"ticks\":\"\",\"title\":{\"standoff\":15},\"zerolinecolor\":\"white\",\"zerolinewidth\":2}}},\"title\":{\"font\":{\"color\":\"#4D5663\"}},\"xaxis\":{\"gridcolor\":\"#E1E5ED\",\"showgrid\":true,\"tickfont\":{\"color\":\"#4D5663\"},\"title\":{\"font\":{\"color\":\"#4D5663\"},\"text\":\"\"},\"zerolinecolor\":\"#E1E5ED\"},\"yaxis\":{\"gridcolor\":\"#E1E5ED\",\"showgrid\":true,\"tickfont\":{\"color\":\"#4D5663\"},\"title\":{\"font\":{\"color\":\"#4D5663\"},\"text\":\"\"},\"zerolinecolor\":\"#E1E5ED\"}},                        {\"showLink\": true, \"linkText\": \"Export to plot.ly\", \"plotlyServerURL\": \"https://plot.ly\", \"responsive\": true}                    ).then(function(){\n",
       "                            \n",
       "var gd = document.getElementById('7793dac5-fd90-430b-af65-39d7bd794b41');\n",
       "var x = new MutationObserver(function (mutations, observer) {{\n",
       "        var display = window.getComputedStyle(gd).display;\n",
       "        if (!display || display === 'none') {{\n",
       "            console.log([gd, 'removed!']);\n",
       "            Plotly.purge(gd);\n",
       "            observer.disconnect();\n",
       "        }}\n",
       "}});\n",
       "\n",
       "// Listen for the removal of the full notebook cells\n",
       "var notebookContainer = gd.closest('#notebook-container');\n",
       "if (notebookContainer) {{\n",
       "    x.observe(notebookContainer, {childList: true});\n",
       "}}\n",
       "\n",
       "// Listen for the clearing of the current output cell\n",
       "var outputEl = gd.closest('.output');\n",
       "if (outputEl) {{\n",
       "    x.observe(outputEl, {childList: true});\n",
       "}}\n",
       "\n",
       "                        })                };                });            </script>        </div>"
      ]
     },
     "metadata": {},
     "output_type": "display_data"
    }
   ],
   "source": [
    "df['A'].iplot(kind='hist',bins=25)"
   ]
  },
  {
   "cell_type": "code",
   "execution_count": 17,
   "metadata": {},
   "outputs": [
    {
     "data": {
      "application/vnd.plotly.v1+json": {
       "config": {
        "linkText": "Export to plot.ly",
        "plotlyServerURL": "https://plot.ly",
        "showLink": true
       },
       "data": [
        {
         "marker": {
          "color": [
           "rgb(255, 153, 51)",
           "rgb(55, 128, 191)",
           "rgb(50, 171, 96)",
           "rgb(128, 0, 128)",
           "rgb(219, 64, 82)",
           "rgb(0, 128, 128)",
           "rgb(255, 255, 51)",
           "rgb(128, 128, 0)",
           "rgb(251, 128, 114)",
           "rgb(128, 177, 211)"
          ],
          "line": {
           "width": 1.3
          },
          "size": [
           28,
           84,
           12,
           70,
           42,
           86,
           61,
           60,
           20,
           105,
           67,
           66,
           81,
           34,
           75,
           54,
           39,
           57,
           81,
           65,
           41,
           75,
           64,
           44,
           60,
           84,
           53,
           67,
           112,
           48,
           65,
           65,
           61,
           40,
           65,
           22,
           63,
           90,
           83,
           30,
           66,
           62,
           52,
           12,
           45,
           101,
           76,
           73,
           84,
           65,
           56,
           58,
           39,
           58,
           86,
           75,
           77,
           25,
           46,
           43,
           61,
           60,
           77,
           51,
           106,
           53,
           61,
           53,
           55,
           48,
           87,
           100,
           53,
           49,
           49,
           76,
           66,
           85,
           96,
           75,
           36,
           87,
           52,
           25,
           72,
           60,
           16,
           67,
           37,
           66,
           54,
           79,
           75,
           61,
           94,
           41,
           42,
           73,
           59,
           22
          ],
          "symbol": "circle"
         },
         "mode": "markers",
         "text": "",
         "type": "scatter",
         "x": [
          -0.36786982851319505,
          -0.8139460136439768,
          -1.2728002553624609,
          -0.16742849267659557,
          0.2568812060873537,
          1.7412616989824088,
          -1.5621264209503618,
          -0.9716442807368325,
          0.18120238038652076,
          -0.45624359436676554,
          0.4192093729134039,
          -1.7537622507026116,
          -0.6760570885254076,
          1.2315472502842275,
          1.344721140948013,
          1.5308498457246777,
          0.0811757384905562,
          -0.07056372644932463,
          -0.4096182151163972,
          -0.18810476194808798,
          -0.6888845471082019,
          0.1787949634688186,
          -0.6326159497145163,
          1.3665080793470559,
          -1.264100708338595,
          0.5654737427593445,
          -0.6314385446664598,
          0.7959791813286821,
          1.5209648447798207,
          0.011053102554344277,
          0.0575177083012101,
          2.1146701003920465,
          0.6844826246908693,
          -1.1059174909427503,
          0.36088615768745663,
          -0.9196362508572212,
          2.413895200230858,
          0.36847160558729464,
          1.5555526138790137,
          0.27533952277220874,
          0.5128093807287213,
          -0.36109803744274055,
          -0.2245813865447435,
          -1.3929369067023898,
          -1.7149219010602588,
          -0.06436773582098293,
          0.705890363747037,
          0.8834346495884103,
          -1.2819697508145063,
          1.0211868852886536,
          0.09444081962493833,
          0.9936925290527405,
          -0.24805292015688082,
          -0.38975442643515745,
          0.13162173026208018,
          -2.0904123249582196,
          -0.3638188904525045,
          1.5945900934580928,
          0.7833673844256537,
          0.2957653201178533,
          -0.420979774187367,
          -0.3033766512810295,
          -0.2359411997474931,
          -0.4555954179187365,
          0.5506480905045086,
          -0.613326940080486,
          -1.1439066960853865,
          0.49946364909654484,
          0.1921167231914247,
          -1.5000415223098764,
          -0.5242457354730988,
          -0.12933767299748697,
          -1.1800277618914492,
          0.9604362518828048,
          -1.3716897691557939,
          -0.9103137466615401,
          1.21475681850616,
          -1.2309199307746803,
          0.7560338475782938,
          1.076852768980497,
          -0.04882792274589524,
          -0.7653859453081738,
          -1.2279318521344766,
          -0.4210661832352774,
          -0.5586350407050273,
          -0.721991107436455,
          0.9659154488762632,
          1.2182790903319993,
          -1.3690372725967028,
          -1.3587655905835527,
          0.515290847414008,
          1.0695484930182528,
          -1.3380019043323563,
          -1.216940120335792,
          1.0947929024669336,
          0.23884071328995005,
          -0.45823390270079395,
          1.4792255439209159,
          -1.3118290643991475,
          -1.172534065870987
         ],
         "y": [
          0.1819819126791729,
          -0.7690504649458737,
          0.4146966578943233,
          0.735872368805637,
          0.8669917218711843,
          2.1748617101751,
          1.2318371866263211,
          0.16427863005281082,
          -0.7516033269630648,
          -0.059540090628032005,
          -0.012899474698968688,
          1.7520395134071642,
          -0.01591686529266641,
          -1.30737693706392,
          0.31469596302611313,
          0.0006447044677048574,
          -0.7695973642700286,
          -1.588439968194205,
          0.5132563588699779,
          -0.4166594400416099,
          0.654191318124905,
          1.538197099799716,
          -0.9734425150447913,
          -1.346122715368668,
          -0.3594077404233946,
          1.7299228793641566,
          2.1101164566449864,
          -0.9413070230386088,
          0.013584305821453655,
          -0.2281718487132733,
          1.6031139424787848,
          0.6043596490108111,
          0.6197173644455335,
          0.22320795650902636,
          3.348229272407328,
          0.7701779183439242,
          1.8000414301434686,
          -1.4159099794566452,
          -0.4371479314457633,
          -0.2147748488950862,
          -0.6812616180720111,
          0.6879337962777717,
          0.15289137723322704,
          -0.6636384766790288,
          0.9087932907473223,
          0.13219355583100664,
          0.6622465833842975,
          -0.5583410998398035,
          -0.24485904679848086,
          -0.4643834042131067,
          -2.2419875725888185,
          0.8278854578464298,
          0.20176407293093973,
          -1.3934247465283838,
          1.1134336391437878,
          -1.6334405533394345,
          1.3236953777109324,
          0.5224675986838716,
          -0.58959784704781,
          1.4586033556318427,
          0.9083302010742899,
          1.720992224059844,
          -1.889437228043027,
          1.465208342151267,
          0.45166524739808955,
          -0.02542207128711079,
          0.28324402331732385,
          -0.49926804861875734,
          0.3895796831658555,
          -0.3266481370656572,
          -2.1620324688740515,
          -0.4198106606771507,
          -0.41366740287377785,
          -0.584281831740891,
          -1.8799488990110838,
          1.0867735776383765,
          0.04134940253602887,
          -0.5192131068274868,
          -0.3308715980802985,
          0.5820619125965684,
          -0.3296740677753678,
          -0.7694843154746899,
          0.3974786425028931,
          -0.09690329212432874,
          0.2848301613145788,
          0.19226842929502952,
          -0.8350478382165045,
          0.30326140879933705,
          0.684022961660779,
          -0.5307381409250069,
          1.1163236404658101,
          -0.018062703200621047,
          1.1463717068725314,
          0.9530289674340827,
          -1.389032278301572,
          -0.7532835443706728,
          1.0060298398741725,
          -0.1675034739802897,
          -1.0888384951742667,
          -1.6766035427580728
         ]
        }
       ],
       "layout": {
        "legend": {
         "bgcolor": "#F5F6F9",
         "font": {
          "color": "#4D5663"
         }
        },
        "paper_bgcolor": "#F5F6F9",
        "plot_bgcolor": "#F5F6F9",
        "template": {
         "data": {
          "bar": [
           {
            "error_x": {
             "color": "#2a3f5f"
            },
            "error_y": {
             "color": "#2a3f5f"
            },
            "marker": {
             "line": {
              "color": "#E5ECF6",
              "width": 0.5
             },
             "pattern": {
              "fillmode": "overlay",
              "size": 10,
              "solidity": 0.2
             }
            },
            "type": "bar"
           }
          ],
          "barpolar": [
           {
            "marker": {
             "line": {
              "color": "#E5ECF6",
              "width": 0.5
             },
             "pattern": {
              "fillmode": "overlay",
              "size": 10,
              "solidity": 0.2
             }
            },
            "type": "barpolar"
           }
          ],
          "carpet": [
           {
            "aaxis": {
             "endlinecolor": "#2a3f5f",
             "gridcolor": "white",
             "linecolor": "white",
             "minorgridcolor": "white",
             "startlinecolor": "#2a3f5f"
            },
            "baxis": {
             "endlinecolor": "#2a3f5f",
             "gridcolor": "white",
             "linecolor": "white",
             "minorgridcolor": "white",
             "startlinecolor": "#2a3f5f"
            },
            "type": "carpet"
           }
          ],
          "choropleth": [
           {
            "colorbar": {
             "outlinewidth": 0,
             "ticks": ""
            },
            "type": "choropleth"
           }
          ],
          "contour": [
           {
            "colorbar": {
             "outlinewidth": 0,
             "ticks": ""
            },
            "colorscale": [
             [
              0,
              "#0d0887"
             ],
             [
              0.1111111111111111,
              "#46039f"
             ],
             [
              0.2222222222222222,
              "#7201a8"
             ],
             [
              0.3333333333333333,
              "#9c179e"
             ],
             [
              0.4444444444444444,
              "#bd3786"
             ],
             [
              0.5555555555555556,
              "#d8576b"
             ],
             [
              0.6666666666666666,
              "#ed7953"
             ],
             [
              0.7777777777777778,
              "#fb9f3a"
             ],
             [
              0.8888888888888888,
              "#fdca26"
             ],
             [
              1,
              "#f0f921"
             ]
            ],
            "type": "contour"
           }
          ],
          "contourcarpet": [
           {
            "colorbar": {
             "outlinewidth": 0,
             "ticks": ""
            },
            "type": "contourcarpet"
           }
          ],
          "heatmap": [
           {
            "colorbar": {
             "outlinewidth": 0,
             "ticks": ""
            },
            "colorscale": [
             [
              0,
              "#0d0887"
             ],
             [
              0.1111111111111111,
              "#46039f"
             ],
             [
              0.2222222222222222,
              "#7201a8"
             ],
             [
              0.3333333333333333,
              "#9c179e"
             ],
             [
              0.4444444444444444,
              "#bd3786"
             ],
             [
              0.5555555555555556,
              "#d8576b"
             ],
             [
              0.6666666666666666,
              "#ed7953"
             ],
             [
              0.7777777777777778,
              "#fb9f3a"
             ],
             [
              0.8888888888888888,
              "#fdca26"
             ],
             [
              1,
              "#f0f921"
             ]
            ],
            "type": "heatmap"
           }
          ],
          "heatmapgl": [
           {
            "colorbar": {
             "outlinewidth": 0,
             "ticks": ""
            },
            "colorscale": [
             [
              0,
              "#0d0887"
             ],
             [
              0.1111111111111111,
              "#46039f"
             ],
             [
              0.2222222222222222,
              "#7201a8"
             ],
             [
              0.3333333333333333,
              "#9c179e"
             ],
             [
              0.4444444444444444,
              "#bd3786"
             ],
             [
              0.5555555555555556,
              "#d8576b"
             ],
             [
              0.6666666666666666,
              "#ed7953"
             ],
             [
              0.7777777777777778,
              "#fb9f3a"
             ],
             [
              0.8888888888888888,
              "#fdca26"
             ],
             [
              1,
              "#f0f921"
             ]
            ],
            "type": "heatmapgl"
           }
          ],
          "histogram": [
           {
            "marker": {
             "pattern": {
              "fillmode": "overlay",
              "size": 10,
              "solidity": 0.2
             }
            },
            "type": "histogram"
           }
          ],
          "histogram2d": [
           {
            "colorbar": {
             "outlinewidth": 0,
             "ticks": ""
            },
            "colorscale": [
             [
              0,
              "#0d0887"
             ],
             [
              0.1111111111111111,
              "#46039f"
             ],
             [
              0.2222222222222222,
              "#7201a8"
             ],
             [
              0.3333333333333333,
              "#9c179e"
             ],
             [
              0.4444444444444444,
              "#bd3786"
             ],
             [
              0.5555555555555556,
              "#d8576b"
             ],
             [
              0.6666666666666666,
              "#ed7953"
             ],
             [
              0.7777777777777778,
              "#fb9f3a"
             ],
             [
              0.8888888888888888,
              "#fdca26"
             ],
             [
              1,
              "#f0f921"
             ]
            ],
            "type": "histogram2d"
           }
          ],
          "histogram2dcontour": [
           {
            "colorbar": {
             "outlinewidth": 0,
             "ticks": ""
            },
            "colorscale": [
             [
              0,
              "#0d0887"
             ],
             [
              0.1111111111111111,
              "#46039f"
             ],
             [
              0.2222222222222222,
              "#7201a8"
             ],
             [
              0.3333333333333333,
              "#9c179e"
             ],
             [
              0.4444444444444444,
              "#bd3786"
             ],
             [
              0.5555555555555556,
              "#d8576b"
             ],
             [
              0.6666666666666666,
              "#ed7953"
             ],
             [
              0.7777777777777778,
              "#fb9f3a"
             ],
             [
              0.8888888888888888,
              "#fdca26"
             ],
             [
              1,
              "#f0f921"
             ]
            ],
            "type": "histogram2dcontour"
           }
          ],
          "mesh3d": [
           {
            "colorbar": {
             "outlinewidth": 0,
             "ticks": ""
            },
            "type": "mesh3d"
           }
          ],
          "parcoords": [
           {
            "line": {
             "colorbar": {
              "outlinewidth": 0,
              "ticks": ""
             }
            },
            "type": "parcoords"
           }
          ],
          "pie": [
           {
            "automargin": true,
            "type": "pie"
           }
          ],
          "scatter": [
           {
            "marker": {
             "colorbar": {
              "outlinewidth": 0,
              "ticks": ""
             }
            },
            "type": "scatter"
           }
          ],
          "scatter3d": [
           {
            "line": {
             "colorbar": {
              "outlinewidth": 0,
              "ticks": ""
             }
            },
            "marker": {
             "colorbar": {
              "outlinewidth": 0,
              "ticks": ""
             }
            },
            "type": "scatter3d"
           }
          ],
          "scattercarpet": [
           {
            "marker": {
             "colorbar": {
              "outlinewidth": 0,
              "ticks": ""
             }
            },
            "type": "scattercarpet"
           }
          ],
          "scattergeo": [
           {
            "marker": {
             "colorbar": {
              "outlinewidth": 0,
              "ticks": ""
             }
            },
            "type": "scattergeo"
           }
          ],
          "scattergl": [
           {
            "marker": {
             "colorbar": {
              "outlinewidth": 0,
              "ticks": ""
             }
            },
            "type": "scattergl"
           }
          ],
          "scattermapbox": [
           {
            "marker": {
             "colorbar": {
              "outlinewidth": 0,
              "ticks": ""
             }
            },
            "type": "scattermapbox"
           }
          ],
          "scatterpolar": [
           {
            "marker": {
             "colorbar": {
              "outlinewidth": 0,
              "ticks": ""
             }
            },
            "type": "scatterpolar"
           }
          ],
          "scatterpolargl": [
           {
            "marker": {
             "colorbar": {
              "outlinewidth": 0,
              "ticks": ""
             }
            },
            "type": "scatterpolargl"
           }
          ],
          "scatterternary": [
           {
            "marker": {
             "colorbar": {
              "outlinewidth": 0,
              "ticks": ""
             }
            },
            "type": "scatterternary"
           }
          ],
          "surface": [
           {
            "colorbar": {
             "outlinewidth": 0,
             "ticks": ""
            },
            "colorscale": [
             [
              0,
              "#0d0887"
             ],
             [
              0.1111111111111111,
              "#46039f"
             ],
             [
              0.2222222222222222,
              "#7201a8"
             ],
             [
              0.3333333333333333,
              "#9c179e"
             ],
             [
              0.4444444444444444,
              "#bd3786"
             ],
             [
              0.5555555555555556,
              "#d8576b"
             ],
             [
              0.6666666666666666,
              "#ed7953"
             ],
             [
              0.7777777777777778,
              "#fb9f3a"
             ],
             [
              0.8888888888888888,
              "#fdca26"
             ],
             [
              1,
              "#f0f921"
             ]
            ],
            "type": "surface"
           }
          ],
          "table": [
           {
            "cells": {
             "fill": {
              "color": "#EBF0F8"
             },
             "line": {
              "color": "white"
             }
            },
            "header": {
             "fill": {
              "color": "#C8D4E3"
             },
             "line": {
              "color": "white"
             }
            },
            "type": "table"
           }
          ]
         },
         "layout": {
          "annotationdefaults": {
           "arrowcolor": "#2a3f5f",
           "arrowhead": 0,
           "arrowwidth": 1
          },
          "autotypenumbers": "strict",
          "coloraxis": {
           "colorbar": {
            "outlinewidth": 0,
            "ticks": ""
           }
          },
          "colorscale": {
           "diverging": [
            [
             0,
             "#8e0152"
            ],
            [
             0.1,
             "#c51b7d"
            ],
            [
             0.2,
             "#de77ae"
            ],
            [
             0.3,
             "#f1b6da"
            ],
            [
             0.4,
             "#fde0ef"
            ],
            [
             0.5,
             "#f7f7f7"
            ],
            [
             0.6,
             "#e6f5d0"
            ],
            [
             0.7,
             "#b8e186"
            ],
            [
             0.8,
             "#7fbc41"
            ],
            [
             0.9,
             "#4d9221"
            ],
            [
             1,
             "#276419"
            ]
           ],
           "sequential": [
            [
             0,
             "#0d0887"
            ],
            [
             0.1111111111111111,
             "#46039f"
            ],
            [
             0.2222222222222222,
             "#7201a8"
            ],
            [
             0.3333333333333333,
             "#9c179e"
            ],
            [
             0.4444444444444444,
             "#bd3786"
            ],
            [
             0.5555555555555556,
             "#d8576b"
            ],
            [
             0.6666666666666666,
             "#ed7953"
            ],
            [
             0.7777777777777778,
             "#fb9f3a"
            ],
            [
             0.8888888888888888,
             "#fdca26"
            ],
            [
             1,
             "#f0f921"
            ]
           ],
           "sequentialminus": [
            [
             0,
             "#0d0887"
            ],
            [
             0.1111111111111111,
             "#46039f"
            ],
            [
             0.2222222222222222,
             "#7201a8"
            ],
            [
             0.3333333333333333,
             "#9c179e"
            ],
            [
             0.4444444444444444,
             "#bd3786"
            ],
            [
             0.5555555555555556,
             "#d8576b"
            ],
            [
             0.6666666666666666,
             "#ed7953"
            ],
            [
             0.7777777777777778,
             "#fb9f3a"
            ],
            [
             0.8888888888888888,
             "#fdca26"
            ],
            [
             1,
             "#f0f921"
            ]
           ]
          },
          "colorway": [
           "#636efa",
           "#EF553B",
           "#00cc96",
           "#ab63fa",
           "#FFA15A",
           "#19d3f3",
           "#FF6692",
           "#B6E880",
           "#FF97FF",
           "#FECB52"
          ],
          "font": {
           "color": "#2a3f5f"
          },
          "geo": {
           "bgcolor": "white",
           "lakecolor": "white",
           "landcolor": "#E5ECF6",
           "showlakes": true,
           "showland": true,
           "subunitcolor": "white"
          },
          "hoverlabel": {
           "align": "left"
          },
          "hovermode": "closest",
          "mapbox": {
           "style": "light"
          },
          "paper_bgcolor": "white",
          "plot_bgcolor": "#E5ECF6",
          "polar": {
           "angularaxis": {
            "gridcolor": "white",
            "linecolor": "white",
            "ticks": ""
           },
           "bgcolor": "#E5ECF6",
           "radialaxis": {
            "gridcolor": "white",
            "linecolor": "white",
            "ticks": ""
           }
          },
          "scene": {
           "xaxis": {
            "backgroundcolor": "#E5ECF6",
            "gridcolor": "white",
            "gridwidth": 2,
            "linecolor": "white",
            "showbackground": true,
            "ticks": "",
            "zerolinecolor": "white"
           },
           "yaxis": {
            "backgroundcolor": "#E5ECF6",
            "gridcolor": "white",
            "gridwidth": 2,
            "linecolor": "white",
            "showbackground": true,
            "ticks": "",
            "zerolinecolor": "white"
           },
           "zaxis": {
            "backgroundcolor": "#E5ECF6",
            "gridcolor": "white",
            "gridwidth": 2,
            "linecolor": "white",
            "showbackground": true,
            "ticks": "",
            "zerolinecolor": "white"
           }
          },
          "shapedefaults": {
           "line": {
            "color": "#2a3f5f"
           }
          },
          "ternary": {
           "aaxis": {
            "gridcolor": "white",
            "linecolor": "white",
            "ticks": ""
           },
           "baxis": {
            "gridcolor": "white",
            "linecolor": "white",
            "ticks": ""
           },
           "bgcolor": "#E5ECF6",
           "caxis": {
            "gridcolor": "white",
            "linecolor": "white",
            "ticks": ""
           }
          },
          "title": {
           "x": 0.05
          },
          "xaxis": {
           "automargin": true,
           "gridcolor": "white",
           "linecolor": "white",
           "ticks": "",
           "title": {
            "standoff": 15
           },
           "zerolinecolor": "white",
           "zerolinewidth": 2
          },
          "yaxis": {
           "automargin": true,
           "gridcolor": "white",
           "linecolor": "white",
           "ticks": "",
           "title": {
            "standoff": 15
           },
           "zerolinecolor": "white",
           "zerolinewidth": 2
          }
         }
        },
        "title": {
         "font": {
          "color": "#4D5663"
         }
        },
        "xaxis": {
         "gridcolor": "#E1E5ED",
         "showgrid": true,
         "tickfont": {
          "color": "#4D5663"
         },
         "title": {
          "font": {
           "color": "#4D5663"
          },
          "text": ""
         },
         "zerolinecolor": "#E1E5ED"
        },
        "yaxis": {
         "gridcolor": "#E1E5ED",
         "showgrid": true,
         "tickfont": {
          "color": "#4D5663"
         },
         "title": {
          "font": {
           "color": "#4D5663"
          },
          "text": ""
         },
         "zerolinecolor": "#E1E5ED"
        }
       }
      },
      "text/html": [
       "<div>                            <div id=\"d8183f3f-d353-40fd-bb62-98b61d4e651a\" class=\"plotly-graph-div\" style=\"height:525px; width:100%;\"></div>            <script type=\"text/javascript\">                require([\"plotly\"], function(Plotly) {                    window.PLOTLYENV=window.PLOTLYENV || {};\n",
       "                    window.PLOTLYENV.BASE_URL='https://plot.ly';                                    if (document.getElementById(\"d8183f3f-d353-40fd-bb62-98b61d4e651a\")) {                    Plotly.newPlot(                        \"d8183f3f-d353-40fd-bb62-98b61d4e651a\",                        [{\"marker\":{\"color\":[\"rgb(255, 153, 51)\",\"rgb(55, 128, 191)\",\"rgb(50, 171, 96)\",\"rgb(128, 0, 128)\",\"rgb(219, 64, 82)\",\"rgb(0, 128, 128)\",\"rgb(255, 255, 51)\",\"rgb(128, 128, 0)\",\"rgb(251, 128, 114)\",\"rgb(128, 177, 211)\"],\"line\":{\"width\":1.3},\"size\":[28,84,12,70,42,86,61,60,20,105,67,66,81,34,75,54,39,57,81,65,41,75,64,44,60,84,53,67,112,48,65,65,61,40,65,22,63,90,83,30,66,62,52,12,45,101,76,73,84,65,56,58,39,58,86,75,77,25,46,43,61,60,77,51,106,53,61,53,55,48,87,100,53,49,49,76,66,85,96,75,36,87,52,25,72,60,16,67,37,66,54,79,75,61,94,41,42,73,59,22],\"symbol\":\"circle\"},\"mode\":\"markers\",\"text\":\"\",\"x\":[-0.36786982851319505,-0.8139460136439768,-1.2728002553624609,-0.16742849267659557,0.2568812060873537,1.7412616989824088,-1.5621264209503618,-0.9716442807368325,0.18120238038652076,-0.45624359436676554,0.4192093729134039,-1.7537622507026116,-0.6760570885254076,1.2315472502842275,1.344721140948013,1.5308498457246777,0.0811757384905562,-0.07056372644932463,-0.4096182151163972,-0.18810476194808798,-0.6888845471082019,0.1787949634688186,-0.6326159497145163,1.3665080793470559,-1.264100708338595,0.5654737427593445,-0.6314385446664598,0.7959791813286821,1.5209648447798207,0.011053102554344277,0.0575177083012101,2.1146701003920465,0.6844826246908693,-1.1059174909427503,0.36088615768745663,-0.9196362508572212,2.413895200230858,0.36847160558729464,1.5555526138790137,0.27533952277220874,0.5128093807287213,-0.36109803744274055,-0.2245813865447435,-1.3929369067023898,-1.7149219010602588,-0.06436773582098293,0.705890363747037,0.8834346495884103,-1.2819697508145063,1.0211868852886536,0.09444081962493833,0.9936925290527405,-0.24805292015688082,-0.38975442643515745,0.13162173026208018,-2.0904123249582196,-0.3638188904525045,1.5945900934580928,0.7833673844256537,0.2957653201178533,-0.420979774187367,-0.3033766512810295,-0.2359411997474931,-0.4555954179187365,0.5506480905045086,-0.613326940080486,-1.1439066960853865,0.49946364909654484,0.1921167231914247,-1.5000415223098764,-0.5242457354730988,-0.12933767299748697,-1.1800277618914492,0.9604362518828048,-1.3716897691557939,-0.9103137466615401,1.21475681850616,-1.2309199307746803,0.7560338475782938,1.076852768980497,-0.04882792274589524,-0.7653859453081738,-1.2279318521344766,-0.4210661832352774,-0.5586350407050273,-0.721991107436455,0.9659154488762632,1.2182790903319993,-1.3690372725967028,-1.3587655905835527,0.515290847414008,1.0695484930182528,-1.3380019043323563,-1.216940120335792,1.0947929024669336,0.23884071328995005,-0.45823390270079395,1.4792255439209159,-1.3118290643991475,-1.172534065870987],\"y\":[0.1819819126791729,-0.7690504649458737,0.4146966578943233,0.735872368805637,0.8669917218711843,2.1748617101751,1.2318371866263211,0.16427863005281082,-0.7516033269630648,-0.059540090628032005,-0.012899474698968688,1.7520395134071642,-0.01591686529266641,-1.30737693706392,0.31469596302611313,0.0006447044677048574,-0.7695973642700286,-1.588439968194205,0.5132563588699779,-0.4166594400416099,0.654191318124905,1.538197099799716,-0.9734425150447913,-1.346122715368668,-0.3594077404233946,1.7299228793641566,2.1101164566449864,-0.9413070230386088,0.013584305821453655,-0.2281718487132733,1.6031139424787848,0.6043596490108111,0.6197173644455335,0.22320795650902636,3.348229272407328,0.7701779183439242,1.8000414301434686,-1.4159099794566452,-0.4371479314457633,-0.2147748488950862,-0.6812616180720111,0.6879337962777717,0.15289137723322704,-0.6636384766790288,0.9087932907473223,0.13219355583100664,0.6622465833842975,-0.5583410998398035,-0.24485904679848086,-0.4643834042131067,-2.2419875725888185,0.8278854578464298,0.20176407293093973,-1.3934247465283838,1.1134336391437878,-1.6334405533394345,1.3236953777109324,0.5224675986838716,-0.58959784704781,1.4586033556318427,0.9083302010742899,1.720992224059844,-1.889437228043027,1.465208342151267,0.45166524739808955,-0.02542207128711079,0.28324402331732385,-0.49926804861875734,0.3895796831658555,-0.3266481370656572,-2.1620324688740515,-0.4198106606771507,-0.41366740287377785,-0.584281831740891,-1.8799488990110838,1.0867735776383765,0.04134940253602887,-0.5192131068274868,-0.3308715980802985,0.5820619125965684,-0.3296740677753678,-0.7694843154746899,0.3974786425028931,-0.09690329212432874,0.2848301613145788,0.19226842929502952,-0.8350478382165045,0.30326140879933705,0.684022961660779,-0.5307381409250069,1.1163236404658101,-0.018062703200621047,1.1463717068725314,0.9530289674340827,-1.389032278301572,-0.7532835443706728,1.0060298398741725,-0.1675034739802897,-1.0888384951742667,-1.6766035427580728],\"type\":\"scatter\"}],                        {\"legend\":{\"bgcolor\":\"#F5F6F9\",\"font\":{\"color\":\"#4D5663\"}},\"paper_bgcolor\":\"#F5F6F9\",\"plot_bgcolor\":\"#F5F6F9\",\"template\":{\"data\":{\"barpolar\":[{\"marker\":{\"line\":{\"color\":\"#E5ECF6\",\"width\":0.5},\"pattern\":{\"fillmode\":\"overlay\",\"size\":10,\"solidity\":0.2}},\"type\":\"barpolar\"}],\"bar\":[{\"error_x\":{\"color\":\"#2a3f5f\"},\"error_y\":{\"color\":\"#2a3f5f\"},\"marker\":{\"line\":{\"color\":\"#E5ECF6\",\"width\":0.5},\"pattern\":{\"fillmode\":\"overlay\",\"size\":10,\"solidity\":0.2}},\"type\":\"bar\"}],\"carpet\":[{\"aaxis\":{\"endlinecolor\":\"#2a3f5f\",\"gridcolor\":\"white\",\"linecolor\":\"white\",\"minorgridcolor\":\"white\",\"startlinecolor\":\"#2a3f5f\"},\"baxis\":{\"endlinecolor\":\"#2a3f5f\",\"gridcolor\":\"white\",\"linecolor\":\"white\",\"minorgridcolor\":\"white\",\"startlinecolor\":\"#2a3f5f\"},\"type\":\"carpet\"}],\"choropleth\":[{\"colorbar\":{\"outlinewidth\":0,\"ticks\":\"\"},\"type\":\"choropleth\"}],\"contourcarpet\":[{\"colorbar\":{\"outlinewidth\":0,\"ticks\":\"\"},\"type\":\"contourcarpet\"}],\"contour\":[{\"colorbar\":{\"outlinewidth\":0,\"ticks\":\"\"},\"colorscale\":[[0.0,\"#0d0887\"],[0.1111111111111111,\"#46039f\"],[0.2222222222222222,\"#7201a8\"],[0.3333333333333333,\"#9c179e\"],[0.4444444444444444,\"#bd3786\"],[0.5555555555555556,\"#d8576b\"],[0.6666666666666666,\"#ed7953\"],[0.7777777777777778,\"#fb9f3a\"],[0.8888888888888888,\"#fdca26\"],[1.0,\"#f0f921\"]],\"type\":\"contour\"}],\"heatmapgl\":[{\"colorbar\":{\"outlinewidth\":0,\"ticks\":\"\"},\"colorscale\":[[0.0,\"#0d0887\"],[0.1111111111111111,\"#46039f\"],[0.2222222222222222,\"#7201a8\"],[0.3333333333333333,\"#9c179e\"],[0.4444444444444444,\"#bd3786\"],[0.5555555555555556,\"#d8576b\"],[0.6666666666666666,\"#ed7953\"],[0.7777777777777778,\"#fb9f3a\"],[0.8888888888888888,\"#fdca26\"],[1.0,\"#f0f921\"]],\"type\":\"heatmapgl\"}],\"heatmap\":[{\"colorbar\":{\"outlinewidth\":0,\"ticks\":\"\"},\"colorscale\":[[0.0,\"#0d0887\"],[0.1111111111111111,\"#46039f\"],[0.2222222222222222,\"#7201a8\"],[0.3333333333333333,\"#9c179e\"],[0.4444444444444444,\"#bd3786\"],[0.5555555555555556,\"#d8576b\"],[0.6666666666666666,\"#ed7953\"],[0.7777777777777778,\"#fb9f3a\"],[0.8888888888888888,\"#fdca26\"],[1.0,\"#f0f921\"]],\"type\":\"heatmap\"}],\"histogram2dcontour\":[{\"colorbar\":{\"outlinewidth\":0,\"ticks\":\"\"},\"colorscale\":[[0.0,\"#0d0887\"],[0.1111111111111111,\"#46039f\"],[0.2222222222222222,\"#7201a8\"],[0.3333333333333333,\"#9c179e\"],[0.4444444444444444,\"#bd3786\"],[0.5555555555555556,\"#d8576b\"],[0.6666666666666666,\"#ed7953\"],[0.7777777777777778,\"#fb9f3a\"],[0.8888888888888888,\"#fdca26\"],[1.0,\"#f0f921\"]],\"type\":\"histogram2dcontour\"}],\"histogram2d\":[{\"colorbar\":{\"outlinewidth\":0,\"ticks\":\"\"},\"colorscale\":[[0.0,\"#0d0887\"],[0.1111111111111111,\"#46039f\"],[0.2222222222222222,\"#7201a8\"],[0.3333333333333333,\"#9c179e\"],[0.4444444444444444,\"#bd3786\"],[0.5555555555555556,\"#d8576b\"],[0.6666666666666666,\"#ed7953\"],[0.7777777777777778,\"#fb9f3a\"],[0.8888888888888888,\"#fdca26\"],[1.0,\"#f0f921\"]],\"type\":\"histogram2d\"}],\"histogram\":[{\"marker\":{\"pattern\":{\"fillmode\":\"overlay\",\"size\":10,\"solidity\":0.2}},\"type\":\"histogram\"}],\"mesh3d\":[{\"colorbar\":{\"outlinewidth\":0,\"ticks\":\"\"},\"type\":\"mesh3d\"}],\"parcoords\":[{\"line\":{\"colorbar\":{\"outlinewidth\":0,\"ticks\":\"\"}},\"type\":\"parcoords\"}],\"pie\":[{\"automargin\":true,\"type\":\"pie\"}],\"scatter3d\":[{\"line\":{\"colorbar\":{\"outlinewidth\":0,\"ticks\":\"\"}},\"marker\":{\"colorbar\":{\"outlinewidth\":0,\"ticks\":\"\"}},\"type\":\"scatter3d\"}],\"scattercarpet\":[{\"marker\":{\"colorbar\":{\"outlinewidth\":0,\"ticks\":\"\"}},\"type\":\"scattercarpet\"}],\"scattergeo\":[{\"marker\":{\"colorbar\":{\"outlinewidth\":0,\"ticks\":\"\"}},\"type\":\"scattergeo\"}],\"scattergl\":[{\"marker\":{\"colorbar\":{\"outlinewidth\":0,\"ticks\":\"\"}},\"type\":\"scattergl\"}],\"scattermapbox\":[{\"marker\":{\"colorbar\":{\"outlinewidth\":0,\"ticks\":\"\"}},\"type\":\"scattermapbox\"}],\"scatterpolargl\":[{\"marker\":{\"colorbar\":{\"outlinewidth\":0,\"ticks\":\"\"}},\"type\":\"scatterpolargl\"}],\"scatterpolar\":[{\"marker\":{\"colorbar\":{\"outlinewidth\":0,\"ticks\":\"\"}},\"type\":\"scatterpolar\"}],\"scatter\":[{\"marker\":{\"colorbar\":{\"outlinewidth\":0,\"ticks\":\"\"}},\"type\":\"scatter\"}],\"scatterternary\":[{\"marker\":{\"colorbar\":{\"outlinewidth\":0,\"ticks\":\"\"}},\"type\":\"scatterternary\"}],\"surface\":[{\"colorbar\":{\"outlinewidth\":0,\"ticks\":\"\"},\"colorscale\":[[0.0,\"#0d0887\"],[0.1111111111111111,\"#46039f\"],[0.2222222222222222,\"#7201a8\"],[0.3333333333333333,\"#9c179e\"],[0.4444444444444444,\"#bd3786\"],[0.5555555555555556,\"#d8576b\"],[0.6666666666666666,\"#ed7953\"],[0.7777777777777778,\"#fb9f3a\"],[0.8888888888888888,\"#fdca26\"],[1.0,\"#f0f921\"]],\"type\":\"surface\"}],\"table\":[{\"cells\":{\"fill\":{\"color\":\"#EBF0F8\"},\"line\":{\"color\":\"white\"}},\"header\":{\"fill\":{\"color\":\"#C8D4E3\"},\"line\":{\"color\":\"white\"}},\"type\":\"table\"}]},\"layout\":{\"annotationdefaults\":{\"arrowcolor\":\"#2a3f5f\",\"arrowhead\":0,\"arrowwidth\":1},\"autotypenumbers\":\"strict\",\"coloraxis\":{\"colorbar\":{\"outlinewidth\":0,\"ticks\":\"\"}},\"colorscale\":{\"diverging\":[[0,\"#8e0152\"],[0.1,\"#c51b7d\"],[0.2,\"#de77ae\"],[0.3,\"#f1b6da\"],[0.4,\"#fde0ef\"],[0.5,\"#f7f7f7\"],[0.6,\"#e6f5d0\"],[0.7,\"#b8e186\"],[0.8,\"#7fbc41\"],[0.9,\"#4d9221\"],[1,\"#276419\"]],\"sequential\":[[0.0,\"#0d0887\"],[0.1111111111111111,\"#46039f\"],[0.2222222222222222,\"#7201a8\"],[0.3333333333333333,\"#9c179e\"],[0.4444444444444444,\"#bd3786\"],[0.5555555555555556,\"#d8576b\"],[0.6666666666666666,\"#ed7953\"],[0.7777777777777778,\"#fb9f3a\"],[0.8888888888888888,\"#fdca26\"],[1.0,\"#f0f921\"]],\"sequentialminus\":[[0.0,\"#0d0887\"],[0.1111111111111111,\"#46039f\"],[0.2222222222222222,\"#7201a8\"],[0.3333333333333333,\"#9c179e\"],[0.4444444444444444,\"#bd3786\"],[0.5555555555555556,\"#d8576b\"],[0.6666666666666666,\"#ed7953\"],[0.7777777777777778,\"#fb9f3a\"],[0.8888888888888888,\"#fdca26\"],[1.0,\"#f0f921\"]]},\"colorway\":[\"#636efa\",\"#EF553B\",\"#00cc96\",\"#ab63fa\",\"#FFA15A\",\"#19d3f3\",\"#FF6692\",\"#B6E880\",\"#FF97FF\",\"#FECB52\"],\"font\":{\"color\":\"#2a3f5f\"},\"geo\":{\"bgcolor\":\"white\",\"lakecolor\":\"white\",\"landcolor\":\"#E5ECF6\",\"showlakes\":true,\"showland\":true,\"subunitcolor\":\"white\"},\"hoverlabel\":{\"align\":\"left\"},\"hovermode\":\"closest\",\"mapbox\":{\"style\":\"light\"},\"paper_bgcolor\":\"white\",\"plot_bgcolor\":\"#E5ECF6\",\"polar\":{\"angularaxis\":{\"gridcolor\":\"white\",\"linecolor\":\"white\",\"ticks\":\"\"},\"bgcolor\":\"#E5ECF6\",\"radialaxis\":{\"gridcolor\":\"white\",\"linecolor\":\"white\",\"ticks\":\"\"}},\"scene\":{\"xaxis\":{\"backgroundcolor\":\"#E5ECF6\",\"gridcolor\":\"white\",\"gridwidth\":2,\"linecolor\":\"white\",\"showbackground\":true,\"ticks\":\"\",\"zerolinecolor\":\"white\"},\"yaxis\":{\"backgroundcolor\":\"#E5ECF6\",\"gridcolor\":\"white\",\"gridwidth\":2,\"linecolor\":\"white\",\"showbackground\":true,\"ticks\":\"\",\"zerolinecolor\":\"white\"},\"zaxis\":{\"backgroundcolor\":\"#E5ECF6\",\"gridcolor\":\"white\",\"gridwidth\":2,\"linecolor\":\"white\",\"showbackground\":true,\"ticks\":\"\",\"zerolinecolor\":\"white\"}},\"shapedefaults\":{\"line\":{\"color\":\"#2a3f5f\"}},\"ternary\":{\"aaxis\":{\"gridcolor\":\"white\",\"linecolor\":\"white\",\"ticks\":\"\"},\"baxis\":{\"gridcolor\":\"white\",\"linecolor\":\"white\",\"ticks\":\"\"},\"bgcolor\":\"#E5ECF6\",\"caxis\":{\"gridcolor\":\"white\",\"linecolor\":\"white\",\"ticks\":\"\"}},\"title\":{\"x\":0.05},\"xaxis\":{\"automargin\":true,\"gridcolor\":\"white\",\"linecolor\":\"white\",\"ticks\":\"\",\"title\":{\"standoff\":15},\"zerolinecolor\":\"white\",\"zerolinewidth\":2},\"yaxis\":{\"automargin\":true,\"gridcolor\":\"white\",\"linecolor\":\"white\",\"ticks\":\"\",\"title\":{\"standoff\":15},\"zerolinecolor\":\"white\",\"zerolinewidth\":2}}},\"title\":{\"font\":{\"color\":\"#4D5663\"}},\"xaxis\":{\"gridcolor\":\"#E1E5ED\",\"showgrid\":true,\"tickfont\":{\"color\":\"#4D5663\"},\"title\":{\"font\":{\"color\":\"#4D5663\"},\"text\":\"\"},\"zerolinecolor\":\"#E1E5ED\"},\"yaxis\":{\"gridcolor\":\"#E1E5ED\",\"showgrid\":true,\"tickfont\":{\"color\":\"#4D5663\"},\"title\":{\"font\":{\"color\":\"#4D5663\"},\"text\":\"\"},\"zerolinecolor\":\"#E1E5ED\"}},                        {\"showLink\": true, \"linkText\": \"Export to plot.ly\", \"plotlyServerURL\": \"https://plot.ly\", \"responsive\": true}                    ).then(function(){\n",
       "                            \n",
       "var gd = document.getElementById('d8183f3f-d353-40fd-bb62-98b61d4e651a');\n",
       "var x = new MutationObserver(function (mutations, observer) {{\n",
       "        var display = window.getComputedStyle(gd).display;\n",
       "        if (!display || display === 'none') {{\n",
       "            console.log([gd, 'removed!']);\n",
       "            Plotly.purge(gd);\n",
       "            observer.disconnect();\n",
       "        }}\n",
       "}});\n",
       "\n",
       "// Listen for the removal of the full notebook cells\n",
       "var notebookContainer = gd.closest('#notebook-container');\n",
       "if (notebookContainer) {{\n",
       "    x.observe(notebookContainer, {childList: true});\n",
       "}}\n",
       "\n",
       "// Listen for the clearing of the current output cell\n",
       "var outputEl = gd.closest('.output');\n",
       "if (outputEl) {{\n",
       "    x.observe(outputEl, {childList: true});\n",
       "}}\n",
       "\n",
       "                        })                };                });            </script>        </div>"
      ]
     },
     "metadata": {},
     "output_type": "display_data"
    }
   ],
   "source": [
    "df.iplot(kind='bubble',x='A',y='B',size='C')"
   ]
  },
  {
   "cell_type": "markdown",
   "metadata": {},
   "source": [
    "## scatter_matrix()\n",
    "\n",
    "Similar to sns.pairplot()"
   ]
  },
  {
   "cell_type": "code",
   "execution_count": 18,
   "metadata": {},
   "outputs": [
    {
     "data": {
      "application/vnd.plotly.v1+json": {
       "config": {
        "linkText": "Export to plot.ly",
        "plotlyServerURL": "https://plot.ly",
        "showLink": true
       },
       "data": [
        {
         "histfunc": "count",
         "histnorm": "",
         "marker": {
          "color": "rgba(255, 153, 51, 1.0)",
          "line": {
           "color": "#4D5663",
           "width": 1.3
          }
         },
         "name": "A",
         "nbinsx": 10,
         "opacity": 0.8,
         "orientation": "v",
         "type": "histogram",
         "x": [
          -0.36786982851319505,
          -0.8139460136439768,
          -1.2728002553624609,
          -0.16742849267659557,
          0.2568812060873537,
          1.7412616989824088,
          -1.5621264209503618,
          -0.9716442807368325,
          0.18120238038652076,
          -0.45624359436676554,
          0.4192093729134039,
          -1.7537622507026116,
          -0.6760570885254076,
          1.2315472502842275,
          1.344721140948013,
          1.5308498457246777,
          0.0811757384905562,
          -0.07056372644932463,
          -0.4096182151163972,
          -0.18810476194808798,
          -0.6888845471082019,
          0.1787949634688186,
          -0.6326159497145163,
          1.3665080793470559,
          -1.264100708338595,
          0.5654737427593445,
          -0.6314385446664598,
          0.7959791813286821,
          1.5209648447798207,
          0.011053102554344277,
          0.0575177083012101,
          2.1146701003920465,
          0.6844826246908693,
          -1.1059174909427503,
          0.36088615768745663,
          -0.9196362508572212,
          2.413895200230858,
          0.36847160558729464,
          1.5555526138790137,
          0.27533952277220874,
          0.5128093807287213,
          -0.36109803744274055,
          -0.2245813865447435,
          -1.3929369067023898,
          -1.7149219010602588,
          -0.06436773582098293,
          0.705890363747037,
          0.8834346495884103,
          -1.2819697508145063,
          1.0211868852886536,
          0.09444081962493833,
          0.9936925290527405,
          -0.24805292015688082,
          -0.38975442643515745,
          0.13162173026208018,
          -2.0904123249582196,
          -0.3638188904525045,
          1.5945900934580928,
          0.7833673844256537,
          0.2957653201178533,
          -0.420979774187367,
          -0.3033766512810295,
          -0.2359411997474931,
          -0.4555954179187365,
          0.5506480905045086,
          -0.613326940080486,
          -1.1439066960853865,
          0.49946364909654484,
          0.1921167231914247,
          -1.5000415223098764,
          -0.5242457354730988,
          -0.12933767299748697,
          -1.1800277618914492,
          0.9604362518828048,
          -1.3716897691557939,
          -0.9103137466615401,
          1.21475681850616,
          -1.2309199307746803,
          0.7560338475782938,
          1.076852768980497,
          -0.04882792274589524,
          -0.7653859453081738,
          -1.2279318521344766,
          -0.4210661832352774,
          -0.5586350407050273,
          -0.721991107436455,
          0.9659154488762632,
          1.2182790903319993,
          -1.3690372725967028,
          -1.3587655905835527,
          0.515290847414008,
          1.0695484930182528,
          -1.3380019043323563,
          -1.216940120335792,
          1.0947929024669336,
          0.23884071328995005,
          -0.45823390270079395,
          1.4792255439209159,
          -1.3118290643991475,
          -1.172534065870987
         ],
         "xaxis": "x",
         "yaxis": "y"
        },
        {
         "line": {
          "color": "rgba(128, 128, 128, 1.0)",
          "dash": "solid",
          "shape": "linear",
          "width": 1.3
         },
         "marker": {
          "size": 2,
          "symbol": "circle"
         },
         "mode": "markers",
         "name": "A",
         "text": "",
         "type": "scatter",
         "x": [
          0.1819819126791729,
          -0.7690504649458737,
          0.4146966578943233,
          0.735872368805637,
          0.8669917218711843,
          2.1748617101751,
          1.2318371866263211,
          0.16427863005281082,
          -0.7516033269630648,
          -0.059540090628032005,
          -0.012899474698968688,
          1.7520395134071642,
          -0.01591686529266641,
          -1.30737693706392,
          0.31469596302611313,
          0.0006447044677048574,
          -0.7695973642700286,
          -1.588439968194205,
          0.5132563588699779,
          -0.4166594400416099,
          0.654191318124905,
          1.538197099799716,
          -0.9734425150447913,
          -1.346122715368668,
          -0.3594077404233946,
          1.7299228793641566,
          2.1101164566449864,
          -0.9413070230386088,
          0.013584305821453655,
          -0.2281718487132733,
          1.6031139424787848,
          0.6043596490108111,
          0.6197173644455335,
          0.22320795650902636,
          3.348229272407328,
          0.7701779183439242,
          1.8000414301434686,
          -1.4159099794566452,
          -0.4371479314457633,
          -0.2147748488950862,
          -0.6812616180720111,
          0.6879337962777717,
          0.15289137723322704,
          -0.6636384766790288,
          0.9087932907473223,
          0.13219355583100664,
          0.6622465833842975,
          -0.5583410998398035,
          -0.24485904679848086,
          -0.4643834042131067,
          -2.2419875725888185,
          0.8278854578464298,
          0.20176407293093973,
          -1.3934247465283838,
          1.1134336391437878,
          -1.6334405533394345,
          1.3236953777109324,
          0.5224675986838716,
          -0.58959784704781,
          1.4586033556318427,
          0.9083302010742899,
          1.720992224059844,
          -1.889437228043027,
          1.465208342151267,
          0.45166524739808955,
          -0.02542207128711079,
          0.28324402331732385,
          -0.49926804861875734,
          0.3895796831658555,
          -0.3266481370656572,
          -2.1620324688740515,
          -0.4198106606771507,
          -0.41366740287377785,
          -0.584281831740891,
          -1.8799488990110838,
          1.0867735776383765,
          0.04134940253602887,
          -0.5192131068274868,
          -0.3308715980802985,
          0.5820619125965684,
          -0.3296740677753678,
          -0.7694843154746899,
          0.3974786425028931,
          -0.09690329212432874,
          0.2848301613145788,
          0.19226842929502952,
          -0.8350478382165045,
          0.30326140879933705,
          0.684022961660779,
          -0.5307381409250069,
          1.1163236404658101,
          -0.018062703200621047,
          1.1463717068725314,
          0.9530289674340827,
          -1.389032278301572,
          -0.7532835443706728,
          1.0060298398741725,
          -0.1675034739802897,
          -1.0888384951742667,
          -1.6766035427580728
         ],
         "xaxis": "x2",
         "y": [
          -0.36786982851319505,
          -0.8139460136439768,
          -1.2728002553624609,
          -0.16742849267659557,
          0.2568812060873537,
          1.7412616989824088,
          -1.5621264209503618,
          -0.9716442807368325,
          0.18120238038652076,
          -0.45624359436676554,
          0.4192093729134039,
          -1.7537622507026116,
          -0.6760570885254076,
          1.2315472502842275,
          1.344721140948013,
          1.5308498457246777,
          0.0811757384905562,
          -0.07056372644932463,
          -0.4096182151163972,
          -0.18810476194808798,
          -0.6888845471082019,
          0.1787949634688186,
          -0.6326159497145163,
          1.3665080793470559,
          -1.264100708338595,
          0.5654737427593445,
          -0.6314385446664598,
          0.7959791813286821,
          1.5209648447798207,
          0.011053102554344277,
          0.0575177083012101,
          2.1146701003920465,
          0.6844826246908693,
          -1.1059174909427503,
          0.36088615768745663,
          -0.9196362508572212,
          2.413895200230858,
          0.36847160558729464,
          1.5555526138790137,
          0.27533952277220874,
          0.5128093807287213,
          -0.36109803744274055,
          -0.2245813865447435,
          -1.3929369067023898,
          -1.7149219010602588,
          -0.06436773582098293,
          0.705890363747037,
          0.8834346495884103,
          -1.2819697508145063,
          1.0211868852886536,
          0.09444081962493833,
          0.9936925290527405,
          -0.24805292015688082,
          -0.38975442643515745,
          0.13162173026208018,
          -2.0904123249582196,
          -0.3638188904525045,
          1.5945900934580928,
          0.7833673844256537,
          0.2957653201178533,
          -0.420979774187367,
          -0.3033766512810295,
          -0.2359411997474931,
          -0.4555954179187365,
          0.5506480905045086,
          -0.613326940080486,
          -1.1439066960853865,
          0.49946364909654484,
          0.1921167231914247,
          -1.5000415223098764,
          -0.5242457354730988,
          -0.12933767299748697,
          -1.1800277618914492,
          0.9604362518828048,
          -1.3716897691557939,
          -0.9103137466615401,
          1.21475681850616,
          -1.2309199307746803,
          0.7560338475782938,
          1.076852768980497,
          -0.04882792274589524,
          -0.7653859453081738,
          -1.2279318521344766,
          -0.4210661832352774,
          -0.5586350407050273,
          -0.721991107436455,
          0.9659154488762632,
          1.2182790903319993,
          -1.3690372725967028,
          -1.3587655905835527,
          0.515290847414008,
          1.0695484930182528,
          -1.3380019043323563,
          -1.216940120335792,
          1.0947929024669336,
          0.23884071328995005,
          -0.45823390270079395,
          1.4792255439209159,
          -1.3118290643991475,
          -1.172534065870987
         ],
         "yaxis": "y2"
        },
        {
         "line": {
          "color": "rgba(128, 128, 128, 1.0)",
          "dash": "solid",
          "shape": "linear",
          "width": 1.3
         },
         "marker": {
          "size": 2,
          "symbol": "circle"
         },
         "mode": "markers",
         "name": "A",
         "text": "",
         "type": "scatter",
         "x": [
          -1.4501499176238284,
          1.2147342646055934,
          -2.2320632406818968,
          0.5288614482094521,
          -0.7923631571477707,
          1.290152637261051,
          0.09681485082390709,
          0.04799729256878894,
          -1.8064399416236632,
          2.187824560601332,
          0.4123294737821514,
          0.3601272214313341,
          1.0720094383462198,
          -1.1892914798431156,
          0.7742383731348873,
          -0.22995290417660325,
          -0.917634296873175,
          -0.06806038058954045,
          1.0427254105710442,
          0.31736066412983266,
          -0.8325389579176342,
          0.7957438074276335,
          0.23255822850011593,
          -0.6863885375642695,
          0.043343946526299686,
          1.2172015503062825,
          -0.2470060194626241,
          0.37683390140714784,
          2.505842798487505,
          -0.5259679626174164,
          0.2853402845379173,
          0.3156871732888629,
          0.10638962575278862,
          -0.8657201035243177,
          0.29266951190392276,
          -1.7380647536708604,
          0.18782625251604115,
          1.465198206237717,
          1.1610434636791065,
          -1.334362239953306,
          0.369024851642638,
          0.14515244115547685,
          -0.29014039113482143,
          -2.205901079924097,
          -0.6297735763673113,
          1.9877309156869238,
          0.823832968268731,
          0.7016979495915034,
          1.2066655705165814,
          0.2949871564280679,
          -0.11074637656860796,
          -0.04829986443696068,
          -0.9492371718966309,
          -0.04598828116047178,
          1.317414045898286,
          0.7921576306116995,
          0.894667808316204,
          -1.6150478689813692,
          -0.5940807796373015,
          -0.7412884371177434,
          0.1023608375806466,
          0.05025887745365847,
          0.8520086743610449,
          -0.3765601146251717,
          2.2387167009652646,
          -0.27404779894661974,
          0.12483982490399333,
          -0.2551727698413939,
          -0.17307935010980668,
          -0.5033562099539954,
          1.3635797430486931,
          1.9772609093458402,
          -0.2712236950918055,
          -0.4443352105952831,
          -0.46825626749069255,
          0.8143661350579154,
          0.3275799770626893,
          1.2449753554248213,
          1.794382912517284,
          0.7918194475072394,
          -1.063346848381665,
          1.3617171908817822,
          -0.2949021246137668,
          -1.5839217903941474,
          0.6432012345243522,
          0.0779454547877543,
          -2.0164228752506776,
          0.3949702263292559,
          -1.0297657444417474,
          0.34227323404988436,
          -0.23294988309675202,
          0.9862003850301045,
          0.7740444778929897,
          0.1163260790363663,
          1.6712226662539906,
          -0.8250581385511181,
          -0.7971349736565512,
          0.6621647370964951,
          0.037237436378091265,
          -1.7434152646720051
         ],
         "xaxis": "x3",
         "y": [
          -0.36786982851319505,
          -0.8139460136439768,
          -1.2728002553624609,
          -0.16742849267659557,
          0.2568812060873537,
          1.7412616989824088,
          -1.5621264209503618,
          -0.9716442807368325,
          0.18120238038652076,
          -0.45624359436676554,
          0.4192093729134039,
          -1.7537622507026116,
          -0.6760570885254076,
          1.2315472502842275,
          1.344721140948013,
          1.5308498457246777,
          0.0811757384905562,
          -0.07056372644932463,
          -0.4096182151163972,
          -0.18810476194808798,
          -0.6888845471082019,
          0.1787949634688186,
          -0.6326159497145163,
          1.3665080793470559,
          -1.264100708338595,
          0.5654737427593445,
          -0.6314385446664598,
          0.7959791813286821,
          1.5209648447798207,
          0.011053102554344277,
          0.0575177083012101,
          2.1146701003920465,
          0.6844826246908693,
          -1.1059174909427503,
          0.36088615768745663,
          -0.9196362508572212,
          2.413895200230858,
          0.36847160558729464,
          1.5555526138790137,
          0.27533952277220874,
          0.5128093807287213,
          -0.36109803744274055,
          -0.2245813865447435,
          -1.3929369067023898,
          -1.7149219010602588,
          -0.06436773582098293,
          0.705890363747037,
          0.8834346495884103,
          -1.2819697508145063,
          1.0211868852886536,
          0.09444081962493833,
          0.9936925290527405,
          -0.24805292015688082,
          -0.38975442643515745,
          0.13162173026208018,
          -2.0904123249582196,
          -0.3638188904525045,
          1.5945900934580928,
          0.7833673844256537,
          0.2957653201178533,
          -0.420979774187367,
          -0.3033766512810295,
          -0.2359411997474931,
          -0.4555954179187365,
          0.5506480905045086,
          -0.613326940080486,
          -1.1439066960853865,
          0.49946364909654484,
          0.1921167231914247,
          -1.5000415223098764,
          -0.5242457354730988,
          -0.12933767299748697,
          -1.1800277618914492,
          0.9604362518828048,
          -1.3716897691557939,
          -0.9103137466615401,
          1.21475681850616,
          -1.2309199307746803,
          0.7560338475782938,
          1.076852768980497,
          -0.04882792274589524,
          -0.7653859453081738,
          -1.2279318521344766,
          -0.4210661832352774,
          -0.5586350407050273,
          -0.721991107436455,
          0.9659154488762632,
          1.2182790903319993,
          -1.3690372725967028,
          -1.3587655905835527,
          0.515290847414008,
          1.0695484930182528,
          -1.3380019043323563,
          -1.216940120335792,
          1.0947929024669336,
          0.23884071328995005,
          -0.45823390270079395,
          1.4792255439209159,
          -1.3118290643991475,
          -1.172534065870987
         ],
         "yaxis": "y3"
        },
        {
         "line": {
          "color": "rgba(128, 128, 128, 1.0)",
          "dash": "solid",
          "shape": "linear",
          "width": 1.3
         },
         "marker": {
          "size": 2,
          "symbol": "circle"
         },
         "mode": "markers",
         "name": "A",
         "text": "",
         "type": "scatter",
         "x": [
          0.14136334630353126,
          -0.17342762086983968,
          0.2778429373168999,
          -1.0838065078095411,
          1.6789960290811619,
          0.03239885200774485,
          0.527368976631621,
          -0.973348655563232,
          0.6559878156491874,
          -1.5573184349424796,
          -1.5521905617494114,
          -0.32070490506708366,
          0.834808587713665,
          -1.3901833373378998,
          -0.05133705113847309,
          1.3661849525000556,
          -2.7387361439318973,
          -0.3757232505829336,
          0.2499343158732975,
          1.8862587962068342,
          0.32289878592178395,
          -0.026021454186353033,
          -0.7832038758557757,
          -1.7854026358015214,
          -0.9886418883728615,
          1.172840007758469,
          -0.6927351482391241,
          -0.7512055028688523,
          -0.31995176221135685,
          -0.030323406278298524,
          -0.2686900984164055,
          0.9141296554884962,
          0.49804763584656436,
          0.6213893862842278,
          -0.888680812057349,
          0.9544035678121067,
          -1.4446924908742282,
          0.5823808825457056,
          0.4656734840334705,
          -1.2426824026541052,
          0.9554109752437391,
          -1.0526207634228548,
          0.9279632720655048,
          0.08683464814073258,
          1.3654427367610558,
          -0.271962452163509,
          2.829048400648285,
          -1.5715008492189553,
          0.6283323433296785,
          -1.0793068878696275,
          -0.15844479004020343,
          0.8587971878564065,
          0.5764667885644545,
          0.9397288711189419,
          -0.15448393557329368,
          3.07968864352723,
          1.0976043277248069,
          -1.3089327851984713,
          0.8206017422675997,
          -1.3032919849740479,
          -0.8223964470464178,
          -0.2543491886241915,
          1.1846319727049852,
          0.7679837454707548,
          -0.8615182291637286,
          -0.6075869606066855,
          -1.3998702077377003,
          0.7381340925678403,
          -1.8977211684787225,
          0.9311758883110728,
          2.0659994455191395,
          0.0231704230577431,
          -0.2003931331560611,
          -0.38111563089727896,
          0.5896799526226871,
          0.8121399897995402,
          -1.8730245860709724,
          -1.6570520845680916,
          1.8979142646255878,
          0.43910370520399233,
          1.4317474680076265,
          -0.5102289654933749,
          -0.1572381836114604,
          -2.00318650223944,
          -2.081496816065353,
          -1.2102368481440318,
          2.1166529674062575,
          1.9839170993997932,
          -1.8463999561335342,
          0.6604605687923712,
          1.5103046521545658,
          0.9207957180610077,
          0.4383762192430872,
          -0.52769497075163,
          -0.43794032624613954,
          1.0516199563487707,
          -0.19869038457972135,
          0.08290372885059079,
          -1.1383977782789858,
          -0.48052730583796555
         ],
         "xaxis": "x4",
         "y": [
          -0.36786982851319505,
          -0.8139460136439768,
          -1.2728002553624609,
          -0.16742849267659557,
          0.2568812060873537,
          1.7412616989824088,
          -1.5621264209503618,
          -0.9716442807368325,
          0.18120238038652076,
          -0.45624359436676554,
          0.4192093729134039,
          -1.7537622507026116,
          -0.6760570885254076,
          1.2315472502842275,
          1.344721140948013,
          1.5308498457246777,
          0.0811757384905562,
          -0.07056372644932463,
          -0.4096182151163972,
          -0.18810476194808798,
          -0.6888845471082019,
          0.1787949634688186,
          -0.6326159497145163,
          1.3665080793470559,
          -1.264100708338595,
          0.5654737427593445,
          -0.6314385446664598,
          0.7959791813286821,
          1.5209648447798207,
          0.011053102554344277,
          0.0575177083012101,
          2.1146701003920465,
          0.6844826246908693,
          -1.1059174909427503,
          0.36088615768745663,
          -0.9196362508572212,
          2.413895200230858,
          0.36847160558729464,
          1.5555526138790137,
          0.27533952277220874,
          0.5128093807287213,
          -0.36109803744274055,
          -0.2245813865447435,
          -1.3929369067023898,
          -1.7149219010602588,
          -0.06436773582098293,
          0.705890363747037,
          0.8834346495884103,
          -1.2819697508145063,
          1.0211868852886536,
          0.09444081962493833,
          0.9936925290527405,
          -0.24805292015688082,
          -0.38975442643515745,
          0.13162173026208018,
          -2.0904123249582196,
          -0.3638188904525045,
          1.5945900934580928,
          0.7833673844256537,
          0.2957653201178533,
          -0.420979774187367,
          -0.3033766512810295,
          -0.2359411997474931,
          -0.4555954179187365,
          0.5506480905045086,
          -0.613326940080486,
          -1.1439066960853865,
          0.49946364909654484,
          0.1921167231914247,
          -1.5000415223098764,
          -0.5242457354730988,
          -0.12933767299748697,
          -1.1800277618914492,
          0.9604362518828048,
          -1.3716897691557939,
          -0.9103137466615401,
          1.21475681850616,
          -1.2309199307746803,
          0.7560338475782938,
          1.076852768980497,
          -0.04882792274589524,
          -0.7653859453081738,
          -1.2279318521344766,
          -0.4210661832352774,
          -0.5586350407050273,
          -0.721991107436455,
          0.9659154488762632,
          1.2182790903319993,
          -1.3690372725967028,
          -1.3587655905835527,
          0.515290847414008,
          1.0695484930182528,
          -1.3380019043323563,
          -1.216940120335792,
          1.0947929024669336,
          0.23884071328995005,
          -0.45823390270079395,
          1.4792255439209159,
          -1.3118290643991475,
          -1.172534065870987
         ],
         "yaxis": "y4"
        },
        {
         "line": {
          "color": "rgba(128, 128, 128, 1.0)",
          "dash": "solid",
          "shape": "linear",
          "width": 1.3
         },
         "marker": {
          "size": 2,
          "symbol": "circle"
         },
         "mode": "markers",
         "name": "B",
         "text": "",
         "type": "scatter",
         "x": [
          -0.36786982851319505,
          -0.8139460136439768,
          -1.2728002553624609,
          -0.16742849267659557,
          0.2568812060873537,
          1.7412616989824088,
          -1.5621264209503618,
          -0.9716442807368325,
          0.18120238038652076,
          -0.45624359436676554,
          0.4192093729134039,
          -1.7537622507026116,
          -0.6760570885254076,
          1.2315472502842275,
          1.344721140948013,
          1.5308498457246777,
          0.0811757384905562,
          -0.07056372644932463,
          -0.4096182151163972,
          -0.18810476194808798,
          -0.6888845471082019,
          0.1787949634688186,
          -0.6326159497145163,
          1.3665080793470559,
          -1.264100708338595,
          0.5654737427593445,
          -0.6314385446664598,
          0.7959791813286821,
          1.5209648447798207,
          0.011053102554344277,
          0.0575177083012101,
          2.1146701003920465,
          0.6844826246908693,
          -1.1059174909427503,
          0.36088615768745663,
          -0.9196362508572212,
          2.413895200230858,
          0.36847160558729464,
          1.5555526138790137,
          0.27533952277220874,
          0.5128093807287213,
          -0.36109803744274055,
          -0.2245813865447435,
          -1.3929369067023898,
          -1.7149219010602588,
          -0.06436773582098293,
          0.705890363747037,
          0.8834346495884103,
          -1.2819697508145063,
          1.0211868852886536,
          0.09444081962493833,
          0.9936925290527405,
          -0.24805292015688082,
          -0.38975442643515745,
          0.13162173026208018,
          -2.0904123249582196,
          -0.3638188904525045,
          1.5945900934580928,
          0.7833673844256537,
          0.2957653201178533,
          -0.420979774187367,
          -0.3033766512810295,
          -0.2359411997474931,
          -0.4555954179187365,
          0.5506480905045086,
          -0.613326940080486,
          -1.1439066960853865,
          0.49946364909654484,
          0.1921167231914247,
          -1.5000415223098764,
          -0.5242457354730988,
          -0.12933767299748697,
          -1.1800277618914492,
          0.9604362518828048,
          -1.3716897691557939,
          -0.9103137466615401,
          1.21475681850616,
          -1.2309199307746803,
          0.7560338475782938,
          1.076852768980497,
          -0.04882792274589524,
          -0.7653859453081738,
          -1.2279318521344766,
          -0.4210661832352774,
          -0.5586350407050273,
          -0.721991107436455,
          0.9659154488762632,
          1.2182790903319993,
          -1.3690372725967028,
          -1.3587655905835527,
          0.515290847414008,
          1.0695484930182528,
          -1.3380019043323563,
          -1.216940120335792,
          1.0947929024669336,
          0.23884071328995005,
          -0.45823390270079395,
          1.4792255439209159,
          -1.3118290643991475,
          -1.172534065870987
         ],
         "xaxis": "x5",
         "y": [
          0.1819819126791729,
          -0.7690504649458737,
          0.4146966578943233,
          0.735872368805637,
          0.8669917218711843,
          2.1748617101751,
          1.2318371866263211,
          0.16427863005281082,
          -0.7516033269630648,
          -0.059540090628032005,
          -0.012899474698968688,
          1.7520395134071642,
          -0.01591686529266641,
          -1.30737693706392,
          0.31469596302611313,
          0.0006447044677048574,
          -0.7695973642700286,
          -1.588439968194205,
          0.5132563588699779,
          -0.4166594400416099,
          0.654191318124905,
          1.538197099799716,
          -0.9734425150447913,
          -1.346122715368668,
          -0.3594077404233946,
          1.7299228793641566,
          2.1101164566449864,
          -0.9413070230386088,
          0.013584305821453655,
          -0.2281718487132733,
          1.6031139424787848,
          0.6043596490108111,
          0.6197173644455335,
          0.22320795650902636,
          3.348229272407328,
          0.7701779183439242,
          1.8000414301434686,
          -1.4159099794566452,
          -0.4371479314457633,
          -0.2147748488950862,
          -0.6812616180720111,
          0.6879337962777717,
          0.15289137723322704,
          -0.6636384766790288,
          0.9087932907473223,
          0.13219355583100664,
          0.6622465833842975,
          -0.5583410998398035,
          -0.24485904679848086,
          -0.4643834042131067,
          -2.2419875725888185,
          0.8278854578464298,
          0.20176407293093973,
          -1.3934247465283838,
          1.1134336391437878,
          -1.6334405533394345,
          1.3236953777109324,
          0.5224675986838716,
          -0.58959784704781,
          1.4586033556318427,
          0.9083302010742899,
          1.720992224059844,
          -1.889437228043027,
          1.465208342151267,
          0.45166524739808955,
          -0.02542207128711079,
          0.28324402331732385,
          -0.49926804861875734,
          0.3895796831658555,
          -0.3266481370656572,
          -2.1620324688740515,
          -0.4198106606771507,
          -0.41366740287377785,
          -0.584281831740891,
          -1.8799488990110838,
          1.0867735776383765,
          0.04134940253602887,
          -0.5192131068274868,
          -0.3308715980802985,
          0.5820619125965684,
          -0.3296740677753678,
          -0.7694843154746899,
          0.3974786425028931,
          -0.09690329212432874,
          0.2848301613145788,
          0.19226842929502952,
          -0.8350478382165045,
          0.30326140879933705,
          0.684022961660779,
          -0.5307381409250069,
          1.1163236404658101,
          -0.018062703200621047,
          1.1463717068725314,
          0.9530289674340827,
          -1.389032278301572,
          -0.7532835443706728,
          1.0060298398741725,
          -0.1675034739802897,
          -1.0888384951742667,
          -1.6766035427580728
         ],
         "yaxis": "y5"
        },
        {
         "histfunc": "count",
         "histnorm": "",
         "marker": {
          "color": "rgba(55, 128, 191, 1.0)",
          "line": {
           "color": "#4D5663",
           "width": 1.3
          }
         },
         "name": "B",
         "nbinsx": 10,
         "opacity": 0.8,
         "orientation": "v",
         "type": "histogram",
         "x": [
          0.1819819126791729,
          -0.7690504649458737,
          0.4146966578943233,
          0.735872368805637,
          0.8669917218711843,
          2.1748617101751,
          1.2318371866263211,
          0.16427863005281082,
          -0.7516033269630648,
          -0.059540090628032005,
          -0.012899474698968688,
          1.7520395134071642,
          -0.01591686529266641,
          -1.30737693706392,
          0.31469596302611313,
          0.0006447044677048574,
          -0.7695973642700286,
          -1.588439968194205,
          0.5132563588699779,
          -0.4166594400416099,
          0.654191318124905,
          1.538197099799716,
          -0.9734425150447913,
          -1.346122715368668,
          -0.3594077404233946,
          1.7299228793641566,
          2.1101164566449864,
          -0.9413070230386088,
          0.013584305821453655,
          -0.2281718487132733,
          1.6031139424787848,
          0.6043596490108111,
          0.6197173644455335,
          0.22320795650902636,
          3.348229272407328,
          0.7701779183439242,
          1.8000414301434686,
          -1.4159099794566452,
          -0.4371479314457633,
          -0.2147748488950862,
          -0.6812616180720111,
          0.6879337962777717,
          0.15289137723322704,
          -0.6636384766790288,
          0.9087932907473223,
          0.13219355583100664,
          0.6622465833842975,
          -0.5583410998398035,
          -0.24485904679848086,
          -0.4643834042131067,
          -2.2419875725888185,
          0.8278854578464298,
          0.20176407293093973,
          -1.3934247465283838,
          1.1134336391437878,
          -1.6334405533394345,
          1.3236953777109324,
          0.5224675986838716,
          -0.58959784704781,
          1.4586033556318427,
          0.9083302010742899,
          1.720992224059844,
          -1.889437228043027,
          1.465208342151267,
          0.45166524739808955,
          -0.02542207128711079,
          0.28324402331732385,
          -0.49926804861875734,
          0.3895796831658555,
          -0.3266481370656572,
          -2.1620324688740515,
          -0.4198106606771507,
          -0.41366740287377785,
          -0.584281831740891,
          -1.8799488990110838,
          1.0867735776383765,
          0.04134940253602887,
          -0.5192131068274868,
          -0.3308715980802985,
          0.5820619125965684,
          -0.3296740677753678,
          -0.7694843154746899,
          0.3974786425028931,
          -0.09690329212432874,
          0.2848301613145788,
          0.19226842929502952,
          -0.8350478382165045,
          0.30326140879933705,
          0.684022961660779,
          -0.5307381409250069,
          1.1163236404658101,
          -0.018062703200621047,
          1.1463717068725314,
          0.9530289674340827,
          -1.389032278301572,
          -0.7532835443706728,
          1.0060298398741725,
          -0.1675034739802897,
          -1.0888384951742667,
          -1.6766035427580728
         ],
         "xaxis": "x6",
         "yaxis": "y6"
        },
        {
         "line": {
          "color": "rgba(128, 128, 128, 1.0)",
          "dash": "solid",
          "shape": "linear",
          "width": 1.3
         },
         "marker": {
          "size": 2,
          "symbol": "circle"
         },
         "mode": "markers",
         "name": "B",
         "text": "",
         "type": "scatter",
         "x": [
          -1.4501499176238284,
          1.2147342646055934,
          -2.2320632406818968,
          0.5288614482094521,
          -0.7923631571477707,
          1.290152637261051,
          0.09681485082390709,
          0.04799729256878894,
          -1.8064399416236632,
          2.187824560601332,
          0.4123294737821514,
          0.3601272214313341,
          1.0720094383462198,
          -1.1892914798431156,
          0.7742383731348873,
          -0.22995290417660325,
          -0.917634296873175,
          -0.06806038058954045,
          1.0427254105710442,
          0.31736066412983266,
          -0.8325389579176342,
          0.7957438074276335,
          0.23255822850011593,
          -0.6863885375642695,
          0.043343946526299686,
          1.2172015503062825,
          -0.2470060194626241,
          0.37683390140714784,
          2.505842798487505,
          -0.5259679626174164,
          0.2853402845379173,
          0.3156871732888629,
          0.10638962575278862,
          -0.8657201035243177,
          0.29266951190392276,
          -1.7380647536708604,
          0.18782625251604115,
          1.465198206237717,
          1.1610434636791065,
          -1.334362239953306,
          0.369024851642638,
          0.14515244115547685,
          -0.29014039113482143,
          -2.205901079924097,
          -0.6297735763673113,
          1.9877309156869238,
          0.823832968268731,
          0.7016979495915034,
          1.2066655705165814,
          0.2949871564280679,
          -0.11074637656860796,
          -0.04829986443696068,
          -0.9492371718966309,
          -0.04598828116047178,
          1.317414045898286,
          0.7921576306116995,
          0.894667808316204,
          -1.6150478689813692,
          -0.5940807796373015,
          -0.7412884371177434,
          0.1023608375806466,
          0.05025887745365847,
          0.8520086743610449,
          -0.3765601146251717,
          2.2387167009652646,
          -0.27404779894661974,
          0.12483982490399333,
          -0.2551727698413939,
          -0.17307935010980668,
          -0.5033562099539954,
          1.3635797430486931,
          1.9772609093458402,
          -0.2712236950918055,
          -0.4443352105952831,
          -0.46825626749069255,
          0.8143661350579154,
          0.3275799770626893,
          1.2449753554248213,
          1.794382912517284,
          0.7918194475072394,
          -1.063346848381665,
          1.3617171908817822,
          -0.2949021246137668,
          -1.5839217903941474,
          0.6432012345243522,
          0.0779454547877543,
          -2.0164228752506776,
          0.3949702263292559,
          -1.0297657444417474,
          0.34227323404988436,
          -0.23294988309675202,
          0.9862003850301045,
          0.7740444778929897,
          0.1163260790363663,
          1.6712226662539906,
          -0.8250581385511181,
          -0.7971349736565512,
          0.6621647370964951,
          0.037237436378091265,
          -1.7434152646720051
         ],
         "xaxis": "x7",
         "y": [
          0.1819819126791729,
          -0.7690504649458737,
          0.4146966578943233,
          0.735872368805637,
          0.8669917218711843,
          2.1748617101751,
          1.2318371866263211,
          0.16427863005281082,
          -0.7516033269630648,
          -0.059540090628032005,
          -0.012899474698968688,
          1.7520395134071642,
          -0.01591686529266641,
          -1.30737693706392,
          0.31469596302611313,
          0.0006447044677048574,
          -0.7695973642700286,
          -1.588439968194205,
          0.5132563588699779,
          -0.4166594400416099,
          0.654191318124905,
          1.538197099799716,
          -0.9734425150447913,
          -1.346122715368668,
          -0.3594077404233946,
          1.7299228793641566,
          2.1101164566449864,
          -0.9413070230386088,
          0.013584305821453655,
          -0.2281718487132733,
          1.6031139424787848,
          0.6043596490108111,
          0.6197173644455335,
          0.22320795650902636,
          3.348229272407328,
          0.7701779183439242,
          1.8000414301434686,
          -1.4159099794566452,
          -0.4371479314457633,
          -0.2147748488950862,
          -0.6812616180720111,
          0.6879337962777717,
          0.15289137723322704,
          -0.6636384766790288,
          0.9087932907473223,
          0.13219355583100664,
          0.6622465833842975,
          -0.5583410998398035,
          -0.24485904679848086,
          -0.4643834042131067,
          -2.2419875725888185,
          0.8278854578464298,
          0.20176407293093973,
          -1.3934247465283838,
          1.1134336391437878,
          -1.6334405533394345,
          1.3236953777109324,
          0.5224675986838716,
          -0.58959784704781,
          1.4586033556318427,
          0.9083302010742899,
          1.720992224059844,
          -1.889437228043027,
          1.465208342151267,
          0.45166524739808955,
          -0.02542207128711079,
          0.28324402331732385,
          -0.49926804861875734,
          0.3895796831658555,
          -0.3266481370656572,
          -2.1620324688740515,
          -0.4198106606771507,
          -0.41366740287377785,
          -0.584281831740891,
          -1.8799488990110838,
          1.0867735776383765,
          0.04134940253602887,
          -0.5192131068274868,
          -0.3308715980802985,
          0.5820619125965684,
          -0.3296740677753678,
          -0.7694843154746899,
          0.3974786425028931,
          -0.09690329212432874,
          0.2848301613145788,
          0.19226842929502952,
          -0.8350478382165045,
          0.30326140879933705,
          0.684022961660779,
          -0.5307381409250069,
          1.1163236404658101,
          -0.018062703200621047,
          1.1463717068725314,
          0.9530289674340827,
          -1.389032278301572,
          -0.7532835443706728,
          1.0060298398741725,
          -0.1675034739802897,
          -1.0888384951742667,
          -1.6766035427580728
         ],
         "yaxis": "y7"
        },
        {
         "line": {
          "color": "rgba(128, 128, 128, 1.0)",
          "dash": "solid",
          "shape": "linear",
          "width": 1.3
         },
         "marker": {
          "size": 2,
          "symbol": "circle"
         },
         "mode": "markers",
         "name": "B",
         "text": "",
         "type": "scatter",
         "x": [
          0.14136334630353126,
          -0.17342762086983968,
          0.2778429373168999,
          -1.0838065078095411,
          1.6789960290811619,
          0.03239885200774485,
          0.527368976631621,
          -0.973348655563232,
          0.6559878156491874,
          -1.5573184349424796,
          -1.5521905617494114,
          -0.32070490506708366,
          0.834808587713665,
          -1.3901833373378998,
          -0.05133705113847309,
          1.3661849525000556,
          -2.7387361439318973,
          -0.3757232505829336,
          0.2499343158732975,
          1.8862587962068342,
          0.32289878592178395,
          -0.026021454186353033,
          -0.7832038758557757,
          -1.7854026358015214,
          -0.9886418883728615,
          1.172840007758469,
          -0.6927351482391241,
          -0.7512055028688523,
          -0.31995176221135685,
          -0.030323406278298524,
          -0.2686900984164055,
          0.9141296554884962,
          0.49804763584656436,
          0.6213893862842278,
          -0.888680812057349,
          0.9544035678121067,
          -1.4446924908742282,
          0.5823808825457056,
          0.4656734840334705,
          -1.2426824026541052,
          0.9554109752437391,
          -1.0526207634228548,
          0.9279632720655048,
          0.08683464814073258,
          1.3654427367610558,
          -0.271962452163509,
          2.829048400648285,
          -1.5715008492189553,
          0.6283323433296785,
          -1.0793068878696275,
          -0.15844479004020343,
          0.8587971878564065,
          0.5764667885644545,
          0.9397288711189419,
          -0.15448393557329368,
          3.07968864352723,
          1.0976043277248069,
          -1.3089327851984713,
          0.8206017422675997,
          -1.3032919849740479,
          -0.8223964470464178,
          -0.2543491886241915,
          1.1846319727049852,
          0.7679837454707548,
          -0.8615182291637286,
          -0.6075869606066855,
          -1.3998702077377003,
          0.7381340925678403,
          -1.8977211684787225,
          0.9311758883110728,
          2.0659994455191395,
          0.0231704230577431,
          -0.2003931331560611,
          -0.38111563089727896,
          0.5896799526226871,
          0.8121399897995402,
          -1.8730245860709724,
          -1.6570520845680916,
          1.8979142646255878,
          0.43910370520399233,
          1.4317474680076265,
          -0.5102289654933749,
          -0.1572381836114604,
          -2.00318650223944,
          -2.081496816065353,
          -1.2102368481440318,
          2.1166529674062575,
          1.9839170993997932,
          -1.8463999561335342,
          0.6604605687923712,
          1.5103046521545658,
          0.9207957180610077,
          0.4383762192430872,
          -0.52769497075163,
          -0.43794032624613954,
          1.0516199563487707,
          -0.19869038457972135,
          0.08290372885059079,
          -1.1383977782789858,
          -0.48052730583796555
         ],
         "xaxis": "x8",
         "y": [
          0.1819819126791729,
          -0.7690504649458737,
          0.4146966578943233,
          0.735872368805637,
          0.8669917218711843,
          2.1748617101751,
          1.2318371866263211,
          0.16427863005281082,
          -0.7516033269630648,
          -0.059540090628032005,
          -0.012899474698968688,
          1.7520395134071642,
          -0.01591686529266641,
          -1.30737693706392,
          0.31469596302611313,
          0.0006447044677048574,
          -0.7695973642700286,
          -1.588439968194205,
          0.5132563588699779,
          -0.4166594400416099,
          0.654191318124905,
          1.538197099799716,
          -0.9734425150447913,
          -1.346122715368668,
          -0.3594077404233946,
          1.7299228793641566,
          2.1101164566449864,
          -0.9413070230386088,
          0.013584305821453655,
          -0.2281718487132733,
          1.6031139424787848,
          0.6043596490108111,
          0.6197173644455335,
          0.22320795650902636,
          3.348229272407328,
          0.7701779183439242,
          1.8000414301434686,
          -1.4159099794566452,
          -0.4371479314457633,
          -0.2147748488950862,
          -0.6812616180720111,
          0.6879337962777717,
          0.15289137723322704,
          -0.6636384766790288,
          0.9087932907473223,
          0.13219355583100664,
          0.6622465833842975,
          -0.5583410998398035,
          -0.24485904679848086,
          -0.4643834042131067,
          -2.2419875725888185,
          0.8278854578464298,
          0.20176407293093973,
          -1.3934247465283838,
          1.1134336391437878,
          -1.6334405533394345,
          1.3236953777109324,
          0.5224675986838716,
          -0.58959784704781,
          1.4586033556318427,
          0.9083302010742899,
          1.720992224059844,
          -1.889437228043027,
          1.465208342151267,
          0.45166524739808955,
          -0.02542207128711079,
          0.28324402331732385,
          -0.49926804861875734,
          0.3895796831658555,
          -0.3266481370656572,
          -2.1620324688740515,
          -0.4198106606771507,
          -0.41366740287377785,
          -0.584281831740891,
          -1.8799488990110838,
          1.0867735776383765,
          0.04134940253602887,
          -0.5192131068274868,
          -0.3308715980802985,
          0.5820619125965684,
          -0.3296740677753678,
          -0.7694843154746899,
          0.3974786425028931,
          -0.09690329212432874,
          0.2848301613145788,
          0.19226842929502952,
          -0.8350478382165045,
          0.30326140879933705,
          0.684022961660779,
          -0.5307381409250069,
          1.1163236404658101,
          -0.018062703200621047,
          1.1463717068725314,
          0.9530289674340827,
          -1.389032278301572,
          -0.7532835443706728,
          1.0060298398741725,
          -0.1675034739802897,
          -1.0888384951742667,
          -1.6766035427580728
         ],
         "yaxis": "y8"
        },
        {
         "line": {
          "color": "rgba(128, 128, 128, 1.0)",
          "dash": "solid",
          "shape": "linear",
          "width": 1.3
         },
         "marker": {
          "size": 2,
          "symbol": "circle"
         },
         "mode": "markers",
         "name": "C",
         "text": "",
         "type": "scatter",
         "x": [
          -0.36786982851319505,
          -0.8139460136439768,
          -1.2728002553624609,
          -0.16742849267659557,
          0.2568812060873537,
          1.7412616989824088,
          -1.5621264209503618,
          -0.9716442807368325,
          0.18120238038652076,
          -0.45624359436676554,
          0.4192093729134039,
          -1.7537622507026116,
          -0.6760570885254076,
          1.2315472502842275,
          1.344721140948013,
          1.5308498457246777,
          0.0811757384905562,
          -0.07056372644932463,
          -0.4096182151163972,
          -0.18810476194808798,
          -0.6888845471082019,
          0.1787949634688186,
          -0.6326159497145163,
          1.3665080793470559,
          -1.264100708338595,
          0.5654737427593445,
          -0.6314385446664598,
          0.7959791813286821,
          1.5209648447798207,
          0.011053102554344277,
          0.0575177083012101,
          2.1146701003920465,
          0.6844826246908693,
          -1.1059174909427503,
          0.36088615768745663,
          -0.9196362508572212,
          2.413895200230858,
          0.36847160558729464,
          1.5555526138790137,
          0.27533952277220874,
          0.5128093807287213,
          -0.36109803744274055,
          -0.2245813865447435,
          -1.3929369067023898,
          -1.7149219010602588,
          -0.06436773582098293,
          0.705890363747037,
          0.8834346495884103,
          -1.2819697508145063,
          1.0211868852886536,
          0.09444081962493833,
          0.9936925290527405,
          -0.24805292015688082,
          -0.38975442643515745,
          0.13162173026208018,
          -2.0904123249582196,
          -0.3638188904525045,
          1.5945900934580928,
          0.7833673844256537,
          0.2957653201178533,
          -0.420979774187367,
          -0.3033766512810295,
          -0.2359411997474931,
          -0.4555954179187365,
          0.5506480905045086,
          -0.613326940080486,
          -1.1439066960853865,
          0.49946364909654484,
          0.1921167231914247,
          -1.5000415223098764,
          -0.5242457354730988,
          -0.12933767299748697,
          -1.1800277618914492,
          0.9604362518828048,
          -1.3716897691557939,
          -0.9103137466615401,
          1.21475681850616,
          -1.2309199307746803,
          0.7560338475782938,
          1.076852768980497,
          -0.04882792274589524,
          -0.7653859453081738,
          -1.2279318521344766,
          -0.4210661832352774,
          -0.5586350407050273,
          -0.721991107436455,
          0.9659154488762632,
          1.2182790903319993,
          -1.3690372725967028,
          -1.3587655905835527,
          0.515290847414008,
          1.0695484930182528,
          -1.3380019043323563,
          -1.216940120335792,
          1.0947929024669336,
          0.23884071328995005,
          -0.45823390270079395,
          1.4792255439209159,
          -1.3118290643991475,
          -1.172534065870987
         ],
         "xaxis": "x9",
         "y": [
          -1.4501499176238284,
          1.2147342646055934,
          -2.2320632406818968,
          0.5288614482094521,
          -0.7923631571477707,
          1.290152637261051,
          0.09681485082390709,
          0.04799729256878894,
          -1.8064399416236632,
          2.187824560601332,
          0.4123294737821514,
          0.3601272214313341,
          1.0720094383462198,
          -1.1892914798431156,
          0.7742383731348873,
          -0.22995290417660325,
          -0.917634296873175,
          -0.06806038058954045,
          1.0427254105710442,
          0.31736066412983266,
          -0.8325389579176342,
          0.7957438074276335,
          0.23255822850011593,
          -0.6863885375642695,
          0.043343946526299686,
          1.2172015503062825,
          -0.2470060194626241,
          0.37683390140714784,
          2.505842798487505,
          -0.5259679626174164,
          0.2853402845379173,
          0.3156871732888629,
          0.10638962575278862,
          -0.8657201035243177,
          0.29266951190392276,
          -1.7380647536708604,
          0.18782625251604115,
          1.465198206237717,
          1.1610434636791065,
          -1.334362239953306,
          0.369024851642638,
          0.14515244115547685,
          -0.29014039113482143,
          -2.205901079924097,
          -0.6297735763673113,
          1.9877309156869238,
          0.823832968268731,
          0.7016979495915034,
          1.2066655705165814,
          0.2949871564280679,
          -0.11074637656860796,
          -0.04829986443696068,
          -0.9492371718966309,
          -0.04598828116047178,
          1.317414045898286,
          0.7921576306116995,
          0.894667808316204,
          -1.6150478689813692,
          -0.5940807796373015,
          -0.7412884371177434,
          0.1023608375806466,
          0.05025887745365847,
          0.8520086743610449,
          -0.3765601146251717,
          2.2387167009652646,
          -0.27404779894661974,
          0.12483982490399333,
          -0.2551727698413939,
          -0.17307935010980668,
          -0.5033562099539954,
          1.3635797430486931,
          1.9772609093458402,
          -0.2712236950918055,
          -0.4443352105952831,
          -0.46825626749069255,
          0.8143661350579154,
          0.3275799770626893,
          1.2449753554248213,
          1.794382912517284,
          0.7918194475072394,
          -1.063346848381665,
          1.3617171908817822,
          -0.2949021246137668,
          -1.5839217903941474,
          0.6432012345243522,
          0.0779454547877543,
          -2.0164228752506776,
          0.3949702263292559,
          -1.0297657444417474,
          0.34227323404988436,
          -0.23294988309675202,
          0.9862003850301045,
          0.7740444778929897,
          0.1163260790363663,
          1.6712226662539906,
          -0.8250581385511181,
          -0.7971349736565512,
          0.6621647370964951,
          0.037237436378091265,
          -1.7434152646720051
         ],
         "yaxis": "y9"
        },
        {
         "line": {
          "color": "rgba(128, 128, 128, 1.0)",
          "dash": "solid",
          "shape": "linear",
          "width": 1.3
         },
         "marker": {
          "size": 2,
          "symbol": "circle"
         },
         "mode": "markers",
         "name": "C",
         "text": "",
         "type": "scatter",
         "x": [
          0.1819819126791729,
          -0.7690504649458737,
          0.4146966578943233,
          0.735872368805637,
          0.8669917218711843,
          2.1748617101751,
          1.2318371866263211,
          0.16427863005281082,
          -0.7516033269630648,
          -0.059540090628032005,
          -0.012899474698968688,
          1.7520395134071642,
          -0.01591686529266641,
          -1.30737693706392,
          0.31469596302611313,
          0.0006447044677048574,
          -0.7695973642700286,
          -1.588439968194205,
          0.5132563588699779,
          -0.4166594400416099,
          0.654191318124905,
          1.538197099799716,
          -0.9734425150447913,
          -1.346122715368668,
          -0.3594077404233946,
          1.7299228793641566,
          2.1101164566449864,
          -0.9413070230386088,
          0.013584305821453655,
          -0.2281718487132733,
          1.6031139424787848,
          0.6043596490108111,
          0.6197173644455335,
          0.22320795650902636,
          3.348229272407328,
          0.7701779183439242,
          1.8000414301434686,
          -1.4159099794566452,
          -0.4371479314457633,
          -0.2147748488950862,
          -0.6812616180720111,
          0.6879337962777717,
          0.15289137723322704,
          -0.6636384766790288,
          0.9087932907473223,
          0.13219355583100664,
          0.6622465833842975,
          -0.5583410998398035,
          -0.24485904679848086,
          -0.4643834042131067,
          -2.2419875725888185,
          0.8278854578464298,
          0.20176407293093973,
          -1.3934247465283838,
          1.1134336391437878,
          -1.6334405533394345,
          1.3236953777109324,
          0.5224675986838716,
          -0.58959784704781,
          1.4586033556318427,
          0.9083302010742899,
          1.720992224059844,
          -1.889437228043027,
          1.465208342151267,
          0.45166524739808955,
          -0.02542207128711079,
          0.28324402331732385,
          -0.49926804861875734,
          0.3895796831658555,
          -0.3266481370656572,
          -2.1620324688740515,
          -0.4198106606771507,
          -0.41366740287377785,
          -0.584281831740891,
          -1.8799488990110838,
          1.0867735776383765,
          0.04134940253602887,
          -0.5192131068274868,
          -0.3308715980802985,
          0.5820619125965684,
          -0.3296740677753678,
          -0.7694843154746899,
          0.3974786425028931,
          -0.09690329212432874,
          0.2848301613145788,
          0.19226842929502952,
          -0.8350478382165045,
          0.30326140879933705,
          0.684022961660779,
          -0.5307381409250069,
          1.1163236404658101,
          -0.018062703200621047,
          1.1463717068725314,
          0.9530289674340827,
          -1.389032278301572,
          -0.7532835443706728,
          1.0060298398741725,
          -0.1675034739802897,
          -1.0888384951742667,
          -1.6766035427580728
         ],
         "xaxis": "x10",
         "y": [
          -1.4501499176238284,
          1.2147342646055934,
          -2.2320632406818968,
          0.5288614482094521,
          -0.7923631571477707,
          1.290152637261051,
          0.09681485082390709,
          0.04799729256878894,
          -1.8064399416236632,
          2.187824560601332,
          0.4123294737821514,
          0.3601272214313341,
          1.0720094383462198,
          -1.1892914798431156,
          0.7742383731348873,
          -0.22995290417660325,
          -0.917634296873175,
          -0.06806038058954045,
          1.0427254105710442,
          0.31736066412983266,
          -0.8325389579176342,
          0.7957438074276335,
          0.23255822850011593,
          -0.6863885375642695,
          0.043343946526299686,
          1.2172015503062825,
          -0.2470060194626241,
          0.37683390140714784,
          2.505842798487505,
          -0.5259679626174164,
          0.2853402845379173,
          0.3156871732888629,
          0.10638962575278862,
          -0.8657201035243177,
          0.29266951190392276,
          -1.7380647536708604,
          0.18782625251604115,
          1.465198206237717,
          1.1610434636791065,
          -1.334362239953306,
          0.369024851642638,
          0.14515244115547685,
          -0.29014039113482143,
          -2.205901079924097,
          -0.6297735763673113,
          1.9877309156869238,
          0.823832968268731,
          0.7016979495915034,
          1.2066655705165814,
          0.2949871564280679,
          -0.11074637656860796,
          -0.04829986443696068,
          -0.9492371718966309,
          -0.04598828116047178,
          1.317414045898286,
          0.7921576306116995,
          0.894667808316204,
          -1.6150478689813692,
          -0.5940807796373015,
          -0.7412884371177434,
          0.1023608375806466,
          0.05025887745365847,
          0.8520086743610449,
          -0.3765601146251717,
          2.2387167009652646,
          -0.27404779894661974,
          0.12483982490399333,
          -0.2551727698413939,
          -0.17307935010980668,
          -0.5033562099539954,
          1.3635797430486931,
          1.9772609093458402,
          -0.2712236950918055,
          -0.4443352105952831,
          -0.46825626749069255,
          0.8143661350579154,
          0.3275799770626893,
          1.2449753554248213,
          1.794382912517284,
          0.7918194475072394,
          -1.063346848381665,
          1.3617171908817822,
          -0.2949021246137668,
          -1.5839217903941474,
          0.6432012345243522,
          0.0779454547877543,
          -2.0164228752506776,
          0.3949702263292559,
          -1.0297657444417474,
          0.34227323404988436,
          -0.23294988309675202,
          0.9862003850301045,
          0.7740444778929897,
          0.1163260790363663,
          1.6712226662539906,
          -0.8250581385511181,
          -0.7971349736565512,
          0.6621647370964951,
          0.037237436378091265,
          -1.7434152646720051
         ],
         "yaxis": "y10"
        },
        {
         "histfunc": "count",
         "histnorm": "",
         "marker": {
          "color": "rgba(50, 171, 96, 1.0)",
          "line": {
           "color": "#4D5663",
           "width": 1.3
          }
         },
         "name": "C",
         "nbinsx": 10,
         "opacity": 0.8,
         "orientation": "v",
         "type": "histogram",
         "x": [
          -1.4501499176238284,
          1.2147342646055934,
          -2.2320632406818968,
          0.5288614482094521,
          -0.7923631571477707,
          1.290152637261051,
          0.09681485082390709,
          0.04799729256878894,
          -1.8064399416236632,
          2.187824560601332,
          0.4123294737821514,
          0.3601272214313341,
          1.0720094383462198,
          -1.1892914798431156,
          0.7742383731348873,
          -0.22995290417660325,
          -0.917634296873175,
          -0.06806038058954045,
          1.0427254105710442,
          0.31736066412983266,
          -0.8325389579176342,
          0.7957438074276335,
          0.23255822850011593,
          -0.6863885375642695,
          0.043343946526299686,
          1.2172015503062825,
          -0.2470060194626241,
          0.37683390140714784,
          2.505842798487505,
          -0.5259679626174164,
          0.2853402845379173,
          0.3156871732888629,
          0.10638962575278862,
          -0.8657201035243177,
          0.29266951190392276,
          -1.7380647536708604,
          0.18782625251604115,
          1.465198206237717,
          1.1610434636791065,
          -1.334362239953306,
          0.369024851642638,
          0.14515244115547685,
          -0.29014039113482143,
          -2.205901079924097,
          -0.6297735763673113,
          1.9877309156869238,
          0.823832968268731,
          0.7016979495915034,
          1.2066655705165814,
          0.2949871564280679,
          -0.11074637656860796,
          -0.04829986443696068,
          -0.9492371718966309,
          -0.04598828116047178,
          1.317414045898286,
          0.7921576306116995,
          0.894667808316204,
          -1.6150478689813692,
          -0.5940807796373015,
          -0.7412884371177434,
          0.1023608375806466,
          0.05025887745365847,
          0.8520086743610449,
          -0.3765601146251717,
          2.2387167009652646,
          -0.27404779894661974,
          0.12483982490399333,
          -0.2551727698413939,
          -0.17307935010980668,
          -0.5033562099539954,
          1.3635797430486931,
          1.9772609093458402,
          -0.2712236950918055,
          -0.4443352105952831,
          -0.46825626749069255,
          0.8143661350579154,
          0.3275799770626893,
          1.2449753554248213,
          1.794382912517284,
          0.7918194475072394,
          -1.063346848381665,
          1.3617171908817822,
          -0.2949021246137668,
          -1.5839217903941474,
          0.6432012345243522,
          0.0779454547877543,
          -2.0164228752506776,
          0.3949702263292559,
          -1.0297657444417474,
          0.34227323404988436,
          -0.23294988309675202,
          0.9862003850301045,
          0.7740444778929897,
          0.1163260790363663,
          1.6712226662539906,
          -0.8250581385511181,
          -0.7971349736565512,
          0.6621647370964951,
          0.037237436378091265,
          -1.7434152646720051
         ],
         "xaxis": "x11",
         "yaxis": "y11"
        },
        {
         "line": {
          "color": "rgba(128, 128, 128, 1.0)",
          "dash": "solid",
          "shape": "linear",
          "width": 1.3
         },
         "marker": {
          "size": 2,
          "symbol": "circle"
         },
         "mode": "markers",
         "name": "C",
         "text": "",
         "type": "scatter",
         "x": [
          0.14136334630353126,
          -0.17342762086983968,
          0.2778429373168999,
          -1.0838065078095411,
          1.6789960290811619,
          0.03239885200774485,
          0.527368976631621,
          -0.973348655563232,
          0.6559878156491874,
          -1.5573184349424796,
          -1.5521905617494114,
          -0.32070490506708366,
          0.834808587713665,
          -1.3901833373378998,
          -0.05133705113847309,
          1.3661849525000556,
          -2.7387361439318973,
          -0.3757232505829336,
          0.2499343158732975,
          1.8862587962068342,
          0.32289878592178395,
          -0.026021454186353033,
          -0.7832038758557757,
          -1.7854026358015214,
          -0.9886418883728615,
          1.172840007758469,
          -0.6927351482391241,
          -0.7512055028688523,
          -0.31995176221135685,
          -0.030323406278298524,
          -0.2686900984164055,
          0.9141296554884962,
          0.49804763584656436,
          0.6213893862842278,
          -0.888680812057349,
          0.9544035678121067,
          -1.4446924908742282,
          0.5823808825457056,
          0.4656734840334705,
          -1.2426824026541052,
          0.9554109752437391,
          -1.0526207634228548,
          0.9279632720655048,
          0.08683464814073258,
          1.3654427367610558,
          -0.271962452163509,
          2.829048400648285,
          -1.5715008492189553,
          0.6283323433296785,
          -1.0793068878696275,
          -0.15844479004020343,
          0.8587971878564065,
          0.5764667885644545,
          0.9397288711189419,
          -0.15448393557329368,
          3.07968864352723,
          1.0976043277248069,
          -1.3089327851984713,
          0.8206017422675997,
          -1.3032919849740479,
          -0.8223964470464178,
          -0.2543491886241915,
          1.1846319727049852,
          0.7679837454707548,
          -0.8615182291637286,
          -0.6075869606066855,
          -1.3998702077377003,
          0.7381340925678403,
          -1.8977211684787225,
          0.9311758883110728,
          2.0659994455191395,
          0.0231704230577431,
          -0.2003931331560611,
          -0.38111563089727896,
          0.5896799526226871,
          0.8121399897995402,
          -1.8730245860709724,
          -1.6570520845680916,
          1.8979142646255878,
          0.43910370520399233,
          1.4317474680076265,
          -0.5102289654933749,
          -0.1572381836114604,
          -2.00318650223944,
          -2.081496816065353,
          -1.2102368481440318,
          2.1166529674062575,
          1.9839170993997932,
          -1.8463999561335342,
          0.6604605687923712,
          1.5103046521545658,
          0.9207957180610077,
          0.4383762192430872,
          -0.52769497075163,
          -0.43794032624613954,
          1.0516199563487707,
          -0.19869038457972135,
          0.08290372885059079,
          -1.1383977782789858,
          -0.48052730583796555
         ],
         "xaxis": "x12",
         "y": [
          -1.4501499176238284,
          1.2147342646055934,
          -2.2320632406818968,
          0.5288614482094521,
          -0.7923631571477707,
          1.290152637261051,
          0.09681485082390709,
          0.04799729256878894,
          -1.8064399416236632,
          2.187824560601332,
          0.4123294737821514,
          0.3601272214313341,
          1.0720094383462198,
          -1.1892914798431156,
          0.7742383731348873,
          -0.22995290417660325,
          -0.917634296873175,
          -0.06806038058954045,
          1.0427254105710442,
          0.31736066412983266,
          -0.8325389579176342,
          0.7957438074276335,
          0.23255822850011593,
          -0.6863885375642695,
          0.043343946526299686,
          1.2172015503062825,
          -0.2470060194626241,
          0.37683390140714784,
          2.505842798487505,
          -0.5259679626174164,
          0.2853402845379173,
          0.3156871732888629,
          0.10638962575278862,
          -0.8657201035243177,
          0.29266951190392276,
          -1.7380647536708604,
          0.18782625251604115,
          1.465198206237717,
          1.1610434636791065,
          -1.334362239953306,
          0.369024851642638,
          0.14515244115547685,
          -0.29014039113482143,
          -2.205901079924097,
          -0.6297735763673113,
          1.9877309156869238,
          0.823832968268731,
          0.7016979495915034,
          1.2066655705165814,
          0.2949871564280679,
          -0.11074637656860796,
          -0.04829986443696068,
          -0.9492371718966309,
          -0.04598828116047178,
          1.317414045898286,
          0.7921576306116995,
          0.894667808316204,
          -1.6150478689813692,
          -0.5940807796373015,
          -0.7412884371177434,
          0.1023608375806466,
          0.05025887745365847,
          0.8520086743610449,
          -0.3765601146251717,
          2.2387167009652646,
          -0.27404779894661974,
          0.12483982490399333,
          -0.2551727698413939,
          -0.17307935010980668,
          -0.5033562099539954,
          1.3635797430486931,
          1.9772609093458402,
          -0.2712236950918055,
          -0.4443352105952831,
          -0.46825626749069255,
          0.8143661350579154,
          0.3275799770626893,
          1.2449753554248213,
          1.794382912517284,
          0.7918194475072394,
          -1.063346848381665,
          1.3617171908817822,
          -0.2949021246137668,
          -1.5839217903941474,
          0.6432012345243522,
          0.0779454547877543,
          -2.0164228752506776,
          0.3949702263292559,
          -1.0297657444417474,
          0.34227323404988436,
          -0.23294988309675202,
          0.9862003850301045,
          0.7740444778929897,
          0.1163260790363663,
          1.6712226662539906,
          -0.8250581385511181,
          -0.7971349736565512,
          0.6621647370964951,
          0.037237436378091265,
          -1.7434152646720051
         ],
         "yaxis": "y12"
        },
        {
         "line": {
          "color": "rgba(128, 128, 128, 1.0)",
          "dash": "solid",
          "shape": "linear",
          "width": 1.3
         },
         "marker": {
          "size": 2,
          "symbol": "circle"
         },
         "mode": "markers",
         "name": "D",
         "text": "",
         "type": "scatter",
         "x": [
          -0.36786982851319505,
          -0.8139460136439768,
          -1.2728002553624609,
          -0.16742849267659557,
          0.2568812060873537,
          1.7412616989824088,
          -1.5621264209503618,
          -0.9716442807368325,
          0.18120238038652076,
          -0.45624359436676554,
          0.4192093729134039,
          -1.7537622507026116,
          -0.6760570885254076,
          1.2315472502842275,
          1.344721140948013,
          1.5308498457246777,
          0.0811757384905562,
          -0.07056372644932463,
          -0.4096182151163972,
          -0.18810476194808798,
          -0.6888845471082019,
          0.1787949634688186,
          -0.6326159497145163,
          1.3665080793470559,
          -1.264100708338595,
          0.5654737427593445,
          -0.6314385446664598,
          0.7959791813286821,
          1.5209648447798207,
          0.011053102554344277,
          0.0575177083012101,
          2.1146701003920465,
          0.6844826246908693,
          -1.1059174909427503,
          0.36088615768745663,
          -0.9196362508572212,
          2.413895200230858,
          0.36847160558729464,
          1.5555526138790137,
          0.27533952277220874,
          0.5128093807287213,
          -0.36109803744274055,
          -0.2245813865447435,
          -1.3929369067023898,
          -1.7149219010602588,
          -0.06436773582098293,
          0.705890363747037,
          0.8834346495884103,
          -1.2819697508145063,
          1.0211868852886536,
          0.09444081962493833,
          0.9936925290527405,
          -0.24805292015688082,
          -0.38975442643515745,
          0.13162173026208018,
          -2.0904123249582196,
          -0.3638188904525045,
          1.5945900934580928,
          0.7833673844256537,
          0.2957653201178533,
          -0.420979774187367,
          -0.3033766512810295,
          -0.2359411997474931,
          -0.4555954179187365,
          0.5506480905045086,
          -0.613326940080486,
          -1.1439066960853865,
          0.49946364909654484,
          0.1921167231914247,
          -1.5000415223098764,
          -0.5242457354730988,
          -0.12933767299748697,
          -1.1800277618914492,
          0.9604362518828048,
          -1.3716897691557939,
          -0.9103137466615401,
          1.21475681850616,
          -1.2309199307746803,
          0.7560338475782938,
          1.076852768980497,
          -0.04882792274589524,
          -0.7653859453081738,
          -1.2279318521344766,
          -0.4210661832352774,
          -0.5586350407050273,
          -0.721991107436455,
          0.9659154488762632,
          1.2182790903319993,
          -1.3690372725967028,
          -1.3587655905835527,
          0.515290847414008,
          1.0695484930182528,
          -1.3380019043323563,
          -1.216940120335792,
          1.0947929024669336,
          0.23884071328995005,
          -0.45823390270079395,
          1.4792255439209159,
          -1.3118290643991475,
          -1.172534065870987
         ],
         "xaxis": "x13",
         "y": [
          0.14136334630353126,
          -0.17342762086983968,
          0.2778429373168999,
          -1.0838065078095411,
          1.6789960290811619,
          0.03239885200774485,
          0.527368976631621,
          -0.973348655563232,
          0.6559878156491874,
          -1.5573184349424796,
          -1.5521905617494114,
          -0.32070490506708366,
          0.834808587713665,
          -1.3901833373378998,
          -0.05133705113847309,
          1.3661849525000556,
          -2.7387361439318973,
          -0.3757232505829336,
          0.2499343158732975,
          1.8862587962068342,
          0.32289878592178395,
          -0.026021454186353033,
          -0.7832038758557757,
          -1.7854026358015214,
          -0.9886418883728615,
          1.172840007758469,
          -0.6927351482391241,
          -0.7512055028688523,
          -0.31995176221135685,
          -0.030323406278298524,
          -0.2686900984164055,
          0.9141296554884962,
          0.49804763584656436,
          0.6213893862842278,
          -0.888680812057349,
          0.9544035678121067,
          -1.4446924908742282,
          0.5823808825457056,
          0.4656734840334705,
          -1.2426824026541052,
          0.9554109752437391,
          -1.0526207634228548,
          0.9279632720655048,
          0.08683464814073258,
          1.3654427367610558,
          -0.271962452163509,
          2.829048400648285,
          -1.5715008492189553,
          0.6283323433296785,
          -1.0793068878696275,
          -0.15844479004020343,
          0.8587971878564065,
          0.5764667885644545,
          0.9397288711189419,
          -0.15448393557329368,
          3.07968864352723,
          1.0976043277248069,
          -1.3089327851984713,
          0.8206017422675997,
          -1.3032919849740479,
          -0.8223964470464178,
          -0.2543491886241915,
          1.1846319727049852,
          0.7679837454707548,
          -0.8615182291637286,
          -0.6075869606066855,
          -1.3998702077377003,
          0.7381340925678403,
          -1.8977211684787225,
          0.9311758883110728,
          2.0659994455191395,
          0.0231704230577431,
          -0.2003931331560611,
          -0.38111563089727896,
          0.5896799526226871,
          0.8121399897995402,
          -1.8730245860709724,
          -1.6570520845680916,
          1.8979142646255878,
          0.43910370520399233,
          1.4317474680076265,
          -0.5102289654933749,
          -0.1572381836114604,
          -2.00318650223944,
          -2.081496816065353,
          -1.2102368481440318,
          2.1166529674062575,
          1.9839170993997932,
          -1.8463999561335342,
          0.6604605687923712,
          1.5103046521545658,
          0.9207957180610077,
          0.4383762192430872,
          -0.52769497075163,
          -0.43794032624613954,
          1.0516199563487707,
          -0.19869038457972135,
          0.08290372885059079,
          -1.1383977782789858,
          -0.48052730583796555
         ],
         "yaxis": "y13"
        },
        {
         "line": {
          "color": "rgba(128, 128, 128, 1.0)",
          "dash": "solid",
          "shape": "linear",
          "width": 1.3
         },
         "marker": {
          "size": 2,
          "symbol": "circle"
         },
         "mode": "markers",
         "name": "D",
         "text": "",
         "type": "scatter",
         "x": [
          0.1819819126791729,
          -0.7690504649458737,
          0.4146966578943233,
          0.735872368805637,
          0.8669917218711843,
          2.1748617101751,
          1.2318371866263211,
          0.16427863005281082,
          -0.7516033269630648,
          -0.059540090628032005,
          -0.012899474698968688,
          1.7520395134071642,
          -0.01591686529266641,
          -1.30737693706392,
          0.31469596302611313,
          0.0006447044677048574,
          -0.7695973642700286,
          -1.588439968194205,
          0.5132563588699779,
          -0.4166594400416099,
          0.654191318124905,
          1.538197099799716,
          -0.9734425150447913,
          -1.346122715368668,
          -0.3594077404233946,
          1.7299228793641566,
          2.1101164566449864,
          -0.9413070230386088,
          0.013584305821453655,
          -0.2281718487132733,
          1.6031139424787848,
          0.6043596490108111,
          0.6197173644455335,
          0.22320795650902636,
          3.348229272407328,
          0.7701779183439242,
          1.8000414301434686,
          -1.4159099794566452,
          -0.4371479314457633,
          -0.2147748488950862,
          -0.6812616180720111,
          0.6879337962777717,
          0.15289137723322704,
          -0.6636384766790288,
          0.9087932907473223,
          0.13219355583100664,
          0.6622465833842975,
          -0.5583410998398035,
          -0.24485904679848086,
          -0.4643834042131067,
          -2.2419875725888185,
          0.8278854578464298,
          0.20176407293093973,
          -1.3934247465283838,
          1.1134336391437878,
          -1.6334405533394345,
          1.3236953777109324,
          0.5224675986838716,
          -0.58959784704781,
          1.4586033556318427,
          0.9083302010742899,
          1.720992224059844,
          -1.889437228043027,
          1.465208342151267,
          0.45166524739808955,
          -0.02542207128711079,
          0.28324402331732385,
          -0.49926804861875734,
          0.3895796831658555,
          -0.3266481370656572,
          -2.1620324688740515,
          -0.4198106606771507,
          -0.41366740287377785,
          -0.584281831740891,
          -1.8799488990110838,
          1.0867735776383765,
          0.04134940253602887,
          -0.5192131068274868,
          -0.3308715980802985,
          0.5820619125965684,
          -0.3296740677753678,
          -0.7694843154746899,
          0.3974786425028931,
          -0.09690329212432874,
          0.2848301613145788,
          0.19226842929502952,
          -0.8350478382165045,
          0.30326140879933705,
          0.684022961660779,
          -0.5307381409250069,
          1.1163236404658101,
          -0.018062703200621047,
          1.1463717068725314,
          0.9530289674340827,
          -1.389032278301572,
          -0.7532835443706728,
          1.0060298398741725,
          -0.1675034739802897,
          -1.0888384951742667,
          -1.6766035427580728
         ],
         "xaxis": "x14",
         "y": [
          0.14136334630353126,
          -0.17342762086983968,
          0.2778429373168999,
          -1.0838065078095411,
          1.6789960290811619,
          0.03239885200774485,
          0.527368976631621,
          -0.973348655563232,
          0.6559878156491874,
          -1.5573184349424796,
          -1.5521905617494114,
          -0.32070490506708366,
          0.834808587713665,
          -1.3901833373378998,
          -0.05133705113847309,
          1.3661849525000556,
          -2.7387361439318973,
          -0.3757232505829336,
          0.2499343158732975,
          1.8862587962068342,
          0.32289878592178395,
          -0.026021454186353033,
          -0.7832038758557757,
          -1.7854026358015214,
          -0.9886418883728615,
          1.172840007758469,
          -0.6927351482391241,
          -0.7512055028688523,
          -0.31995176221135685,
          -0.030323406278298524,
          -0.2686900984164055,
          0.9141296554884962,
          0.49804763584656436,
          0.6213893862842278,
          -0.888680812057349,
          0.9544035678121067,
          -1.4446924908742282,
          0.5823808825457056,
          0.4656734840334705,
          -1.2426824026541052,
          0.9554109752437391,
          -1.0526207634228548,
          0.9279632720655048,
          0.08683464814073258,
          1.3654427367610558,
          -0.271962452163509,
          2.829048400648285,
          -1.5715008492189553,
          0.6283323433296785,
          -1.0793068878696275,
          -0.15844479004020343,
          0.8587971878564065,
          0.5764667885644545,
          0.9397288711189419,
          -0.15448393557329368,
          3.07968864352723,
          1.0976043277248069,
          -1.3089327851984713,
          0.8206017422675997,
          -1.3032919849740479,
          -0.8223964470464178,
          -0.2543491886241915,
          1.1846319727049852,
          0.7679837454707548,
          -0.8615182291637286,
          -0.6075869606066855,
          -1.3998702077377003,
          0.7381340925678403,
          -1.8977211684787225,
          0.9311758883110728,
          2.0659994455191395,
          0.0231704230577431,
          -0.2003931331560611,
          -0.38111563089727896,
          0.5896799526226871,
          0.8121399897995402,
          -1.8730245860709724,
          -1.6570520845680916,
          1.8979142646255878,
          0.43910370520399233,
          1.4317474680076265,
          -0.5102289654933749,
          -0.1572381836114604,
          -2.00318650223944,
          -2.081496816065353,
          -1.2102368481440318,
          2.1166529674062575,
          1.9839170993997932,
          -1.8463999561335342,
          0.6604605687923712,
          1.5103046521545658,
          0.9207957180610077,
          0.4383762192430872,
          -0.52769497075163,
          -0.43794032624613954,
          1.0516199563487707,
          -0.19869038457972135,
          0.08290372885059079,
          -1.1383977782789858,
          -0.48052730583796555
         ],
         "yaxis": "y14"
        },
        {
         "line": {
          "color": "rgba(128, 128, 128, 1.0)",
          "dash": "solid",
          "shape": "linear",
          "width": 1.3
         },
         "marker": {
          "size": 2,
          "symbol": "circle"
         },
         "mode": "markers",
         "name": "D",
         "text": "",
         "type": "scatter",
         "x": [
          -1.4501499176238284,
          1.2147342646055934,
          -2.2320632406818968,
          0.5288614482094521,
          -0.7923631571477707,
          1.290152637261051,
          0.09681485082390709,
          0.04799729256878894,
          -1.8064399416236632,
          2.187824560601332,
          0.4123294737821514,
          0.3601272214313341,
          1.0720094383462198,
          -1.1892914798431156,
          0.7742383731348873,
          -0.22995290417660325,
          -0.917634296873175,
          -0.06806038058954045,
          1.0427254105710442,
          0.31736066412983266,
          -0.8325389579176342,
          0.7957438074276335,
          0.23255822850011593,
          -0.6863885375642695,
          0.043343946526299686,
          1.2172015503062825,
          -0.2470060194626241,
          0.37683390140714784,
          2.505842798487505,
          -0.5259679626174164,
          0.2853402845379173,
          0.3156871732888629,
          0.10638962575278862,
          -0.8657201035243177,
          0.29266951190392276,
          -1.7380647536708604,
          0.18782625251604115,
          1.465198206237717,
          1.1610434636791065,
          -1.334362239953306,
          0.369024851642638,
          0.14515244115547685,
          -0.29014039113482143,
          -2.205901079924097,
          -0.6297735763673113,
          1.9877309156869238,
          0.823832968268731,
          0.7016979495915034,
          1.2066655705165814,
          0.2949871564280679,
          -0.11074637656860796,
          -0.04829986443696068,
          -0.9492371718966309,
          -0.04598828116047178,
          1.317414045898286,
          0.7921576306116995,
          0.894667808316204,
          -1.6150478689813692,
          -0.5940807796373015,
          -0.7412884371177434,
          0.1023608375806466,
          0.05025887745365847,
          0.8520086743610449,
          -0.3765601146251717,
          2.2387167009652646,
          -0.27404779894661974,
          0.12483982490399333,
          -0.2551727698413939,
          -0.17307935010980668,
          -0.5033562099539954,
          1.3635797430486931,
          1.9772609093458402,
          -0.2712236950918055,
          -0.4443352105952831,
          -0.46825626749069255,
          0.8143661350579154,
          0.3275799770626893,
          1.2449753554248213,
          1.794382912517284,
          0.7918194475072394,
          -1.063346848381665,
          1.3617171908817822,
          -0.2949021246137668,
          -1.5839217903941474,
          0.6432012345243522,
          0.0779454547877543,
          -2.0164228752506776,
          0.3949702263292559,
          -1.0297657444417474,
          0.34227323404988436,
          -0.23294988309675202,
          0.9862003850301045,
          0.7740444778929897,
          0.1163260790363663,
          1.6712226662539906,
          -0.8250581385511181,
          -0.7971349736565512,
          0.6621647370964951,
          0.037237436378091265,
          -1.7434152646720051
         ],
         "xaxis": "x15",
         "y": [
          0.14136334630353126,
          -0.17342762086983968,
          0.2778429373168999,
          -1.0838065078095411,
          1.6789960290811619,
          0.03239885200774485,
          0.527368976631621,
          -0.973348655563232,
          0.6559878156491874,
          -1.5573184349424796,
          -1.5521905617494114,
          -0.32070490506708366,
          0.834808587713665,
          -1.3901833373378998,
          -0.05133705113847309,
          1.3661849525000556,
          -2.7387361439318973,
          -0.3757232505829336,
          0.2499343158732975,
          1.8862587962068342,
          0.32289878592178395,
          -0.026021454186353033,
          -0.7832038758557757,
          -1.7854026358015214,
          -0.9886418883728615,
          1.172840007758469,
          -0.6927351482391241,
          -0.7512055028688523,
          -0.31995176221135685,
          -0.030323406278298524,
          -0.2686900984164055,
          0.9141296554884962,
          0.49804763584656436,
          0.6213893862842278,
          -0.888680812057349,
          0.9544035678121067,
          -1.4446924908742282,
          0.5823808825457056,
          0.4656734840334705,
          -1.2426824026541052,
          0.9554109752437391,
          -1.0526207634228548,
          0.9279632720655048,
          0.08683464814073258,
          1.3654427367610558,
          -0.271962452163509,
          2.829048400648285,
          -1.5715008492189553,
          0.6283323433296785,
          -1.0793068878696275,
          -0.15844479004020343,
          0.8587971878564065,
          0.5764667885644545,
          0.9397288711189419,
          -0.15448393557329368,
          3.07968864352723,
          1.0976043277248069,
          -1.3089327851984713,
          0.8206017422675997,
          -1.3032919849740479,
          -0.8223964470464178,
          -0.2543491886241915,
          1.1846319727049852,
          0.7679837454707548,
          -0.8615182291637286,
          -0.6075869606066855,
          -1.3998702077377003,
          0.7381340925678403,
          -1.8977211684787225,
          0.9311758883110728,
          2.0659994455191395,
          0.0231704230577431,
          -0.2003931331560611,
          -0.38111563089727896,
          0.5896799526226871,
          0.8121399897995402,
          -1.8730245860709724,
          -1.6570520845680916,
          1.8979142646255878,
          0.43910370520399233,
          1.4317474680076265,
          -0.5102289654933749,
          -0.1572381836114604,
          -2.00318650223944,
          -2.081496816065353,
          -1.2102368481440318,
          2.1166529674062575,
          1.9839170993997932,
          -1.8463999561335342,
          0.6604605687923712,
          1.5103046521545658,
          0.9207957180610077,
          0.4383762192430872,
          -0.52769497075163,
          -0.43794032624613954,
          1.0516199563487707,
          -0.19869038457972135,
          0.08290372885059079,
          -1.1383977782789858,
          -0.48052730583796555
         ],
         "yaxis": "y15"
        },
        {
         "histfunc": "count",
         "histnorm": "",
         "marker": {
          "color": "rgba(128, 0, 128, 1.0)",
          "line": {
           "color": "#4D5663",
           "width": 1.3
          }
         },
         "name": "D",
         "nbinsx": 10,
         "opacity": 0.8,
         "orientation": "v",
         "type": "histogram",
         "x": [
          0.14136334630353126,
          -0.17342762086983968,
          0.2778429373168999,
          -1.0838065078095411,
          1.6789960290811619,
          0.03239885200774485,
          0.527368976631621,
          -0.973348655563232,
          0.6559878156491874,
          -1.5573184349424796,
          -1.5521905617494114,
          -0.32070490506708366,
          0.834808587713665,
          -1.3901833373378998,
          -0.05133705113847309,
          1.3661849525000556,
          -2.7387361439318973,
          -0.3757232505829336,
          0.2499343158732975,
          1.8862587962068342,
          0.32289878592178395,
          -0.026021454186353033,
          -0.7832038758557757,
          -1.7854026358015214,
          -0.9886418883728615,
          1.172840007758469,
          -0.6927351482391241,
          -0.7512055028688523,
          -0.31995176221135685,
          -0.030323406278298524,
          -0.2686900984164055,
          0.9141296554884962,
          0.49804763584656436,
          0.6213893862842278,
          -0.888680812057349,
          0.9544035678121067,
          -1.4446924908742282,
          0.5823808825457056,
          0.4656734840334705,
          -1.2426824026541052,
          0.9554109752437391,
          -1.0526207634228548,
          0.9279632720655048,
          0.08683464814073258,
          1.3654427367610558,
          -0.271962452163509,
          2.829048400648285,
          -1.5715008492189553,
          0.6283323433296785,
          -1.0793068878696275,
          -0.15844479004020343,
          0.8587971878564065,
          0.5764667885644545,
          0.9397288711189419,
          -0.15448393557329368,
          3.07968864352723,
          1.0976043277248069,
          -1.3089327851984713,
          0.8206017422675997,
          -1.3032919849740479,
          -0.8223964470464178,
          -0.2543491886241915,
          1.1846319727049852,
          0.7679837454707548,
          -0.8615182291637286,
          -0.6075869606066855,
          -1.3998702077377003,
          0.7381340925678403,
          -1.8977211684787225,
          0.9311758883110728,
          2.0659994455191395,
          0.0231704230577431,
          -0.2003931331560611,
          -0.38111563089727896,
          0.5896799526226871,
          0.8121399897995402,
          -1.8730245860709724,
          -1.6570520845680916,
          1.8979142646255878,
          0.43910370520399233,
          1.4317474680076265,
          -0.5102289654933749,
          -0.1572381836114604,
          -2.00318650223944,
          -2.081496816065353,
          -1.2102368481440318,
          2.1166529674062575,
          1.9839170993997932,
          -1.8463999561335342,
          0.6604605687923712,
          1.5103046521545658,
          0.9207957180610077,
          0.4383762192430872,
          -0.52769497075163,
          -0.43794032624613954,
          1.0516199563487707,
          -0.19869038457972135,
          0.08290372885059079,
          -1.1383977782789858,
          -0.48052730583796555
         ],
         "xaxis": "x16",
         "yaxis": "y16"
        }
       ],
       "layout": {
        "bargap": 0.02,
        "legend": {
         "bgcolor": "#F5F6F9",
         "font": {
          "color": "#4D5663"
         }
        },
        "paper_bgcolor": "#F5F6F9",
        "plot_bgcolor": "#F5F6F9",
        "showlegend": false,
        "template": {
         "data": {
          "bar": [
           {
            "error_x": {
             "color": "#2a3f5f"
            },
            "error_y": {
             "color": "#2a3f5f"
            },
            "marker": {
             "line": {
              "color": "#E5ECF6",
              "width": 0.5
             },
             "pattern": {
              "fillmode": "overlay",
              "size": 10,
              "solidity": 0.2
             }
            },
            "type": "bar"
           }
          ],
          "barpolar": [
           {
            "marker": {
             "line": {
              "color": "#E5ECF6",
              "width": 0.5
             },
             "pattern": {
              "fillmode": "overlay",
              "size": 10,
              "solidity": 0.2
             }
            },
            "type": "barpolar"
           }
          ],
          "carpet": [
           {
            "aaxis": {
             "endlinecolor": "#2a3f5f",
             "gridcolor": "white",
             "linecolor": "white",
             "minorgridcolor": "white",
             "startlinecolor": "#2a3f5f"
            },
            "baxis": {
             "endlinecolor": "#2a3f5f",
             "gridcolor": "white",
             "linecolor": "white",
             "minorgridcolor": "white",
             "startlinecolor": "#2a3f5f"
            },
            "type": "carpet"
           }
          ],
          "choropleth": [
           {
            "colorbar": {
             "outlinewidth": 0,
             "ticks": ""
            },
            "type": "choropleth"
           }
          ],
          "contour": [
           {
            "colorbar": {
             "outlinewidth": 0,
             "ticks": ""
            },
            "colorscale": [
             [
              0,
              "#0d0887"
             ],
             [
              0.1111111111111111,
              "#46039f"
             ],
             [
              0.2222222222222222,
              "#7201a8"
             ],
             [
              0.3333333333333333,
              "#9c179e"
             ],
             [
              0.4444444444444444,
              "#bd3786"
             ],
             [
              0.5555555555555556,
              "#d8576b"
             ],
             [
              0.6666666666666666,
              "#ed7953"
             ],
             [
              0.7777777777777778,
              "#fb9f3a"
             ],
             [
              0.8888888888888888,
              "#fdca26"
             ],
             [
              1,
              "#f0f921"
             ]
            ],
            "type": "contour"
           }
          ],
          "contourcarpet": [
           {
            "colorbar": {
             "outlinewidth": 0,
             "ticks": ""
            },
            "type": "contourcarpet"
           }
          ],
          "heatmap": [
           {
            "colorbar": {
             "outlinewidth": 0,
             "ticks": ""
            },
            "colorscale": [
             [
              0,
              "#0d0887"
             ],
             [
              0.1111111111111111,
              "#46039f"
             ],
             [
              0.2222222222222222,
              "#7201a8"
             ],
             [
              0.3333333333333333,
              "#9c179e"
             ],
             [
              0.4444444444444444,
              "#bd3786"
             ],
             [
              0.5555555555555556,
              "#d8576b"
             ],
             [
              0.6666666666666666,
              "#ed7953"
             ],
             [
              0.7777777777777778,
              "#fb9f3a"
             ],
             [
              0.8888888888888888,
              "#fdca26"
             ],
             [
              1,
              "#f0f921"
             ]
            ],
            "type": "heatmap"
           }
          ],
          "heatmapgl": [
           {
            "colorbar": {
             "outlinewidth": 0,
             "ticks": ""
            },
            "colorscale": [
             [
              0,
              "#0d0887"
             ],
             [
              0.1111111111111111,
              "#46039f"
             ],
             [
              0.2222222222222222,
              "#7201a8"
             ],
             [
              0.3333333333333333,
              "#9c179e"
             ],
             [
              0.4444444444444444,
              "#bd3786"
             ],
             [
              0.5555555555555556,
              "#d8576b"
             ],
             [
              0.6666666666666666,
              "#ed7953"
             ],
             [
              0.7777777777777778,
              "#fb9f3a"
             ],
             [
              0.8888888888888888,
              "#fdca26"
             ],
             [
              1,
              "#f0f921"
             ]
            ],
            "type": "heatmapgl"
           }
          ],
          "histogram": [
           {
            "marker": {
             "pattern": {
              "fillmode": "overlay",
              "size": 10,
              "solidity": 0.2
             }
            },
            "type": "histogram"
           }
          ],
          "histogram2d": [
           {
            "colorbar": {
             "outlinewidth": 0,
             "ticks": ""
            },
            "colorscale": [
             [
              0,
              "#0d0887"
             ],
             [
              0.1111111111111111,
              "#46039f"
             ],
             [
              0.2222222222222222,
              "#7201a8"
             ],
             [
              0.3333333333333333,
              "#9c179e"
             ],
             [
              0.4444444444444444,
              "#bd3786"
             ],
             [
              0.5555555555555556,
              "#d8576b"
             ],
             [
              0.6666666666666666,
              "#ed7953"
             ],
             [
              0.7777777777777778,
              "#fb9f3a"
             ],
             [
              0.8888888888888888,
              "#fdca26"
             ],
             [
              1,
              "#f0f921"
             ]
            ],
            "type": "histogram2d"
           }
          ],
          "histogram2dcontour": [
           {
            "colorbar": {
             "outlinewidth": 0,
             "ticks": ""
            },
            "colorscale": [
             [
              0,
              "#0d0887"
             ],
             [
              0.1111111111111111,
              "#46039f"
             ],
             [
              0.2222222222222222,
              "#7201a8"
             ],
             [
              0.3333333333333333,
              "#9c179e"
             ],
             [
              0.4444444444444444,
              "#bd3786"
             ],
             [
              0.5555555555555556,
              "#d8576b"
             ],
             [
              0.6666666666666666,
              "#ed7953"
             ],
             [
              0.7777777777777778,
              "#fb9f3a"
             ],
             [
              0.8888888888888888,
              "#fdca26"
             ],
             [
              1,
              "#f0f921"
             ]
            ],
            "type": "histogram2dcontour"
           }
          ],
          "mesh3d": [
           {
            "colorbar": {
             "outlinewidth": 0,
             "ticks": ""
            },
            "type": "mesh3d"
           }
          ],
          "parcoords": [
           {
            "line": {
             "colorbar": {
              "outlinewidth": 0,
              "ticks": ""
             }
            },
            "type": "parcoords"
           }
          ],
          "pie": [
           {
            "automargin": true,
            "type": "pie"
           }
          ],
          "scatter": [
           {
            "marker": {
             "colorbar": {
              "outlinewidth": 0,
              "ticks": ""
             }
            },
            "type": "scatter"
           }
          ],
          "scatter3d": [
           {
            "line": {
             "colorbar": {
              "outlinewidth": 0,
              "ticks": ""
             }
            },
            "marker": {
             "colorbar": {
              "outlinewidth": 0,
              "ticks": ""
             }
            },
            "type": "scatter3d"
           }
          ],
          "scattercarpet": [
           {
            "marker": {
             "colorbar": {
              "outlinewidth": 0,
              "ticks": ""
             }
            },
            "type": "scattercarpet"
           }
          ],
          "scattergeo": [
           {
            "marker": {
             "colorbar": {
              "outlinewidth": 0,
              "ticks": ""
             }
            },
            "type": "scattergeo"
           }
          ],
          "scattergl": [
           {
            "marker": {
             "colorbar": {
              "outlinewidth": 0,
              "ticks": ""
             }
            },
            "type": "scattergl"
           }
          ],
          "scattermapbox": [
           {
            "marker": {
             "colorbar": {
              "outlinewidth": 0,
              "ticks": ""
             }
            },
            "type": "scattermapbox"
           }
          ],
          "scatterpolar": [
           {
            "marker": {
             "colorbar": {
              "outlinewidth": 0,
              "ticks": ""
             }
            },
            "type": "scatterpolar"
           }
          ],
          "scatterpolargl": [
           {
            "marker": {
             "colorbar": {
              "outlinewidth": 0,
              "ticks": ""
             }
            },
            "type": "scatterpolargl"
           }
          ],
          "scatterternary": [
           {
            "marker": {
             "colorbar": {
              "outlinewidth": 0,
              "ticks": ""
             }
            },
            "type": "scatterternary"
           }
          ],
          "surface": [
           {
            "colorbar": {
             "outlinewidth": 0,
             "ticks": ""
            },
            "colorscale": [
             [
              0,
              "#0d0887"
             ],
             [
              0.1111111111111111,
              "#46039f"
             ],
             [
              0.2222222222222222,
              "#7201a8"
             ],
             [
              0.3333333333333333,
              "#9c179e"
             ],
             [
              0.4444444444444444,
              "#bd3786"
             ],
             [
              0.5555555555555556,
              "#d8576b"
             ],
             [
              0.6666666666666666,
              "#ed7953"
             ],
             [
              0.7777777777777778,
              "#fb9f3a"
             ],
             [
              0.8888888888888888,
              "#fdca26"
             ],
             [
              1,
              "#f0f921"
             ]
            ],
            "type": "surface"
           }
          ],
          "table": [
           {
            "cells": {
             "fill": {
              "color": "#EBF0F8"
             },
             "line": {
              "color": "white"
             }
            },
            "header": {
             "fill": {
              "color": "#C8D4E3"
             },
             "line": {
              "color": "white"
             }
            },
            "type": "table"
           }
          ]
         },
         "layout": {
          "annotationdefaults": {
           "arrowcolor": "#2a3f5f",
           "arrowhead": 0,
           "arrowwidth": 1
          },
          "autotypenumbers": "strict",
          "coloraxis": {
           "colorbar": {
            "outlinewidth": 0,
            "ticks": ""
           }
          },
          "colorscale": {
           "diverging": [
            [
             0,
             "#8e0152"
            ],
            [
             0.1,
             "#c51b7d"
            ],
            [
             0.2,
             "#de77ae"
            ],
            [
             0.3,
             "#f1b6da"
            ],
            [
             0.4,
             "#fde0ef"
            ],
            [
             0.5,
             "#f7f7f7"
            ],
            [
             0.6,
             "#e6f5d0"
            ],
            [
             0.7,
             "#b8e186"
            ],
            [
             0.8,
             "#7fbc41"
            ],
            [
             0.9,
             "#4d9221"
            ],
            [
             1,
             "#276419"
            ]
           ],
           "sequential": [
            [
             0,
             "#0d0887"
            ],
            [
             0.1111111111111111,
             "#46039f"
            ],
            [
             0.2222222222222222,
             "#7201a8"
            ],
            [
             0.3333333333333333,
             "#9c179e"
            ],
            [
             0.4444444444444444,
             "#bd3786"
            ],
            [
             0.5555555555555556,
             "#d8576b"
            ],
            [
             0.6666666666666666,
             "#ed7953"
            ],
            [
             0.7777777777777778,
             "#fb9f3a"
            ],
            [
             0.8888888888888888,
             "#fdca26"
            ],
            [
             1,
             "#f0f921"
            ]
           ],
           "sequentialminus": [
            [
             0,
             "#0d0887"
            ],
            [
             0.1111111111111111,
             "#46039f"
            ],
            [
             0.2222222222222222,
             "#7201a8"
            ],
            [
             0.3333333333333333,
             "#9c179e"
            ],
            [
             0.4444444444444444,
             "#bd3786"
            ],
            [
             0.5555555555555556,
             "#d8576b"
            ],
            [
             0.6666666666666666,
             "#ed7953"
            ],
            [
             0.7777777777777778,
             "#fb9f3a"
            ],
            [
             0.8888888888888888,
             "#fdca26"
            ],
            [
             1,
             "#f0f921"
            ]
           ]
          },
          "colorway": [
           "#636efa",
           "#EF553B",
           "#00cc96",
           "#ab63fa",
           "#FFA15A",
           "#19d3f3",
           "#FF6692",
           "#B6E880",
           "#FF97FF",
           "#FECB52"
          ],
          "font": {
           "color": "#2a3f5f"
          },
          "geo": {
           "bgcolor": "white",
           "lakecolor": "white",
           "landcolor": "#E5ECF6",
           "showlakes": true,
           "showland": true,
           "subunitcolor": "white"
          },
          "hoverlabel": {
           "align": "left"
          },
          "hovermode": "closest",
          "mapbox": {
           "style": "light"
          },
          "paper_bgcolor": "white",
          "plot_bgcolor": "#E5ECF6",
          "polar": {
           "angularaxis": {
            "gridcolor": "white",
            "linecolor": "white",
            "ticks": ""
           },
           "bgcolor": "#E5ECF6",
           "radialaxis": {
            "gridcolor": "white",
            "linecolor": "white",
            "ticks": ""
           }
          },
          "scene": {
           "xaxis": {
            "backgroundcolor": "#E5ECF6",
            "gridcolor": "white",
            "gridwidth": 2,
            "linecolor": "white",
            "showbackground": true,
            "ticks": "",
            "zerolinecolor": "white"
           },
           "yaxis": {
            "backgroundcolor": "#E5ECF6",
            "gridcolor": "white",
            "gridwidth": 2,
            "linecolor": "white",
            "showbackground": true,
            "ticks": "",
            "zerolinecolor": "white"
           },
           "zaxis": {
            "backgroundcolor": "#E5ECF6",
            "gridcolor": "white",
            "gridwidth": 2,
            "linecolor": "white",
            "showbackground": true,
            "ticks": "",
            "zerolinecolor": "white"
           }
          },
          "shapedefaults": {
           "line": {
            "color": "#2a3f5f"
           }
          },
          "ternary": {
           "aaxis": {
            "gridcolor": "white",
            "linecolor": "white",
            "ticks": ""
           },
           "baxis": {
            "gridcolor": "white",
            "linecolor": "white",
            "ticks": ""
           },
           "bgcolor": "#E5ECF6",
           "caxis": {
            "gridcolor": "white",
            "linecolor": "white",
            "ticks": ""
           }
          },
          "title": {
           "x": 0.05
          },
          "xaxis": {
           "automargin": true,
           "gridcolor": "white",
           "linecolor": "white",
           "ticks": "",
           "title": {
            "standoff": 15
           },
           "zerolinecolor": "white",
           "zerolinewidth": 2
          },
          "yaxis": {
           "automargin": true,
           "gridcolor": "white",
           "linecolor": "white",
           "ticks": "",
           "title": {
            "standoff": 15
           },
           "zerolinecolor": "white",
           "zerolinewidth": 2
          }
         }
        },
        "title": {
         "font": {
          "color": "#4D5663"
         }
        },
        "xaxis": {
         "anchor": "y",
         "domain": [
          0,
          0.2125
         ],
         "gridcolor": "#E1E5ED",
         "showgrid": false,
         "tickfont": {
          "color": "#4D5663"
         },
         "title": {
          "font": {
           "color": "#4D5663"
          },
          "text": ""
         },
         "zerolinecolor": "#E1E5ED"
        },
        "xaxis10": {
         "anchor": "y10",
         "domain": [
          0.2625,
          0.475
         ],
         "gridcolor": "#E1E5ED",
         "showgrid": false,
         "tickfont": {
          "color": "#4D5663"
         },
         "title": {
          "font": {
           "color": "#4D5663"
          },
          "text": ""
         },
         "zerolinecolor": "#E1E5ED"
        },
        "xaxis11": {
         "anchor": "y11",
         "domain": [
          0.525,
          0.7375
         ],
         "gridcolor": "#E1E5ED",
         "showgrid": false,
         "tickfont": {
          "color": "#4D5663"
         },
         "title": {
          "font": {
           "color": "#4D5663"
          },
          "text": ""
         },
         "zerolinecolor": "#E1E5ED"
        },
        "xaxis12": {
         "anchor": "y12",
         "domain": [
          0.7875,
          1
         ],
         "gridcolor": "#E1E5ED",
         "showgrid": false,
         "tickfont": {
          "color": "#4D5663"
         },
         "title": {
          "font": {
           "color": "#4D5663"
          },
          "text": ""
         },
         "zerolinecolor": "#E1E5ED"
        },
        "xaxis13": {
         "anchor": "y13",
         "domain": [
          0,
          0.2125
         ],
         "gridcolor": "#E1E5ED",
         "showgrid": false,
         "tickfont": {
          "color": "#4D5663"
         },
         "title": {
          "font": {
           "color": "#4D5663"
          },
          "text": ""
         },
         "zerolinecolor": "#E1E5ED"
        },
        "xaxis14": {
         "anchor": "y14",
         "domain": [
          0.2625,
          0.475
         ],
         "gridcolor": "#E1E5ED",
         "showgrid": false,
         "tickfont": {
          "color": "#4D5663"
         },
         "title": {
          "font": {
           "color": "#4D5663"
          },
          "text": ""
         },
         "zerolinecolor": "#E1E5ED"
        },
        "xaxis15": {
         "anchor": "y15",
         "domain": [
          0.525,
          0.7375
         ],
         "gridcolor": "#E1E5ED",
         "showgrid": false,
         "tickfont": {
          "color": "#4D5663"
         },
         "title": {
          "font": {
           "color": "#4D5663"
          },
          "text": ""
         },
         "zerolinecolor": "#E1E5ED"
        },
        "xaxis16": {
         "anchor": "y16",
         "domain": [
          0.7875,
          1
         ],
         "gridcolor": "#E1E5ED",
         "showgrid": false,
         "tickfont": {
          "color": "#4D5663"
         },
         "title": {
          "font": {
           "color": "#4D5663"
          },
          "text": ""
         },
         "zerolinecolor": "#E1E5ED"
        },
        "xaxis2": {
         "anchor": "y2",
         "domain": [
          0.2625,
          0.475
         ],
         "gridcolor": "#E1E5ED",
         "showgrid": false,
         "tickfont": {
          "color": "#4D5663"
         },
         "title": {
          "font": {
           "color": "#4D5663"
          },
          "text": ""
         },
         "zerolinecolor": "#E1E5ED"
        },
        "xaxis3": {
         "anchor": "y3",
         "domain": [
          0.525,
          0.7375
         ],
         "gridcolor": "#E1E5ED",
         "showgrid": false,
         "tickfont": {
          "color": "#4D5663"
         },
         "title": {
          "font": {
           "color": "#4D5663"
          },
          "text": ""
         },
         "zerolinecolor": "#E1E5ED"
        },
        "xaxis4": {
         "anchor": "y4",
         "domain": [
          0.7875,
          1
         ],
         "gridcolor": "#E1E5ED",
         "showgrid": false,
         "tickfont": {
          "color": "#4D5663"
         },
         "title": {
          "font": {
           "color": "#4D5663"
          },
          "text": ""
         },
         "zerolinecolor": "#E1E5ED"
        },
        "xaxis5": {
         "anchor": "y5",
         "domain": [
          0,
          0.2125
         ],
         "gridcolor": "#E1E5ED",
         "showgrid": false,
         "tickfont": {
          "color": "#4D5663"
         },
         "title": {
          "font": {
           "color": "#4D5663"
          },
          "text": ""
         },
         "zerolinecolor": "#E1E5ED"
        },
        "xaxis6": {
         "anchor": "y6",
         "domain": [
          0.2625,
          0.475
         ],
         "gridcolor": "#E1E5ED",
         "showgrid": false,
         "tickfont": {
          "color": "#4D5663"
         },
         "title": {
          "font": {
           "color": "#4D5663"
          },
          "text": ""
         },
         "zerolinecolor": "#E1E5ED"
        },
        "xaxis7": {
         "anchor": "y7",
         "domain": [
          0.525,
          0.7375
         ],
         "gridcolor": "#E1E5ED",
         "showgrid": false,
         "tickfont": {
          "color": "#4D5663"
         },
         "title": {
          "font": {
           "color": "#4D5663"
          },
          "text": ""
         },
         "zerolinecolor": "#E1E5ED"
        },
        "xaxis8": {
         "anchor": "y8",
         "domain": [
          0.7875,
          1
         ],
         "gridcolor": "#E1E5ED",
         "showgrid": false,
         "tickfont": {
          "color": "#4D5663"
         },
         "title": {
          "font": {
           "color": "#4D5663"
          },
          "text": ""
         },
         "zerolinecolor": "#E1E5ED"
        },
        "xaxis9": {
         "anchor": "y9",
         "domain": [
          0,
          0.2125
         ],
         "gridcolor": "#E1E5ED",
         "showgrid": false,
         "tickfont": {
          "color": "#4D5663"
         },
         "title": {
          "font": {
           "color": "#4D5663"
          },
          "text": ""
         },
         "zerolinecolor": "#E1E5ED"
        },
        "yaxis": {
         "anchor": "x",
         "domain": [
          0.8025,
          1
         ],
         "gridcolor": "#E1E5ED",
         "showgrid": false,
         "tickfont": {
          "color": "#4D5663"
         },
         "title": {
          "font": {
           "color": "#4D5663"
          },
          "text": ""
         },
         "zerolinecolor": "#E1E5ED"
        },
        "yaxis10": {
         "anchor": "x10",
         "domain": [
          0.2675,
          0.465
         ],
         "gridcolor": "#E1E5ED",
         "showgrid": false,
         "tickfont": {
          "color": "#4D5663"
         },
         "title": {
          "font": {
           "color": "#4D5663"
          },
          "text": ""
         },
         "zerolinecolor": "#E1E5ED"
        },
        "yaxis11": {
         "anchor": "x11",
         "domain": [
          0.2675,
          0.465
         ],
         "gridcolor": "#E1E5ED",
         "showgrid": false,
         "tickfont": {
          "color": "#4D5663"
         },
         "title": {
          "font": {
           "color": "#4D5663"
          },
          "text": ""
         },
         "zerolinecolor": "#E1E5ED"
        },
        "yaxis12": {
         "anchor": "x12",
         "domain": [
          0.2675,
          0.465
         ],
         "gridcolor": "#E1E5ED",
         "showgrid": false,
         "tickfont": {
          "color": "#4D5663"
         },
         "title": {
          "font": {
           "color": "#4D5663"
          },
          "text": ""
         },
         "zerolinecolor": "#E1E5ED"
        },
        "yaxis13": {
         "anchor": "x13",
         "domain": [
          0,
          0.1975
         ],
         "gridcolor": "#E1E5ED",
         "showgrid": false,
         "tickfont": {
          "color": "#4D5663"
         },
         "title": {
          "font": {
           "color": "#4D5663"
          },
          "text": ""
         },
         "zerolinecolor": "#E1E5ED"
        },
        "yaxis14": {
         "anchor": "x14",
         "domain": [
          0,
          0.1975
         ],
         "gridcolor": "#E1E5ED",
         "showgrid": false,
         "tickfont": {
          "color": "#4D5663"
         },
         "title": {
          "font": {
           "color": "#4D5663"
          },
          "text": ""
         },
         "zerolinecolor": "#E1E5ED"
        },
        "yaxis15": {
         "anchor": "x15",
         "domain": [
          0,
          0.1975
         ],
         "gridcolor": "#E1E5ED",
         "showgrid": false,
         "tickfont": {
          "color": "#4D5663"
         },
         "title": {
          "font": {
           "color": "#4D5663"
          },
          "text": ""
         },
         "zerolinecolor": "#E1E5ED"
        },
        "yaxis16": {
         "anchor": "x16",
         "domain": [
          0,
          0.1975
         ],
         "gridcolor": "#E1E5ED",
         "showgrid": false,
         "tickfont": {
          "color": "#4D5663"
         },
         "title": {
          "font": {
           "color": "#4D5663"
          },
          "text": ""
         },
         "zerolinecolor": "#E1E5ED"
        },
        "yaxis2": {
         "anchor": "x2",
         "domain": [
          0.8025,
          1
         ],
         "gridcolor": "#E1E5ED",
         "showgrid": false,
         "tickfont": {
          "color": "#4D5663"
         },
         "title": {
          "font": {
           "color": "#4D5663"
          },
          "text": ""
         },
         "zerolinecolor": "#E1E5ED"
        },
        "yaxis3": {
         "anchor": "x3",
         "domain": [
          0.8025,
          1
         ],
         "gridcolor": "#E1E5ED",
         "showgrid": false,
         "tickfont": {
          "color": "#4D5663"
         },
         "title": {
          "font": {
           "color": "#4D5663"
          },
          "text": ""
         },
         "zerolinecolor": "#E1E5ED"
        },
        "yaxis4": {
         "anchor": "x4",
         "domain": [
          0.8025,
          1
         ],
         "gridcolor": "#E1E5ED",
         "showgrid": false,
         "tickfont": {
          "color": "#4D5663"
         },
         "title": {
          "font": {
           "color": "#4D5663"
          },
          "text": ""
         },
         "zerolinecolor": "#E1E5ED"
        },
        "yaxis5": {
         "anchor": "x5",
         "domain": [
          0.535,
          0.7325
         ],
         "gridcolor": "#E1E5ED",
         "showgrid": false,
         "tickfont": {
          "color": "#4D5663"
         },
         "title": {
          "font": {
           "color": "#4D5663"
          },
          "text": ""
         },
         "zerolinecolor": "#E1E5ED"
        },
        "yaxis6": {
         "anchor": "x6",
         "domain": [
          0.535,
          0.7325
         ],
         "gridcolor": "#E1E5ED",
         "showgrid": false,
         "tickfont": {
          "color": "#4D5663"
         },
         "title": {
          "font": {
           "color": "#4D5663"
          },
          "text": ""
         },
         "zerolinecolor": "#E1E5ED"
        },
        "yaxis7": {
         "anchor": "x7",
         "domain": [
          0.535,
          0.7325
         ],
         "gridcolor": "#E1E5ED",
         "showgrid": false,
         "tickfont": {
          "color": "#4D5663"
         },
         "title": {
          "font": {
           "color": "#4D5663"
          },
          "text": ""
         },
         "zerolinecolor": "#E1E5ED"
        },
        "yaxis8": {
         "anchor": "x8",
         "domain": [
          0.535,
          0.7325
         ],
         "gridcolor": "#E1E5ED",
         "showgrid": false,
         "tickfont": {
          "color": "#4D5663"
         },
         "title": {
          "font": {
           "color": "#4D5663"
          },
          "text": ""
         },
         "zerolinecolor": "#E1E5ED"
        },
        "yaxis9": {
         "anchor": "x9",
         "domain": [
          0.2675,
          0.465
         ],
         "gridcolor": "#E1E5ED",
         "showgrid": false,
         "tickfont": {
          "color": "#4D5663"
         },
         "title": {
          "font": {
           "color": "#4D5663"
          },
          "text": ""
         },
         "zerolinecolor": "#E1E5ED"
        }
       }
      },
      "text/html": [
       "<div>                            <div id=\"78cb3648-0631-4e5e-8112-93e9a2bf55dc\" class=\"plotly-graph-div\" style=\"height:525px; width:100%;\"></div>            <script type=\"text/javascript\">                require([\"plotly\"], function(Plotly) {                    window.PLOTLYENV=window.PLOTLYENV || {};\n",
       "                    window.PLOTLYENV.BASE_URL='https://plot.ly';                                    if (document.getElementById(\"78cb3648-0631-4e5e-8112-93e9a2bf55dc\")) {                    Plotly.newPlot(                        \"78cb3648-0631-4e5e-8112-93e9a2bf55dc\",                        [{\"histfunc\":\"count\",\"histnorm\":\"\",\"marker\":{\"color\":\"rgba(255, 153, 51, 1.0)\",\"line\":{\"color\":\"#4D5663\",\"width\":1.3}},\"name\":\"A\",\"nbinsx\":10,\"opacity\":0.8,\"orientation\":\"v\",\"x\":[-0.36786982851319505,-0.8139460136439768,-1.2728002553624609,-0.16742849267659557,0.2568812060873537,1.7412616989824088,-1.5621264209503618,-0.9716442807368325,0.18120238038652076,-0.45624359436676554,0.4192093729134039,-1.7537622507026116,-0.6760570885254076,1.2315472502842275,1.344721140948013,1.5308498457246777,0.0811757384905562,-0.07056372644932463,-0.4096182151163972,-0.18810476194808798,-0.6888845471082019,0.1787949634688186,-0.6326159497145163,1.3665080793470559,-1.264100708338595,0.5654737427593445,-0.6314385446664598,0.7959791813286821,1.5209648447798207,0.011053102554344277,0.0575177083012101,2.1146701003920465,0.6844826246908693,-1.1059174909427503,0.36088615768745663,-0.9196362508572212,2.413895200230858,0.36847160558729464,1.5555526138790137,0.27533952277220874,0.5128093807287213,-0.36109803744274055,-0.2245813865447435,-1.3929369067023898,-1.7149219010602588,-0.06436773582098293,0.705890363747037,0.8834346495884103,-1.2819697508145063,1.0211868852886536,0.09444081962493833,0.9936925290527405,-0.24805292015688082,-0.38975442643515745,0.13162173026208018,-2.0904123249582196,-0.3638188904525045,1.5945900934580928,0.7833673844256537,0.2957653201178533,-0.420979774187367,-0.3033766512810295,-0.2359411997474931,-0.4555954179187365,0.5506480905045086,-0.613326940080486,-1.1439066960853865,0.49946364909654484,0.1921167231914247,-1.5000415223098764,-0.5242457354730988,-0.12933767299748697,-1.1800277618914492,0.9604362518828048,-1.3716897691557939,-0.9103137466615401,1.21475681850616,-1.2309199307746803,0.7560338475782938,1.076852768980497,-0.04882792274589524,-0.7653859453081738,-1.2279318521344766,-0.4210661832352774,-0.5586350407050273,-0.721991107436455,0.9659154488762632,1.2182790903319993,-1.3690372725967028,-1.3587655905835527,0.515290847414008,1.0695484930182528,-1.3380019043323563,-1.216940120335792,1.0947929024669336,0.23884071328995005,-0.45823390270079395,1.4792255439209159,-1.3118290643991475,-1.172534065870987],\"xaxis\":\"x\",\"yaxis\":\"y\",\"type\":\"histogram\"},{\"line\":{\"color\":\"rgba(128, 128, 128, 1.0)\",\"dash\":\"solid\",\"shape\":\"linear\",\"width\":1.3},\"marker\":{\"size\":2,\"symbol\":\"circle\"},\"mode\":\"markers\",\"name\":\"A\",\"text\":\"\",\"x\":[0.1819819126791729,-0.7690504649458737,0.4146966578943233,0.735872368805637,0.8669917218711843,2.1748617101751,1.2318371866263211,0.16427863005281082,-0.7516033269630648,-0.059540090628032005,-0.012899474698968688,1.7520395134071642,-0.01591686529266641,-1.30737693706392,0.31469596302611313,0.0006447044677048574,-0.7695973642700286,-1.588439968194205,0.5132563588699779,-0.4166594400416099,0.654191318124905,1.538197099799716,-0.9734425150447913,-1.346122715368668,-0.3594077404233946,1.7299228793641566,2.1101164566449864,-0.9413070230386088,0.013584305821453655,-0.2281718487132733,1.6031139424787848,0.6043596490108111,0.6197173644455335,0.22320795650902636,3.348229272407328,0.7701779183439242,1.8000414301434686,-1.4159099794566452,-0.4371479314457633,-0.2147748488950862,-0.6812616180720111,0.6879337962777717,0.15289137723322704,-0.6636384766790288,0.9087932907473223,0.13219355583100664,0.6622465833842975,-0.5583410998398035,-0.24485904679848086,-0.4643834042131067,-2.2419875725888185,0.8278854578464298,0.20176407293093973,-1.3934247465283838,1.1134336391437878,-1.6334405533394345,1.3236953777109324,0.5224675986838716,-0.58959784704781,1.4586033556318427,0.9083302010742899,1.720992224059844,-1.889437228043027,1.465208342151267,0.45166524739808955,-0.02542207128711079,0.28324402331732385,-0.49926804861875734,0.3895796831658555,-0.3266481370656572,-2.1620324688740515,-0.4198106606771507,-0.41366740287377785,-0.584281831740891,-1.8799488990110838,1.0867735776383765,0.04134940253602887,-0.5192131068274868,-0.3308715980802985,0.5820619125965684,-0.3296740677753678,-0.7694843154746899,0.3974786425028931,-0.09690329212432874,0.2848301613145788,0.19226842929502952,-0.8350478382165045,0.30326140879933705,0.684022961660779,-0.5307381409250069,1.1163236404658101,-0.018062703200621047,1.1463717068725314,0.9530289674340827,-1.389032278301572,-0.7532835443706728,1.0060298398741725,-0.1675034739802897,-1.0888384951742667,-1.6766035427580728],\"xaxis\":\"x2\",\"y\":[-0.36786982851319505,-0.8139460136439768,-1.2728002553624609,-0.16742849267659557,0.2568812060873537,1.7412616989824088,-1.5621264209503618,-0.9716442807368325,0.18120238038652076,-0.45624359436676554,0.4192093729134039,-1.7537622507026116,-0.6760570885254076,1.2315472502842275,1.344721140948013,1.5308498457246777,0.0811757384905562,-0.07056372644932463,-0.4096182151163972,-0.18810476194808798,-0.6888845471082019,0.1787949634688186,-0.6326159497145163,1.3665080793470559,-1.264100708338595,0.5654737427593445,-0.6314385446664598,0.7959791813286821,1.5209648447798207,0.011053102554344277,0.0575177083012101,2.1146701003920465,0.6844826246908693,-1.1059174909427503,0.36088615768745663,-0.9196362508572212,2.413895200230858,0.36847160558729464,1.5555526138790137,0.27533952277220874,0.5128093807287213,-0.36109803744274055,-0.2245813865447435,-1.3929369067023898,-1.7149219010602588,-0.06436773582098293,0.705890363747037,0.8834346495884103,-1.2819697508145063,1.0211868852886536,0.09444081962493833,0.9936925290527405,-0.24805292015688082,-0.38975442643515745,0.13162173026208018,-2.0904123249582196,-0.3638188904525045,1.5945900934580928,0.7833673844256537,0.2957653201178533,-0.420979774187367,-0.3033766512810295,-0.2359411997474931,-0.4555954179187365,0.5506480905045086,-0.613326940080486,-1.1439066960853865,0.49946364909654484,0.1921167231914247,-1.5000415223098764,-0.5242457354730988,-0.12933767299748697,-1.1800277618914492,0.9604362518828048,-1.3716897691557939,-0.9103137466615401,1.21475681850616,-1.2309199307746803,0.7560338475782938,1.076852768980497,-0.04882792274589524,-0.7653859453081738,-1.2279318521344766,-0.4210661832352774,-0.5586350407050273,-0.721991107436455,0.9659154488762632,1.2182790903319993,-1.3690372725967028,-1.3587655905835527,0.515290847414008,1.0695484930182528,-1.3380019043323563,-1.216940120335792,1.0947929024669336,0.23884071328995005,-0.45823390270079395,1.4792255439209159,-1.3118290643991475,-1.172534065870987],\"yaxis\":\"y2\",\"type\":\"scatter\"},{\"line\":{\"color\":\"rgba(128, 128, 128, 1.0)\",\"dash\":\"solid\",\"shape\":\"linear\",\"width\":1.3},\"marker\":{\"size\":2,\"symbol\":\"circle\"},\"mode\":\"markers\",\"name\":\"A\",\"text\":\"\",\"x\":[-1.4501499176238284,1.2147342646055934,-2.2320632406818968,0.5288614482094521,-0.7923631571477707,1.290152637261051,0.09681485082390709,0.04799729256878894,-1.8064399416236632,2.187824560601332,0.4123294737821514,0.3601272214313341,1.0720094383462198,-1.1892914798431156,0.7742383731348873,-0.22995290417660325,-0.917634296873175,-0.06806038058954045,1.0427254105710442,0.31736066412983266,-0.8325389579176342,0.7957438074276335,0.23255822850011593,-0.6863885375642695,0.043343946526299686,1.2172015503062825,-0.2470060194626241,0.37683390140714784,2.505842798487505,-0.5259679626174164,0.2853402845379173,0.3156871732888629,0.10638962575278862,-0.8657201035243177,0.29266951190392276,-1.7380647536708604,0.18782625251604115,1.465198206237717,1.1610434636791065,-1.334362239953306,0.369024851642638,0.14515244115547685,-0.29014039113482143,-2.205901079924097,-0.6297735763673113,1.9877309156869238,0.823832968268731,0.7016979495915034,1.2066655705165814,0.2949871564280679,-0.11074637656860796,-0.04829986443696068,-0.9492371718966309,-0.04598828116047178,1.317414045898286,0.7921576306116995,0.894667808316204,-1.6150478689813692,-0.5940807796373015,-0.7412884371177434,0.1023608375806466,0.05025887745365847,0.8520086743610449,-0.3765601146251717,2.2387167009652646,-0.27404779894661974,0.12483982490399333,-0.2551727698413939,-0.17307935010980668,-0.5033562099539954,1.3635797430486931,1.9772609093458402,-0.2712236950918055,-0.4443352105952831,-0.46825626749069255,0.8143661350579154,0.3275799770626893,1.2449753554248213,1.794382912517284,0.7918194475072394,-1.063346848381665,1.3617171908817822,-0.2949021246137668,-1.5839217903941474,0.6432012345243522,0.0779454547877543,-2.0164228752506776,0.3949702263292559,-1.0297657444417474,0.34227323404988436,-0.23294988309675202,0.9862003850301045,0.7740444778929897,0.1163260790363663,1.6712226662539906,-0.8250581385511181,-0.7971349736565512,0.6621647370964951,0.037237436378091265,-1.7434152646720051],\"xaxis\":\"x3\",\"y\":[-0.36786982851319505,-0.8139460136439768,-1.2728002553624609,-0.16742849267659557,0.2568812060873537,1.7412616989824088,-1.5621264209503618,-0.9716442807368325,0.18120238038652076,-0.45624359436676554,0.4192093729134039,-1.7537622507026116,-0.6760570885254076,1.2315472502842275,1.344721140948013,1.5308498457246777,0.0811757384905562,-0.07056372644932463,-0.4096182151163972,-0.18810476194808798,-0.6888845471082019,0.1787949634688186,-0.6326159497145163,1.3665080793470559,-1.264100708338595,0.5654737427593445,-0.6314385446664598,0.7959791813286821,1.5209648447798207,0.011053102554344277,0.0575177083012101,2.1146701003920465,0.6844826246908693,-1.1059174909427503,0.36088615768745663,-0.9196362508572212,2.413895200230858,0.36847160558729464,1.5555526138790137,0.27533952277220874,0.5128093807287213,-0.36109803744274055,-0.2245813865447435,-1.3929369067023898,-1.7149219010602588,-0.06436773582098293,0.705890363747037,0.8834346495884103,-1.2819697508145063,1.0211868852886536,0.09444081962493833,0.9936925290527405,-0.24805292015688082,-0.38975442643515745,0.13162173026208018,-2.0904123249582196,-0.3638188904525045,1.5945900934580928,0.7833673844256537,0.2957653201178533,-0.420979774187367,-0.3033766512810295,-0.2359411997474931,-0.4555954179187365,0.5506480905045086,-0.613326940080486,-1.1439066960853865,0.49946364909654484,0.1921167231914247,-1.5000415223098764,-0.5242457354730988,-0.12933767299748697,-1.1800277618914492,0.9604362518828048,-1.3716897691557939,-0.9103137466615401,1.21475681850616,-1.2309199307746803,0.7560338475782938,1.076852768980497,-0.04882792274589524,-0.7653859453081738,-1.2279318521344766,-0.4210661832352774,-0.5586350407050273,-0.721991107436455,0.9659154488762632,1.2182790903319993,-1.3690372725967028,-1.3587655905835527,0.515290847414008,1.0695484930182528,-1.3380019043323563,-1.216940120335792,1.0947929024669336,0.23884071328995005,-0.45823390270079395,1.4792255439209159,-1.3118290643991475,-1.172534065870987],\"yaxis\":\"y3\",\"type\":\"scatter\"},{\"line\":{\"color\":\"rgba(128, 128, 128, 1.0)\",\"dash\":\"solid\",\"shape\":\"linear\",\"width\":1.3},\"marker\":{\"size\":2,\"symbol\":\"circle\"},\"mode\":\"markers\",\"name\":\"A\",\"text\":\"\",\"x\":[0.14136334630353126,-0.17342762086983968,0.2778429373168999,-1.0838065078095411,1.6789960290811619,0.03239885200774485,0.527368976631621,-0.973348655563232,0.6559878156491874,-1.5573184349424796,-1.5521905617494114,-0.32070490506708366,0.834808587713665,-1.3901833373378998,-0.05133705113847309,1.3661849525000556,-2.7387361439318973,-0.3757232505829336,0.2499343158732975,1.8862587962068342,0.32289878592178395,-0.026021454186353033,-0.7832038758557757,-1.7854026358015214,-0.9886418883728615,1.172840007758469,-0.6927351482391241,-0.7512055028688523,-0.31995176221135685,-0.030323406278298524,-0.2686900984164055,0.9141296554884962,0.49804763584656436,0.6213893862842278,-0.888680812057349,0.9544035678121067,-1.4446924908742282,0.5823808825457056,0.4656734840334705,-1.2426824026541052,0.9554109752437391,-1.0526207634228548,0.9279632720655048,0.08683464814073258,1.3654427367610558,-0.271962452163509,2.829048400648285,-1.5715008492189553,0.6283323433296785,-1.0793068878696275,-0.15844479004020343,0.8587971878564065,0.5764667885644545,0.9397288711189419,-0.15448393557329368,3.07968864352723,1.0976043277248069,-1.3089327851984713,0.8206017422675997,-1.3032919849740479,-0.8223964470464178,-0.2543491886241915,1.1846319727049852,0.7679837454707548,-0.8615182291637286,-0.6075869606066855,-1.3998702077377003,0.7381340925678403,-1.8977211684787225,0.9311758883110728,2.0659994455191395,0.0231704230577431,-0.2003931331560611,-0.38111563089727896,0.5896799526226871,0.8121399897995402,-1.8730245860709724,-1.6570520845680916,1.8979142646255878,0.43910370520399233,1.4317474680076265,-0.5102289654933749,-0.1572381836114604,-2.00318650223944,-2.081496816065353,-1.2102368481440318,2.1166529674062575,1.9839170993997932,-1.8463999561335342,0.6604605687923712,1.5103046521545658,0.9207957180610077,0.4383762192430872,-0.52769497075163,-0.43794032624613954,1.0516199563487707,-0.19869038457972135,0.08290372885059079,-1.1383977782789858,-0.48052730583796555],\"xaxis\":\"x4\",\"y\":[-0.36786982851319505,-0.8139460136439768,-1.2728002553624609,-0.16742849267659557,0.2568812060873537,1.7412616989824088,-1.5621264209503618,-0.9716442807368325,0.18120238038652076,-0.45624359436676554,0.4192093729134039,-1.7537622507026116,-0.6760570885254076,1.2315472502842275,1.344721140948013,1.5308498457246777,0.0811757384905562,-0.07056372644932463,-0.4096182151163972,-0.18810476194808798,-0.6888845471082019,0.1787949634688186,-0.6326159497145163,1.3665080793470559,-1.264100708338595,0.5654737427593445,-0.6314385446664598,0.7959791813286821,1.5209648447798207,0.011053102554344277,0.0575177083012101,2.1146701003920465,0.6844826246908693,-1.1059174909427503,0.36088615768745663,-0.9196362508572212,2.413895200230858,0.36847160558729464,1.5555526138790137,0.27533952277220874,0.5128093807287213,-0.36109803744274055,-0.2245813865447435,-1.3929369067023898,-1.7149219010602588,-0.06436773582098293,0.705890363747037,0.8834346495884103,-1.2819697508145063,1.0211868852886536,0.09444081962493833,0.9936925290527405,-0.24805292015688082,-0.38975442643515745,0.13162173026208018,-2.0904123249582196,-0.3638188904525045,1.5945900934580928,0.7833673844256537,0.2957653201178533,-0.420979774187367,-0.3033766512810295,-0.2359411997474931,-0.4555954179187365,0.5506480905045086,-0.613326940080486,-1.1439066960853865,0.49946364909654484,0.1921167231914247,-1.5000415223098764,-0.5242457354730988,-0.12933767299748697,-1.1800277618914492,0.9604362518828048,-1.3716897691557939,-0.9103137466615401,1.21475681850616,-1.2309199307746803,0.7560338475782938,1.076852768980497,-0.04882792274589524,-0.7653859453081738,-1.2279318521344766,-0.4210661832352774,-0.5586350407050273,-0.721991107436455,0.9659154488762632,1.2182790903319993,-1.3690372725967028,-1.3587655905835527,0.515290847414008,1.0695484930182528,-1.3380019043323563,-1.216940120335792,1.0947929024669336,0.23884071328995005,-0.45823390270079395,1.4792255439209159,-1.3118290643991475,-1.172534065870987],\"yaxis\":\"y4\",\"type\":\"scatter\"},{\"line\":{\"color\":\"rgba(128, 128, 128, 1.0)\",\"dash\":\"solid\",\"shape\":\"linear\",\"width\":1.3},\"marker\":{\"size\":2,\"symbol\":\"circle\"},\"mode\":\"markers\",\"name\":\"B\",\"text\":\"\",\"x\":[-0.36786982851319505,-0.8139460136439768,-1.2728002553624609,-0.16742849267659557,0.2568812060873537,1.7412616989824088,-1.5621264209503618,-0.9716442807368325,0.18120238038652076,-0.45624359436676554,0.4192093729134039,-1.7537622507026116,-0.6760570885254076,1.2315472502842275,1.344721140948013,1.5308498457246777,0.0811757384905562,-0.07056372644932463,-0.4096182151163972,-0.18810476194808798,-0.6888845471082019,0.1787949634688186,-0.6326159497145163,1.3665080793470559,-1.264100708338595,0.5654737427593445,-0.6314385446664598,0.7959791813286821,1.5209648447798207,0.011053102554344277,0.0575177083012101,2.1146701003920465,0.6844826246908693,-1.1059174909427503,0.36088615768745663,-0.9196362508572212,2.413895200230858,0.36847160558729464,1.5555526138790137,0.27533952277220874,0.5128093807287213,-0.36109803744274055,-0.2245813865447435,-1.3929369067023898,-1.7149219010602588,-0.06436773582098293,0.705890363747037,0.8834346495884103,-1.2819697508145063,1.0211868852886536,0.09444081962493833,0.9936925290527405,-0.24805292015688082,-0.38975442643515745,0.13162173026208018,-2.0904123249582196,-0.3638188904525045,1.5945900934580928,0.7833673844256537,0.2957653201178533,-0.420979774187367,-0.3033766512810295,-0.2359411997474931,-0.4555954179187365,0.5506480905045086,-0.613326940080486,-1.1439066960853865,0.49946364909654484,0.1921167231914247,-1.5000415223098764,-0.5242457354730988,-0.12933767299748697,-1.1800277618914492,0.9604362518828048,-1.3716897691557939,-0.9103137466615401,1.21475681850616,-1.2309199307746803,0.7560338475782938,1.076852768980497,-0.04882792274589524,-0.7653859453081738,-1.2279318521344766,-0.4210661832352774,-0.5586350407050273,-0.721991107436455,0.9659154488762632,1.2182790903319993,-1.3690372725967028,-1.3587655905835527,0.515290847414008,1.0695484930182528,-1.3380019043323563,-1.216940120335792,1.0947929024669336,0.23884071328995005,-0.45823390270079395,1.4792255439209159,-1.3118290643991475,-1.172534065870987],\"xaxis\":\"x5\",\"y\":[0.1819819126791729,-0.7690504649458737,0.4146966578943233,0.735872368805637,0.8669917218711843,2.1748617101751,1.2318371866263211,0.16427863005281082,-0.7516033269630648,-0.059540090628032005,-0.012899474698968688,1.7520395134071642,-0.01591686529266641,-1.30737693706392,0.31469596302611313,0.0006447044677048574,-0.7695973642700286,-1.588439968194205,0.5132563588699779,-0.4166594400416099,0.654191318124905,1.538197099799716,-0.9734425150447913,-1.346122715368668,-0.3594077404233946,1.7299228793641566,2.1101164566449864,-0.9413070230386088,0.013584305821453655,-0.2281718487132733,1.6031139424787848,0.6043596490108111,0.6197173644455335,0.22320795650902636,3.348229272407328,0.7701779183439242,1.8000414301434686,-1.4159099794566452,-0.4371479314457633,-0.2147748488950862,-0.6812616180720111,0.6879337962777717,0.15289137723322704,-0.6636384766790288,0.9087932907473223,0.13219355583100664,0.6622465833842975,-0.5583410998398035,-0.24485904679848086,-0.4643834042131067,-2.2419875725888185,0.8278854578464298,0.20176407293093973,-1.3934247465283838,1.1134336391437878,-1.6334405533394345,1.3236953777109324,0.5224675986838716,-0.58959784704781,1.4586033556318427,0.9083302010742899,1.720992224059844,-1.889437228043027,1.465208342151267,0.45166524739808955,-0.02542207128711079,0.28324402331732385,-0.49926804861875734,0.3895796831658555,-0.3266481370656572,-2.1620324688740515,-0.4198106606771507,-0.41366740287377785,-0.584281831740891,-1.8799488990110838,1.0867735776383765,0.04134940253602887,-0.5192131068274868,-0.3308715980802985,0.5820619125965684,-0.3296740677753678,-0.7694843154746899,0.3974786425028931,-0.09690329212432874,0.2848301613145788,0.19226842929502952,-0.8350478382165045,0.30326140879933705,0.684022961660779,-0.5307381409250069,1.1163236404658101,-0.018062703200621047,1.1463717068725314,0.9530289674340827,-1.389032278301572,-0.7532835443706728,1.0060298398741725,-0.1675034739802897,-1.0888384951742667,-1.6766035427580728],\"yaxis\":\"y5\",\"type\":\"scatter\"},{\"histfunc\":\"count\",\"histnorm\":\"\",\"marker\":{\"color\":\"rgba(55, 128, 191, 1.0)\",\"line\":{\"color\":\"#4D5663\",\"width\":1.3}},\"name\":\"B\",\"nbinsx\":10,\"opacity\":0.8,\"orientation\":\"v\",\"x\":[0.1819819126791729,-0.7690504649458737,0.4146966578943233,0.735872368805637,0.8669917218711843,2.1748617101751,1.2318371866263211,0.16427863005281082,-0.7516033269630648,-0.059540090628032005,-0.012899474698968688,1.7520395134071642,-0.01591686529266641,-1.30737693706392,0.31469596302611313,0.0006447044677048574,-0.7695973642700286,-1.588439968194205,0.5132563588699779,-0.4166594400416099,0.654191318124905,1.538197099799716,-0.9734425150447913,-1.346122715368668,-0.3594077404233946,1.7299228793641566,2.1101164566449864,-0.9413070230386088,0.013584305821453655,-0.2281718487132733,1.6031139424787848,0.6043596490108111,0.6197173644455335,0.22320795650902636,3.348229272407328,0.7701779183439242,1.8000414301434686,-1.4159099794566452,-0.4371479314457633,-0.2147748488950862,-0.6812616180720111,0.6879337962777717,0.15289137723322704,-0.6636384766790288,0.9087932907473223,0.13219355583100664,0.6622465833842975,-0.5583410998398035,-0.24485904679848086,-0.4643834042131067,-2.2419875725888185,0.8278854578464298,0.20176407293093973,-1.3934247465283838,1.1134336391437878,-1.6334405533394345,1.3236953777109324,0.5224675986838716,-0.58959784704781,1.4586033556318427,0.9083302010742899,1.720992224059844,-1.889437228043027,1.465208342151267,0.45166524739808955,-0.02542207128711079,0.28324402331732385,-0.49926804861875734,0.3895796831658555,-0.3266481370656572,-2.1620324688740515,-0.4198106606771507,-0.41366740287377785,-0.584281831740891,-1.8799488990110838,1.0867735776383765,0.04134940253602887,-0.5192131068274868,-0.3308715980802985,0.5820619125965684,-0.3296740677753678,-0.7694843154746899,0.3974786425028931,-0.09690329212432874,0.2848301613145788,0.19226842929502952,-0.8350478382165045,0.30326140879933705,0.684022961660779,-0.5307381409250069,1.1163236404658101,-0.018062703200621047,1.1463717068725314,0.9530289674340827,-1.389032278301572,-0.7532835443706728,1.0060298398741725,-0.1675034739802897,-1.0888384951742667,-1.6766035427580728],\"xaxis\":\"x6\",\"yaxis\":\"y6\",\"type\":\"histogram\"},{\"line\":{\"color\":\"rgba(128, 128, 128, 1.0)\",\"dash\":\"solid\",\"shape\":\"linear\",\"width\":1.3},\"marker\":{\"size\":2,\"symbol\":\"circle\"},\"mode\":\"markers\",\"name\":\"B\",\"text\":\"\",\"x\":[-1.4501499176238284,1.2147342646055934,-2.2320632406818968,0.5288614482094521,-0.7923631571477707,1.290152637261051,0.09681485082390709,0.04799729256878894,-1.8064399416236632,2.187824560601332,0.4123294737821514,0.3601272214313341,1.0720094383462198,-1.1892914798431156,0.7742383731348873,-0.22995290417660325,-0.917634296873175,-0.06806038058954045,1.0427254105710442,0.31736066412983266,-0.8325389579176342,0.7957438074276335,0.23255822850011593,-0.6863885375642695,0.043343946526299686,1.2172015503062825,-0.2470060194626241,0.37683390140714784,2.505842798487505,-0.5259679626174164,0.2853402845379173,0.3156871732888629,0.10638962575278862,-0.8657201035243177,0.29266951190392276,-1.7380647536708604,0.18782625251604115,1.465198206237717,1.1610434636791065,-1.334362239953306,0.369024851642638,0.14515244115547685,-0.29014039113482143,-2.205901079924097,-0.6297735763673113,1.9877309156869238,0.823832968268731,0.7016979495915034,1.2066655705165814,0.2949871564280679,-0.11074637656860796,-0.04829986443696068,-0.9492371718966309,-0.04598828116047178,1.317414045898286,0.7921576306116995,0.894667808316204,-1.6150478689813692,-0.5940807796373015,-0.7412884371177434,0.1023608375806466,0.05025887745365847,0.8520086743610449,-0.3765601146251717,2.2387167009652646,-0.27404779894661974,0.12483982490399333,-0.2551727698413939,-0.17307935010980668,-0.5033562099539954,1.3635797430486931,1.9772609093458402,-0.2712236950918055,-0.4443352105952831,-0.46825626749069255,0.8143661350579154,0.3275799770626893,1.2449753554248213,1.794382912517284,0.7918194475072394,-1.063346848381665,1.3617171908817822,-0.2949021246137668,-1.5839217903941474,0.6432012345243522,0.0779454547877543,-2.0164228752506776,0.3949702263292559,-1.0297657444417474,0.34227323404988436,-0.23294988309675202,0.9862003850301045,0.7740444778929897,0.1163260790363663,1.6712226662539906,-0.8250581385511181,-0.7971349736565512,0.6621647370964951,0.037237436378091265,-1.7434152646720051],\"xaxis\":\"x7\",\"y\":[0.1819819126791729,-0.7690504649458737,0.4146966578943233,0.735872368805637,0.8669917218711843,2.1748617101751,1.2318371866263211,0.16427863005281082,-0.7516033269630648,-0.059540090628032005,-0.012899474698968688,1.7520395134071642,-0.01591686529266641,-1.30737693706392,0.31469596302611313,0.0006447044677048574,-0.7695973642700286,-1.588439968194205,0.5132563588699779,-0.4166594400416099,0.654191318124905,1.538197099799716,-0.9734425150447913,-1.346122715368668,-0.3594077404233946,1.7299228793641566,2.1101164566449864,-0.9413070230386088,0.013584305821453655,-0.2281718487132733,1.6031139424787848,0.6043596490108111,0.6197173644455335,0.22320795650902636,3.348229272407328,0.7701779183439242,1.8000414301434686,-1.4159099794566452,-0.4371479314457633,-0.2147748488950862,-0.6812616180720111,0.6879337962777717,0.15289137723322704,-0.6636384766790288,0.9087932907473223,0.13219355583100664,0.6622465833842975,-0.5583410998398035,-0.24485904679848086,-0.4643834042131067,-2.2419875725888185,0.8278854578464298,0.20176407293093973,-1.3934247465283838,1.1134336391437878,-1.6334405533394345,1.3236953777109324,0.5224675986838716,-0.58959784704781,1.4586033556318427,0.9083302010742899,1.720992224059844,-1.889437228043027,1.465208342151267,0.45166524739808955,-0.02542207128711079,0.28324402331732385,-0.49926804861875734,0.3895796831658555,-0.3266481370656572,-2.1620324688740515,-0.4198106606771507,-0.41366740287377785,-0.584281831740891,-1.8799488990110838,1.0867735776383765,0.04134940253602887,-0.5192131068274868,-0.3308715980802985,0.5820619125965684,-0.3296740677753678,-0.7694843154746899,0.3974786425028931,-0.09690329212432874,0.2848301613145788,0.19226842929502952,-0.8350478382165045,0.30326140879933705,0.684022961660779,-0.5307381409250069,1.1163236404658101,-0.018062703200621047,1.1463717068725314,0.9530289674340827,-1.389032278301572,-0.7532835443706728,1.0060298398741725,-0.1675034739802897,-1.0888384951742667,-1.6766035427580728],\"yaxis\":\"y7\",\"type\":\"scatter\"},{\"line\":{\"color\":\"rgba(128, 128, 128, 1.0)\",\"dash\":\"solid\",\"shape\":\"linear\",\"width\":1.3},\"marker\":{\"size\":2,\"symbol\":\"circle\"},\"mode\":\"markers\",\"name\":\"B\",\"text\":\"\",\"x\":[0.14136334630353126,-0.17342762086983968,0.2778429373168999,-1.0838065078095411,1.6789960290811619,0.03239885200774485,0.527368976631621,-0.973348655563232,0.6559878156491874,-1.5573184349424796,-1.5521905617494114,-0.32070490506708366,0.834808587713665,-1.3901833373378998,-0.05133705113847309,1.3661849525000556,-2.7387361439318973,-0.3757232505829336,0.2499343158732975,1.8862587962068342,0.32289878592178395,-0.026021454186353033,-0.7832038758557757,-1.7854026358015214,-0.9886418883728615,1.172840007758469,-0.6927351482391241,-0.7512055028688523,-0.31995176221135685,-0.030323406278298524,-0.2686900984164055,0.9141296554884962,0.49804763584656436,0.6213893862842278,-0.888680812057349,0.9544035678121067,-1.4446924908742282,0.5823808825457056,0.4656734840334705,-1.2426824026541052,0.9554109752437391,-1.0526207634228548,0.9279632720655048,0.08683464814073258,1.3654427367610558,-0.271962452163509,2.829048400648285,-1.5715008492189553,0.6283323433296785,-1.0793068878696275,-0.15844479004020343,0.8587971878564065,0.5764667885644545,0.9397288711189419,-0.15448393557329368,3.07968864352723,1.0976043277248069,-1.3089327851984713,0.8206017422675997,-1.3032919849740479,-0.8223964470464178,-0.2543491886241915,1.1846319727049852,0.7679837454707548,-0.8615182291637286,-0.6075869606066855,-1.3998702077377003,0.7381340925678403,-1.8977211684787225,0.9311758883110728,2.0659994455191395,0.0231704230577431,-0.2003931331560611,-0.38111563089727896,0.5896799526226871,0.8121399897995402,-1.8730245860709724,-1.6570520845680916,1.8979142646255878,0.43910370520399233,1.4317474680076265,-0.5102289654933749,-0.1572381836114604,-2.00318650223944,-2.081496816065353,-1.2102368481440318,2.1166529674062575,1.9839170993997932,-1.8463999561335342,0.6604605687923712,1.5103046521545658,0.9207957180610077,0.4383762192430872,-0.52769497075163,-0.43794032624613954,1.0516199563487707,-0.19869038457972135,0.08290372885059079,-1.1383977782789858,-0.48052730583796555],\"xaxis\":\"x8\",\"y\":[0.1819819126791729,-0.7690504649458737,0.4146966578943233,0.735872368805637,0.8669917218711843,2.1748617101751,1.2318371866263211,0.16427863005281082,-0.7516033269630648,-0.059540090628032005,-0.012899474698968688,1.7520395134071642,-0.01591686529266641,-1.30737693706392,0.31469596302611313,0.0006447044677048574,-0.7695973642700286,-1.588439968194205,0.5132563588699779,-0.4166594400416099,0.654191318124905,1.538197099799716,-0.9734425150447913,-1.346122715368668,-0.3594077404233946,1.7299228793641566,2.1101164566449864,-0.9413070230386088,0.013584305821453655,-0.2281718487132733,1.6031139424787848,0.6043596490108111,0.6197173644455335,0.22320795650902636,3.348229272407328,0.7701779183439242,1.8000414301434686,-1.4159099794566452,-0.4371479314457633,-0.2147748488950862,-0.6812616180720111,0.6879337962777717,0.15289137723322704,-0.6636384766790288,0.9087932907473223,0.13219355583100664,0.6622465833842975,-0.5583410998398035,-0.24485904679848086,-0.4643834042131067,-2.2419875725888185,0.8278854578464298,0.20176407293093973,-1.3934247465283838,1.1134336391437878,-1.6334405533394345,1.3236953777109324,0.5224675986838716,-0.58959784704781,1.4586033556318427,0.9083302010742899,1.720992224059844,-1.889437228043027,1.465208342151267,0.45166524739808955,-0.02542207128711079,0.28324402331732385,-0.49926804861875734,0.3895796831658555,-0.3266481370656572,-2.1620324688740515,-0.4198106606771507,-0.41366740287377785,-0.584281831740891,-1.8799488990110838,1.0867735776383765,0.04134940253602887,-0.5192131068274868,-0.3308715980802985,0.5820619125965684,-0.3296740677753678,-0.7694843154746899,0.3974786425028931,-0.09690329212432874,0.2848301613145788,0.19226842929502952,-0.8350478382165045,0.30326140879933705,0.684022961660779,-0.5307381409250069,1.1163236404658101,-0.018062703200621047,1.1463717068725314,0.9530289674340827,-1.389032278301572,-0.7532835443706728,1.0060298398741725,-0.1675034739802897,-1.0888384951742667,-1.6766035427580728],\"yaxis\":\"y8\",\"type\":\"scatter\"},{\"line\":{\"color\":\"rgba(128, 128, 128, 1.0)\",\"dash\":\"solid\",\"shape\":\"linear\",\"width\":1.3},\"marker\":{\"size\":2,\"symbol\":\"circle\"},\"mode\":\"markers\",\"name\":\"C\",\"text\":\"\",\"x\":[-0.36786982851319505,-0.8139460136439768,-1.2728002553624609,-0.16742849267659557,0.2568812060873537,1.7412616989824088,-1.5621264209503618,-0.9716442807368325,0.18120238038652076,-0.45624359436676554,0.4192093729134039,-1.7537622507026116,-0.6760570885254076,1.2315472502842275,1.344721140948013,1.5308498457246777,0.0811757384905562,-0.07056372644932463,-0.4096182151163972,-0.18810476194808798,-0.6888845471082019,0.1787949634688186,-0.6326159497145163,1.3665080793470559,-1.264100708338595,0.5654737427593445,-0.6314385446664598,0.7959791813286821,1.5209648447798207,0.011053102554344277,0.0575177083012101,2.1146701003920465,0.6844826246908693,-1.1059174909427503,0.36088615768745663,-0.9196362508572212,2.413895200230858,0.36847160558729464,1.5555526138790137,0.27533952277220874,0.5128093807287213,-0.36109803744274055,-0.2245813865447435,-1.3929369067023898,-1.7149219010602588,-0.06436773582098293,0.705890363747037,0.8834346495884103,-1.2819697508145063,1.0211868852886536,0.09444081962493833,0.9936925290527405,-0.24805292015688082,-0.38975442643515745,0.13162173026208018,-2.0904123249582196,-0.3638188904525045,1.5945900934580928,0.7833673844256537,0.2957653201178533,-0.420979774187367,-0.3033766512810295,-0.2359411997474931,-0.4555954179187365,0.5506480905045086,-0.613326940080486,-1.1439066960853865,0.49946364909654484,0.1921167231914247,-1.5000415223098764,-0.5242457354730988,-0.12933767299748697,-1.1800277618914492,0.9604362518828048,-1.3716897691557939,-0.9103137466615401,1.21475681850616,-1.2309199307746803,0.7560338475782938,1.076852768980497,-0.04882792274589524,-0.7653859453081738,-1.2279318521344766,-0.4210661832352774,-0.5586350407050273,-0.721991107436455,0.9659154488762632,1.2182790903319993,-1.3690372725967028,-1.3587655905835527,0.515290847414008,1.0695484930182528,-1.3380019043323563,-1.216940120335792,1.0947929024669336,0.23884071328995005,-0.45823390270079395,1.4792255439209159,-1.3118290643991475,-1.172534065870987],\"xaxis\":\"x9\",\"y\":[-1.4501499176238284,1.2147342646055934,-2.2320632406818968,0.5288614482094521,-0.7923631571477707,1.290152637261051,0.09681485082390709,0.04799729256878894,-1.8064399416236632,2.187824560601332,0.4123294737821514,0.3601272214313341,1.0720094383462198,-1.1892914798431156,0.7742383731348873,-0.22995290417660325,-0.917634296873175,-0.06806038058954045,1.0427254105710442,0.31736066412983266,-0.8325389579176342,0.7957438074276335,0.23255822850011593,-0.6863885375642695,0.043343946526299686,1.2172015503062825,-0.2470060194626241,0.37683390140714784,2.505842798487505,-0.5259679626174164,0.2853402845379173,0.3156871732888629,0.10638962575278862,-0.8657201035243177,0.29266951190392276,-1.7380647536708604,0.18782625251604115,1.465198206237717,1.1610434636791065,-1.334362239953306,0.369024851642638,0.14515244115547685,-0.29014039113482143,-2.205901079924097,-0.6297735763673113,1.9877309156869238,0.823832968268731,0.7016979495915034,1.2066655705165814,0.2949871564280679,-0.11074637656860796,-0.04829986443696068,-0.9492371718966309,-0.04598828116047178,1.317414045898286,0.7921576306116995,0.894667808316204,-1.6150478689813692,-0.5940807796373015,-0.7412884371177434,0.1023608375806466,0.05025887745365847,0.8520086743610449,-0.3765601146251717,2.2387167009652646,-0.27404779894661974,0.12483982490399333,-0.2551727698413939,-0.17307935010980668,-0.5033562099539954,1.3635797430486931,1.9772609093458402,-0.2712236950918055,-0.4443352105952831,-0.46825626749069255,0.8143661350579154,0.3275799770626893,1.2449753554248213,1.794382912517284,0.7918194475072394,-1.063346848381665,1.3617171908817822,-0.2949021246137668,-1.5839217903941474,0.6432012345243522,0.0779454547877543,-2.0164228752506776,0.3949702263292559,-1.0297657444417474,0.34227323404988436,-0.23294988309675202,0.9862003850301045,0.7740444778929897,0.1163260790363663,1.6712226662539906,-0.8250581385511181,-0.7971349736565512,0.6621647370964951,0.037237436378091265,-1.7434152646720051],\"yaxis\":\"y9\",\"type\":\"scatter\"},{\"line\":{\"color\":\"rgba(128, 128, 128, 1.0)\",\"dash\":\"solid\",\"shape\":\"linear\",\"width\":1.3},\"marker\":{\"size\":2,\"symbol\":\"circle\"},\"mode\":\"markers\",\"name\":\"C\",\"text\":\"\",\"x\":[0.1819819126791729,-0.7690504649458737,0.4146966578943233,0.735872368805637,0.8669917218711843,2.1748617101751,1.2318371866263211,0.16427863005281082,-0.7516033269630648,-0.059540090628032005,-0.012899474698968688,1.7520395134071642,-0.01591686529266641,-1.30737693706392,0.31469596302611313,0.0006447044677048574,-0.7695973642700286,-1.588439968194205,0.5132563588699779,-0.4166594400416099,0.654191318124905,1.538197099799716,-0.9734425150447913,-1.346122715368668,-0.3594077404233946,1.7299228793641566,2.1101164566449864,-0.9413070230386088,0.013584305821453655,-0.2281718487132733,1.6031139424787848,0.6043596490108111,0.6197173644455335,0.22320795650902636,3.348229272407328,0.7701779183439242,1.8000414301434686,-1.4159099794566452,-0.4371479314457633,-0.2147748488950862,-0.6812616180720111,0.6879337962777717,0.15289137723322704,-0.6636384766790288,0.9087932907473223,0.13219355583100664,0.6622465833842975,-0.5583410998398035,-0.24485904679848086,-0.4643834042131067,-2.2419875725888185,0.8278854578464298,0.20176407293093973,-1.3934247465283838,1.1134336391437878,-1.6334405533394345,1.3236953777109324,0.5224675986838716,-0.58959784704781,1.4586033556318427,0.9083302010742899,1.720992224059844,-1.889437228043027,1.465208342151267,0.45166524739808955,-0.02542207128711079,0.28324402331732385,-0.49926804861875734,0.3895796831658555,-0.3266481370656572,-2.1620324688740515,-0.4198106606771507,-0.41366740287377785,-0.584281831740891,-1.8799488990110838,1.0867735776383765,0.04134940253602887,-0.5192131068274868,-0.3308715980802985,0.5820619125965684,-0.3296740677753678,-0.7694843154746899,0.3974786425028931,-0.09690329212432874,0.2848301613145788,0.19226842929502952,-0.8350478382165045,0.30326140879933705,0.684022961660779,-0.5307381409250069,1.1163236404658101,-0.018062703200621047,1.1463717068725314,0.9530289674340827,-1.389032278301572,-0.7532835443706728,1.0060298398741725,-0.1675034739802897,-1.0888384951742667,-1.6766035427580728],\"xaxis\":\"x10\",\"y\":[-1.4501499176238284,1.2147342646055934,-2.2320632406818968,0.5288614482094521,-0.7923631571477707,1.290152637261051,0.09681485082390709,0.04799729256878894,-1.8064399416236632,2.187824560601332,0.4123294737821514,0.3601272214313341,1.0720094383462198,-1.1892914798431156,0.7742383731348873,-0.22995290417660325,-0.917634296873175,-0.06806038058954045,1.0427254105710442,0.31736066412983266,-0.8325389579176342,0.7957438074276335,0.23255822850011593,-0.6863885375642695,0.043343946526299686,1.2172015503062825,-0.2470060194626241,0.37683390140714784,2.505842798487505,-0.5259679626174164,0.2853402845379173,0.3156871732888629,0.10638962575278862,-0.8657201035243177,0.29266951190392276,-1.7380647536708604,0.18782625251604115,1.465198206237717,1.1610434636791065,-1.334362239953306,0.369024851642638,0.14515244115547685,-0.29014039113482143,-2.205901079924097,-0.6297735763673113,1.9877309156869238,0.823832968268731,0.7016979495915034,1.2066655705165814,0.2949871564280679,-0.11074637656860796,-0.04829986443696068,-0.9492371718966309,-0.04598828116047178,1.317414045898286,0.7921576306116995,0.894667808316204,-1.6150478689813692,-0.5940807796373015,-0.7412884371177434,0.1023608375806466,0.05025887745365847,0.8520086743610449,-0.3765601146251717,2.2387167009652646,-0.27404779894661974,0.12483982490399333,-0.2551727698413939,-0.17307935010980668,-0.5033562099539954,1.3635797430486931,1.9772609093458402,-0.2712236950918055,-0.4443352105952831,-0.46825626749069255,0.8143661350579154,0.3275799770626893,1.2449753554248213,1.794382912517284,0.7918194475072394,-1.063346848381665,1.3617171908817822,-0.2949021246137668,-1.5839217903941474,0.6432012345243522,0.0779454547877543,-2.0164228752506776,0.3949702263292559,-1.0297657444417474,0.34227323404988436,-0.23294988309675202,0.9862003850301045,0.7740444778929897,0.1163260790363663,1.6712226662539906,-0.8250581385511181,-0.7971349736565512,0.6621647370964951,0.037237436378091265,-1.7434152646720051],\"yaxis\":\"y10\",\"type\":\"scatter\"},{\"histfunc\":\"count\",\"histnorm\":\"\",\"marker\":{\"color\":\"rgba(50, 171, 96, 1.0)\",\"line\":{\"color\":\"#4D5663\",\"width\":1.3}},\"name\":\"C\",\"nbinsx\":10,\"opacity\":0.8,\"orientation\":\"v\",\"x\":[-1.4501499176238284,1.2147342646055934,-2.2320632406818968,0.5288614482094521,-0.7923631571477707,1.290152637261051,0.09681485082390709,0.04799729256878894,-1.8064399416236632,2.187824560601332,0.4123294737821514,0.3601272214313341,1.0720094383462198,-1.1892914798431156,0.7742383731348873,-0.22995290417660325,-0.917634296873175,-0.06806038058954045,1.0427254105710442,0.31736066412983266,-0.8325389579176342,0.7957438074276335,0.23255822850011593,-0.6863885375642695,0.043343946526299686,1.2172015503062825,-0.2470060194626241,0.37683390140714784,2.505842798487505,-0.5259679626174164,0.2853402845379173,0.3156871732888629,0.10638962575278862,-0.8657201035243177,0.29266951190392276,-1.7380647536708604,0.18782625251604115,1.465198206237717,1.1610434636791065,-1.334362239953306,0.369024851642638,0.14515244115547685,-0.29014039113482143,-2.205901079924097,-0.6297735763673113,1.9877309156869238,0.823832968268731,0.7016979495915034,1.2066655705165814,0.2949871564280679,-0.11074637656860796,-0.04829986443696068,-0.9492371718966309,-0.04598828116047178,1.317414045898286,0.7921576306116995,0.894667808316204,-1.6150478689813692,-0.5940807796373015,-0.7412884371177434,0.1023608375806466,0.05025887745365847,0.8520086743610449,-0.3765601146251717,2.2387167009652646,-0.27404779894661974,0.12483982490399333,-0.2551727698413939,-0.17307935010980668,-0.5033562099539954,1.3635797430486931,1.9772609093458402,-0.2712236950918055,-0.4443352105952831,-0.46825626749069255,0.8143661350579154,0.3275799770626893,1.2449753554248213,1.794382912517284,0.7918194475072394,-1.063346848381665,1.3617171908817822,-0.2949021246137668,-1.5839217903941474,0.6432012345243522,0.0779454547877543,-2.0164228752506776,0.3949702263292559,-1.0297657444417474,0.34227323404988436,-0.23294988309675202,0.9862003850301045,0.7740444778929897,0.1163260790363663,1.6712226662539906,-0.8250581385511181,-0.7971349736565512,0.6621647370964951,0.037237436378091265,-1.7434152646720051],\"xaxis\":\"x11\",\"yaxis\":\"y11\",\"type\":\"histogram\"},{\"line\":{\"color\":\"rgba(128, 128, 128, 1.0)\",\"dash\":\"solid\",\"shape\":\"linear\",\"width\":1.3},\"marker\":{\"size\":2,\"symbol\":\"circle\"},\"mode\":\"markers\",\"name\":\"C\",\"text\":\"\",\"x\":[0.14136334630353126,-0.17342762086983968,0.2778429373168999,-1.0838065078095411,1.6789960290811619,0.03239885200774485,0.527368976631621,-0.973348655563232,0.6559878156491874,-1.5573184349424796,-1.5521905617494114,-0.32070490506708366,0.834808587713665,-1.3901833373378998,-0.05133705113847309,1.3661849525000556,-2.7387361439318973,-0.3757232505829336,0.2499343158732975,1.8862587962068342,0.32289878592178395,-0.026021454186353033,-0.7832038758557757,-1.7854026358015214,-0.9886418883728615,1.172840007758469,-0.6927351482391241,-0.7512055028688523,-0.31995176221135685,-0.030323406278298524,-0.2686900984164055,0.9141296554884962,0.49804763584656436,0.6213893862842278,-0.888680812057349,0.9544035678121067,-1.4446924908742282,0.5823808825457056,0.4656734840334705,-1.2426824026541052,0.9554109752437391,-1.0526207634228548,0.9279632720655048,0.08683464814073258,1.3654427367610558,-0.271962452163509,2.829048400648285,-1.5715008492189553,0.6283323433296785,-1.0793068878696275,-0.15844479004020343,0.8587971878564065,0.5764667885644545,0.9397288711189419,-0.15448393557329368,3.07968864352723,1.0976043277248069,-1.3089327851984713,0.8206017422675997,-1.3032919849740479,-0.8223964470464178,-0.2543491886241915,1.1846319727049852,0.7679837454707548,-0.8615182291637286,-0.6075869606066855,-1.3998702077377003,0.7381340925678403,-1.8977211684787225,0.9311758883110728,2.0659994455191395,0.0231704230577431,-0.2003931331560611,-0.38111563089727896,0.5896799526226871,0.8121399897995402,-1.8730245860709724,-1.6570520845680916,1.8979142646255878,0.43910370520399233,1.4317474680076265,-0.5102289654933749,-0.1572381836114604,-2.00318650223944,-2.081496816065353,-1.2102368481440318,2.1166529674062575,1.9839170993997932,-1.8463999561335342,0.6604605687923712,1.5103046521545658,0.9207957180610077,0.4383762192430872,-0.52769497075163,-0.43794032624613954,1.0516199563487707,-0.19869038457972135,0.08290372885059079,-1.1383977782789858,-0.48052730583796555],\"xaxis\":\"x12\",\"y\":[-1.4501499176238284,1.2147342646055934,-2.2320632406818968,0.5288614482094521,-0.7923631571477707,1.290152637261051,0.09681485082390709,0.04799729256878894,-1.8064399416236632,2.187824560601332,0.4123294737821514,0.3601272214313341,1.0720094383462198,-1.1892914798431156,0.7742383731348873,-0.22995290417660325,-0.917634296873175,-0.06806038058954045,1.0427254105710442,0.31736066412983266,-0.8325389579176342,0.7957438074276335,0.23255822850011593,-0.6863885375642695,0.043343946526299686,1.2172015503062825,-0.2470060194626241,0.37683390140714784,2.505842798487505,-0.5259679626174164,0.2853402845379173,0.3156871732888629,0.10638962575278862,-0.8657201035243177,0.29266951190392276,-1.7380647536708604,0.18782625251604115,1.465198206237717,1.1610434636791065,-1.334362239953306,0.369024851642638,0.14515244115547685,-0.29014039113482143,-2.205901079924097,-0.6297735763673113,1.9877309156869238,0.823832968268731,0.7016979495915034,1.2066655705165814,0.2949871564280679,-0.11074637656860796,-0.04829986443696068,-0.9492371718966309,-0.04598828116047178,1.317414045898286,0.7921576306116995,0.894667808316204,-1.6150478689813692,-0.5940807796373015,-0.7412884371177434,0.1023608375806466,0.05025887745365847,0.8520086743610449,-0.3765601146251717,2.2387167009652646,-0.27404779894661974,0.12483982490399333,-0.2551727698413939,-0.17307935010980668,-0.5033562099539954,1.3635797430486931,1.9772609093458402,-0.2712236950918055,-0.4443352105952831,-0.46825626749069255,0.8143661350579154,0.3275799770626893,1.2449753554248213,1.794382912517284,0.7918194475072394,-1.063346848381665,1.3617171908817822,-0.2949021246137668,-1.5839217903941474,0.6432012345243522,0.0779454547877543,-2.0164228752506776,0.3949702263292559,-1.0297657444417474,0.34227323404988436,-0.23294988309675202,0.9862003850301045,0.7740444778929897,0.1163260790363663,1.6712226662539906,-0.8250581385511181,-0.7971349736565512,0.6621647370964951,0.037237436378091265,-1.7434152646720051],\"yaxis\":\"y12\",\"type\":\"scatter\"},{\"line\":{\"color\":\"rgba(128, 128, 128, 1.0)\",\"dash\":\"solid\",\"shape\":\"linear\",\"width\":1.3},\"marker\":{\"size\":2,\"symbol\":\"circle\"},\"mode\":\"markers\",\"name\":\"D\",\"text\":\"\",\"x\":[-0.36786982851319505,-0.8139460136439768,-1.2728002553624609,-0.16742849267659557,0.2568812060873537,1.7412616989824088,-1.5621264209503618,-0.9716442807368325,0.18120238038652076,-0.45624359436676554,0.4192093729134039,-1.7537622507026116,-0.6760570885254076,1.2315472502842275,1.344721140948013,1.5308498457246777,0.0811757384905562,-0.07056372644932463,-0.4096182151163972,-0.18810476194808798,-0.6888845471082019,0.1787949634688186,-0.6326159497145163,1.3665080793470559,-1.264100708338595,0.5654737427593445,-0.6314385446664598,0.7959791813286821,1.5209648447798207,0.011053102554344277,0.0575177083012101,2.1146701003920465,0.6844826246908693,-1.1059174909427503,0.36088615768745663,-0.9196362508572212,2.413895200230858,0.36847160558729464,1.5555526138790137,0.27533952277220874,0.5128093807287213,-0.36109803744274055,-0.2245813865447435,-1.3929369067023898,-1.7149219010602588,-0.06436773582098293,0.705890363747037,0.8834346495884103,-1.2819697508145063,1.0211868852886536,0.09444081962493833,0.9936925290527405,-0.24805292015688082,-0.38975442643515745,0.13162173026208018,-2.0904123249582196,-0.3638188904525045,1.5945900934580928,0.7833673844256537,0.2957653201178533,-0.420979774187367,-0.3033766512810295,-0.2359411997474931,-0.4555954179187365,0.5506480905045086,-0.613326940080486,-1.1439066960853865,0.49946364909654484,0.1921167231914247,-1.5000415223098764,-0.5242457354730988,-0.12933767299748697,-1.1800277618914492,0.9604362518828048,-1.3716897691557939,-0.9103137466615401,1.21475681850616,-1.2309199307746803,0.7560338475782938,1.076852768980497,-0.04882792274589524,-0.7653859453081738,-1.2279318521344766,-0.4210661832352774,-0.5586350407050273,-0.721991107436455,0.9659154488762632,1.2182790903319993,-1.3690372725967028,-1.3587655905835527,0.515290847414008,1.0695484930182528,-1.3380019043323563,-1.216940120335792,1.0947929024669336,0.23884071328995005,-0.45823390270079395,1.4792255439209159,-1.3118290643991475,-1.172534065870987],\"xaxis\":\"x13\",\"y\":[0.14136334630353126,-0.17342762086983968,0.2778429373168999,-1.0838065078095411,1.6789960290811619,0.03239885200774485,0.527368976631621,-0.973348655563232,0.6559878156491874,-1.5573184349424796,-1.5521905617494114,-0.32070490506708366,0.834808587713665,-1.3901833373378998,-0.05133705113847309,1.3661849525000556,-2.7387361439318973,-0.3757232505829336,0.2499343158732975,1.8862587962068342,0.32289878592178395,-0.026021454186353033,-0.7832038758557757,-1.7854026358015214,-0.9886418883728615,1.172840007758469,-0.6927351482391241,-0.7512055028688523,-0.31995176221135685,-0.030323406278298524,-0.2686900984164055,0.9141296554884962,0.49804763584656436,0.6213893862842278,-0.888680812057349,0.9544035678121067,-1.4446924908742282,0.5823808825457056,0.4656734840334705,-1.2426824026541052,0.9554109752437391,-1.0526207634228548,0.9279632720655048,0.08683464814073258,1.3654427367610558,-0.271962452163509,2.829048400648285,-1.5715008492189553,0.6283323433296785,-1.0793068878696275,-0.15844479004020343,0.8587971878564065,0.5764667885644545,0.9397288711189419,-0.15448393557329368,3.07968864352723,1.0976043277248069,-1.3089327851984713,0.8206017422675997,-1.3032919849740479,-0.8223964470464178,-0.2543491886241915,1.1846319727049852,0.7679837454707548,-0.8615182291637286,-0.6075869606066855,-1.3998702077377003,0.7381340925678403,-1.8977211684787225,0.9311758883110728,2.0659994455191395,0.0231704230577431,-0.2003931331560611,-0.38111563089727896,0.5896799526226871,0.8121399897995402,-1.8730245860709724,-1.6570520845680916,1.8979142646255878,0.43910370520399233,1.4317474680076265,-0.5102289654933749,-0.1572381836114604,-2.00318650223944,-2.081496816065353,-1.2102368481440318,2.1166529674062575,1.9839170993997932,-1.8463999561335342,0.6604605687923712,1.5103046521545658,0.9207957180610077,0.4383762192430872,-0.52769497075163,-0.43794032624613954,1.0516199563487707,-0.19869038457972135,0.08290372885059079,-1.1383977782789858,-0.48052730583796555],\"yaxis\":\"y13\",\"type\":\"scatter\"},{\"line\":{\"color\":\"rgba(128, 128, 128, 1.0)\",\"dash\":\"solid\",\"shape\":\"linear\",\"width\":1.3},\"marker\":{\"size\":2,\"symbol\":\"circle\"},\"mode\":\"markers\",\"name\":\"D\",\"text\":\"\",\"x\":[0.1819819126791729,-0.7690504649458737,0.4146966578943233,0.735872368805637,0.8669917218711843,2.1748617101751,1.2318371866263211,0.16427863005281082,-0.7516033269630648,-0.059540090628032005,-0.012899474698968688,1.7520395134071642,-0.01591686529266641,-1.30737693706392,0.31469596302611313,0.0006447044677048574,-0.7695973642700286,-1.588439968194205,0.5132563588699779,-0.4166594400416099,0.654191318124905,1.538197099799716,-0.9734425150447913,-1.346122715368668,-0.3594077404233946,1.7299228793641566,2.1101164566449864,-0.9413070230386088,0.013584305821453655,-0.2281718487132733,1.6031139424787848,0.6043596490108111,0.6197173644455335,0.22320795650902636,3.348229272407328,0.7701779183439242,1.8000414301434686,-1.4159099794566452,-0.4371479314457633,-0.2147748488950862,-0.6812616180720111,0.6879337962777717,0.15289137723322704,-0.6636384766790288,0.9087932907473223,0.13219355583100664,0.6622465833842975,-0.5583410998398035,-0.24485904679848086,-0.4643834042131067,-2.2419875725888185,0.8278854578464298,0.20176407293093973,-1.3934247465283838,1.1134336391437878,-1.6334405533394345,1.3236953777109324,0.5224675986838716,-0.58959784704781,1.4586033556318427,0.9083302010742899,1.720992224059844,-1.889437228043027,1.465208342151267,0.45166524739808955,-0.02542207128711079,0.28324402331732385,-0.49926804861875734,0.3895796831658555,-0.3266481370656572,-2.1620324688740515,-0.4198106606771507,-0.41366740287377785,-0.584281831740891,-1.8799488990110838,1.0867735776383765,0.04134940253602887,-0.5192131068274868,-0.3308715980802985,0.5820619125965684,-0.3296740677753678,-0.7694843154746899,0.3974786425028931,-0.09690329212432874,0.2848301613145788,0.19226842929502952,-0.8350478382165045,0.30326140879933705,0.684022961660779,-0.5307381409250069,1.1163236404658101,-0.018062703200621047,1.1463717068725314,0.9530289674340827,-1.389032278301572,-0.7532835443706728,1.0060298398741725,-0.1675034739802897,-1.0888384951742667,-1.6766035427580728],\"xaxis\":\"x14\",\"y\":[0.14136334630353126,-0.17342762086983968,0.2778429373168999,-1.0838065078095411,1.6789960290811619,0.03239885200774485,0.527368976631621,-0.973348655563232,0.6559878156491874,-1.5573184349424796,-1.5521905617494114,-0.32070490506708366,0.834808587713665,-1.3901833373378998,-0.05133705113847309,1.3661849525000556,-2.7387361439318973,-0.3757232505829336,0.2499343158732975,1.8862587962068342,0.32289878592178395,-0.026021454186353033,-0.7832038758557757,-1.7854026358015214,-0.9886418883728615,1.172840007758469,-0.6927351482391241,-0.7512055028688523,-0.31995176221135685,-0.030323406278298524,-0.2686900984164055,0.9141296554884962,0.49804763584656436,0.6213893862842278,-0.888680812057349,0.9544035678121067,-1.4446924908742282,0.5823808825457056,0.4656734840334705,-1.2426824026541052,0.9554109752437391,-1.0526207634228548,0.9279632720655048,0.08683464814073258,1.3654427367610558,-0.271962452163509,2.829048400648285,-1.5715008492189553,0.6283323433296785,-1.0793068878696275,-0.15844479004020343,0.8587971878564065,0.5764667885644545,0.9397288711189419,-0.15448393557329368,3.07968864352723,1.0976043277248069,-1.3089327851984713,0.8206017422675997,-1.3032919849740479,-0.8223964470464178,-0.2543491886241915,1.1846319727049852,0.7679837454707548,-0.8615182291637286,-0.6075869606066855,-1.3998702077377003,0.7381340925678403,-1.8977211684787225,0.9311758883110728,2.0659994455191395,0.0231704230577431,-0.2003931331560611,-0.38111563089727896,0.5896799526226871,0.8121399897995402,-1.8730245860709724,-1.6570520845680916,1.8979142646255878,0.43910370520399233,1.4317474680076265,-0.5102289654933749,-0.1572381836114604,-2.00318650223944,-2.081496816065353,-1.2102368481440318,2.1166529674062575,1.9839170993997932,-1.8463999561335342,0.6604605687923712,1.5103046521545658,0.9207957180610077,0.4383762192430872,-0.52769497075163,-0.43794032624613954,1.0516199563487707,-0.19869038457972135,0.08290372885059079,-1.1383977782789858,-0.48052730583796555],\"yaxis\":\"y14\",\"type\":\"scatter\"},{\"line\":{\"color\":\"rgba(128, 128, 128, 1.0)\",\"dash\":\"solid\",\"shape\":\"linear\",\"width\":1.3},\"marker\":{\"size\":2,\"symbol\":\"circle\"},\"mode\":\"markers\",\"name\":\"D\",\"text\":\"\",\"x\":[-1.4501499176238284,1.2147342646055934,-2.2320632406818968,0.5288614482094521,-0.7923631571477707,1.290152637261051,0.09681485082390709,0.04799729256878894,-1.8064399416236632,2.187824560601332,0.4123294737821514,0.3601272214313341,1.0720094383462198,-1.1892914798431156,0.7742383731348873,-0.22995290417660325,-0.917634296873175,-0.06806038058954045,1.0427254105710442,0.31736066412983266,-0.8325389579176342,0.7957438074276335,0.23255822850011593,-0.6863885375642695,0.043343946526299686,1.2172015503062825,-0.2470060194626241,0.37683390140714784,2.505842798487505,-0.5259679626174164,0.2853402845379173,0.3156871732888629,0.10638962575278862,-0.8657201035243177,0.29266951190392276,-1.7380647536708604,0.18782625251604115,1.465198206237717,1.1610434636791065,-1.334362239953306,0.369024851642638,0.14515244115547685,-0.29014039113482143,-2.205901079924097,-0.6297735763673113,1.9877309156869238,0.823832968268731,0.7016979495915034,1.2066655705165814,0.2949871564280679,-0.11074637656860796,-0.04829986443696068,-0.9492371718966309,-0.04598828116047178,1.317414045898286,0.7921576306116995,0.894667808316204,-1.6150478689813692,-0.5940807796373015,-0.7412884371177434,0.1023608375806466,0.05025887745365847,0.8520086743610449,-0.3765601146251717,2.2387167009652646,-0.27404779894661974,0.12483982490399333,-0.2551727698413939,-0.17307935010980668,-0.5033562099539954,1.3635797430486931,1.9772609093458402,-0.2712236950918055,-0.4443352105952831,-0.46825626749069255,0.8143661350579154,0.3275799770626893,1.2449753554248213,1.794382912517284,0.7918194475072394,-1.063346848381665,1.3617171908817822,-0.2949021246137668,-1.5839217903941474,0.6432012345243522,0.0779454547877543,-2.0164228752506776,0.3949702263292559,-1.0297657444417474,0.34227323404988436,-0.23294988309675202,0.9862003850301045,0.7740444778929897,0.1163260790363663,1.6712226662539906,-0.8250581385511181,-0.7971349736565512,0.6621647370964951,0.037237436378091265,-1.7434152646720051],\"xaxis\":\"x15\",\"y\":[0.14136334630353126,-0.17342762086983968,0.2778429373168999,-1.0838065078095411,1.6789960290811619,0.03239885200774485,0.527368976631621,-0.973348655563232,0.6559878156491874,-1.5573184349424796,-1.5521905617494114,-0.32070490506708366,0.834808587713665,-1.3901833373378998,-0.05133705113847309,1.3661849525000556,-2.7387361439318973,-0.3757232505829336,0.2499343158732975,1.8862587962068342,0.32289878592178395,-0.026021454186353033,-0.7832038758557757,-1.7854026358015214,-0.9886418883728615,1.172840007758469,-0.6927351482391241,-0.7512055028688523,-0.31995176221135685,-0.030323406278298524,-0.2686900984164055,0.9141296554884962,0.49804763584656436,0.6213893862842278,-0.888680812057349,0.9544035678121067,-1.4446924908742282,0.5823808825457056,0.4656734840334705,-1.2426824026541052,0.9554109752437391,-1.0526207634228548,0.9279632720655048,0.08683464814073258,1.3654427367610558,-0.271962452163509,2.829048400648285,-1.5715008492189553,0.6283323433296785,-1.0793068878696275,-0.15844479004020343,0.8587971878564065,0.5764667885644545,0.9397288711189419,-0.15448393557329368,3.07968864352723,1.0976043277248069,-1.3089327851984713,0.8206017422675997,-1.3032919849740479,-0.8223964470464178,-0.2543491886241915,1.1846319727049852,0.7679837454707548,-0.8615182291637286,-0.6075869606066855,-1.3998702077377003,0.7381340925678403,-1.8977211684787225,0.9311758883110728,2.0659994455191395,0.0231704230577431,-0.2003931331560611,-0.38111563089727896,0.5896799526226871,0.8121399897995402,-1.8730245860709724,-1.6570520845680916,1.8979142646255878,0.43910370520399233,1.4317474680076265,-0.5102289654933749,-0.1572381836114604,-2.00318650223944,-2.081496816065353,-1.2102368481440318,2.1166529674062575,1.9839170993997932,-1.8463999561335342,0.6604605687923712,1.5103046521545658,0.9207957180610077,0.4383762192430872,-0.52769497075163,-0.43794032624613954,1.0516199563487707,-0.19869038457972135,0.08290372885059079,-1.1383977782789858,-0.48052730583796555],\"yaxis\":\"y15\",\"type\":\"scatter\"},{\"histfunc\":\"count\",\"histnorm\":\"\",\"marker\":{\"color\":\"rgba(128, 0, 128, 1.0)\",\"line\":{\"color\":\"#4D5663\",\"width\":1.3}},\"name\":\"D\",\"nbinsx\":10,\"opacity\":0.8,\"orientation\":\"v\",\"x\":[0.14136334630353126,-0.17342762086983968,0.2778429373168999,-1.0838065078095411,1.6789960290811619,0.03239885200774485,0.527368976631621,-0.973348655563232,0.6559878156491874,-1.5573184349424796,-1.5521905617494114,-0.32070490506708366,0.834808587713665,-1.3901833373378998,-0.05133705113847309,1.3661849525000556,-2.7387361439318973,-0.3757232505829336,0.2499343158732975,1.8862587962068342,0.32289878592178395,-0.026021454186353033,-0.7832038758557757,-1.7854026358015214,-0.9886418883728615,1.172840007758469,-0.6927351482391241,-0.7512055028688523,-0.31995176221135685,-0.030323406278298524,-0.2686900984164055,0.9141296554884962,0.49804763584656436,0.6213893862842278,-0.888680812057349,0.9544035678121067,-1.4446924908742282,0.5823808825457056,0.4656734840334705,-1.2426824026541052,0.9554109752437391,-1.0526207634228548,0.9279632720655048,0.08683464814073258,1.3654427367610558,-0.271962452163509,2.829048400648285,-1.5715008492189553,0.6283323433296785,-1.0793068878696275,-0.15844479004020343,0.8587971878564065,0.5764667885644545,0.9397288711189419,-0.15448393557329368,3.07968864352723,1.0976043277248069,-1.3089327851984713,0.8206017422675997,-1.3032919849740479,-0.8223964470464178,-0.2543491886241915,1.1846319727049852,0.7679837454707548,-0.8615182291637286,-0.6075869606066855,-1.3998702077377003,0.7381340925678403,-1.8977211684787225,0.9311758883110728,2.0659994455191395,0.0231704230577431,-0.2003931331560611,-0.38111563089727896,0.5896799526226871,0.8121399897995402,-1.8730245860709724,-1.6570520845680916,1.8979142646255878,0.43910370520399233,1.4317474680076265,-0.5102289654933749,-0.1572381836114604,-2.00318650223944,-2.081496816065353,-1.2102368481440318,2.1166529674062575,1.9839170993997932,-1.8463999561335342,0.6604605687923712,1.5103046521545658,0.9207957180610077,0.4383762192430872,-0.52769497075163,-0.43794032624613954,1.0516199563487707,-0.19869038457972135,0.08290372885059079,-1.1383977782789858,-0.48052730583796555],\"xaxis\":\"x16\",\"yaxis\":\"y16\",\"type\":\"histogram\"}],                        {\"bargap\":0.02,\"legend\":{\"bgcolor\":\"#F5F6F9\",\"font\":{\"color\":\"#4D5663\"}},\"paper_bgcolor\":\"#F5F6F9\",\"plot_bgcolor\":\"#F5F6F9\",\"showlegend\":false,\"template\":{\"data\":{\"barpolar\":[{\"marker\":{\"line\":{\"color\":\"#E5ECF6\",\"width\":0.5},\"pattern\":{\"fillmode\":\"overlay\",\"size\":10,\"solidity\":0.2}},\"type\":\"barpolar\"}],\"bar\":[{\"error_x\":{\"color\":\"#2a3f5f\"},\"error_y\":{\"color\":\"#2a3f5f\"},\"marker\":{\"line\":{\"color\":\"#E5ECF6\",\"width\":0.5},\"pattern\":{\"fillmode\":\"overlay\",\"size\":10,\"solidity\":0.2}},\"type\":\"bar\"}],\"carpet\":[{\"aaxis\":{\"endlinecolor\":\"#2a3f5f\",\"gridcolor\":\"white\",\"linecolor\":\"white\",\"minorgridcolor\":\"white\",\"startlinecolor\":\"#2a3f5f\"},\"baxis\":{\"endlinecolor\":\"#2a3f5f\",\"gridcolor\":\"white\",\"linecolor\":\"white\",\"minorgridcolor\":\"white\",\"startlinecolor\":\"#2a3f5f\"},\"type\":\"carpet\"}],\"choropleth\":[{\"colorbar\":{\"outlinewidth\":0,\"ticks\":\"\"},\"type\":\"choropleth\"}],\"contourcarpet\":[{\"colorbar\":{\"outlinewidth\":0,\"ticks\":\"\"},\"type\":\"contourcarpet\"}],\"contour\":[{\"colorbar\":{\"outlinewidth\":0,\"ticks\":\"\"},\"colorscale\":[[0.0,\"#0d0887\"],[0.1111111111111111,\"#46039f\"],[0.2222222222222222,\"#7201a8\"],[0.3333333333333333,\"#9c179e\"],[0.4444444444444444,\"#bd3786\"],[0.5555555555555556,\"#d8576b\"],[0.6666666666666666,\"#ed7953\"],[0.7777777777777778,\"#fb9f3a\"],[0.8888888888888888,\"#fdca26\"],[1.0,\"#f0f921\"]],\"type\":\"contour\"}],\"heatmapgl\":[{\"colorbar\":{\"outlinewidth\":0,\"ticks\":\"\"},\"colorscale\":[[0.0,\"#0d0887\"],[0.1111111111111111,\"#46039f\"],[0.2222222222222222,\"#7201a8\"],[0.3333333333333333,\"#9c179e\"],[0.4444444444444444,\"#bd3786\"],[0.5555555555555556,\"#d8576b\"],[0.6666666666666666,\"#ed7953\"],[0.7777777777777778,\"#fb9f3a\"],[0.8888888888888888,\"#fdca26\"],[1.0,\"#f0f921\"]],\"type\":\"heatmapgl\"}],\"heatmap\":[{\"colorbar\":{\"outlinewidth\":0,\"ticks\":\"\"},\"colorscale\":[[0.0,\"#0d0887\"],[0.1111111111111111,\"#46039f\"],[0.2222222222222222,\"#7201a8\"],[0.3333333333333333,\"#9c179e\"],[0.4444444444444444,\"#bd3786\"],[0.5555555555555556,\"#d8576b\"],[0.6666666666666666,\"#ed7953\"],[0.7777777777777778,\"#fb9f3a\"],[0.8888888888888888,\"#fdca26\"],[1.0,\"#f0f921\"]],\"type\":\"heatmap\"}],\"histogram2dcontour\":[{\"colorbar\":{\"outlinewidth\":0,\"ticks\":\"\"},\"colorscale\":[[0.0,\"#0d0887\"],[0.1111111111111111,\"#46039f\"],[0.2222222222222222,\"#7201a8\"],[0.3333333333333333,\"#9c179e\"],[0.4444444444444444,\"#bd3786\"],[0.5555555555555556,\"#d8576b\"],[0.6666666666666666,\"#ed7953\"],[0.7777777777777778,\"#fb9f3a\"],[0.8888888888888888,\"#fdca26\"],[1.0,\"#f0f921\"]],\"type\":\"histogram2dcontour\"}],\"histogram2d\":[{\"colorbar\":{\"outlinewidth\":0,\"ticks\":\"\"},\"colorscale\":[[0.0,\"#0d0887\"],[0.1111111111111111,\"#46039f\"],[0.2222222222222222,\"#7201a8\"],[0.3333333333333333,\"#9c179e\"],[0.4444444444444444,\"#bd3786\"],[0.5555555555555556,\"#d8576b\"],[0.6666666666666666,\"#ed7953\"],[0.7777777777777778,\"#fb9f3a\"],[0.8888888888888888,\"#fdca26\"],[1.0,\"#f0f921\"]],\"type\":\"histogram2d\"}],\"histogram\":[{\"marker\":{\"pattern\":{\"fillmode\":\"overlay\",\"size\":10,\"solidity\":0.2}},\"type\":\"histogram\"}],\"mesh3d\":[{\"colorbar\":{\"outlinewidth\":0,\"ticks\":\"\"},\"type\":\"mesh3d\"}],\"parcoords\":[{\"line\":{\"colorbar\":{\"outlinewidth\":0,\"ticks\":\"\"}},\"type\":\"parcoords\"}],\"pie\":[{\"automargin\":true,\"type\":\"pie\"}],\"scatter3d\":[{\"line\":{\"colorbar\":{\"outlinewidth\":0,\"ticks\":\"\"}},\"marker\":{\"colorbar\":{\"outlinewidth\":0,\"ticks\":\"\"}},\"type\":\"scatter3d\"}],\"scattercarpet\":[{\"marker\":{\"colorbar\":{\"outlinewidth\":0,\"ticks\":\"\"}},\"type\":\"scattercarpet\"}],\"scattergeo\":[{\"marker\":{\"colorbar\":{\"outlinewidth\":0,\"ticks\":\"\"}},\"type\":\"scattergeo\"}],\"scattergl\":[{\"marker\":{\"colorbar\":{\"outlinewidth\":0,\"ticks\":\"\"}},\"type\":\"scattergl\"}],\"scattermapbox\":[{\"marker\":{\"colorbar\":{\"outlinewidth\":0,\"ticks\":\"\"}},\"type\":\"scattermapbox\"}],\"scatterpolargl\":[{\"marker\":{\"colorbar\":{\"outlinewidth\":0,\"ticks\":\"\"}},\"type\":\"scatterpolargl\"}],\"scatterpolar\":[{\"marker\":{\"colorbar\":{\"outlinewidth\":0,\"ticks\":\"\"}},\"type\":\"scatterpolar\"}],\"scatter\":[{\"marker\":{\"colorbar\":{\"outlinewidth\":0,\"ticks\":\"\"}},\"type\":\"scatter\"}],\"scatterternary\":[{\"marker\":{\"colorbar\":{\"outlinewidth\":0,\"ticks\":\"\"}},\"type\":\"scatterternary\"}],\"surface\":[{\"colorbar\":{\"outlinewidth\":0,\"ticks\":\"\"},\"colorscale\":[[0.0,\"#0d0887\"],[0.1111111111111111,\"#46039f\"],[0.2222222222222222,\"#7201a8\"],[0.3333333333333333,\"#9c179e\"],[0.4444444444444444,\"#bd3786\"],[0.5555555555555556,\"#d8576b\"],[0.6666666666666666,\"#ed7953\"],[0.7777777777777778,\"#fb9f3a\"],[0.8888888888888888,\"#fdca26\"],[1.0,\"#f0f921\"]],\"type\":\"surface\"}],\"table\":[{\"cells\":{\"fill\":{\"color\":\"#EBF0F8\"},\"line\":{\"color\":\"white\"}},\"header\":{\"fill\":{\"color\":\"#C8D4E3\"},\"line\":{\"color\":\"white\"}},\"type\":\"table\"}]},\"layout\":{\"annotationdefaults\":{\"arrowcolor\":\"#2a3f5f\",\"arrowhead\":0,\"arrowwidth\":1},\"autotypenumbers\":\"strict\",\"coloraxis\":{\"colorbar\":{\"outlinewidth\":0,\"ticks\":\"\"}},\"colorscale\":{\"diverging\":[[0,\"#8e0152\"],[0.1,\"#c51b7d\"],[0.2,\"#de77ae\"],[0.3,\"#f1b6da\"],[0.4,\"#fde0ef\"],[0.5,\"#f7f7f7\"],[0.6,\"#e6f5d0\"],[0.7,\"#b8e186\"],[0.8,\"#7fbc41\"],[0.9,\"#4d9221\"],[1,\"#276419\"]],\"sequential\":[[0.0,\"#0d0887\"],[0.1111111111111111,\"#46039f\"],[0.2222222222222222,\"#7201a8\"],[0.3333333333333333,\"#9c179e\"],[0.4444444444444444,\"#bd3786\"],[0.5555555555555556,\"#d8576b\"],[0.6666666666666666,\"#ed7953\"],[0.7777777777777778,\"#fb9f3a\"],[0.8888888888888888,\"#fdca26\"],[1.0,\"#f0f921\"]],\"sequentialminus\":[[0.0,\"#0d0887\"],[0.1111111111111111,\"#46039f\"],[0.2222222222222222,\"#7201a8\"],[0.3333333333333333,\"#9c179e\"],[0.4444444444444444,\"#bd3786\"],[0.5555555555555556,\"#d8576b\"],[0.6666666666666666,\"#ed7953\"],[0.7777777777777778,\"#fb9f3a\"],[0.8888888888888888,\"#fdca26\"],[1.0,\"#f0f921\"]]},\"colorway\":[\"#636efa\",\"#EF553B\",\"#00cc96\",\"#ab63fa\",\"#FFA15A\",\"#19d3f3\",\"#FF6692\",\"#B6E880\",\"#FF97FF\",\"#FECB52\"],\"font\":{\"color\":\"#2a3f5f\"},\"geo\":{\"bgcolor\":\"white\",\"lakecolor\":\"white\",\"landcolor\":\"#E5ECF6\",\"showlakes\":true,\"showland\":true,\"subunitcolor\":\"white\"},\"hoverlabel\":{\"align\":\"left\"},\"hovermode\":\"closest\",\"mapbox\":{\"style\":\"light\"},\"paper_bgcolor\":\"white\",\"plot_bgcolor\":\"#E5ECF6\",\"polar\":{\"angularaxis\":{\"gridcolor\":\"white\",\"linecolor\":\"white\",\"ticks\":\"\"},\"bgcolor\":\"#E5ECF6\",\"radialaxis\":{\"gridcolor\":\"white\",\"linecolor\":\"white\",\"ticks\":\"\"}},\"scene\":{\"xaxis\":{\"backgroundcolor\":\"#E5ECF6\",\"gridcolor\":\"white\",\"gridwidth\":2,\"linecolor\":\"white\",\"showbackground\":true,\"ticks\":\"\",\"zerolinecolor\":\"white\"},\"yaxis\":{\"backgroundcolor\":\"#E5ECF6\",\"gridcolor\":\"white\",\"gridwidth\":2,\"linecolor\":\"white\",\"showbackground\":true,\"ticks\":\"\",\"zerolinecolor\":\"white\"},\"zaxis\":{\"backgroundcolor\":\"#E5ECF6\",\"gridcolor\":\"white\",\"gridwidth\":2,\"linecolor\":\"white\",\"showbackground\":true,\"ticks\":\"\",\"zerolinecolor\":\"white\"}},\"shapedefaults\":{\"line\":{\"color\":\"#2a3f5f\"}},\"ternary\":{\"aaxis\":{\"gridcolor\":\"white\",\"linecolor\":\"white\",\"ticks\":\"\"},\"baxis\":{\"gridcolor\":\"white\",\"linecolor\":\"white\",\"ticks\":\"\"},\"bgcolor\":\"#E5ECF6\",\"caxis\":{\"gridcolor\":\"white\",\"linecolor\":\"white\",\"ticks\":\"\"}},\"title\":{\"x\":0.05},\"xaxis\":{\"automargin\":true,\"gridcolor\":\"white\",\"linecolor\":\"white\",\"ticks\":\"\",\"title\":{\"standoff\":15},\"zerolinecolor\":\"white\",\"zerolinewidth\":2},\"yaxis\":{\"automargin\":true,\"gridcolor\":\"white\",\"linecolor\":\"white\",\"ticks\":\"\",\"title\":{\"standoff\":15},\"zerolinecolor\":\"white\",\"zerolinewidth\":2}}},\"title\":{\"font\":{\"color\":\"#4D5663\"}},\"xaxis\":{\"anchor\":\"y\",\"domain\":[0.0,0.2125],\"gridcolor\":\"#E1E5ED\",\"showgrid\":false,\"tickfont\":{\"color\":\"#4D5663\"},\"title\":{\"font\":{\"color\":\"#4D5663\"},\"text\":\"\"},\"zerolinecolor\":\"#E1E5ED\"},\"yaxis\":{\"anchor\":\"x\",\"domain\":[0.8025,1.0],\"gridcolor\":\"#E1E5ED\",\"showgrid\":false,\"tickfont\":{\"color\":\"#4D5663\"},\"title\":{\"font\":{\"color\":\"#4D5663\"},\"text\":\"\"},\"zerolinecolor\":\"#E1E5ED\"},\"xaxis2\":{\"anchor\":\"y2\",\"domain\":[0.2625,0.475],\"gridcolor\":\"#E1E5ED\",\"showgrid\":false,\"tickfont\":{\"color\":\"#4D5663\"},\"title\":{\"font\":{\"color\":\"#4D5663\"},\"text\":\"\"},\"zerolinecolor\":\"#E1E5ED\"},\"yaxis2\":{\"anchor\":\"x2\",\"domain\":[0.8025,1.0],\"gridcolor\":\"#E1E5ED\",\"showgrid\":false,\"tickfont\":{\"color\":\"#4D5663\"},\"title\":{\"font\":{\"color\":\"#4D5663\"},\"text\":\"\"},\"zerolinecolor\":\"#E1E5ED\"},\"xaxis3\":{\"anchor\":\"y3\",\"domain\":[0.525,0.7375],\"gridcolor\":\"#E1E5ED\",\"showgrid\":false,\"tickfont\":{\"color\":\"#4D5663\"},\"title\":{\"font\":{\"color\":\"#4D5663\"},\"text\":\"\"},\"zerolinecolor\":\"#E1E5ED\"},\"yaxis3\":{\"anchor\":\"x3\",\"domain\":[0.8025,1.0],\"gridcolor\":\"#E1E5ED\",\"showgrid\":false,\"tickfont\":{\"color\":\"#4D5663\"},\"title\":{\"font\":{\"color\":\"#4D5663\"},\"text\":\"\"},\"zerolinecolor\":\"#E1E5ED\"},\"xaxis4\":{\"anchor\":\"y4\",\"domain\":[0.7875,1.0],\"gridcolor\":\"#E1E5ED\",\"showgrid\":false,\"tickfont\":{\"color\":\"#4D5663\"},\"title\":{\"font\":{\"color\":\"#4D5663\"},\"text\":\"\"},\"zerolinecolor\":\"#E1E5ED\"},\"yaxis4\":{\"anchor\":\"x4\",\"domain\":[0.8025,1.0],\"gridcolor\":\"#E1E5ED\",\"showgrid\":false,\"tickfont\":{\"color\":\"#4D5663\"},\"title\":{\"font\":{\"color\":\"#4D5663\"},\"text\":\"\"},\"zerolinecolor\":\"#E1E5ED\"},\"xaxis5\":{\"anchor\":\"y5\",\"domain\":[0.0,0.2125],\"gridcolor\":\"#E1E5ED\",\"showgrid\":false,\"tickfont\":{\"color\":\"#4D5663\"},\"title\":{\"font\":{\"color\":\"#4D5663\"},\"text\":\"\"},\"zerolinecolor\":\"#E1E5ED\"},\"yaxis5\":{\"anchor\":\"x5\",\"domain\":[0.535,0.7325],\"gridcolor\":\"#E1E5ED\",\"showgrid\":false,\"tickfont\":{\"color\":\"#4D5663\"},\"title\":{\"font\":{\"color\":\"#4D5663\"},\"text\":\"\"},\"zerolinecolor\":\"#E1E5ED\"},\"xaxis6\":{\"anchor\":\"y6\",\"domain\":[0.2625,0.475],\"gridcolor\":\"#E1E5ED\",\"showgrid\":false,\"tickfont\":{\"color\":\"#4D5663\"},\"title\":{\"font\":{\"color\":\"#4D5663\"},\"text\":\"\"},\"zerolinecolor\":\"#E1E5ED\"},\"yaxis6\":{\"anchor\":\"x6\",\"domain\":[0.535,0.7325],\"gridcolor\":\"#E1E5ED\",\"showgrid\":false,\"tickfont\":{\"color\":\"#4D5663\"},\"title\":{\"font\":{\"color\":\"#4D5663\"},\"text\":\"\"},\"zerolinecolor\":\"#E1E5ED\"},\"xaxis7\":{\"anchor\":\"y7\",\"domain\":[0.525,0.7375],\"gridcolor\":\"#E1E5ED\",\"showgrid\":false,\"tickfont\":{\"color\":\"#4D5663\"},\"title\":{\"font\":{\"color\":\"#4D5663\"},\"text\":\"\"},\"zerolinecolor\":\"#E1E5ED\"},\"yaxis7\":{\"anchor\":\"x7\",\"domain\":[0.535,0.7325],\"gridcolor\":\"#E1E5ED\",\"showgrid\":false,\"tickfont\":{\"color\":\"#4D5663\"},\"title\":{\"font\":{\"color\":\"#4D5663\"},\"text\":\"\"},\"zerolinecolor\":\"#E1E5ED\"},\"xaxis8\":{\"anchor\":\"y8\",\"domain\":[0.7875,1.0],\"gridcolor\":\"#E1E5ED\",\"showgrid\":false,\"tickfont\":{\"color\":\"#4D5663\"},\"title\":{\"font\":{\"color\":\"#4D5663\"},\"text\":\"\"},\"zerolinecolor\":\"#E1E5ED\"},\"yaxis8\":{\"anchor\":\"x8\",\"domain\":[0.535,0.7325],\"gridcolor\":\"#E1E5ED\",\"showgrid\":false,\"tickfont\":{\"color\":\"#4D5663\"},\"title\":{\"font\":{\"color\":\"#4D5663\"},\"text\":\"\"},\"zerolinecolor\":\"#E1E5ED\"},\"xaxis9\":{\"anchor\":\"y9\",\"domain\":[0.0,0.2125],\"gridcolor\":\"#E1E5ED\",\"showgrid\":false,\"tickfont\":{\"color\":\"#4D5663\"},\"title\":{\"font\":{\"color\":\"#4D5663\"},\"text\":\"\"},\"zerolinecolor\":\"#E1E5ED\"},\"yaxis9\":{\"anchor\":\"x9\",\"domain\":[0.2675,0.465],\"gridcolor\":\"#E1E5ED\",\"showgrid\":false,\"tickfont\":{\"color\":\"#4D5663\"},\"title\":{\"font\":{\"color\":\"#4D5663\"},\"text\":\"\"},\"zerolinecolor\":\"#E1E5ED\"},\"xaxis10\":{\"anchor\":\"y10\",\"domain\":[0.2625,0.475],\"gridcolor\":\"#E1E5ED\",\"showgrid\":false,\"tickfont\":{\"color\":\"#4D5663\"},\"title\":{\"font\":{\"color\":\"#4D5663\"},\"text\":\"\"},\"zerolinecolor\":\"#E1E5ED\"},\"yaxis10\":{\"anchor\":\"x10\",\"domain\":[0.2675,0.465],\"gridcolor\":\"#E1E5ED\",\"showgrid\":false,\"tickfont\":{\"color\":\"#4D5663\"},\"title\":{\"font\":{\"color\":\"#4D5663\"},\"text\":\"\"},\"zerolinecolor\":\"#E1E5ED\"},\"xaxis11\":{\"anchor\":\"y11\",\"domain\":[0.525,0.7375],\"gridcolor\":\"#E1E5ED\",\"showgrid\":false,\"tickfont\":{\"color\":\"#4D5663\"},\"title\":{\"font\":{\"color\":\"#4D5663\"},\"text\":\"\"},\"zerolinecolor\":\"#E1E5ED\"},\"yaxis11\":{\"anchor\":\"x11\",\"domain\":[0.2675,0.465],\"gridcolor\":\"#E1E5ED\",\"showgrid\":false,\"tickfont\":{\"color\":\"#4D5663\"},\"title\":{\"font\":{\"color\":\"#4D5663\"},\"text\":\"\"},\"zerolinecolor\":\"#E1E5ED\"},\"xaxis12\":{\"anchor\":\"y12\",\"domain\":[0.7875,1.0],\"gridcolor\":\"#E1E5ED\",\"showgrid\":false,\"tickfont\":{\"color\":\"#4D5663\"},\"title\":{\"font\":{\"color\":\"#4D5663\"},\"text\":\"\"},\"zerolinecolor\":\"#E1E5ED\"},\"yaxis12\":{\"anchor\":\"x12\",\"domain\":[0.2675,0.465],\"gridcolor\":\"#E1E5ED\",\"showgrid\":false,\"tickfont\":{\"color\":\"#4D5663\"},\"title\":{\"font\":{\"color\":\"#4D5663\"},\"text\":\"\"},\"zerolinecolor\":\"#E1E5ED\"},\"xaxis13\":{\"anchor\":\"y13\",\"domain\":[0.0,0.2125],\"gridcolor\":\"#E1E5ED\",\"showgrid\":false,\"tickfont\":{\"color\":\"#4D5663\"},\"title\":{\"font\":{\"color\":\"#4D5663\"},\"text\":\"\"},\"zerolinecolor\":\"#E1E5ED\"},\"yaxis13\":{\"anchor\":\"x13\",\"domain\":[0.0,0.1975],\"gridcolor\":\"#E1E5ED\",\"showgrid\":false,\"tickfont\":{\"color\":\"#4D5663\"},\"title\":{\"font\":{\"color\":\"#4D5663\"},\"text\":\"\"},\"zerolinecolor\":\"#E1E5ED\"},\"xaxis14\":{\"anchor\":\"y14\",\"domain\":[0.2625,0.475],\"gridcolor\":\"#E1E5ED\",\"showgrid\":false,\"tickfont\":{\"color\":\"#4D5663\"},\"title\":{\"font\":{\"color\":\"#4D5663\"},\"text\":\"\"},\"zerolinecolor\":\"#E1E5ED\"},\"yaxis14\":{\"anchor\":\"x14\",\"domain\":[0.0,0.1975],\"gridcolor\":\"#E1E5ED\",\"showgrid\":false,\"tickfont\":{\"color\":\"#4D5663\"},\"title\":{\"font\":{\"color\":\"#4D5663\"},\"text\":\"\"},\"zerolinecolor\":\"#E1E5ED\"},\"xaxis15\":{\"anchor\":\"y15\",\"domain\":[0.525,0.7375],\"gridcolor\":\"#E1E5ED\",\"showgrid\":false,\"tickfont\":{\"color\":\"#4D5663\"},\"title\":{\"font\":{\"color\":\"#4D5663\"},\"text\":\"\"},\"zerolinecolor\":\"#E1E5ED\"},\"yaxis15\":{\"anchor\":\"x15\",\"domain\":[0.0,0.1975],\"gridcolor\":\"#E1E5ED\",\"showgrid\":false,\"tickfont\":{\"color\":\"#4D5663\"},\"title\":{\"font\":{\"color\":\"#4D5663\"},\"text\":\"\"},\"zerolinecolor\":\"#E1E5ED\"},\"xaxis16\":{\"anchor\":\"y16\",\"domain\":[0.7875,1.0],\"gridcolor\":\"#E1E5ED\",\"showgrid\":false,\"tickfont\":{\"color\":\"#4D5663\"},\"title\":{\"font\":{\"color\":\"#4D5663\"},\"text\":\"\"},\"zerolinecolor\":\"#E1E5ED\"},\"yaxis16\":{\"anchor\":\"x16\",\"domain\":[0.0,0.1975],\"gridcolor\":\"#E1E5ED\",\"showgrid\":false,\"tickfont\":{\"color\":\"#4D5663\"},\"title\":{\"font\":{\"color\":\"#4D5663\"},\"text\":\"\"},\"zerolinecolor\":\"#E1E5ED\"}},                        {\"showLink\": true, \"linkText\": \"Export to plot.ly\", \"plotlyServerURL\": \"https://plot.ly\", \"responsive\": true}                    ).then(function(){\n",
       "                            \n",
       "var gd = document.getElementById('78cb3648-0631-4e5e-8112-93e9a2bf55dc');\n",
       "var x = new MutationObserver(function (mutations, observer) {{\n",
       "        var display = window.getComputedStyle(gd).display;\n",
       "        if (!display || display === 'none') {{\n",
       "            console.log([gd, 'removed!']);\n",
       "            Plotly.purge(gd);\n",
       "            observer.disconnect();\n",
       "        }}\n",
       "}});\n",
       "\n",
       "// Listen for the removal of the full notebook cells\n",
       "var notebookContainer = gd.closest('#notebook-container');\n",
       "if (notebookContainer) {{\n",
       "    x.observe(notebookContainer, {childList: true});\n",
       "}}\n",
       "\n",
       "// Listen for the clearing of the current output cell\n",
       "var outputEl = gd.closest('.output');\n",
       "if (outputEl) {{\n",
       "    x.observe(outputEl, {childList: true});\n",
       "}}\n",
       "\n",
       "                        })                };                });            </script>        </div>"
      ]
     },
     "metadata": {},
     "output_type": "display_data"
    }
   ],
   "source": [
    "df.scatter_matrix()"
   ]
  },
  {
   "cell_type": "markdown",
   "metadata": {
    "collapsed": true
   },
   "source": [
    "# Great Job!"
   ]
  }
 ],
 "metadata": {
  "kernelspec": {
   "display_name": "Python 3 (ipykernel)",
   "language": "python",
   "name": "python3"
  },
  "language_info": {
   "codemirror_mode": {
    "name": "ipython",
    "version": 3
   },
   "file_extension": ".py",
   "mimetype": "text/x-python",
   "name": "python",
   "nbconvert_exporter": "python",
   "pygments_lexer": "ipython3",
   "version": "3.9.7"
  }
 },
 "nbformat": 4,
 "nbformat_minor": 1
}
